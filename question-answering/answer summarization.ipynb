{
 "cells": [
  {
   "cell_type": "markdown",
   "metadata": {},
   "source": [
    "This notebook generates a summarization using the sentences extracted from the previous steps. The BART model is used to generate text conditioned on the given input. See [documentations](https://huggingface.co/transformers/model_doc/bart.html#transformers.BartForConditionalGeneration) and [paper](https://arxiv.org/pdf/1910.13461) for model descriptions."
   ]
  },
  {
   "cell_type": "code",
   "execution_count": 1,
   "metadata": {},
   "outputs": [],
   "source": [
    "from functools import partial\n",
    "\n",
    "import pandas as pd\n",
    "import torch\n",
    "import transformers\n",
    "\n",
    "from IPython.display import Markdown, display"
   ]
  },
  {
   "cell_type": "code",
   "execution_count": 2,
   "metadata": {},
   "outputs": [
    {
     "name": "stdout",
     "output_type": "stream",
     "text": [
      "0.25.1\n",
      "1.4.0\n",
      "2.7.0\n"
     ]
    }
   ],
   "source": [
    "# tested with package versions: pandas==0.25.1   pytorch==1.4.0   transformers==2.7.0\n",
    "print(pd.__version__)\n",
    "print(torch.__version__)\n",
    "print(transformers.__version__)"
   ]
  },
  {
   "cell_type": "code",
   "execution_count": 3,
   "metadata": {},
   "outputs": [],
   "source": [
    "def printmd(string):\n",
    "    display(Markdown(string))"
   ]
  },
  {
   "cell_type": "markdown",
   "metadata": {},
   "source": [
    "### Load data from the previous step"
   ]
  },
  {
   "cell_type": "code",
   "execution_count": 4,
   "metadata": {},
   "outputs": [],
   "source": [
    "qas = pd.read_csv('Task4_question1.csv', usecols=[1,2,3])\n",
    "category_dfn = pd.read_csv('category question.csv', \n",
    "                           header=None, \n",
    "                           index_col=0,\n",
    "                           names=['category', 'description']).to_dict()\n",
    "qas['question'] = qas['category'].map(category_dfn['description'])"
   ]
  },
  {
   "cell_type": "code",
   "execution_count": 5,
   "metadata": {
    "scrolled": false
   },
   "outputs": [
    {
     "data": {
      "text/html": [
       "<div>\n",
       "<style scoped>\n",
       "    .dataframe tbody tr th:only-of-type {\n",
       "        vertical-align: middle;\n",
       "    }\n",
       "\n",
       "    .dataframe tbody tr th {\n",
       "        vertical-align: top;\n",
       "    }\n",
       "\n",
       "    .dataframe thead th {\n",
       "        text-align: right;\n",
       "    }\n",
       "</style>\n",
       "<table border=\"1\" class=\"dataframe\">\n",
       "  <thead>\n",
       "    <tr style=\"text-align: right;\">\n",
       "      <th></th>\n",
       "      <th>title</th>\n",
       "      <th>sent</th>\n",
       "      <th>category</th>\n",
       "      <th>question</th>\n",
       "    </tr>\n",
       "  </thead>\n",
       "  <tbody>\n",
       "    <tr>\n",
       "      <td>0</td>\n",
       "      <td>HIV protease inhibitor nelfinavir inhibits rep...</td>\n",
       "      <td>Quantitative RT-PCR analysis showed that nelfi...</td>\n",
       "      <td>antihiv</td>\n",
       "      <td>Does anti HIV drug can cure COVID-2019</td>\n",
       "    </tr>\n",
       "    <tr>\n",
       "      <td>1</td>\n",
       "      <td>HIV protease inhibitor nelfinavir inhibits rep...</td>\n",
       "      <td>Our results suggest that nelfinavir should be ...</td>\n",
       "      <td>antihiv</td>\n",
       "      <td>Does anti HIV drug can cure COVID-2019</td>\n",
       "    </tr>\n",
       "    <tr>\n",
       "      <td>2</td>\n",
       "      <td>HIV protease inhibitor nelfinavir inhibits rep...</td>\n",
       "      <td>Expression of viral antigens was much lower in...</td>\n",
       "      <td>antihiv</td>\n",
       "      <td>Does anti HIV drug can cure COVID-2019</td>\n",
       "    </tr>\n",
       "    <tr>\n",
       "      <td>3</td>\n",
       "      <td>HIV protease inhibitor nelfinavir inhibits rep...</td>\n",
       "      <td>Here we report that the HIV-1 protease inhibit...</td>\n",
       "      <td>antihiv</td>\n",
       "      <td>Does anti HIV drug can cure COVID-2019</td>\n",
       "    </tr>\n",
       "    <tr>\n",
       "      <td>4</td>\n",
       "      <td>Molecular Modeling Evaluation of the Binding E...</td>\n",
       "      <td>Three anti-HIV drugs, ritonavir, lopinavir and...</td>\n",
       "      <td>antihiv</td>\n",
       "      <td>Does anti HIV drug can cure COVID-2019</td>\n",
       "    </tr>\n",
       "    <tr>\n",
       "      <td>...</td>\n",
       "      <td>...</td>\n",
       "      <td>...</td>\n",
       "      <td>...</td>\n",
       "      <td>...</td>\n",
       "    </tr>\n",
       "    <tr>\n",
       "      <td>1479</td>\n",
       "      <td>Activation of glial cells by human coronavirus...</td>\n",
       "      <td>This virus also modulated the activity of matr...</td>\n",
       "      <td>interleukin</td>\n",
       "      <td>Does interleukin involved in COVID-2019</td>\n",
       "    </tr>\n",
       "    <tr>\n",
       "      <td>1480</td>\n",
       "      <td>TGEV nucleocapsid protein induces cell cycle a...</td>\n",
       "      <td>Further studies showed that p53 inhibitor atte...</td>\n",
       "      <td>interleukin</td>\n",
       "      <td>Does interleukin involved in COVID-2019</td>\n",
       "    </tr>\n",
       "    <tr>\n",
       "      <td>1481</td>\n",
       "      <td>Nuclear targeting of the betanodavirus B1 prot...</td>\n",
       "      <td>B1 nuclear localization correlated with upregu...</td>\n",
       "      <td>interleukin</td>\n",
       "      <td>Does interleukin involved in COVID-2019</td>\n",
       "    </tr>\n",
       "    <tr>\n",
       "      <td>1482</td>\n",
       "      <td>The involvement of survival signaling pathways...</td>\n",
       "      <td>Therefore we investigated the role of phosphoi...</td>\n",
       "      <td>interleukin</td>\n",
       "      <td>Does interleukin involved in COVID-2019</td>\n",
       "    </tr>\n",
       "    <tr>\n",
       "      <td>1483</td>\n",
       "      <td>MERS-CoV pathogenesis and antiviral efficacy o...</td>\n",
       "      <td>Unlike in established cells, toremifene had ma...</td>\n",
       "      <td>cancerdrug</td>\n",
       "      <td>Does cancer drug can cure COVID-2019</td>\n",
       "    </tr>\n",
       "  </tbody>\n",
       "</table>\n",
       "<p>1484 rows × 4 columns</p>\n",
       "</div>"
      ],
      "text/plain": [
       "                                                  title  \\\n",
       "0     HIV protease inhibitor nelfinavir inhibits rep...   \n",
       "1     HIV protease inhibitor nelfinavir inhibits rep...   \n",
       "2     HIV protease inhibitor nelfinavir inhibits rep...   \n",
       "3     HIV protease inhibitor nelfinavir inhibits rep...   \n",
       "4     Molecular Modeling Evaluation of the Binding E...   \n",
       "...                                                 ...   \n",
       "1479  Activation of glial cells by human coronavirus...   \n",
       "1480  TGEV nucleocapsid protein induces cell cycle a...   \n",
       "1481  Nuclear targeting of the betanodavirus B1 prot...   \n",
       "1482  The involvement of survival signaling pathways...   \n",
       "1483  MERS-CoV pathogenesis and antiviral efficacy o...   \n",
       "\n",
       "                                                   sent     category  \\\n",
       "0     Quantitative RT-PCR analysis showed that nelfi...      antihiv   \n",
       "1     Our results suggest that nelfinavir should be ...      antihiv   \n",
       "2     Expression of viral antigens was much lower in...      antihiv   \n",
       "3     Here we report that the HIV-1 protease inhibit...      antihiv   \n",
       "4     Three anti-HIV drugs, ritonavir, lopinavir and...      antihiv   \n",
       "...                                                 ...          ...   \n",
       "1479  This virus also modulated the activity of matr...  interleukin   \n",
       "1480  Further studies showed that p53 inhibitor atte...  interleukin   \n",
       "1481  B1 nuclear localization correlated with upregu...  interleukin   \n",
       "1482  Therefore we investigated the role of phosphoi...  interleukin   \n",
       "1483  Unlike in established cells, toremifene had ma...   cancerdrug   \n",
       "\n",
       "                                     question  \n",
       "0     Does anti HIV drug can cure COVID-2019   \n",
       "1     Does anti HIV drug can cure COVID-2019   \n",
       "2     Does anti HIV drug can cure COVID-2019   \n",
       "3     Does anti HIV drug can cure COVID-2019   \n",
       "4     Does anti HIV drug can cure COVID-2019   \n",
       "...                                       ...  \n",
       "1479  Does interleukin involved in COVID-2019  \n",
       "1480  Does interleukin involved in COVID-2019  \n",
       "1481  Does interleukin involved in COVID-2019  \n",
       "1482  Does interleukin involved in COVID-2019  \n",
       "1483     Does cancer drug can cure COVID-2019  \n",
       "\n",
       "[1484 rows x 4 columns]"
      ]
     },
     "execution_count": 5,
     "metadata": {},
     "output_type": "execute_result"
    }
   ],
   "source": [
    "qas"
   ]
  },
  {
   "cell_type": "code",
   "execution_count": 6,
   "metadata": {},
   "outputs": [],
   "source": [
    "qas = qas.groupby('question').agg({'title': list, 'sent': list})"
   ]
  },
  {
   "cell_type": "code",
   "execution_count": 7,
   "metadata": {},
   "outputs": [
    {
     "data": {
      "text/html": [
       "<div>\n",
       "<style scoped>\n",
       "    .dataframe tbody tr th:only-of-type {\n",
       "        vertical-align: middle;\n",
       "    }\n",
       "\n",
       "    .dataframe tbody tr th {\n",
       "        vertical-align: top;\n",
       "    }\n",
       "\n",
       "    .dataframe thead th {\n",
       "        text-align: right;\n",
       "    }\n",
       "</style>\n",
       "<table border=\"1\" class=\"dataframe\">\n",
       "  <thead>\n",
       "    <tr style=\"text-align: right;\">\n",
       "      <th></th>\n",
       "      <th>title</th>\n",
       "      <th>sent</th>\n",
       "    </tr>\n",
       "    <tr>\n",
       "      <th>question</th>\n",
       "      <th></th>\n",
       "      <th></th>\n",
       "    </tr>\n",
       "  </thead>\n",
       "  <tbody>\n",
       "    <tr>\n",
       "      <td>Does anti HCV drug can cure COVID-2019</td>\n",
       "      <td>[Prediction of the SARS-CoV-2 (2019-nCoV) 3C-l...</td>\n",
       "      <td>[The drugs Epclusa (velpatasvir/sofosbuvir) an...</td>\n",
       "    </tr>\n",
       "    <tr>\n",
       "      <td>Does anti HIV drug can cure COVID-2019</td>\n",
       "      <td>[HIV protease inhibitor nelfinavir inhibits re...</td>\n",
       "      <td>[Quantitative RT-PCR analysis showed that nelf...</td>\n",
       "    </tr>\n",
       "    <tr>\n",
       "      <td>Does anti-parasite drug can cure COVID-2019</td>\n",
       "      <td>[Hydroxychloroquine and azithromycin as a trea...</td>\n",
       "      <td>[Azithromycin added to hydroxychloroquine was ...</td>\n",
       "    </tr>\n",
       "    <tr>\n",
       "      <td>Does antibiotic drug can cure COVID-2019,</td>\n",
       "      <td>[Hydroxychloroquine and azithromycin as a trea...</td>\n",
       "      <td>[Depending on their clinical presentation, azi...</td>\n",
       "    </tr>\n",
       "    <tr>\n",
       "      <td>Does cancer drug can cure COVID-2019</td>\n",
       "      <td>[MERS-CoV pathogenesis and antiviral efficacy ...</td>\n",
       "      <td>[Unlike in established cells, toremifene had m...</td>\n",
       "    </tr>\n",
       "    <tr>\n",
       "      <td>Does interleukin involved in COVID-2019</td>\n",
       "      <td>[Transmissible Gastroenteritis Virus Infection...</td>\n",
       "      <td>[In vivo, TGEV primarily targets and infects i...</td>\n",
       "    </tr>\n",
       "    <tr>\n",
       "      <td>Does other anti virus drug can cure COVID-2019,</td>\n",
       "      <td>[Synergistic antiviral effect of Galanthus niv...</td>\n",
       "      <td>[However, when the two agents were added toget...</td>\n",
       "    </tr>\n",
       "    <tr>\n",
       "      <td>Does other immune supprevisive drug can cure COVID-2019</td>\n",
       "      <td>[A Systematic Review of therapeutic agents for...</td>\n",
       "      <td>[Only one such study is planned for randomizat...</td>\n",
       "    </tr>\n",
       "  </tbody>\n",
       "</table>\n",
       "</div>"
      ],
      "text/plain": [
       "                                                                                                title  \\\n",
       "question                                                                                                \n",
       "Does anti HCV drug can cure COVID-2019              [Prediction of the SARS-CoV-2 (2019-nCoV) 3C-l...   \n",
       "Does anti HIV drug can cure COVID-2019              [HIV protease inhibitor nelfinavir inhibits re...   \n",
       "Does anti-parasite drug can cure COVID-2019         [Hydroxychloroquine and azithromycin as a trea...   \n",
       "Does antibiotic drug can cure COVID-2019,           [Hydroxychloroquine and azithromycin as a trea...   \n",
       "Does cancer drug can cure COVID-2019                [MERS-CoV pathogenesis and antiviral efficacy ...   \n",
       "Does interleukin involved in COVID-2019             [Transmissible Gastroenteritis Virus Infection...   \n",
       "Does other anti virus drug can cure COVID-2019,     [Synergistic antiviral effect of Galanthus niv...   \n",
       "Does other immune supprevisive drug can cure CO...  [A Systematic Review of therapeutic agents for...   \n",
       "\n",
       "                                                                                                 sent  \n",
       "question                                                                                               \n",
       "Does anti HCV drug can cure COVID-2019              [The drugs Epclusa (velpatasvir/sofosbuvir) an...  \n",
       "Does anti HIV drug can cure COVID-2019              [Quantitative RT-PCR analysis showed that nelf...  \n",
       "Does anti-parasite drug can cure COVID-2019         [Azithromycin added to hydroxychloroquine was ...  \n",
       "Does antibiotic drug can cure COVID-2019,           [Depending on their clinical presentation, azi...  \n",
       "Does cancer drug can cure COVID-2019                [Unlike in established cells, toremifene had m...  \n",
       "Does interleukin involved in COVID-2019             [In vivo, TGEV primarily targets and infects i...  \n",
       "Does other anti virus drug can cure COVID-2019,     [However, when the two agents were added toget...  \n",
       "Does other immune supprevisive drug can cure CO...  [Only one such study is planned for randomizat...  "
      ]
     },
     "execution_count": 7,
     "metadata": {},
     "output_type": "execute_result"
    }
   ],
   "source": [
    "qas"
   ]
  },
  {
   "cell_type": "markdown",
   "metadata": {},
   "source": [
    "### load pretrained BART model for summarization"
   ]
  },
  {
   "cell_type": "code",
   "execution_count": 8,
   "metadata": {},
   "outputs": [],
   "source": [
    "device = torch.device('cuda' if torch.cuda.is_available() else 'cpu')"
   ]
  },
  {
   "cell_type": "code",
   "execution_count": 9,
   "metadata": {},
   "outputs": [],
   "source": [
    "bart_summarizer = transformers.BartForConditionalGeneration.from_pretrained('bart-large-cnn').to(device)\n",
    "summarizer_tokenizer = transformers.BartTokenizer.from_pretrained('bart-large-cnn')"
   ]
  },
  {
   "cell_type": "code",
   "execution_count": 10,
   "metadata": {},
   "outputs": [],
   "source": [
    "def summarize(sentences, summarizer, tokenizer):\n",
    "    device = summarizer.device\n",
    "    tokens = tokenizer.batch_encode_plus([' '.join(sentences)], return_tensors='pt', max_length=1024)\n",
    "    summary_tokens = summarizer.generate(input_ids=tokens['input_ids'].to(device), \n",
    "                                         attention_mask=tokens['attention_mask'].to(device),\n",
    "                                         pad_token_id=tokenizer.pad_token_id).cpu()\n",
    "    summary_text = tokenizer.decode(summary_tokens.squeeze(), skip_special_tokens=True)\n",
    "    return summary_text.strip()"
   ]
  },
  {
   "cell_type": "code",
   "execution_count": 11,
   "metadata": {},
   "outputs": [],
   "source": [
    "summarize_ = partial(summarize, summarizer=bart_summarizer, tokenizer=summarizer_tokenizer)\n",
    "qas['summarization'] = qas['sent'].apply(summarize_)"
   ]
  },
  {
   "cell_type": "code",
   "execution_count": 23,
   "metadata": {
    "scrolled": false
   },
   "outputs": [
    {
     "data": {
      "text/markdown": [
       "**Question: Does anti HCV drug can cure COVID-2019**"
      ],
      "text/plain": [
       "<IPython.core.display.Markdown object>"
      ]
     },
     "metadata": {},
     "output_type": "display_data"
    },
    {
     "data": {
      "text/markdown": [
       "*Summarization:Epclusa and Harvoni could be very effective owing to their dual inhibitory actions on two viral enzymes. Among these, the antivirals ledipasvir or velpatasvir are particularly attractive as therapeutics to combat the new coronavirus with minimal side effects, commonly fatigue and headache.*"
      ],
      "text/plain": [
       "<IPython.core.display.Markdown object>"
      ]
     },
     "metadata": {},
     "output_type": "display_data"
    },
    {
     "name": "stdout",
     "output_type": "stream",
     "text": [
      "\n",
      "\n",
      "\n"
     ]
    },
    {
     "data": {
      "text/markdown": [
       "**Question: Does anti HIV drug can cure COVID-2019**"
      ],
      "text/plain": [
       "<IPython.core.display.Markdown object>"
      ]
     },
     "metadata": {},
     "output_type": "display_data"
    },
    {
     "data": {
      "text/markdown": [
       "*Summarization:HIV-1 protease inhibitor, nelfinavir, strongly inhibited replication of the SARS coronavirus (SARS-CoV) Expression of viral antigens was much lower in infected cells treated with nELFinavir than in untreated infected cells. Our results suggest that nelf Scandinavir should be examined clinically for the treatment of SARS and has potential as a good lead compound for designing anti-SARS drugs.*"
      ],
      "text/plain": [
       "<IPython.core.display.Markdown object>"
      ]
     },
     "metadata": {},
     "output_type": "display_data"
    },
    {
     "name": "stdout",
     "output_type": "stream",
     "text": [
      "\n",
      "\n",
      "\n"
     ]
    },
    {
     "data": {
      "text/markdown": [
       "**Question: Does anti-parasite drug can cure COVID-2019**"
      ],
      "text/plain": [
       "<IPython.core.display.Markdown object>"
      ]
     },
     "metadata": {},
     "output_type": "display_data"
    },
    {
     "data": {
      "text/markdown": [
       "*Summarization:French confirmed COVID-19 patients were included in a single arm protocol to receive 600mg of hydroxychloroquine daily. Their viral load in nasopharyngeal swabs was tested daily in a hospital setting. Azithromycin added to hydroxy chloroquine was significantly more efficient for virus elimination. Despite its small sample size our survey shows that hydroxyloroquine treatment is significantly associated with viral load reduction.*"
      ],
      "text/plain": [
       "<IPython.core.display.Markdown object>"
      ]
     },
     "metadata": {},
     "output_type": "display_data"
    },
    {
     "name": "stdout",
     "output_type": "stream",
     "text": [
      "\n",
      "\n",
      "\n"
     ]
    },
    {
     "data": {
      "text/markdown": [
       "**Question: Does antibiotic drug can cure COVID-2019,**"
      ],
      "text/plain": [
       "<IPython.core.display.Markdown object>"
      ]
     },
     "metadata": {},
     "output_type": "display_data"
    },
    {
     "data": {
      "text/markdown": [
       "*Summarization:Halofuginone and azithromycin have efficacy in calves with diarrhea due to Cryptosporidium parvum. Their administration should be considered in calves documented or suspected to have cryptosporidiosis. Patients who fail to respond should be identified early and offered alternative therapy.*"
      ],
      "text/plain": [
       "<IPython.core.display.Markdown object>"
      ]
     },
     "metadata": {},
     "output_type": "display_data"
    },
    {
     "name": "stdout",
     "output_type": "stream",
     "text": [
      "\n",
      "\n",
      "\n"
     ]
    },
    {
     "data": {
      "text/markdown": [
       "**Question: Does cancer drug can cure COVID-2019**"
      ],
      "text/plain": [
       "<IPython.core.display.Markdown object>"
      ]
     },
     "metadata": {},
     "output_type": "display_data"
    },
    {
     "data": {
      "text/markdown": [
       "*Summarization:Tremifene had marginal activity when tested in antigen presenting cells, with high apparent cytotoxicity, also limiting its potential as a therapeutic option. Unlike in established cells, to Remifene has marginal activity in antigen-presenting cells. It is not known if it could be used as a treatment for cancer.*"
      ],
      "text/plain": [
       "<IPython.core.display.Markdown object>"
      ]
     },
     "metadata": {},
     "output_type": "display_data"
    },
    {
     "name": "stdout",
     "output_type": "stream",
     "text": [
      "\n",
      "\n",
      "\n"
     ]
    },
    {
     "data": {
      "text/markdown": [
       "**Question: Does interleukin involved in COVID-2019**"
      ],
      "text/plain": [
       "<IPython.core.display.Markdown object>"
      ]
     },
     "metadata": {},
     "output_type": "display_data"
    },
    {
     "data": {
      "text/markdown": [
       "*Summarization:P2X7 antagonist A438079 suppressed NLRP3/ASC/caspase 1 activation, production of IL-1β, IL-17A and IFN-γ and neutrophil infiltration but not IL-10. ORF5 protein triggers the phosphorylation of PERK, eIF2α and the expression of downstream transcription factor ATF4.*"
      ],
      "text/plain": [
       "<IPython.core.display.Markdown object>"
      ]
     },
     "metadata": {},
     "output_type": "display_data"
    },
    {
     "name": "stdout",
     "output_type": "stream",
     "text": [
      "\n",
      "\n",
      "\n"
     ]
    },
    {
     "data": {
      "text/markdown": [
       "**Question: Does other anti virus drug can cure COVID-2019,**"
      ],
      "text/plain": [
       "<IPython.core.display.Markdown object>"
      ]
     },
     "metadata": {},
     "output_type": "display_data"
    },
    {
     "data": {
      "text/markdown": [
       "*Summarization:There are no effective antiviral drugs for many viral infections. Baicalein inhibited in vitro replication of influenza A viruses pandemic 2009 H1N1 (IC(50) = 0.018 μM) and seasonal 2007 H1n1 using plaque reduction assays. Of the 42 lipophilic teicoplanin pseudoaglycon derivatives tested, about half showed broad activity against influenza A and B viruses, with some having reasonable or no cytotoxicity.*"
      ],
      "text/plain": [
       "<IPython.core.display.Markdown object>"
      ]
     },
     "metadata": {},
     "output_type": "display_data"
    },
    {
     "name": "stdout",
     "output_type": "stream",
     "text": [
      "\n",
      "\n",
      "\n"
     ]
    },
    {
     "data": {
      "text/markdown": [
       "**Question: Does other immune supprevisive drug can cure COVID-2019**"
      ],
      "text/plain": [
       "<IPython.core.display.Markdown object>"
      ]
     },
     "metadata": {},
     "output_type": "display_data"
    },
    {
     "data": {
      "text/markdown": [
       "*Summarization:A unique set of 207 genes was dysregulated early and permanently throughout infection with HCoV-EMC. These genes were used to predict potential antiviral compounds, including kinase inhibitors and glucocorticoids. Using network proximity analyses, we identified 135 putative repurposable drugs for the potential prevention and treatment of HCoVs. Two SARS-CoV PLpro inhibitors are able to inhibit MERS-Cov PLpro genes and pathways.*"
      ],
      "text/plain": [
       "<IPython.core.display.Markdown object>"
      ]
     },
     "metadata": {},
     "output_type": "display_data"
    },
    {
     "name": "stdout",
     "output_type": "stream",
     "text": [
      "\n",
      "\n",
      "\n"
     ]
    }
   ],
   "source": [
    "for q, row in qas.iterrows():\n",
    "    printmd(f'**Question: {q.strip()}**')\n",
    "    printmd(f'*Summarization:{row[\"summarization\"]}*')\n",
    "#     print('Raw input:', row['sent'])\n",
    "    print('\\n\\n')"
   ]
  },
  {
   "cell_type": "code",
   "execution_count": null,
   "metadata": {},
   "outputs": [],
   "source": []
  }
 ],
 "metadata": {
  "kernelspec": {
   "display_name": "Python 3",
   "language": "python",
   "name": "python3"
  },
  "language_info": {
   "codemirror_mode": {
    "name": "ipython",
    "version": 3
   },
   "file_extension": ".py",
   "mimetype": "text/x-python",
   "name": "python",
   "nbconvert_exporter": "python",
   "pygments_lexer": "ipython3",
   "version": "3.7.4"
  }
 },
 "nbformat": 4,
 "nbformat_minor": 2
}
