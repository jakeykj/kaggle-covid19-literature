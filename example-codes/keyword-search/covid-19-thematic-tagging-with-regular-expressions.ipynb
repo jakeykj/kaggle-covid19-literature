{
 "cells": [
  {
   "cell_type": "markdown",
   "metadata": {},
   "source": [
    "# COVID-19 Thematic tagging with Regular Expressions\n",
    "\n",
    "***UPDATE: Most of the ideas in this Notebook can be accessed via the [covid19_tools](https://www.kaggle.com/ajrwhite/covid19-tools) utility script, which you can import into your own Notebook, and is being updated more frequently than this.***\n",
    "\n",
    "Goal: tag papers with themes (e.g. `tag_disease_covid19` or `tag_risk_smoking`) _using handcrafted rules_ based on synonyms and related terms, searching the **all_sources_metadata** file.\n",
    "\n",
    "The chart below shows how multiple synonyms for Covid-19 become a single boolean field in the metadata:"
   ]
  },
  {
   "cell_type": "code",
   "execution_count": 1,
   "metadata": {
    "_kg_hide-input": true
   },
   "outputs": [
    {
     "data": {
      "text/html": [
       "        <script type=\"text/javascript\">\n",
       "        window.PlotlyConfig = {MathJaxConfig: 'local'};\n",
       "        if (window.MathJax) {MathJax.Hub.Config({SVG: {font: \"STIX-Web\"}});}\n",
       "        if (typeof require !== 'undefined') {\n",
       "        require.undef(\"plotly\");\n",
       "        requirejs.config({\n",
       "            paths: {\n",
       "                'plotly': ['https://cdn.plot.ly/plotly-latest.min']\n",
       "            }\n",
       "        });\n",
       "        require(['plotly'], function(Plotly) {\n",
       "            window._Plotly = Plotly;\n",
       "        });\n",
       "        }\n",
       "        </script>\n",
       "        "
      ]
     },
     "metadata": {},
     "output_type": "display_data"
    },
    {
     "data": {
      "text/html": [
       "<div>\n",
       "        \n",
       "        \n",
       "            <div id=\"eb2e4d0d-995f-47a1-88d7-b6891340037b\" class=\"plotly-graph-div\" style=\"height:525px; width:100%;\"></div>\n",
       "            <script type=\"text/javascript\">\n",
       "                require([\"plotly\"], function(Plotly) {\n",
       "                    window.PLOTLYENV=window.PLOTLYENV || {};\n",
       "                    \n",
       "                if (document.getElementById(\"eb2e4d0d-995f-47a1-88d7-b6891340037b\")) {\n",
       "                    Plotly.newPlot(\n",
       "                        'eb2e4d0d-995f-47a1-88d7-b6891340037b',\n",
       "                        [{\"marker\": {\"color\": \"crimson\", \"size\": 12}, \"mode\": \"markers\", \"name\": \"Synonyms\", \"type\": \"scatter\", \"x\": [0, 2, 2, 3, 6, 7, 10, 12, 13, 61, 154, 501, 576, 1231], \"y\": [\"\\\\bn cov 2019\", \"2019 n cov\\\\b\", \"2019n cov\\\\b\", \"wuhan virus\", \"2019ncov\", \"wuhan pneumonia\", \"ncov 2019\", \"coronavirus disease 19\", \"wuhan coronavirus\", \"coronavirus 2019\", \"coronavirus 2\\\\b\", \"sars cov 2\", \"2019 ncov\", \"covid\"]}, {\"marker\": {\"color\": \"blue\", \"size\": 20}, \"mode\": \"markers\", \"name\": \"tag_disease_covid19\", \"text\": \"tag_disease_covid19\", \"type\": \"scatter\", \"x\": [2105], \"y\": [\"ncov 2019\"]}],\n",
       "                        {\"template\": {\"data\": {\"bar\": [{\"error_x\": {\"color\": \"#2a3f5f\"}, \"error_y\": {\"color\": \"#2a3f5f\"}, \"marker\": {\"line\": {\"color\": \"#E5ECF6\", \"width\": 0.5}}, \"type\": \"bar\"}], \"barpolar\": [{\"marker\": {\"line\": {\"color\": \"#E5ECF6\", \"width\": 0.5}}, \"type\": \"barpolar\"}], \"carpet\": [{\"aaxis\": {\"endlinecolor\": \"#2a3f5f\", \"gridcolor\": \"white\", \"linecolor\": \"white\", \"minorgridcolor\": \"white\", \"startlinecolor\": \"#2a3f5f\"}, \"baxis\": {\"endlinecolor\": \"#2a3f5f\", \"gridcolor\": \"white\", \"linecolor\": \"white\", \"minorgridcolor\": \"white\", \"startlinecolor\": \"#2a3f5f\"}, \"type\": \"carpet\"}], \"choropleth\": [{\"colorbar\": {\"outlinewidth\": 0, \"ticks\": \"\"}, \"type\": \"choropleth\"}], \"contour\": [{\"colorbar\": {\"outlinewidth\": 0, \"ticks\": \"\"}, \"colorscale\": [[0.0, \"#0d0887\"], [0.1111111111111111, \"#46039f\"], [0.2222222222222222, \"#7201a8\"], [0.3333333333333333, \"#9c179e\"], [0.4444444444444444, \"#bd3786\"], [0.5555555555555556, \"#d8576b\"], [0.6666666666666666, \"#ed7953\"], [0.7777777777777778, \"#fb9f3a\"], [0.8888888888888888, \"#fdca26\"], [1.0, \"#f0f921\"]], \"type\": \"contour\"}], \"contourcarpet\": [{\"colorbar\": {\"outlinewidth\": 0, \"ticks\": \"\"}, \"type\": \"contourcarpet\"}], \"heatmap\": [{\"colorbar\": {\"outlinewidth\": 0, \"ticks\": \"\"}, \"colorscale\": [[0.0, \"#0d0887\"], [0.1111111111111111, \"#46039f\"], [0.2222222222222222, \"#7201a8\"], [0.3333333333333333, \"#9c179e\"], [0.4444444444444444, \"#bd3786\"], [0.5555555555555556, \"#d8576b\"], [0.6666666666666666, \"#ed7953\"], [0.7777777777777778, \"#fb9f3a\"], [0.8888888888888888, \"#fdca26\"], [1.0, \"#f0f921\"]], \"type\": \"heatmap\"}], \"heatmapgl\": [{\"colorbar\": {\"outlinewidth\": 0, \"ticks\": \"\"}, \"colorscale\": [[0.0, \"#0d0887\"], [0.1111111111111111, \"#46039f\"], [0.2222222222222222, \"#7201a8\"], [0.3333333333333333, \"#9c179e\"], [0.4444444444444444, \"#bd3786\"], [0.5555555555555556, \"#d8576b\"], [0.6666666666666666, \"#ed7953\"], [0.7777777777777778, \"#fb9f3a\"], [0.8888888888888888, \"#fdca26\"], [1.0, \"#f0f921\"]], \"type\": \"heatmapgl\"}], \"histogram\": [{\"marker\": {\"colorbar\": {\"outlinewidth\": 0, \"ticks\": \"\"}}, \"type\": \"histogram\"}], \"histogram2d\": [{\"colorbar\": {\"outlinewidth\": 0, \"ticks\": \"\"}, \"colorscale\": [[0.0, \"#0d0887\"], [0.1111111111111111, \"#46039f\"], [0.2222222222222222, \"#7201a8\"], [0.3333333333333333, \"#9c179e\"], [0.4444444444444444, \"#bd3786\"], [0.5555555555555556, \"#d8576b\"], [0.6666666666666666, \"#ed7953\"], [0.7777777777777778, \"#fb9f3a\"], [0.8888888888888888, \"#fdca26\"], [1.0, \"#f0f921\"]], \"type\": \"histogram2d\"}], \"histogram2dcontour\": [{\"colorbar\": {\"outlinewidth\": 0, \"ticks\": \"\"}, \"colorscale\": [[0.0, \"#0d0887\"], [0.1111111111111111, \"#46039f\"], [0.2222222222222222, \"#7201a8\"], [0.3333333333333333, \"#9c179e\"], [0.4444444444444444, \"#bd3786\"], [0.5555555555555556, \"#d8576b\"], [0.6666666666666666, \"#ed7953\"], [0.7777777777777778, \"#fb9f3a\"], [0.8888888888888888, \"#fdca26\"], [1.0, \"#f0f921\"]], \"type\": \"histogram2dcontour\"}], \"mesh3d\": [{\"colorbar\": {\"outlinewidth\": 0, \"ticks\": \"\"}, \"type\": \"mesh3d\"}], \"parcoords\": [{\"line\": {\"colorbar\": {\"outlinewidth\": 0, \"ticks\": \"\"}}, \"type\": \"parcoords\"}], \"pie\": [{\"automargin\": true, \"type\": \"pie\"}], \"scatter\": [{\"marker\": {\"colorbar\": {\"outlinewidth\": 0, \"ticks\": \"\"}}, \"type\": \"scatter\"}], \"scatter3d\": [{\"line\": {\"colorbar\": {\"outlinewidth\": 0, \"ticks\": \"\"}}, \"marker\": {\"colorbar\": {\"outlinewidth\": 0, \"ticks\": \"\"}}, \"type\": \"scatter3d\"}], \"scattercarpet\": [{\"marker\": {\"colorbar\": {\"outlinewidth\": 0, \"ticks\": \"\"}}, \"type\": \"scattercarpet\"}], \"scattergeo\": [{\"marker\": {\"colorbar\": {\"outlinewidth\": 0, \"ticks\": \"\"}}, \"type\": \"scattergeo\"}], \"scattergl\": [{\"marker\": {\"colorbar\": {\"outlinewidth\": 0, \"ticks\": \"\"}}, \"type\": \"scattergl\"}], \"scattermapbox\": [{\"marker\": {\"colorbar\": {\"outlinewidth\": 0, \"ticks\": \"\"}}, \"type\": \"scattermapbox\"}], \"scatterpolar\": [{\"marker\": {\"colorbar\": {\"outlinewidth\": 0, \"ticks\": \"\"}}, \"type\": \"scatterpolar\"}], \"scatterpolargl\": [{\"marker\": {\"colorbar\": {\"outlinewidth\": 0, \"ticks\": \"\"}}, \"type\": \"scatterpolargl\"}], \"scatterternary\": [{\"marker\": {\"colorbar\": {\"outlinewidth\": 0, \"ticks\": \"\"}}, \"type\": \"scatterternary\"}], \"surface\": [{\"colorbar\": {\"outlinewidth\": 0, \"ticks\": \"\"}, \"colorscale\": [[0.0, \"#0d0887\"], [0.1111111111111111, \"#46039f\"], [0.2222222222222222, \"#7201a8\"], [0.3333333333333333, \"#9c179e\"], [0.4444444444444444, \"#bd3786\"], [0.5555555555555556, \"#d8576b\"], [0.6666666666666666, \"#ed7953\"], [0.7777777777777778, \"#fb9f3a\"], [0.8888888888888888, \"#fdca26\"], [1.0, \"#f0f921\"]], \"type\": \"surface\"}], \"table\": [{\"cells\": {\"fill\": {\"color\": \"#EBF0F8\"}, \"line\": {\"color\": \"white\"}}, \"header\": {\"fill\": {\"color\": \"#C8D4E3\"}, \"line\": {\"color\": \"white\"}}, \"type\": \"table\"}]}, \"layout\": {\"annotationdefaults\": {\"arrowcolor\": \"#2a3f5f\", \"arrowhead\": 0, \"arrowwidth\": 1}, \"coloraxis\": {\"colorbar\": {\"outlinewidth\": 0, \"ticks\": \"\"}}, \"colorscale\": {\"diverging\": [[0, \"#8e0152\"], [0.1, \"#c51b7d\"], [0.2, \"#de77ae\"], [0.3, \"#f1b6da\"], [0.4, \"#fde0ef\"], [0.5, \"#f7f7f7\"], [0.6, \"#e6f5d0\"], [0.7, \"#b8e186\"], [0.8, \"#7fbc41\"], [0.9, \"#4d9221\"], [1, \"#276419\"]], \"sequential\": [[0.0, \"#0d0887\"], [0.1111111111111111, \"#46039f\"], [0.2222222222222222, \"#7201a8\"], [0.3333333333333333, \"#9c179e\"], [0.4444444444444444, \"#bd3786\"], [0.5555555555555556, \"#d8576b\"], [0.6666666666666666, \"#ed7953\"], [0.7777777777777778, \"#fb9f3a\"], [0.8888888888888888, \"#fdca26\"], [1.0, \"#f0f921\"]], \"sequentialminus\": [[0.0, \"#0d0887\"], [0.1111111111111111, \"#46039f\"], [0.2222222222222222, \"#7201a8\"], [0.3333333333333333, \"#9c179e\"], [0.4444444444444444, \"#bd3786\"], [0.5555555555555556, \"#d8576b\"], [0.6666666666666666, \"#ed7953\"], [0.7777777777777778, \"#fb9f3a\"], [0.8888888888888888, \"#fdca26\"], [1.0, \"#f0f921\"]]}, \"colorway\": [\"#636efa\", \"#EF553B\", \"#00cc96\", \"#ab63fa\", \"#FFA15A\", \"#19d3f3\", \"#FF6692\", \"#B6E880\", \"#FF97FF\", \"#FECB52\"], \"font\": {\"color\": \"#2a3f5f\"}, \"geo\": {\"bgcolor\": \"white\", \"lakecolor\": \"white\", \"landcolor\": \"#E5ECF6\", \"showlakes\": true, \"showland\": true, \"subunitcolor\": \"white\"}, \"hoverlabel\": {\"align\": \"left\"}, \"hovermode\": \"closest\", \"mapbox\": {\"style\": \"light\"}, \"paper_bgcolor\": \"white\", \"plot_bgcolor\": \"#E5ECF6\", \"polar\": {\"angularaxis\": {\"gridcolor\": \"white\", \"linecolor\": \"white\", \"ticks\": \"\"}, \"bgcolor\": \"#E5ECF6\", \"radialaxis\": {\"gridcolor\": \"white\", \"linecolor\": \"white\", \"ticks\": \"\"}}, \"scene\": {\"xaxis\": {\"backgroundcolor\": \"#E5ECF6\", \"gridcolor\": \"white\", \"gridwidth\": 2, \"linecolor\": \"white\", \"showbackground\": true, \"ticks\": \"\", \"zerolinecolor\": \"white\"}, \"yaxis\": {\"backgroundcolor\": \"#E5ECF6\", \"gridcolor\": \"white\", \"gridwidth\": 2, \"linecolor\": \"white\", \"showbackground\": true, \"ticks\": \"\", \"zerolinecolor\": \"white\"}, \"zaxis\": {\"backgroundcolor\": \"#E5ECF6\", \"gridcolor\": \"white\", \"gridwidth\": 2, \"linecolor\": \"white\", \"showbackground\": true, \"ticks\": \"\", \"zerolinecolor\": \"white\"}}, \"shapedefaults\": {\"line\": {\"color\": \"#2a3f5f\"}}, \"ternary\": {\"aaxis\": {\"gridcolor\": \"white\", \"linecolor\": \"white\", \"ticks\": \"\"}, \"baxis\": {\"gridcolor\": \"white\", \"linecolor\": \"white\", \"ticks\": \"\"}, \"bgcolor\": \"#E5ECF6\", \"caxis\": {\"gridcolor\": \"white\", \"linecolor\": \"white\", \"ticks\": \"\"}}, \"title\": {\"x\": 0.05}, \"xaxis\": {\"automargin\": true, \"gridcolor\": \"white\", \"linecolor\": \"white\", \"ticks\": \"\", \"title\": {\"standoff\": 15}, \"zerolinecolor\": \"white\", \"zerolinewidth\": 2}, \"yaxis\": {\"automargin\": true, \"gridcolor\": \"white\", \"linecolor\": \"white\", \"ticks\": \"\", \"title\": {\"standoff\": 15}, \"zerolinecolor\": \"white\", \"zerolinewidth\": 2}}}, \"title\": {\"text\": \"Covid19 synonyms in title / abstract metadata<br><i>Hover over dots for exact values</i>\"}, \"xaxis\": {\"title\": {\"text\": \"Counts\"}}, \"yaxis\": {\"title\": {\"text\": \"Regular Expressions\"}}},\n",
       "                        {\"responsive\": true}\n",
       "                    ).then(function(){\n",
       "                            \n",
       "var gd = document.getElementById('eb2e4d0d-995f-47a1-88d7-b6891340037b');\n",
       "var x = new MutationObserver(function (mutations, observer) {{\n",
       "        var display = window.getComputedStyle(gd).display;\n",
       "        if (!display || display === 'none') {{\n",
       "            console.log([gd, 'removed!']);\n",
       "            Plotly.purge(gd);\n",
       "            observer.disconnect();\n",
       "        }}\n",
       "}});\n",
       "\n",
       "// Listen for the removal of the full notebook cells\n",
       "var notebookContainer = gd.closest('#notebook-container');\n",
       "if (notebookContainer) {{\n",
       "    x.observe(notebookContainer, {childList: true});\n",
       "}}\n",
       "\n",
       "// Listen for the clearing of the current output cell\n",
       "var outputEl = gd.closest('.output');\n",
       "if (outputEl) {{\n",
       "    x.observe(outputEl, {childList: true});\n",
       "}}\n",
       "\n",
       "                        })\n",
       "                };\n",
       "                });\n",
       "            </script>\n",
       "        </div>"
      ]
     },
     "metadata": {},
     "output_type": "display_data"
    }
   ],
   "source": [
    "import plotly.express as px\n",
    "import plotly.graph_objects as go\n",
    "    \n",
    "hardcoded_data_for_intro_chart = {\n",
    "    'covid': 1231,\n",
    "    '2019 ncov': 576,\n",
    "    'sars cov 2': 501,\n",
    "    r'coronavirus 2\\b': 154,\n",
    "    'coronavirus 2019': 61,\n",
    "    'wuhan coronavirus': 13,\n",
    "    'coronavirus disease 19': 12,\n",
    "    'ncov 2019': 10,\n",
    "    'wuhan pneumonia': 7,\n",
    "    '2019ncov': 6,\n",
    "    'wuhan virus': 3,\n",
    "    r'2019n cov\\b': 2,\n",
    "    r'2019 n cov\\b': 2,\n",
    "    r'\\bn cov 2019': 0\n",
    "}\n",
    "\n",
    "title = 'Covid19 synonyms in title / abstract metadata<br><i>Hover over dots for exact values</i>'\n",
    "fig = go.Figure()\n",
    "\n",
    "fig.add_trace(go.Scatter(\n",
    "    x=list(hardcoded_data_for_intro_chart.values())[::-1],\n",
    "    y=list(hardcoded_data_for_intro_chart.keys())[::-1],\n",
    "    marker=dict(color=\"crimson\", size=12),\n",
    "    mode=\"markers\",\n",
    "    name='Synonyms'\n",
    "))\n",
    "\n",
    "fig.add_trace(go.Scatter(\n",
    "    x=[2105],\n",
    "    y=['ncov 2019'],\n",
    "    marker=dict(color='blue', size=20),\n",
    "    mode='markers',\n",
    "    text='tag_disease_covid19',\n",
    "    name='tag_disease_covid19'\n",
    "))\n",
    "\n",
    "fig.add_annotation\n",
    "\n",
    "fig.update_layout(title=title,\n",
    "              xaxis_title='Counts',\n",
    "              yaxis_title='Regular Expressions')\n",
    "fig.show()"
   ]
  },
  {
   "cell_type": "markdown",
   "metadata": {},
   "source": [
    "## Contents\n",
    "\n",
    "1. [Motivation](#Motivation) - Why filter papers with regular expressions?\n",
    "2. **[Diseases and conditions](#Diseases)** - Does paper discuss Covid-19, SARS, MERS, etc.?\n",
    "3. **[Research Design](#Design)** - Is research design indicated in the abstract?\n",
    "4. **[Potential risk factors](#Risks)** - Does paper indicate characteristics, comorbidities?\n",
    "5. **[Immunity and vaccinations](#Immunity)** - Does paper discuss immunity and / or vaccines?\n",
    "6. **[Geographies](#Geographies)** - Does paper cover specific continents, countries, etc?\n",
    "7. **[Climate](#Climate)** - Does paper cover issues relating to climate and weather?\n",
    "8. **[Transmission](#Transmission)** - Does paper mention transmission routes / rates?\n",
    "9. [Output](#Output) - File outputs\n",
    "10. [Filtering Tool](#Filtering) - TODO\n",
    "\n",
    "\n",
    "## Motivation\n",
    "\n",
    "**Unfocused dataset**: Dataset contains >44k papers, but most of them aren't specifically about Covid-19.\n",
    "\n",
    "**Inconsistent terminology**: Terminology for Covid-19 wasn't standardised \\[[1](https://www.who.int/emergencies/diseases/novel-coronavirus-2019/technical-guidance/naming-the-coronavirus-disease-%28covid-2019%29-and-the-virus-that-causes-it)\\] \\[[2](https://qz.com/1820422/coronavirus-why-wont-who-use-the-name-sars-cov-2/)\\] when papers first emerged. \n",
    "\n",
    "**Handcrafted features can outperform inferred features**: Domain-specific handcrafted synonym lists can tag papers more efficiently than generic topic modelling approaches.\n",
    "\n",
    "**Faster filtering on metadata**: Most of these themes can be extracted from the metadata (title and abstract). We can filter on these tags to identify useful papers for more involved analysis.\n"
   ]
  },
  {
   "cell_type": "markdown",
   "metadata": {},
   "source": [
    "Click on **Code** button below to see code to import libraries and load data."
   ]
  },
  {
   "cell_type": "code",
   "execution_count": 2,
   "metadata": {
    "_cell_guid": "79c7e3d0-c299-4dcb-8224-4455121ee9b0",
    "_kg_hide-input": true,
    "_kg_hide-output": false,
    "_uuid": "d629ff2d2480ee46fbb7e2d37f6b5fab8052498a"
   },
   "outputs": [
    {
     "name": "stdout",
     "output_type": "stream",
     "text": [
      "loaded DataFrame with 45774 records\n"
     ]
    }
   ],
   "source": [
    "# Data libraries\n",
    "import pandas as pd\n",
    "import re\n",
    "import pycountry\n",
    "\n",
    "# Visualisation libraries\n",
    "import plotly.express as px\n",
    "import plotly.graph_objects as go\n",
    "\n",
    "%matplotlib inline\n",
    "\n",
    "pd.set_option('display.max_columns', 500)\n",
    "\n",
    "# Load data\n",
    "metadata_file = '../input/CORD-19-research-challenge/metadata.csv'\n",
    "df = pd.read_csv(metadata_file,\n",
    "                 dtype={'Microsoft Academic Paper ID': str,\n",
    "                        'pubmed_id': str})\n",
    "\n",
    "def doi_url(d):\n",
    "    if d.startswith('http'):\n",
    "        return d\n",
    "    elif d.startswith('doi.org'):\n",
    "        return f'http://{d}'\n",
    "    else:\n",
    "        return f'http://doi.org/{d}'\n",
    "    \n",
    "df.doi = df.doi.fillna('').apply(doi_url)\n",
    "\n",
    "print(f'loaded DataFrame with {len(df)} records')"
   ]
  },
  {
   "cell_type": "code",
   "execution_count": 3,
   "metadata": {},
   "outputs": [],
   "source": [
    "# Helper function for filtering df on abstract + title substring\n",
    "def abstract_title_filter(search_string):\n",
    "    return (df.abstract.str.lower().str.replace('-', ' ').str.contains(search_string, na=False) |\n",
    "            df.title.str.lower().str.replace('-', ' ').str.contains(search_string, na=False))"
   ]
  },
  {
   "cell_type": "code",
   "execution_count": 4,
   "metadata": {},
   "outputs": [],
   "source": [
    "# Helper function for Cleveland dot plot visualisation of count data\n",
    "def dotplot(input_series, title, x_label='Count', y_label='Regex'):\n",
    "    subtitle = '<br><i>Hover over dots for exact values</i>'\n",
    "    fig = go.Figure()\n",
    "    fig.add_trace(go.Scatter(\n",
    "    x=input_series.sort_values(),\n",
    "    y=input_series.sort_values().index.values,\n",
    "    marker=dict(color=\"crimson\", size=12),\n",
    "    mode=\"markers\",\n",
    "    name=\"Count\",\n",
    "    ))\n",
    "    fig.update_layout(title=f'{title}{subtitle}',\n",
    "                  xaxis_title=x_label,\n",
    "                  yaxis_title=y_label)\n",
    "    fig.show()"
   ]
  },
  {
   "cell_type": "code",
   "execution_count": 5,
   "metadata": {},
   "outputs": [],
   "source": [
    "# Helper function which counts synonyms and adds tag column to DF\n",
    "def count_and_tag(df: pd.DataFrame,\n",
    "                  synonym_list: list,\n",
    "                  tag_suffix: str) -> (pd.DataFrame, pd.Series):\n",
    "    counts = {}\n",
    "    df[f'tag_{tag_suffix}'] = False\n",
    "    for s in synonym_list:\n",
    "        synonym_filter = abstract_title_filter(s)\n",
    "        counts[s] = sum(synonym_filter)\n",
    "        df.loc[synonym_filter, f'tag_{tag_suffix}'] = True\n",
    "    return df, pd.Series(counts)"
   ]
  },
  {
   "cell_type": "code",
   "execution_count": 6,
   "metadata": {},
   "outputs": [],
   "source": [
    "# Function for printing out key passage of abstract based on key terms\n",
    "def print_key_phrases(df, key_terms, n=5, chars=300):\n",
    "    for ind, item in enumerate(df[:n].itertuples()):\n",
    "        print(f'{ind+1} of {len(df)}')\n",
    "        print(item.title)\n",
    "        print('[ ' + item.doi + ' ]')\n",
    "        try:\n",
    "            i = len(item.abstract)\n",
    "            for kt in key_terms:\n",
    "                kt = kt.replace(r'\\b', '')\n",
    "                term_loc = item.abstract.lower().find(kt)\n",
    "                if term_loc != -1:\n",
    "                    i = min(i, term_loc)\n",
    "            if i < len(item.abstract):\n",
    "                print('    \"' + item.abstract[i-30:i+chars-30] + '\"')\n",
    "            else:\n",
    "                print('    \"' + item.abstract[:chars] + '\"')\n",
    "        except:\n",
    "            print('NO ABSTRACT')\n",
    "        print('---')"
   ]
  },
  {
   "cell_type": "markdown",
   "metadata": {},
   "source": [
    "# Diseases\n",
    "\n",
    "- Covid-19\n",
    "- Severe Acute Respiratory Syndrome (SARS)\n",
    "- Middle East Respiratory Syndrome (MERS)\n",
    "- Coronaviruses\n",
    "- Acute Respiratory Distress Syndrome (ARDS)\n",
    "\n",
    "## Covid-19\n",
    "\n",
    "We are looking for papers that specifically refer to the recent outbreak, known variously as Covid-19, SARS-CoV-2, 2019-nCoV, Wuhan Pneumonia, novel coronavirus.\n",
    "\n",
    "See: https://en.wikipedia.org/wiki/Coronavirus_disease_2019"
   ]
  },
  {
   "cell_type": "code",
   "execution_count": 7,
   "metadata": {},
   "outputs": [],
   "source": [
    "covid19_synonyms = ['covid',\n",
    "                    'coronavirus disease 19',\n",
    "                    'sars cov 2', # Note that search function replaces '-' with ' '\n",
    "                    '2019 ncov',\n",
    "                    '2019ncov',\n",
    "                    r'2019 n cov\\b',\n",
    "                    r'2019n cov\\b',\n",
    "                    'ncov 2019',\n",
    "                    r'\\bn cov 2019',\n",
    "                    'coronavirus 2019',\n",
    "                    'wuhan pneumonia',\n",
    "                    'wuhan virus',\n",
    "                    'wuhan coronavirus',\n",
    "                    r'coronavirus 2\\b']"
   ]
  },
  {
   "cell_type": "code",
   "execution_count": 8,
   "metadata": {},
   "outputs": [],
   "source": [
    "df, covid19_counts = count_and_tag(df, covid19_synonyms, 'disease_covid19')"
   ]
  },
  {
   "cell_type": "code",
   "execution_count": 9,
   "metadata": {},
   "outputs": [
    {
     "data": {
      "text/plain": [
       "covid                     1571\n",
       "sars cov 2                 615\n",
       "2019 ncov                  592\n",
       "coronavirus 2\\b            176\n",
       "coronavirus 2019            64\n",
       "coronavirus disease 19      16\n",
       "wuhan coronavirus           13\n",
       "ncov 2019                   11\n",
       "wuhan pneumonia              7\n",
       "2019ncov                     6\n",
       "wuhan virus                  4\n",
       "2019 n cov\\b                 3\n",
       "2019n cov\\b                  2\n",
       "\\bn cov 2019                 0\n",
       "dtype: int64"
      ]
     },
     "execution_count": 9,
     "metadata": {},
     "output_type": "execute_result"
    }
   ],
   "source": [
    "covid19_counts.sort_values(ascending=False)"
   ]
  },
  {
   "cell_type": "code",
   "execution_count": 10,
   "metadata": {},
   "outputs": [
    {
     "data": {
      "text/html": [
       "<div>\n",
       "        \n",
       "        \n",
       "            <div id=\"89dada4f-408e-4b9e-95bc-7d20562080c2\" class=\"plotly-graph-div\" style=\"height:525px; width:100%;\"></div>\n",
       "            <script type=\"text/javascript\">\n",
       "                require([\"plotly\"], function(Plotly) {\n",
       "                    window.PLOTLYENV=window.PLOTLYENV || {};\n",
       "                    \n",
       "                if (document.getElementById(\"89dada4f-408e-4b9e-95bc-7d20562080c2\")) {\n",
       "                    Plotly.newPlot(\n",
       "                        '89dada4f-408e-4b9e-95bc-7d20562080c2',\n",
       "                        [{\"marker\": {\"color\": \"crimson\", \"size\": 12}, \"mode\": \"markers\", \"name\": \"Count\", \"type\": \"scatter\", \"x\": [0, 2, 3, 4, 6, 7, 11, 13, 16, 64, 176, 592, 615, 1571], \"y\": [\"\\\\bn cov 2019\", \"2019n cov\\\\b\", \"2019 n cov\\\\b\", \"wuhan virus\", \"2019ncov\", \"wuhan pneumonia\", \"ncov 2019\", \"wuhan coronavirus\", \"coronavirus disease 19\", \"coronavirus 2019\", \"coronavirus 2\\\\b\", \"2019 ncov\", \"sars cov 2\", \"covid\"]}],\n",
       "                        {\"template\": {\"data\": {\"bar\": [{\"error_x\": {\"color\": \"#2a3f5f\"}, \"error_y\": {\"color\": \"#2a3f5f\"}, \"marker\": {\"line\": {\"color\": \"#E5ECF6\", \"width\": 0.5}}, \"type\": \"bar\"}], \"barpolar\": [{\"marker\": {\"line\": {\"color\": \"#E5ECF6\", \"width\": 0.5}}, \"type\": \"barpolar\"}], \"carpet\": [{\"aaxis\": {\"endlinecolor\": \"#2a3f5f\", \"gridcolor\": \"white\", \"linecolor\": \"white\", \"minorgridcolor\": \"white\", \"startlinecolor\": \"#2a3f5f\"}, \"baxis\": {\"endlinecolor\": \"#2a3f5f\", \"gridcolor\": \"white\", \"linecolor\": \"white\", \"minorgridcolor\": \"white\", \"startlinecolor\": \"#2a3f5f\"}, \"type\": \"carpet\"}], \"choropleth\": [{\"colorbar\": {\"outlinewidth\": 0, \"ticks\": \"\"}, \"type\": \"choropleth\"}], \"contour\": [{\"colorbar\": {\"outlinewidth\": 0, \"ticks\": \"\"}, \"colorscale\": [[0.0, \"#0d0887\"], [0.1111111111111111, \"#46039f\"], [0.2222222222222222, \"#7201a8\"], [0.3333333333333333, \"#9c179e\"], [0.4444444444444444, \"#bd3786\"], [0.5555555555555556, \"#d8576b\"], [0.6666666666666666, \"#ed7953\"], [0.7777777777777778, \"#fb9f3a\"], [0.8888888888888888, \"#fdca26\"], [1.0, \"#f0f921\"]], \"type\": \"contour\"}], \"contourcarpet\": [{\"colorbar\": {\"outlinewidth\": 0, \"ticks\": \"\"}, \"type\": \"contourcarpet\"}], \"heatmap\": [{\"colorbar\": {\"outlinewidth\": 0, \"ticks\": \"\"}, \"colorscale\": [[0.0, \"#0d0887\"], [0.1111111111111111, \"#46039f\"], [0.2222222222222222, \"#7201a8\"], [0.3333333333333333, \"#9c179e\"], [0.4444444444444444, \"#bd3786\"], [0.5555555555555556, \"#d8576b\"], [0.6666666666666666, \"#ed7953\"], [0.7777777777777778, \"#fb9f3a\"], [0.8888888888888888, \"#fdca26\"], [1.0, \"#f0f921\"]], \"type\": \"heatmap\"}], \"heatmapgl\": [{\"colorbar\": {\"outlinewidth\": 0, \"ticks\": \"\"}, \"colorscale\": [[0.0, \"#0d0887\"], [0.1111111111111111, \"#46039f\"], [0.2222222222222222, \"#7201a8\"], [0.3333333333333333, \"#9c179e\"], [0.4444444444444444, \"#bd3786\"], [0.5555555555555556, \"#d8576b\"], [0.6666666666666666, \"#ed7953\"], [0.7777777777777778, \"#fb9f3a\"], [0.8888888888888888, \"#fdca26\"], [1.0, \"#f0f921\"]], \"type\": \"heatmapgl\"}], \"histogram\": [{\"marker\": {\"colorbar\": {\"outlinewidth\": 0, \"ticks\": \"\"}}, \"type\": \"histogram\"}], \"histogram2d\": [{\"colorbar\": {\"outlinewidth\": 0, \"ticks\": \"\"}, \"colorscale\": [[0.0, \"#0d0887\"], [0.1111111111111111, \"#46039f\"], [0.2222222222222222, \"#7201a8\"], [0.3333333333333333, \"#9c179e\"], [0.4444444444444444, \"#bd3786\"], [0.5555555555555556, \"#d8576b\"], [0.6666666666666666, \"#ed7953\"], [0.7777777777777778, \"#fb9f3a\"], [0.8888888888888888, \"#fdca26\"], [1.0, \"#f0f921\"]], \"type\": \"histogram2d\"}], \"histogram2dcontour\": [{\"colorbar\": {\"outlinewidth\": 0, \"ticks\": \"\"}, \"colorscale\": [[0.0, \"#0d0887\"], [0.1111111111111111, \"#46039f\"], [0.2222222222222222, \"#7201a8\"], [0.3333333333333333, \"#9c179e\"], [0.4444444444444444, \"#bd3786\"], [0.5555555555555556, \"#d8576b\"], [0.6666666666666666, \"#ed7953\"], [0.7777777777777778, \"#fb9f3a\"], [0.8888888888888888, \"#fdca26\"], [1.0, \"#f0f921\"]], \"type\": \"histogram2dcontour\"}], \"mesh3d\": [{\"colorbar\": {\"outlinewidth\": 0, \"ticks\": \"\"}, \"type\": \"mesh3d\"}], \"parcoords\": [{\"line\": {\"colorbar\": {\"outlinewidth\": 0, \"ticks\": \"\"}}, \"type\": \"parcoords\"}], \"pie\": [{\"automargin\": true, \"type\": \"pie\"}], \"scatter\": [{\"marker\": {\"colorbar\": {\"outlinewidth\": 0, \"ticks\": \"\"}}, \"type\": \"scatter\"}], \"scatter3d\": [{\"line\": {\"colorbar\": {\"outlinewidth\": 0, \"ticks\": \"\"}}, \"marker\": {\"colorbar\": {\"outlinewidth\": 0, \"ticks\": \"\"}}, \"type\": \"scatter3d\"}], \"scattercarpet\": [{\"marker\": {\"colorbar\": {\"outlinewidth\": 0, \"ticks\": \"\"}}, \"type\": \"scattercarpet\"}], \"scattergeo\": [{\"marker\": {\"colorbar\": {\"outlinewidth\": 0, \"ticks\": \"\"}}, \"type\": \"scattergeo\"}], \"scattergl\": [{\"marker\": {\"colorbar\": {\"outlinewidth\": 0, \"ticks\": \"\"}}, \"type\": \"scattergl\"}], \"scattermapbox\": [{\"marker\": {\"colorbar\": {\"outlinewidth\": 0, \"ticks\": \"\"}}, \"type\": \"scattermapbox\"}], \"scatterpolar\": [{\"marker\": {\"colorbar\": {\"outlinewidth\": 0, \"ticks\": \"\"}}, \"type\": \"scatterpolar\"}], \"scatterpolargl\": [{\"marker\": {\"colorbar\": {\"outlinewidth\": 0, \"ticks\": \"\"}}, \"type\": \"scatterpolargl\"}], \"scatterternary\": [{\"marker\": {\"colorbar\": {\"outlinewidth\": 0, \"ticks\": \"\"}}, \"type\": \"scatterternary\"}], \"surface\": [{\"colorbar\": {\"outlinewidth\": 0, \"ticks\": \"\"}, \"colorscale\": [[0.0, \"#0d0887\"], [0.1111111111111111, \"#46039f\"], [0.2222222222222222, \"#7201a8\"], [0.3333333333333333, \"#9c179e\"], [0.4444444444444444, \"#bd3786\"], [0.5555555555555556, \"#d8576b\"], [0.6666666666666666, \"#ed7953\"], [0.7777777777777778, \"#fb9f3a\"], [0.8888888888888888, \"#fdca26\"], [1.0, \"#f0f921\"]], \"type\": \"surface\"}], \"table\": [{\"cells\": {\"fill\": {\"color\": \"#EBF0F8\"}, \"line\": {\"color\": \"white\"}}, \"header\": {\"fill\": {\"color\": \"#C8D4E3\"}, \"line\": {\"color\": \"white\"}}, \"type\": \"table\"}]}, \"layout\": {\"annotationdefaults\": {\"arrowcolor\": \"#2a3f5f\", \"arrowhead\": 0, \"arrowwidth\": 1}, \"coloraxis\": {\"colorbar\": {\"outlinewidth\": 0, \"ticks\": \"\"}}, \"colorscale\": {\"diverging\": [[0, \"#8e0152\"], [0.1, \"#c51b7d\"], [0.2, \"#de77ae\"], [0.3, \"#f1b6da\"], [0.4, \"#fde0ef\"], [0.5, \"#f7f7f7\"], [0.6, \"#e6f5d0\"], [0.7, \"#b8e186\"], [0.8, \"#7fbc41\"], [0.9, \"#4d9221\"], [1, \"#276419\"]], \"sequential\": [[0.0, \"#0d0887\"], [0.1111111111111111, \"#46039f\"], [0.2222222222222222, \"#7201a8\"], [0.3333333333333333, \"#9c179e\"], [0.4444444444444444, \"#bd3786\"], [0.5555555555555556, \"#d8576b\"], [0.6666666666666666, \"#ed7953\"], [0.7777777777777778, \"#fb9f3a\"], [0.8888888888888888, \"#fdca26\"], [1.0, \"#f0f921\"]], \"sequentialminus\": [[0.0, \"#0d0887\"], [0.1111111111111111, \"#46039f\"], [0.2222222222222222, \"#7201a8\"], [0.3333333333333333, \"#9c179e\"], [0.4444444444444444, \"#bd3786\"], [0.5555555555555556, \"#d8576b\"], [0.6666666666666666, \"#ed7953\"], [0.7777777777777778, \"#fb9f3a\"], [0.8888888888888888, \"#fdca26\"], [1.0, \"#f0f921\"]]}, \"colorway\": [\"#636efa\", \"#EF553B\", \"#00cc96\", \"#ab63fa\", \"#FFA15A\", \"#19d3f3\", \"#FF6692\", \"#B6E880\", \"#FF97FF\", \"#FECB52\"], \"font\": {\"color\": \"#2a3f5f\"}, \"geo\": {\"bgcolor\": \"white\", \"lakecolor\": \"white\", \"landcolor\": \"#E5ECF6\", \"showlakes\": true, \"showland\": true, \"subunitcolor\": \"white\"}, \"hoverlabel\": {\"align\": \"left\"}, \"hovermode\": \"closest\", \"mapbox\": {\"style\": \"light\"}, \"paper_bgcolor\": \"white\", \"plot_bgcolor\": \"#E5ECF6\", \"polar\": {\"angularaxis\": {\"gridcolor\": \"white\", \"linecolor\": \"white\", \"ticks\": \"\"}, \"bgcolor\": \"#E5ECF6\", \"radialaxis\": {\"gridcolor\": \"white\", \"linecolor\": \"white\", \"ticks\": \"\"}}, \"scene\": {\"xaxis\": {\"backgroundcolor\": \"#E5ECF6\", \"gridcolor\": \"white\", \"gridwidth\": 2, \"linecolor\": \"white\", \"showbackground\": true, \"ticks\": \"\", \"zerolinecolor\": \"white\"}, \"yaxis\": {\"backgroundcolor\": \"#E5ECF6\", \"gridcolor\": \"white\", \"gridwidth\": 2, \"linecolor\": \"white\", \"showbackground\": true, \"ticks\": \"\", \"zerolinecolor\": \"white\"}, \"zaxis\": {\"backgroundcolor\": \"#E5ECF6\", \"gridcolor\": \"white\", \"gridwidth\": 2, \"linecolor\": \"white\", \"showbackground\": true, \"ticks\": \"\", \"zerolinecolor\": \"white\"}}, \"shapedefaults\": {\"line\": {\"color\": \"#2a3f5f\"}}, \"ternary\": {\"aaxis\": {\"gridcolor\": \"white\", \"linecolor\": \"white\", \"ticks\": \"\"}, \"baxis\": {\"gridcolor\": \"white\", \"linecolor\": \"white\", \"ticks\": \"\"}, \"bgcolor\": \"#E5ECF6\", \"caxis\": {\"gridcolor\": \"white\", \"linecolor\": \"white\", \"ticks\": \"\"}}, \"title\": {\"x\": 0.05}, \"xaxis\": {\"automargin\": true, \"gridcolor\": \"white\", \"linecolor\": \"white\", \"ticks\": \"\", \"title\": {\"standoff\": 15}, \"zerolinecolor\": \"white\", \"zerolinewidth\": 2}, \"yaxis\": {\"automargin\": true, \"gridcolor\": \"white\", \"linecolor\": \"white\", \"ticks\": \"\", \"title\": {\"standoff\": 15}, \"zerolinecolor\": \"white\", \"zerolinewidth\": 2}}}, \"title\": {\"text\": \"Covid-19 synonyms in title / abstract metadata<br><i>Hover over dots for exact values</i>\"}, \"xaxis\": {\"title\": {\"text\": \"Count\"}}, \"yaxis\": {\"title\": {\"text\": \"Regex\"}}},\n",
       "                        {\"responsive\": true}\n",
       "                    ).then(function(){\n",
       "                            \n",
       "var gd = document.getElementById('89dada4f-408e-4b9e-95bc-7d20562080c2');\n",
       "var x = new MutationObserver(function (mutations, observer) {{\n",
       "        var display = window.getComputedStyle(gd).display;\n",
       "        if (!display || display === 'none') {{\n",
       "            console.log([gd, 'removed!']);\n",
       "            Plotly.purge(gd);\n",
       "            observer.disconnect();\n",
       "        }}\n",
       "}});\n",
       "\n",
       "// Listen for the removal of the full notebook cells\n",
       "var notebookContainer = gd.closest('#notebook-container');\n",
       "if (notebookContainer) {{\n",
       "    x.observe(notebookContainer, {childList: true});\n",
       "}}\n",
       "\n",
       "// Listen for the clearing of the current output cell\n",
       "var outputEl = gd.closest('.output');\n",
       "if (outputEl) {{\n",
       "    x.observe(outputEl, {childList: true});\n",
       "}}\n",
       "\n",
       "                        })\n",
       "                };\n",
       "                });\n",
       "            </script>\n",
       "        </div>"
      ]
     },
     "metadata": {},
     "output_type": "display_data"
    }
   ],
   "source": [
    "dotplot(covid19_counts, 'Covid-19 synonyms in title / abstract metadata')"
   ]
  },
  {
   "cell_type": "code",
   "execution_count": 11,
   "metadata": {},
   "outputs": [
    {
     "name": "stdout",
     "output_type": "stream",
     "text": [
      "novel corona (published 2020): 1068\n"
     ]
    }
   ],
   "source": [
    "novel_corona_filter = (abstract_title_filter('novel corona') &\n",
    "                       df.publish_time.str.startswith('2020', na=False))\n",
    "print(f'novel corona (published 2020): {sum(novel_corona_filter)}')\n",
    "df.loc[novel_corona_filter, 'tag_disease_covid19'] = True"
   ]
  },
  {
   "cell_type": "code",
   "execution_count": 12,
   "metadata": {},
   "outputs": [
    {
     "data": {
      "text/plain": [
       "False    43294\n",
       "True      2480\n",
       "Name: tag_disease_covid19, dtype: int64"
      ]
     },
     "execution_count": 12,
     "metadata": {},
     "output_type": "execute_result"
    }
   ],
   "source": [
    "df.tag_disease_covid19.value_counts()"
   ]
  },
  {
   "cell_type": "code",
   "execution_count": 13,
   "metadata": {},
   "outputs": [
    {
     "data": {
      "text/plain": [
       "2020    2465\n",
       "NaN        8\n",
       "2016       2\n",
       "2018       1\n",
       "2017       1\n",
       "2011       1\n",
       "2015       1\n",
       "2019       1\n",
       "Name: publish_time, dtype: int64"
      ]
     },
     "execution_count": 13,
     "metadata": {},
     "output_type": "execute_result"
    }
   ],
   "source": [
    "# SENSE CHECK: Confirm these all published 2020 (or missing date)\n",
    "df[df.tag_disease_covid19].publish_time.str.slice(0, 4).value_counts(dropna=False)"
   ]
  },
  {
   "cell_type": "code",
   "execution_count": 14,
   "metadata": {},
   "outputs": [],
   "source": [
    "# Fix the earlier papers that are about something else\n",
    "df.loc[df.tag_disease_covid19 & ~df.publish_time.str.startswith('2020', na=True),\n",
    "       'tag_disease_covid19'] = False"
   ]
  },
  {
   "cell_type": "markdown",
   "metadata": {},
   "source": [
    "## Severe Acute Respiratory Syndrome (SARS)\n",
    "\n",
    "SARS typically means the related coronavirus that caused an outbreak in 2003, although Covid-19 is sometimes referred to with a SARS name.\n",
    "\n",
    "See: https://en.wikipedia.org/wiki/Severe_acute_respiratory_syndrome_coronavirus"
   ]
  },
  {
   "cell_type": "code",
   "execution_count": 15,
   "metadata": {},
   "outputs": [],
   "source": [
    "sars_synonyms = [r'\\bsars\\b',\n",
    "                 'severe acute respiratory syndrome']"
   ]
  },
  {
   "cell_type": "code",
   "execution_count": 16,
   "metadata": {},
   "outputs": [],
   "source": [
    "df, sars_counts = count_and_tag(df, sars_synonyms, 'disease_sars')"
   ]
  },
  {
   "cell_type": "code",
   "execution_count": 17,
   "metadata": {},
   "outputs": [
    {
     "data": {
      "text/plain": [
       "\\bsars\\b                             4379\n",
       "severe acute respiratory syndrome    2869\n",
       "dtype: int64"
      ]
     },
     "execution_count": 17,
     "metadata": {},
     "output_type": "execute_result"
    }
   ],
   "source": [
    "sars_counts"
   ]
  },
  {
   "cell_type": "code",
   "execution_count": 18,
   "metadata": {},
   "outputs": [
    {
     "data": {
      "text/plain": [
       "False    40972\n",
       "True      4802\n",
       "Name: tag_disease_sars, dtype: int64"
      ]
     },
     "execution_count": 18,
     "metadata": {},
     "output_type": "execute_result"
    }
   ],
   "source": [
    "df.tag_disease_sars.value_counts()"
   ]
  },
  {
   "cell_type": "code",
   "execution_count": 19,
   "metadata": {},
   "outputs": [
    {
     "data": {
      "text/plain": [
       "tag_disease_covid19  tag_disease_sars\n",
       "False                False               39355\n",
       "                     True                 3946\n",
       "True                 False                1617\n",
       "                     True                  856\n",
       "Name: tag_disease_sars, dtype: int64"
      ]
     },
     "execution_count": 19,
     "metadata": {},
     "output_type": "execute_result"
    }
   ],
   "source": [
    "df.groupby('tag_disease_covid19').tag_disease_sars.value_counts()"
   ]
  },
  {
   "cell_type": "markdown",
   "metadata": {},
   "source": [
    "## Middle East Respiratory Syndrome (MERS)\n",
    "\n",
    "See: https://en.wikipedia.org/wiki/Middle_East_respiratory_syndrome"
   ]
  },
  {
   "cell_type": "code",
   "execution_count": 20,
   "metadata": {},
   "outputs": [],
   "source": [
    "mers_synonyms = [r'\\bmers\\b',\n",
    "                 'middle east respiratory syndrome']"
   ]
  },
  {
   "cell_type": "code",
   "execution_count": 21,
   "metadata": {},
   "outputs": [],
   "source": [
    "df, mers_counts = count_and_tag(df, mers_synonyms, 'disease_mers')"
   ]
  },
  {
   "cell_type": "code",
   "execution_count": 22,
   "metadata": {},
   "outputs": [
    {
     "data": {
      "text/plain": [
       "\\bmers\\b                            1694\n",
       "middle east respiratory syndrome    1470\n",
       "dtype: int64"
      ]
     },
     "execution_count": 22,
     "metadata": {},
     "output_type": "execute_result"
    }
   ],
   "source": [
    "mers_counts"
   ]
  },
  {
   "cell_type": "code",
   "execution_count": 23,
   "metadata": {},
   "outputs": [
    {
     "data": {
      "text/plain": [
       "False    43850\n",
       "True      1924\n",
       "Name: tag_disease_mers, dtype: int64"
      ]
     },
     "execution_count": 23,
     "metadata": {},
     "output_type": "execute_result"
    }
   ],
   "source": [
    "df.tag_disease_mers.value_counts()"
   ]
  },
  {
   "cell_type": "code",
   "execution_count": 24,
   "metadata": {},
   "outputs": [
    {
     "data": {
      "text/plain": [
       "tag_disease_covid19  tag_disease_mers\n",
       "False                False               41534\n",
       "                     True                 1767\n",
       "True                 False                2316\n",
       "                     True                  157\n",
       "Name: tag_disease_mers, dtype: int64"
      ]
     },
     "execution_count": 24,
     "metadata": {},
     "output_type": "execute_result"
    }
   ],
   "source": [
    "df.groupby('tag_disease_covid19').tag_disease_mers.value_counts()"
   ]
  },
  {
   "cell_type": "markdown",
   "metadata": {},
   "source": [
    "## Coronaviruses\n",
    "\n",
    "**IMPORTANT: This tag needs more work.**\n",
    "\n",
    "Coronaviruses are a group of related viruses that cause disease in mammals and birds.\n",
    "\n",
    "See: https://en.wikipedia.org/wiki/Coronavirus"
   ]
  },
  {
   "cell_type": "code",
   "execution_count": 25,
   "metadata": {},
   "outputs": [],
   "source": [
    "corona_synonyms = ['corona', r'\\bcov\\b']"
   ]
  },
  {
   "cell_type": "code",
   "execution_count": 26,
   "metadata": {},
   "outputs": [],
   "source": [
    "df, corona_counts = count_and_tag(df, corona_synonyms, 'disease_corona')"
   ]
  },
  {
   "cell_type": "code",
   "execution_count": 27,
   "metadata": {},
   "outputs": [
    {
     "data": {
      "text/plain": [
       "corona     9298\n",
       "\\bcov\\b    3626\n",
       "dtype: int64"
      ]
     },
     "execution_count": 27,
     "metadata": {},
     "output_type": "execute_result"
    }
   ],
   "source": [
    "corona_counts"
   ]
  },
  {
   "cell_type": "code",
   "execution_count": 28,
   "metadata": {},
   "outputs": [
    {
     "data": {
      "text/plain": [
       "False    35971\n",
       "True      9803\n",
       "Name: tag_disease_corona, dtype: int64"
      ]
     },
     "execution_count": 28,
     "metadata": {},
     "output_type": "execute_result"
    }
   ],
   "source": [
    "df.tag_disease_corona.value_counts()"
   ]
  },
  {
   "cell_type": "code",
   "execution_count": 29,
   "metadata": {},
   "outputs": [
    {
     "data": {
      "text/plain": [
       "tag_disease_covid19  tag_disease_corona\n",
       "False                False                 35400\n",
       "                     True                   7901\n",
       "True                 True                   1902\n",
       "                     False                   571\n",
       "Name: tag_disease_corona, dtype: int64"
      ]
     },
     "execution_count": 29,
     "metadata": {},
     "output_type": "execute_result"
    }
   ],
   "source": [
    "df.groupby('tag_disease_covid19').tag_disease_corona.value_counts()"
   ]
  },
  {
   "cell_type": "markdown",
   "metadata": {},
   "source": [
    "## Acute Respiratory Distress Syndrome (ARDS)\n",
    "\n",
    "ARDS is a possible consequence of Covid-19 infection.\n",
    "\n",
    "See: https://en.wikipedia.org/wiki/Acute_respiratory_distress_syndrome"
   ]
  },
  {
   "cell_type": "code",
   "execution_count": 30,
   "metadata": {},
   "outputs": [],
   "source": [
    "ards_synonyms = ['acute respiratory distress syndrome',\n",
    "                 r'\\bards\\b']"
   ]
  },
  {
   "cell_type": "code",
   "execution_count": 31,
   "metadata": {},
   "outputs": [],
   "source": [
    "df, ards_counts = count_and_tag(df, ards_synonyms, 'disease_ards')"
   ]
  },
  {
   "cell_type": "code",
   "execution_count": 32,
   "metadata": {},
   "outputs": [
    {
     "data": {
      "text/plain": [
       "acute respiratory distress syndrome    283\n",
       "\\bards\\b                               207\n",
       "dtype: int64"
      ]
     },
     "execution_count": 32,
     "metadata": {},
     "output_type": "execute_result"
    }
   ],
   "source": [
    "ards_counts"
   ]
  },
  {
   "cell_type": "code",
   "execution_count": 33,
   "metadata": {},
   "outputs": [
    {
     "data": {
      "text/plain": [
       "False    45445\n",
       "True       329\n",
       "Name: tag_disease_ards, dtype: int64"
      ]
     },
     "execution_count": 33,
     "metadata": {},
     "output_type": "execute_result"
    }
   ],
   "source": [
    "df.tag_disease_ards.value_counts()"
   ]
  },
  {
   "cell_type": "code",
   "execution_count": 34,
   "metadata": {},
   "outputs": [
    {
     "name": "stdout",
     "output_type": "stream",
     "text": [
      "There are 55 papers on Covid-19 and ARDS.\n"
     ]
    }
   ],
   "source": [
    "n = (df.tag_disease_covid19 & df.tag_disease_ards).sum()\n",
    "print(f'There are {n} papers on Covid-19 and ARDS.')"
   ]
  },
  {
   "cell_type": "markdown",
   "metadata": {},
   "source": [
    "# Design\n",
    "\n",
    "Research design (thanks to Savanna Reid for input on these):\n",
    "\n",
    "- risk factor analysis\n",
    "    - retrospective cohort\n",
    "    - cross-sectional case-control\n",
    "    - prospective case-control\n",
    "    - matched case-control\n",
    "    - medical records review\n",
    "    - seroprevalence survey\n",
    "    - syndromic surveillance\n",
    "- time series analysis\n",
    "    - survival analysis"
   ]
  },
  {
   "cell_type": "code",
   "execution_count": 35,
   "metadata": {},
   "outputs": [
    {
     "data": {
      "text/html": [
       "<div>\n",
       "        \n",
       "        \n",
       "            <div id=\"5d266509-d7f5-4260-85f1-fb8152a2ddd2\" class=\"plotly-graph-div\" style=\"height:525px; width:100%;\"></div>\n",
       "            <script type=\"text/javascript\">\n",
       "                require([\"plotly\"], function(Plotly) {\n",
       "                    window.PLOTLYENV=window.PLOTLYENV || {};\n",
       "                    \n",
       "                if (document.getElementById(\"5d266509-d7f5-4260-85f1-fb8152a2ddd2\")) {\n",
       "                    Plotly.newPlot(\n",
       "                        '5d266509-d7f5-4260-85f1-fb8152a2ddd2',\n",
       "                        [{\"marker\": {\"color\": \"crimson\", \"size\": 12}, \"mode\": \"markers\", \"name\": \"Count\", \"type\": \"scatter\", \"x\": [0, 0, 4, 9, 10, 13, 71], \"y\": [\"cross sectional case control\", \"medical records review\", \"seroprevalence survey\", \"matched case control\", \"risk factor analysis\", \"prospective case control\", \"syndromic surveillance\"]}],\n",
       "                        {\"template\": {\"data\": {\"bar\": [{\"error_x\": {\"color\": \"#2a3f5f\"}, \"error_y\": {\"color\": \"#2a3f5f\"}, \"marker\": {\"line\": {\"color\": \"#E5ECF6\", \"width\": 0.5}}, \"type\": \"bar\"}], \"barpolar\": [{\"marker\": {\"line\": {\"color\": \"#E5ECF6\", \"width\": 0.5}}, \"type\": \"barpolar\"}], \"carpet\": [{\"aaxis\": {\"endlinecolor\": \"#2a3f5f\", \"gridcolor\": \"white\", \"linecolor\": \"white\", \"minorgridcolor\": \"white\", \"startlinecolor\": \"#2a3f5f\"}, \"baxis\": {\"endlinecolor\": \"#2a3f5f\", \"gridcolor\": \"white\", \"linecolor\": \"white\", \"minorgridcolor\": \"white\", \"startlinecolor\": \"#2a3f5f\"}, \"type\": \"carpet\"}], \"choropleth\": [{\"colorbar\": {\"outlinewidth\": 0, \"ticks\": \"\"}, \"type\": \"choropleth\"}], \"contour\": [{\"colorbar\": {\"outlinewidth\": 0, \"ticks\": \"\"}, \"colorscale\": [[0.0, \"#0d0887\"], [0.1111111111111111, \"#46039f\"], [0.2222222222222222, \"#7201a8\"], [0.3333333333333333, \"#9c179e\"], [0.4444444444444444, \"#bd3786\"], [0.5555555555555556, \"#d8576b\"], [0.6666666666666666, \"#ed7953\"], [0.7777777777777778, \"#fb9f3a\"], [0.8888888888888888, \"#fdca26\"], [1.0, \"#f0f921\"]], \"type\": \"contour\"}], \"contourcarpet\": [{\"colorbar\": {\"outlinewidth\": 0, \"ticks\": \"\"}, \"type\": \"contourcarpet\"}], \"heatmap\": [{\"colorbar\": {\"outlinewidth\": 0, \"ticks\": \"\"}, \"colorscale\": [[0.0, \"#0d0887\"], [0.1111111111111111, \"#46039f\"], [0.2222222222222222, \"#7201a8\"], [0.3333333333333333, \"#9c179e\"], [0.4444444444444444, \"#bd3786\"], [0.5555555555555556, \"#d8576b\"], [0.6666666666666666, \"#ed7953\"], [0.7777777777777778, \"#fb9f3a\"], [0.8888888888888888, \"#fdca26\"], [1.0, \"#f0f921\"]], \"type\": \"heatmap\"}], \"heatmapgl\": [{\"colorbar\": {\"outlinewidth\": 0, \"ticks\": \"\"}, \"colorscale\": [[0.0, \"#0d0887\"], [0.1111111111111111, \"#46039f\"], [0.2222222222222222, \"#7201a8\"], [0.3333333333333333, \"#9c179e\"], [0.4444444444444444, \"#bd3786\"], [0.5555555555555556, \"#d8576b\"], [0.6666666666666666, \"#ed7953\"], [0.7777777777777778, \"#fb9f3a\"], [0.8888888888888888, \"#fdca26\"], [1.0, \"#f0f921\"]], \"type\": \"heatmapgl\"}], \"histogram\": [{\"marker\": {\"colorbar\": {\"outlinewidth\": 0, \"ticks\": \"\"}}, \"type\": \"histogram\"}], \"histogram2d\": [{\"colorbar\": {\"outlinewidth\": 0, \"ticks\": \"\"}, \"colorscale\": [[0.0, \"#0d0887\"], [0.1111111111111111, \"#46039f\"], [0.2222222222222222, \"#7201a8\"], [0.3333333333333333, \"#9c179e\"], [0.4444444444444444, \"#bd3786\"], [0.5555555555555556, \"#d8576b\"], [0.6666666666666666, \"#ed7953\"], [0.7777777777777778, \"#fb9f3a\"], [0.8888888888888888, \"#fdca26\"], [1.0, \"#f0f921\"]], \"type\": \"histogram2d\"}], \"histogram2dcontour\": [{\"colorbar\": {\"outlinewidth\": 0, \"ticks\": \"\"}, \"colorscale\": [[0.0, \"#0d0887\"], [0.1111111111111111, \"#46039f\"], [0.2222222222222222, \"#7201a8\"], [0.3333333333333333, \"#9c179e\"], [0.4444444444444444, \"#bd3786\"], [0.5555555555555556, \"#d8576b\"], [0.6666666666666666, \"#ed7953\"], [0.7777777777777778, \"#fb9f3a\"], [0.8888888888888888, \"#fdca26\"], [1.0, \"#f0f921\"]], \"type\": \"histogram2dcontour\"}], \"mesh3d\": [{\"colorbar\": {\"outlinewidth\": 0, \"ticks\": \"\"}, \"type\": \"mesh3d\"}], \"parcoords\": [{\"line\": {\"colorbar\": {\"outlinewidth\": 0, \"ticks\": \"\"}}, \"type\": \"parcoords\"}], \"pie\": [{\"automargin\": true, \"type\": \"pie\"}], \"scatter\": [{\"marker\": {\"colorbar\": {\"outlinewidth\": 0, \"ticks\": \"\"}}, \"type\": \"scatter\"}], \"scatter3d\": [{\"line\": {\"colorbar\": {\"outlinewidth\": 0, \"ticks\": \"\"}}, \"marker\": {\"colorbar\": {\"outlinewidth\": 0, \"ticks\": \"\"}}, \"type\": \"scatter3d\"}], \"scattercarpet\": [{\"marker\": {\"colorbar\": {\"outlinewidth\": 0, \"ticks\": \"\"}}, \"type\": \"scattercarpet\"}], \"scattergeo\": [{\"marker\": {\"colorbar\": {\"outlinewidth\": 0, \"ticks\": \"\"}}, \"type\": \"scattergeo\"}], \"scattergl\": [{\"marker\": {\"colorbar\": {\"outlinewidth\": 0, \"ticks\": \"\"}}, \"type\": \"scattergl\"}], \"scattermapbox\": [{\"marker\": {\"colorbar\": {\"outlinewidth\": 0, \"ticks\": \"\"}}, \"type\": \"scattermapbox\"}], \"scatterpolar\": [{\"marker\": {\"colorbar\": {\"outlinewidth\": 0, \"ticks\": \"\"}}, \"type\": \"scatterpolar\"}], \"scatterpolargl\": [{\"marker\": {\"colorbar\": {\"outlinewidth\": 0, \"ticks\": \"\"}}, \"type\": \"scatterpolargl\"}], \"scatterternary\": [{\"marker\": {\"colorbar\": {\"outlinewidth\": 0, \"ticks\": \"\"}}, \"type\": \"scatterternary\"}], \"surface\": [{\"colorbar\": {\"outlinewidth\": 0, \"ticks\": \"\"}, \"colorscale\": [[0.0, \"#0d0887\"], [0.1111111111111111, \"#46039f\"], [0.2222222222222222, \"#7201a8\"], [0.3333333333333333, \"#9c179e\"], [0.4444444444444444, \"#bd3786\"], [0.5555555555555556, \"#d8576b\"], [0.6666666666666666, \"#ed7953\"], [0.7777777777777778, \"#fb9f3a\"], [0.8888888888888888, \"#fdca26\"], [1.0, \"#f0f921\"]], \"type\": \"surface\"}], \"table\": [{\"cells\": {\"fill\": {\"color\": \"#EBF0F8\"}, \"line\": {\"color\": \"white\"}}, \"header\": {\"fill\": {\"color\": \"#C8D4E3\"}, \"line\": {\"color\": \"white\"}}, \"type\": \"table\"}]}, \"layout\": {\"annotationdefaults\": {\"arrowcolor\": \"#2a3f5f\", \"arrowhead\": 0, \"arrowwidth\": 1}, \"coloraxis\": {\"colorbar\": {\"outlinewidth\": 0, \"ticks\": \"\"}}, \"colorscale\": {\"diverging\": [[0, \"#8e0152\"], [0.1, \"#c51b7d\"], [0.2, \"#de77ae\"], [0.3, \"#f1b6da\"], [0.4, \"#fde0ef\"], [0.5, \"#f7f7f7\"], [0.6, \"#e6f5d0\"], [0.7, \"#b8e186\"], [0.8, \"#7fbc41\"], [0.9, \"#4d9221\"], [1, \"#276419\"]], \"sequential\": [[0.0, \"#0d0887\"], [0.1111111111111111, \"#46039f\"], [0.2222222222222222, \"#7201a8\"], [0.3333333333333333, \"#9c179e\"], [0.4444444444444444, \"#bd3786\"], [0.5555555555555556, \"#d8576b\"], [0.6666666666666666, \"#ed7953\"], [0.7777777777777778, \"#fb9f3a\"], [0.8888888888888888, \"#fdca26\"], [1.0, \"#f0f921\"]], \"sequentialminus\": [[0.0, \"#0d0887\"], [0.1111111111111111, \"#46039f\"], [0.2222222222222222, \"#7201a8\"], [0.3333333333333333, \"#9c179e\"], [0.4444444444444444, \"#bd3786\"], [0.5555555555555556, \"#d8576b\"], [0.6666666666666666, \"#ed7953\"], [0.7777777777777778, \"#fb9f3a\"], [0.8888888888888888, \"#fdca26\"], [1.0, \"#f0f921\"]]}, \"colorway\": [\"#636efa\", \"#EF553B\", \"#00cc96\", \"#ab63fa\", \"#FFA15A\", \"#19d3f3\", \"#FF6692\", \"#B6E880\", \"#FF97FF\", \"#FECB52\"], \"font\": {\"color\": \"#2a3f5f\"}, \"geo\": {\"bgcolor\": \"white\", \"lakecolor\": \"white\", \"landcolor\": \"#E5ECF6\", \"showlakes\": true, \"showland\": true, \"subunitcolor\": \"white\"}, \"hoverlabel\": {\"align\": \"left\"}, \"hovermode\": \"closest\", \"mapbox\": {\"style\": \"light\"}, \"paper_bgcolor\": \"white\", \"plot_bgcolor\": \"#E5ECF6\", \"polar\": {\"angularaxis\": {\"gridcolor\": \"white\", \"linecolor\": \"white\", \"ticks\": \"\"}, \"bgcolor\": \"#E5ECF6\", \"radialaxis\": {\"gridcolor\": \"white\", \"linecolor\": \"white\", \"ticks\": \"\"}}, \"scene\": {\"xaxis\": {\"backgroundcolor\": \"#E5ECF6\", \"gridcolor\": \"white\", \"gridwidth\": 2, \"linecolor\": \"white\", \"showbackground\": true, \"ticks\": \"\", \"zerolinecolor\": \"white\"}, \"yaxis\": {\"backgroundcolor\": \"#E5ECF6\", \"gridcolor\": \"white\", \"gridwidth\": 2, \"linecolor\": \"white\", \"showbackground\": true, \"ticks\": \"\", \"zerolinecolor\": \"white\"}, \"zaxis\": {\"backgroundcolor\": \"#E5ECF6\", \"gridcolor\": \"white\", \"gridwidth\": 2, \"linecolor\": \"white\", \"showbackground\": true, \"ticks\": \"\", \"zerolinecolor\": \"white\"}}, \"shapedefaults\": {\"line\": {\"color\": \"#2a3f5f\"}}, \"ternary\": {\"aaxis\": {\"gridcolor\": \"white\", \"linecolor\": \"white\", \"ticks\": \"\"}, \"baxis\": {\"gridcolor\": \"white\", \"linecolor\": \"white\", \"ticks\": \"\"}, \"bgcolor\": \"#E5ECF6\", \"caxis\": {\"gridcolor\": \"white\", \"linecolor\": \"white\", \"ticks\": \"\"}}, \"title\": {\"x\": 0.05}, \"xaxis\": {\"automargin\": true, \"gridcolor\": \"white\", \"linecolor\": \"white\", \"ticks\": \"\", \"title\": {\"standoff\": 15}, \"zerolinecolor\": \"white\", \"zerolinewidth\": 2}, \"yaxis\": {\"automargin\": true, \"gridcolor\": \"white\", \"linecolor\": \"white\", \"ticks\": \"\", \"title\": {\"standoff\": 15}, \"zerolinecolor\": \"white\", \"zerolinewidth\": 2}}}, \"title\": {\"text\": \"Risk factor analysis synonyms in title / abstract metadata<br><i>Hover over dots for exact values</i>\"}, \"xaxis\": {\"title\": {\"text\": \"Count\"}}, \"yaxis\": {\"title\": {\"text\": \"Regex\"}}},\n",
       "                        {\"responsive\": true}\n",
       "                    ).then(function(){\n",
       "                            \n",
       "var gd = document.getElementById('5d266509-d7f5-4260-85f1-fb8152a2ddd2');\n",
       "var x = new MutationObserver(function (mutations, observer) {{\n",
       "        var display = window.getComputedStyle(gd).display;\n",
       "        if (!display || display === 'none') {{\n",
       "            console.log([gd, 'removed!']);\n",
       "            Plotly.purge(gd);\n",
       "            observer.disconnect();\n",
       "        }}\n",
       "}});\n",
       "\n",
       "// Listen for the removal of the full notebook cells\n",
       "var notebookContainer = gd.closest('#notebook-container');\n",
       "if (notebookContainer) {{\n",
       "    x.observe(notebookContainer, {childList: true});\n",
       "}}\n",
       "\n",
       "// Listen for the clearing of the current output cell\n",
       "var outputEl = gd.closest('.output');\n",
       "if (outputEl) {{\n",
       "    x.observe(outputEl, {childList: true});\n",
       "}}\n",
       "\n",
       "                        })\n",
       "                };\n",
       "                });\n",
       "            </script>\n",
       "        </div>"
      ]
     },
     "metadata": {},
     "output_type": "display_data"
    }
   ],
   "source": [
    "riskfac_synonyms = [\n",
    "    'risk factor analysis',\n",
    "    'cross sectional case control',\n",
    "    'prospective case control',\n",
    "    'matched case control',\n",
    "    'medical records review',\n",
    "    'seroprevalence survey',\n",
    "    'syndromic surveillance'\n",
    "]\n",
    "df, riskfac_counts = count_and_tag(df, riskfac_synonyms, 'design_riskfac')\n",
    "dotplot(riskfac_counts, 'Risk factor analysis synonyms in title / abstract metadata')"
   ]
  },
  {
   "cell_type": "code",
   "execution_count": 36,
   "metadata": {},
   "outputs": [
    {
     "data": {
      "text/plain": [
       "syndromic surveillance          71\n",
       "prospective case control        13\n",
       "risk factor analysis            10\n",
       "matched case control             9\n",
       "seroprevalence survey            4\n",
       "medical records review           0\n",
       "cross sectional case control     0\n",
       "dtype: int64"
      ]
     },
     "execution_count": 36,
     "metadata": {},
     "output_type": "execute_result"
    }
   ],
   "source": [
    "riskfac_counts.sort_values(ascending=False)"
   ]
  },
  {
   "cell_type": "code",
   "execution_count": 37,
   "metadata": {},
   "outputs": [
    {
     "name": "stdout",
     "output_type": "stream",
     "text": [
      "There are 2 papers on Covid-19 with a Risk Factor Analysis research design.\n"
     ]
    }
   ],
   "source": [
    "n = (df.tag_disease_covid19 & df.tag_design_riskfac).sum()\n",
    "print(f'There are {n} papers on Covid-19 with a Risk Factor Analysis research design.')"
   ]
  },
  {
   "cell_type": "markdown",
   "metadata": {},
   "source": [
    "# Risks\n",
    "\n",
    "Potential risk factors:\n",
    "\n",
    "- Generic risk factors\n",
    "- _Demographic_:\n",
    "    - Age\n",
    "    - Sex\n",
    "    - Bodyweight\n",
    "    - Blood type\n",
    "    - Ethnicity (TODO)\n",
    "- _Behavioural:\n",
    "    - Smoking\n",
    "    - Occupation (TODO)\n",
    "    - Animal contact (TODO)\n",
    "    - Social activity (TODO)\n",
    "- _Pre-existing conditions_:\n",
    "    - Diabetes\n",
    "    - Hypertension\n",
    "    - Immunodeficiency (general)\n",
    "    - Cancer (general)\n",
    "    - Chronic respiratory disease (general - inc. asthma, bronchitis)\n",
    "    - Asthma\n",
    "    - Cardiovascular disease (TODO)\n",
    "    - Chronic respiratory disease / bronchitis (TODO)\n",
    "    - Cerebral infarction (TODO)\n",
    "\n",
    "See _Estimation of risk factors for COVID-19 mortality - preliminary results_, https://doi.org/10.1101/2020.02.24.20027268"
   ]
  },
  {
   "cell_type": "markdown",
   "metadata": {},
   "source": [
    "## Generic risk factors\n",
    "\n",
    "Look for text that indicates that risk factors are assessed in the paper."
   ]
  },
  {
   "cell_type": "code",
   "execution_count": 38,
   "metadata": {},
   "outputs": [
    {
     "data": {
      "text/html": [
       "<div>\n",
       "        \n",
       "        \n",
       "            <div id=\"c1777841-2fc4-4fab-8d75-ab4a38d7bb09\" class=\"plotly-graph-div\" style=\"height:525px; width:100%;\"></div>\n",
       "            <script type=\"text/javascript\">\n",
       "                require([\"plotly\"], function(Plotly) {\n",
       "                    window.PLOTLYENV=window.PLOTLYENV || {};\n",
       "                    \n",
       "                if (document.getElementById(\"c1777841-2fc4-4fab-8d75-ab4a38d7bb09\")) {\n",
       "                    Plotly.newPlot(\n",
       "                        'c1777841-2fc4-4fab-8d75-ab4a38d7bb09',\n",
       "                        [{\"marker\": {\"color\": \"crimson\", \"size\": 12}, \"mode\": \"markers\", \"name\": \"Count\", \"type\": \"scatter\", \"x\": [0, 0, 1, 1, 1, 2, 3, 5, 8, 9, 11, 11, 13, 20, 41, 48, 58, 74, 91, 93, 146, 195, 195, 246, 289, 335, 345, 357, 378, 568, 850], \"y\": [\"behavioural features\", \"behavioral characteristics\", \"factors which predict\", \"behavioural characteristics\", \"behavioral features\", \"co existing condition\", \"coexisting condition\", \"factors that predict\", \"demographic features\", \"factors predict\", \"risk model\", \"univariable\", \"risk by\", \"underlying condition\", \"prediction model\", \"predictive model\", \"demographic characteristics\", \"comorbidity\", \"univariate\", \"underlying disease\", \"multivariable\", \"regression model\", \"comorbidities\", \"factors associated with\", \"multivariate\", \"clinical characteristics\", \"clinical features\", \"logistic regression\", \"odds ratio\", \"confidence interval\", \"risk factor\"]}],\n",
       "                        {\"template\": {\"data\": {\"bar\": [{\"error_x\": {\"color\": \"#2a3f5f\"}, \"error_y\": {\"color\": \"#2a3f5f\"}, \"marker\": {\"line\": {\"color\": \"#E5ECF6\", \"width\": 0.5}}, \"type\": \"bar\"}], \"barpolar\": [{\"marker\": {\"line\": {\"color\": \"#E5ECF6\", \"width\": 0.5}}, \"type\": \"barpolar\"}], \"carpet\": [{\"aaxis\": {\"endlinecolor\": \"#2a3f5f\", \"gridcolor\": \"white\", \"linecolor\": \"white\", \"minorgridcolor\": \"white\", \"startlinecolor\": \"#2a3f5f\"}, \"baxis\": {\"endlinecolor\": \"#2a3f5f\", \"gridcolor\": \"white\", \"linecolor\": \"white\", \"minorgridcolor\": \"white\", \"startlinecolor\": \"#2a3f5f\"}, \"type\": \"carpet\"}], \"choropleth\": [{\"colorbar\": {\"outlinewidth\": 0, \"ticks\": \"\"}, \"type\": \"choropleth\"}], \"contour\": [{\"colorbar\": {\"outlinewidth\": 0, \"ticks\": \"\"}, \"colorscale\": [[0.0, \"#0d0887\"], [0.1111111111111111, \"#46039f\"], [0.2222222222222222, \"#7201a8\"], [0.3333333333333333, \"#9c179e\"], [0.4444444444444444, \"#bd3786\"], [0.5555555555555556, \"#d8576b\"], [0.6666666666666666, \"#ed7953\"], [0.7777777777777778, \"#fb9f3a\"], [0.8888888888888888, \"#fdca26\"], [1.0, \"#f0f921\"]], \"type\": \"contour\"}], \"contourcarpet\": [{\"colorbar\": {\"outlinewidth\": 0, \"ticks\": \"\"}, \"type\": \"contourcarpet\"}], \"heatmap\": [{\"colorbar\": {\"outlinewidth\": 0, \"ticks\": \"\"}, \"colorscale\": [[0.0, \"#0d0887\"], [0.1111111111111111, \"#46039f\"], [0.2222222222222222, \"#7201a8\"], [0.3333333333333333, \"#9c179e\"], [0.4444444444444444, \"#bd3786\"], [0.5555555555555556, \"#d8576b\"], [0.6666666666666666, \"#ed7953\"], [0.7777777777777778, \"#fb9f3a\"], [0.8888888888888888, \"#fdca26\"], [1.0, \"#f0f921\"]], \"type\": \"heatmap\"}], \"heatmapgl\": [{\"colorbar\": {\"outlinewidth\": 0, \"ticks\": \"\"}, \"colorscale\": [[0.0, \"#0d0887\"], [0.1111111111111111, \"#46039f\"], [0.2222222222222222, \"#7201a8\"], [0.3333333333333333, \"#9c179e\"], [0.4444444444444444, \"#bd3786\"], [0.5555555555555556, \"#d8576b\"], [0.6666666666666666, \"#ed7953\"], [0.7777777777777778, \"#fb9f3a\"], [0.8888888888888888, \"#fdca26\"], [1.0, \"#f0f921\"]], \"type\": \"heatmapgl\"}], \"histogram\": [{\"marker\": {\"colorbar\": {\"outlinewidth\": 0, \"ticks\": \"\"}}, \"type\": \"histogram\"}], \"histogram2d\": [{\"colorbar\": {\"outlinewidth\": 0, \"ticks\": \"\"}, \"colorscale\": [[0.0, \"#0d0887\"], [0.1111111111111111, \"#46039f\"], [0.2222222222222222, \"#7201a8\"], [0.3333333333333333, \"#9c179e\"], [0.4444444444444444, \"#bd3786\"], [0.5555555555555556, \"#d8576b\"], [0.6666666666666666, \"#ed7953\"], [0.7777777777777778, \"#fb9f3a\"], [0.8888888888888888, \"#fdca26\"], [1.0, \"#f0f921\"]], \"type\": \"histogram2d\"}], \"histogram2dcontour\": [{\"colorbar\": {\"outlinewidth\": 0, \"ticks\": \"\"}, \"colorscale\": [[0.0, \"#0d0887\"], [0.1111111111111111, \"#46039f\"], [0.2222222222222222, \"#7201a8\"], [0.3333333333333333, \"#9c179e\"], [0.4444444444444444, \"#bd3786\"], [0.5555555555555556, \"#d8576b\"], [0.6666666666666666, \"#ed7953\"], [0.7777777777777778, \"#fb9f3a\"], [0.8888888888888888, \"#fdca26\"], [1.0, \"#f0f921\"]], \"type\": \"histogram2dcontour\"}], \"mesh3d\": [{\"colorbar\": {\"outlinewidth\": 0, \"ticks\": \"\"}, \"type\": \"mesh3d\"}], \"parcoords\": [{\"line\": {\"colorbar\": {\"outlinewidth\": 0, \"ticks\": \"\"}}, \"type\": \"parcoords\"}], \"pie\": [{\"automargin\": true, \"type\": \"pie\"}], \"scatter\": [{\"marker\": {\"colorbar\": {\"outlinewidth\": 0, \"ticks\": \"\"}}, \"type\": \"scatter\"}], \"scatter3d\": [{\"line\": {\"colorbar\": {\"outlinewidth\": 0, \"ticks\": \"\"}}, \"marker\": {\"colorbar\": {\"outlinewidth\": 0, \"ticks\": \"\"}}, \"type\": \"scatter3d\"}], \"scattercarpet\": [{\"marker\": {\"colorbar\": {\"outlinewidth\": 0, \"ticks\": \"\"}}, \"type\": \"scattercarpet\"}], \"scattergeo\": [{\"marker\": {\"colorbar\": {\"outlinewidth\": 0, \"ticks\": \"\"}}, \"type\": \"scattergeo\"}], \"scattergl\": [{\"marker\": {\"colorbar\": {\"outlinewidth\": 0, \"ticks\": \"\"}}, \"type\": \"scattergl\"}], \"scattermapbox\": [{\"marker\": {\"colorbar\": {\"outlinewidth\": 0, \"ticks\": \"\"}}, \"type\": \"scattermapbox\"}], \"scatterpolar\": [{\"marker\": {\"colorbar\": {\"outlinewidth\": 0, \"ticks\": \"\"}}, \"type\": \"scatterpolar\"}], \"scatterpolargl\": [{\"marker\": {\"colorbar\": {\"outlinewidth\": 0, \"ticks\": \"\"}}, \"type\": \"scatterpolargl\"}], \"scatterternary\": [{\"marker\": {\"colorbar\": {\"outlinewidth\": 0, \"ticks\": \"\"}}, \"type\": \"scatterternary\"}], \"surface\": [{\"colorbar\": {\"outlinewidth\": 0, \"ticks\": \"\"}, \"colorscale\": [[0.0, \"#0d0887\"], [0.1111111111111111, \"#46039f\"], [0.2222222222222222, \"#7201a8\"], [0.3333333333333333, \"#9c179e\"], [0.4444444444444444, \"#bd3786\"], [0.5555555555555556, \"#d8576b\"], [0.6666666666666666, \"#ed7953\"], [0.7777777777777778, \"#fb9f3a\"], [0.8888888888888888, \"#fdca26\"], [1.0, \"#f0f921\"]], \"type\": \"surface\"}], \"table\": [{\"cells\": {\"fill\": {\"color\": \"#EBF0F8\"}, \"line\": {\"color\": \"white\"}}, \"header\": {\"fill\": {\"color\": \"#C8D4E3\"}, \"line\": {\"color\": \"white\"}}, \"type\": \"table\"}]}, \"layout\": {\"annotationdefaults\": {\"arrowcolor\": \"#2a3f5f\", \"arrowhead\": 0, \"arrowwidth\": 1}, \"coloraxis\": {\"colorbar\": {\"outlinewidth\": 0, \"ticks\": \"\"}}, \"colorscale\": {\"diverging\": [[0, \"#8e0152\"], [0.1, \"#c51b7d\"], [0.2, \"#de77ae\"], [0.3, \"#f1b6da\"], [0.4, \"#fde0ef\"], [0.5, \"#f7f7f7\"], [0.6, \"#e6f5d0\"], [0.7, \"#b8e186\"], [0.8, \"#7fbc41\"], [0.9, \"#4d9221\"], [1, \"#276419\"]], \"sequential\": [[0.0, \"#0d0887\"], [0.1111111111111111, \"#46039f\"], [0.2222222222222222, \"#7201a8\"], [0.3333333333333333, \"#9c179e\"], [0.4444444444444444, \"#bd3786\"], [0.5555555555555556, \"#d8576b\"], [0.6666666666666666, \"#ed7953\"], [0.7777777777777778, \"#fb9f3a\"], [0.8888888888888888, \"#fdca26\"], [1.0, \"#f0f921\"]], \"sequentialminus\": [[0.0, \"#0d0887\"], [0.1111111111111111, \"#46039f\"], [0.2222222222222222, \"#7201a8\"], [0.3333333333333333, \"#9c179e\"], [0.4444444444444444, \"#bd3786\"], [0.5555555555555556, \"#d8576b\"], [0.6666666666666666, \"#ed7953\"], [0.7777777777777778, \"#fb9f3a\"], [0.8888888888888888, \"#fdca26\"], [1.0, \"#f0f921\"]]}, \"colorway\": [\"#636efa\", \"#EF553B\", \"#00cc96\", \"#ab63fa\", \"#FFA15A\", \"#19d3f3\", \"#FF6692\", \"#B6E880\", \"#FF97FF\", \"#FECB52\"], \"font\": {\"color\": \"#2a3f5f\"}, \"geo\": {\"bgcolor\": \"white\", \"lakecolor\": \"white\", \"landcolor\": \"#E5ECF6\", \"showlakes\": true, \"showland\": true, \"subunitcolor\": \"white\"}, \"hoverlabel\": {\"align\": \"left\"}, \"hovermode\": \"closest\", \"mapbox\": {\"style\": \"light\"}, \"paper_bgcolor\": \"white\", \"plot_bgcolor\": \"#E5ECF6\", \"polar\": {\"angularaxis\": {\"gridcolor\": \"white\", \"linecolor\": \"white\", \"ticks\": \"\"}, \"bgcolor\": \"#E5ECF6\", \"radialaxis\": {\"gridcolor\": \"white\", \"linecolor\": \"white\", \"ticks\": \"\"}}, \"scene\": {\"xaxis\": {\"backgroundcolor\": \"#E5ECF6\", \"gridcolor\": \"white\", \"gridwidth\": 2, \"linecolor\": \"white\", \"showbackground\": true, \"ticks\": \"\", \"zerolinecolor\": \"white\"}, \"yaxis\": {\"backgroundcolor\": \"#E5ECF6\", \"gridcolor\": \"white\", \"gridwidth\": 2, \"linecolor\": \"white\", \"showbackground\": true, \"ticks\": \"\", \"zerolinecolor\": \"white\"}, \"zaxis\": {\"backgroundcolor\": \"#E5ECF6\", \"gridcolor\": \"white\", \"gridwidth\": 2, \"linecolor\": \"white\", \"showbackground\": true, \"ticks\": \"\", \"zerolinecolor\": \"white\"}}, \"shapedefaults\": {\"line\": {\"color\": \"#2a3f5f\"}}, \"ternary\": {\"aaxis\": {\"gridcolor\": \"white\", \"linecolor\": \"white\", \"ticks\": \"\"}, \"baxis\": {\"gridcolor\": \"white\", \"linecolor\": \"white\", \"ticks\": \"\"}, \"bgcolor\": \"#E5ECF6\", \"caxis\": {\"gridcolor\": \"white\", \"linecolor\": \"white\", \"ticks\": \"\"}}, \"title\": {\"x\": 0.05}, \"xaxis\": {\"automargin\": true, \"gridcolor\": \"white\", \"linecolor\": \"white\", \"ticks\": \"\", \"title\": {\"standoff\": 15}, \"zerolinecolor\": \"white\", \"zerolinewidth\": 2}, \"yaxis\": {\"automargin\": true, \"gridcolor\": \"white\", \"linecolor\": \"white\", \"ticks\": \"\", \"title\": {\"standoff\": 15}, \"zerolinecolor\": \"white\", \"zerolinewidth\": 2}}}, \"title\": {\"text\": \"Count of generic risk factor indicated in title / abstract<br><i>Hover over dots for exact values</i>\"}, \"xaxis\": {\"title\": {\"text\": \"Count\"}}, \"yaxis\": {\"title\": {\"text\": \"Regex\"}}},\n",
       "                        {\"responsive\": true}\n",
       "                    ).then(function(){\n",
       "                            \n",
       "var gd = document.getElementById('c1777841-2fc4-4fab-8d75-ab4a38d7bb09');\n",
       "var x = new MutationObserver(function (mutations, observer) {{\n",
       "        var display = window.getComputedStyle(gd).display;\n",
       "        if (!display || display === 'none') {{\n",
       "            console.log([gd, 'removed!']);\n",
       "            Plotly.purge(gd);\n",
       "            observer.disconnect();\n",
       "        }}\n",
       "}});\n",
       "\n",
       "// Listen for the removal of the full notebook cells\n",
       "var notebookContainer = gd.closest('#notebook-container');\n",
       "if (notebookContainer) {{\n",
       "    x.observe(notebookContainer, {childList: true});\n",
       "}}\n",
       "\n",
       "// Listen for the clearing of the current output cell\n",
       "var outputEl = gd.closest('.output');\n",
       "if (outputEl) {{\n",
       "    x.observe(outputEl, {childList: true});\n",
       "}}\n",
       "\n",
       "                        })\n",
       "                };\n",
       "                });\n",
       "            </script>\n",
       "        </div>"
      ]
     },
     "metadata": {},
     "output_type": "display_data"
    }
   ],
   "source": [
    "risk_factor_synonyms = ['risk factor',\n",
    "                        'risk model',\n",
    "                        'risk by',\n",
    "                        'comorbidity',\n",
    "                        'comorbidities',\n",
    "                        'coexisting condition',\n",
    "                        'co existing condition',\n",
    "                        'clinical characteristics',\n",
    "                        'clinical features',\n",
    "                        'demographic characteristics',\n",
    "                        'demographic features',\n",
    "                        'behavioural characteristics',\n",
    "                        'behavioural features',\n",
    "                        'behavioral characteristics',\n",
    "                        'behavioral features',\n",
    "                        'predictive model',\n",
    "                        'prediction model',\n",
    "                        'univariate', # implies analysis of risk factors\n",
    "                        'multivariate', # implies analysis of risk factors\n",
    "                        'multivariable',\n",
    "                        'univariable',\n",
    "                        'odds ratio', # typically mentioned in model report\n",
    "                        'confidence interval', # typically mentioned in model report\n",
    "                        'logistic regression',\n",
    "                        'regression model',\n",
    "                        'factors predict',\n",
    "                        'factors which predict',\n",
    "                        'factors that predict',\n",
    "                        'factors associated with',\n",
    "                        'underlying disease',\n",
    "                        'underlying condition']\n",
    "df, risk_generic_counts = count_and_tag(df, risk_factor_synonyms, 'risk_generic')\n",
    "dotplot(risk_generic_counts,\n",
    "        'Count of generic risk factor indicated in title / abstract')"
   ]
  },
  {
   "cell_type": "code",
   "execution_count": 39,
   "metadata": {},
   "outputs": [
    {
     "data": {
      "text/plain": [
       "risk factor                    850\n",
       "confidence interval            568\n",
       "odds ratio                     378\n",
       "logistic regression            357\n",
       "clinical features              345\n",
       "clinical characteristics       335\n",
       "multivariate                   289\n",
       "factors associated with        246\n",
       "comorbidities                  195\n",
       "regression model               195\n",
       "multivariable                  146\n",
       "underlying disease              93\n",
       "univariate                      91\n",
       "comorbidity                     74\n",
       "demographic characteristics     58\n",
       "predictive model                48\n",
       "prediction model                41\n",
       "underlying condition            20\n",
       "risk by                         13\n",
       "univariable                     11\n",
       "risk model                      11\n",
       "factors predict                  9\n",
       "demographic features             8\n",
       "factors that predict             5\n",
       "coexisting condition             3\n",
       "co existing condition            2\n",
       "behavioral features              1\n",
       "behavioural characteristics      1\n",
       "factors which predict            1\n",
       "behavioral characteristics       0\n",
       "behavioural features             0\n",
       "dtype: int64"
      ]
     },
     "execution_count": 39,
     "metadata": {},
     "output_type": "execute_result"
    }
   ],
   "source": [
    "risk_generic_counts.sort_values(ascending=False)"
   ]
  },
  {
   "cell_type": "code",
   "execution_count": 40,
   "metadata": {},
   "outputs": [
    {
     "name": "stdout",
     "output_type": "stream",
     "text": [
      "There are 355 papers on Covid-19 and generic risk factors.\n"
     ]
    }
   ],
   "source": [
    "n = (df.tag_disease_covid19 & df.tag_risk_generic).sum()\n",
    "print(f'There are {n} papers on Covid-19 and generic risk factors.')"
   ]
  },
  {
   "cell_type": "markdown",
   "metadata": {},
   "source": [
    "Printing out 5 examples, and key text from the Abstract."
   ]
  },
  {
   "cell_type": "code",
   "execution_count": 41,
   "metadata": {},
   "outputs": [
    {
     "name": "stdout",
     "output_type": "stream",
     "text": [
      "1 of 355\n",
      "Real time estimation of the risk of death from novel coronavirus (2019-nCoV) infection: Inference using exported cases\n",
      "[ http://doi.org/10.1101/2020.01.29.20019547 ]\n",
      "    \" estimated at 5433 cases (95% confidence interval (CI): 3883, 7160) and 17780 cases (95% CI: 9646, 28724), respectively. The latest estimates of the cCFR were 4.6% (95% CI: 3.1-6.6) for scenario 1 and 7.7% (95% CI: 4.9-11.3%) for scenario 2, respectively. The basic reproduction number was estimated \"\n",
      "---\n",
      "2 of 355\n",
      "Transmission and epidemiological characteristics of Severe Acute Respiratory Syndrome Coronavirus 2 (SARS-CoV-2) infected Pneumonia (COVID-19): preliminary evidence obtained in comparison with 2003-SARS\n",
      "[ http://doi.org/10.1101/2020.01.30.20019836 ]\n",
      "    \"ed separately and compared. A multivariate function model was constructed based on the confirmed COVID-19 case data. Results: The growth rate of new cases and deaths of COVID-19 were significantly faster than those of 2003-SARS. The number of confirmed cases in Wuhan and other inland areas both show\"\n",
      "---\n",
      "3 of 355\n",
      "Integrative Bioinformatics Analysis Provides Insight into the Molecular Mechanisms of 2019-nCoV\n",
      "[ http://doi.org/10.1101/2020.02.03.20020206 ]\n",
      "    \"populations and patients with underlying diseases was not significantly different, suggesting relatively similar susceptibility, which was consistent with current clinical observations. Moreover, based on the expression of ACE2 in smoking individuals, we inferred that long-term smoking might be a ri\"\n",
      "---\n",
      "4 of 355\n",
      "Using predicted imports of 2019-nCoV cases to determine locations that may not be identifying all imported cases\n",
      "[ http://doi.org/10.1101/2020.02.04.20020495 ]\n",
      "    \"nd using a generalized linear regression model we identify locations which may potentially have undetected internationally imported cases.\"\n",
      "---\n",
      "5 of 355\n",
      "Clinical characteristics of 2019 novel coronavirus infection in China\n",
      "[ http://doi.org/10.1101/2020.02.06.20020974 ]\n",
      "    \"a. We sought to delineate the clinical characteristics of these cases. Methods: We extracted the data on 1,099 patients with laboratory-confirmed 2019-nCoV ARD from 552 hospitals in 31 provinces/provincial municipalities through January 29th, 2020. Results: The median age was 47.0 years, and 41.90% \"\n",
      "---\n"
     ]
    }
   ],
   "source": [
    "print_key_phrases(df[df.tag_disease_covid19 & df.tag_risk_generic],\n",
    "                  risk_factor_synonyms)"
   ]
  },
  {
   "cell_type": "markdown",
   "metadata": {},
   "source": [
    "## Demographic risk factors\n",
    "\n",
    "## Age"
   ]
  },
  {
   "cell_type": "code",
   "execution_count": 42,
   "metadata": {},
   "outputs": [
    {
     "data": {
      "text/html": [
       "<div>\n",
       "        \n",
       "        \n",
       "            <div id=\"281198fe-930c-4d87-b8c8-6976c3851307\" class=\"plotly-graph-div\" style=\"height:525px; width:100%;\"></div>\n",
       "            <script type=\"text/javascript\">\n",
       "                require([\"plotly\"], function(Plotly) {\n",
       "                    window.PLOTLYENV=window.PLOTLYENV || {};\n",
       "                    \n",
       "                if (document.getElementById(\"281198fe-930c-4d87-b8c8-6976c3851307\")) {\n",
       "                    Plotly.newPlot(\n",
       "                        '281198fe-930c-4d87-b8c8-6976c3851307',\n",
       "                        [{\"marker\": {\"color\": \"crimson\", \"size\": 12}, \"mode\": \"markers\", \"name\": \"Count\", \"type\": \"scatter\", \"x\": [6, 36, 205, 231, 374, 705, 1144, 1755, 1913, 2492], \"y\": [\"teenager\", \"average age\", \"mean age\", \"median age\", \"elderly\", \"\\\\baged\\\\b\", \"young\", \"adult\", \"\\\\bold\", \"child\"]}],\n",
       "                        {\"template\": {\"data\": {\"bar\": [{\"error_x\": {\"color\": \"#2a3f5f\"}, \"error_y\": {\"color\": \"#2a3f5f\"}, \"marker\": {\"line\": {\"color\": \"#E5ECF6\", \"width\": 0.5}}, \"type\": \"bar\"}], \"barpolar\": [{\"marker\": {\"line\": {\"color\": \"#E5ECF6\", \"width\": 0.5}}, \"type\": \"barpolar\"}], \"carpet\": [{\"aaxis\": {\"endlinecolor\": \"#2a3f5f\", \"gridcolor\": \"white\", \"linecolor\": \"white\", \"minorgridcolor\": \"white\", \"startlinecolor\": \"#2a3f5f\"}, \"baxis\": {\"endlinecolor\": \"#2a3f5f\", \"gridcolor\": \"white\", \"linecolor\": \"white\", \"minorgridcolor\": \"white\", \"startlinecolor\": \"#2a3f5f\"}, \"type\": \"carpet\"}], \"choropleth\": [{\"colorbar\": {\"outlinewidth\": 0, \"ticks\": \"\"}, \"type\": \"choropleth\"}], \"contour\": [{\"colorbar\": {\"outlinewidth\": 0, \"ticks\": \"\"}, \"colorscale\": [[0.0, \"#0d0887\"], [0.1111111111111111, \"#46039f\"], [0.2222222222222222, \"#7201a8\"], [0.3333333333333333, \"#9c179e\"], [0.4444444444444444, \"#bd3786\"], [0.5555555555555556, \"#d8576b\"], [0.6666666666666666, \"#ed7953\"], [0.7777777777777778, \"#fb9f3a\"], [0.8888888888888888, \"#fdca26\"], [1.0, \"#f0f921\"]], \"type\": \"contour\"}], \"contourcarpet\": [{\"colorbar\": {\"outlinewidth\": 0, \"ticks\": \"\"}, \"type\": \"contourcarpet\"}], \"heatmap\": [{\"colorbar\": {\"outlinewidth\": 0, \"ticks\": \"\"}, \"colorscale\": [[0.0, \"#0d0887\"], [0.1111111111111111, \"#46039f\"], [0.2222222222222222, \"#7201a8\"], [0.3333333333333333, \"#9c179e\"], [0.4444444444444444, \"#bd3786\"], [0.5555555555555556, \"#d8576b\"], [0.6666666666666666, \"#ed7953\"], [0.7777777777777778, \"#fb9f3a\"], [0.8888888888888888, \"#fdca26\"], [1.0, \"#f0f921\"]], \"type\": \"heatmap\"}], \"heatmapgl\": [{\"colorbar\": {\"outlinewidth\": 0, \"ticks\": \"\"}, \"colorscale\": [[0.0, \"#0d0887\"], [0.1111111111111111, \"#46039f\"], [0.2222222222222222, \"#7201a8\"], [0.3333333333333333, \"#9c179e\"], [0.4444444444444444, \"#bd3786\"], [0.5555555555555556, \"#d8576b\"], [0.6666666666666666, \"#ed7953\"], [0.7777777777777778, \"#fb9f3a\"], [0.8888888888888888, \"#fdca26\"], [1.0, \"#f0f921\"]], \"type\": \"heatmapgl\"}], \"histogram\": [{\"marker\": {\"colorbar\": {\"outlinewidth\": 0, \"ticks\": \"\"}}, \"type\": \"histogram\"}], \"histogram2d\": [{\"colorbar\": {\"outlinewidth\": 0, \"ticks\": \"\"}, \"colorscale\": [[0.0, \"#0d0887\"], [0.1111111111111111, \"#46039f\"], [0.2222222222222222, \"#7201a8\"], [0.3333333333333333, \"#9c179e\"], [0.4444444444444444, \"#bd3786\"], [0.5555555555555556, \"#d8576b\"], [0.6666666666666666, \"#ed7953\"], [0.7777777777777778, \"#fb9f3a\"], [0.8888888888888888, \"#fdca26\"], [1.0, \"#f0f921\"]], \"type\": \"histogram2d\"}], \"histogram2dcontour\": [{\"colorbar\": {\"outlinewidth\": 0, \"ticks\": \"\"}, \"colorscale\": [[0.0, \"#0d0887\"], [0.1111111111111111, \"#46039f\"], [0.2222222222222222, \"#7201a8\"], [0.3333333333333333, \"#9c179e\"], [0.4444444444444444, \"#bd3786\"], [0.5555555555555556, \"#d8576b\"], [0.6666666666666666, \"#ed7953\"], [0.7777777777777778, \"#fb9f3a\"], [0.8888888888888888, \"#fdca26\"], [1.0, \"#f0f921\"]], \"type\": \"histogram2dcontour\"}], \"mesh3d\": [{\"colorbar\": {\"outlinewidth\": 0, \"ticks\": \"\"}, \"type\": \"mesh3d\"}], \"parcoords\": [{\"line\": {\"colorbar\": {\"outlinewidth\": 0, \"ticks\": \"\"}}, \"type\": \"parcoords\"}], \"pie\": [{\"automargin\": true, \"type\": \"pie\"}], \"scatter\": [{\"marker\": {\"colorbar\": {\"outlinewidth\": 0, \"ticks\": \"\"}}, \"type\": \"scatter\"}], \"scatter3d\": [{\"line\": {\"colorbar\": {\"outlinewidth\": 0, \"ticks\": \"\"}}, \"marker\": {\"colorbar\": {\"outlinewidth\": 0, \"ticks\": \"\"}}, \"type\": \"scatter3d\"}], \"scattercarpet\": [{\"marker\": {\"colorbar\": {\"outlinewidth\": 0, \"ticks\": \"\"}}, \"type\": \"scattercarpet\"}], \"scattergeo\": [{\"marker\": {\"colorbar\": {\"outlinewidth\": 0, \"ticks\": \"\"}}, \"type\": \"scattergeo\"}], \"scattergl\": [{\"marker\": {\"colorbar\": {\"outlinewidth\": 0, \"ticks\": \"\"}}, \"type\": \"scattergl\"}], \"scattermapbox\": [{\"marker\": {\"colorbar\": {\"outlinewidth\": 0, \"ticks\": \"\"}}, \"type\": \"scattermapbox\"}], \"scatterpolar\": [{\"marker\": {\"colorbar\": {\"outlinewidth\": 0, \"ticks\": \"\"}}, \"type\": \"scatterpolar\"}], \"scatterpolargl\": [{\"marker\": {\"colorbar\": {\"outlinewidth\": 0, \"ticks\": \"\"}}, \"type\": \"scatterpolargl\"}], \"scatterternary\": [{\"marker\": {\"colorbar\": {\"outlinewidth\": 0, \"ticks\": \"\"}}, \"type\": \"scatterternary\"}], \"surface\": [{\"colorbar\": {\"outlinewidth\": 0, \"ticks\": \"\"}, \"colorscale\": [[0.0, \"#0d0887\"], [0.1111111111111111, \"#46039f\"], [0.2222222222222222, \"#7201a8\"], [0.3333333333333333, \"#9c179e\"], [0.4444444444444444, \"#bd3786\"], [0.5555555555555556, \"#d8576b\"], [0.6666666666666666, \"#ed7953\"], [0.7777777777777778, \"#fb9f3a\"], [0.8888888888888888, \"#fdca26\"], [1.0, \"#f0f921\"]], \"type\": \"surface\"}], \"table\": [{\"cells\": {\"fill\": {\"color\": \"#EBF0F8\"}, \"line\": {\"color\": \"white\"}}, \"header\": {\"fill\": {\"color\": \"#C8D4E3\"}, \"line\": {\"color\": \"white\"}}, \"type\": \"table\"}]}, \"layout\": {\"annotationdefaults\": {\"arrowcolor\": \"#2a3f5f\", \"arrowhead\": 0, \"arrowwidth\": 1}, \"coloraxis\": {\"colorbar\": {\"outlinewidth\": 0, \"ticks\": \"\"}}, \"colorscale\": {\"diverging\": [[0, \"#8e0152\"], [0.1, \"#c51b7d\"], [0.2, \"#de77ae\"], [0.3, \"#f1b6da\"], [0.4, \"#fde0ef\"], [0.5, \"#f7f7f7\"], [0.6, \"#e6f5d0\"], [0.7, \"#b8e186\"], [0.8, \"#7fbc41\"], [0.9, \"#4d9221\"], [1, \"#276419\"]], \"sequential\": [[0.0, \"#0d0887\"], [0.1111111111111111, \"#46039f\"], [0.2222222222222222, \"#7201a8\"], [0.3333333333333333, \"#9c179e\"], [0.4444444444444444, \"#bd3786\"], [0.5555555555555556, \"#d8576b\"], [0.6666666666666666, \"#ed7953\"], [0.7777777777777778, \"#fb9f3a\"], [0.8888888888888888, \"#fdca26\"], [1.0, \"#f0f921\"]], \"sequentialminus\": [[0.0, \"#0d0887\"], [0.1111111111111111, \"#46039f\"], [0.2222222222222222, \"#7201a8\"], [0.3333333333333333, \"#9c179e\"], [0.4444444444444444, \"#bd3786\"], [0.5555555555555556, \"#d8576b\"], [0.6666666666666666, \"#ed7953\"], [0.7777777777777778, \"#fb9f3a\"], [0.8888888888888888, \"#fdca26\"], [1.0, \"#f0f921\"]]}, \"colorway\": [\"#636efa\", \"#EF553B\", \"#00cc96\", \"#ab63fa\", \"#FFA15A\", \"#19d3f3\", \"#FF6692\", \"#B6E880\", \"#FF97FF\", \"#FECB52\"], \"font\": {\"color\": \"#2a3f5f\"}, \"geo\": {\"bgcolor\": \"white\", \"lakecolor\": \"white\", \"landcolor\": \"#E5ECF6\", \"showlakes\": true, \"showland\": true, \"subunitcolor\": \"white\"}, \"hoverlabel\": {\"align\": \"left\"}, \"hovermode\": \"closest\", \"mapbox\": {\"style\": \"light\"}, \"paper_bgcolor\": \"white\", \"plot_bgcolor\": \"#E5ECF6\", \"polar\": {\"angularaxis\": {\"gridcolor\": \"white\", \"linecolor\": \"white\", \"ticks\": \"\"}, \"bgcolor\": \"#E5ECF6\", \"radialaxis\": {\"gridcolor\": \"white\", \"linecolor\": \"white\", \"ticks\": \"\"}}, \"scene\": {\"xaxis\": {\"backgroundcolor\": \"#E5ECF6\", \"gridcolor\": \"white\", \"gridwidth\": 2, \"linecolor\": \"white\", \"showbackground\": true, \"ticks\": \"\", \"zerolinecolor\": \"white\"}, \"yaxis\": {\"backgroundcolor\": \"#E5ECF6\", \"gridcolor\": \"white\", \"gridwidth\": 2, \"linecolor\": \"white\", \"showbackground\": true, \"ticks\": \"\", \"zerolinecolor\": \"white\"}, \"zaxis\": {\"backgroundcolor\": \"#E5ECF6\", \"gridcolor\": \"white\", \"gridwidth\": 2, \"linecolor\": \"white\", \"showbackground\": true, \"ticks\": \"\", \"zerolinecolor\": \"white\"}}, \"shapedefaults\": {\"line\": {\"color\": \"#2a3f5f\"}}, \"ternary\": {\"aaxis\": {\"gridcolor\": \"white\", \"linecolor\": \"white\", \"ticks\": \"\"}, \"baxis\": {\"gridcolor\": \"white\", \"linecolor\": \"white\", \"ticks\": \"\"}, \"bgcolor\": \"#E5ECF6\", \"caxis\": {\"gridcolor\": \"white\", \"linecolor\": \"white\", \"ticks\": \"\"}}, \"title\": {\"x\": 0.05}, \"xaxis\": {\"automargin\": true, \"gridcolor\": \"white\", \"linecolor\": \"white\", \"ticks\": \"\", \"title\": {\"standoff\": 15}, \"zerolinecolor\": \"white\", \"zerolinewidth\": 2}, \"yaxis\": {\"automargin\": true, \"gridcolor\": \"white\", \"linecolor\": \"white\", \"ticks\": \"\", \"title\": {\"standoff\": 15}, \"zerolinecolor\": \"white\", \"zerolinewidth\": 2}}}, \"title\": {\"text\": \"Age synonyms in title / abstract metadata<br><i>Hover over dots for exact values</i>\"}, \"xaxis\": {\"title\": {\"text\": \"Count\"}}, \"yaxis\": {\"title\": {\"text\": \"Regex\"}}},\n",
       "                        {\"responsive\": true}\n",
       "                    ).then(function(){\n",
       "                            \n",
       "var gd = document.getElementById('281198fe-930c-4d87-b8c8-6976c3851307');\n",
       "var x = new MutationObserver(function (mutations, observer) {{\n",
       "        var display = window.getComputedStyle(gd).display;\n",
       "        if (!display || display === 'none') {{\n",
       "            console.log([gd, 'removed!']);\n",
       "            Plotly.purge(gd);\n",
       "            observer.disconnect();\n",
       "        }}\n",
       "}});\n",
       "\n",
       "// Listen for the removal of the full notebook cells\n",
       "var notebookContainer = gd.closest('#notebook-container');\n",
       "if (notebookContainer) {{\n",
       "    x.observe(notebookContainer, {childList: true});\n",
       "}}\n",
       "\n",
       "// Listen for the clearing of the current output cell\n",
       "var outputEl = gd.closest('.output');\n",
       "if (outputEl) {{\n",
       "    x.observe(outputEl, {childList: true});\n",
       "}}\n",
       "\n",
       "                        })\n",
       "                };\n",
       "                });\n",
       "            </script>\n",
       "        </div>"
      ]
     },
     "metadata": {},
     "output_type": "display_data"
    }
   ],
   "source": [
    "age_synonyms = ['median age',\n",
    "                'mean age',\n",
    "                'average age',\n",
    "                'elderly',\n",
    "                r'\\baged\\b',\n",
    "                r'\\bold',\n",
    "                'young',\n",
    "                'teenager',\n",
    "                'adult',\n",
    "                'child'\n",
    "               ]\n",
    "df, age_counts = count_and_tag(df, age_synonyms, 'risk_age')\n",
    "dotplot(age_counts, 'Age synonyms in title / abstract metadata')"
   ]
  },
  {
   "cell_type": "code",
   "execution_count": 43,
   "metadata": {},
   "outputs": [
    {
     "data": {
      "text/plain": [
       "child          2492\n",
       "\\bold          1913\n",
       "adult          1755\n",
       "young          1144\n",
       "\\baged\\b        705\n",
       "elderly         374\n",
       "median age      231\n",
       "mean age        205\n",
       "average age      36\n",
       "teenager          6\n",
       "dtype: int64"
      ]
     },
     "execution_count": 43,
     "metadata": {},
     "output_type": "execute_result"
    }
   ],
   "source": [
    "age_counts.sort_values(ascending=False)"
   ]
  },
  {
   "cell_type": "code",
   "execution_count": 44,
   "metadata": {},
   "outputs": [
    {
     "name": "stdout",
     "output_type": "stream",
     "text": [
      "There are 352 papers on Covid-19 and age.\n"
     ]
    }
   ],
   "source": [
    "n = (df.tag_disease_covid19 & df.tag_risk_age).sum()\n",
    "print(f'There are {n} papers on Covid-19 and age.')"
   ]
  },
  {
   "cell_type": "markdown",
   "metadata": {},
   "source": [
    "## Sex\n",
    "\n",
    "e.g. _Sex difference and smoking predisposition in patients with COVID-19_, https://doi.org/10.1016/S2213-2600(20)30117-X"
   ]
  },
  {
   "cell_type": "code",
   "execution_count": 45,
   "metadata": {},
   "outputs": [
    {
     "data": {
      "text/html": [
       "<div>\n",
       "        \n",
       "        \n",
       "            <div id=\"1b6fedac-58b3-4619-bab1-7a2b086a9ef4\" class=\"plotly-graph-div\" style=\"height:525px; width:100%;\"></div>\n",
       "            <script type=\"text/javascript\">\n",
       "                require([\"plotly\"], function(Plotly) {\n",
       "                    window.PLOTLYENV=window.PLOTLYENV || {};\n",
       "                    \n",
       "                if (document.getElementById(\"1b6fedac-58b3-4619-bab1-7a2b086a9ef4\")) {\n",
       "                    Plotly.newPlot(\n",
       "                        '1b6fedac-58b3-4619-bab1-7a2b086a9ef4',\n",
       "                        [{\"marker\": {\"color\": \"crimson\", \"size\": 12}, \"mode\": \"markers\", \"name\": \"Count\", \"type\": \"scatter\", \"x\": [198, 231, 251, 254, 375, 471, 494, 594], \"y\": [\"\\\\bmen\\\\b\", \"\\\\bfemales\\\\b\", \"gender\", \"\\\\bmales\\\\b\", \"\\\\bwomen\\\\b\", \"\\\\bfemale\\\\b\", \"sex\", \"\\\\bmale\\\\b\"]}],\n",
       "                        {\"template\": {\"data\": {\"bar\": [{\"error_x\": {\"color\": \"#2a3f5f\"}, \"error_y\": {\"color\": \"#2a3f5f\"}, \"marker\": {\"line\": {\"color\": \"#E5ECF6\", \"width\": 0.5}}, \"type\": \"bar\"}], \"barpolar\": [{\"marker\": {\"line\": {\"color\": \"#E5ECF6\", \"width\": 0.5}}, \"type\": \"barpolar\"}], \"carpet\": [{\"aaxis\": {\"endlinecolor\": \"#2a3f5f\", \"gridcolor\": \"white\", \"linecolor\": \"white\", \"minorgridcolor\": \"white\", \"startlinecolor\": \"#2a3f5f\"}, \"baxis\": {\"endlinecolor\": \"#2a3f5f\", \"gridcolor\": \"white\", \"linecolor\": \"white\", \"minorgridcolor\": \"white\", \"startlinecolor\": \"#2a3f5f\"}, \"type\": \"carpet\"}], \"choropleth\": [{\"colorbar\": {\"outlinewidth\": 0, \"ticks\": \"\"}, \"type\": \"choropleth\"}], \"contour\": [{\"colorbar\": {\"outlinewidth\": 0, \"ticks\": \"\"}, \"colorscale\": [[0.0, \"#0d0887\"], [0.1111111111111111, \"#46039f\"], [0.2222222222222222, \"#7201a8\"], [0.3333333333333333, \"#9c179e\"], [0.4444444444444444, \"#bd3786\"], [0.5555555555555556, \"#d8576b\"], [0.6666666666666666, \"#ed7953\"], [0.7777777777777778, \"#fb9f3a\"], [0.8888888888888888, \"#fdca26\"], [1.0, \"#f0f921\"]], \"type\": \"contour\"}], \"contourcarpet\": [{\"colorbar\": {\"outlinewidth\": 0, \"ticks\": \"\"}, \"type\": \"contourcarpet\"}], \"heatmap\": [{\"colorbar\": {\"outlinewidth\": 0, \"ticks\": \"\"}, \"colorscale\": [[0.0, \"#0d0887\"], [0.1111111111111111, \"#46039f\"], [0.2222222222222222, \"#7201a8\"], [0.3333333333333333, \"#9c179e\"], [0.4444444444444444, \"#bd3786\"], [0.5555555555555556, \"#d8576b\"], [0.6666666666666666, \"#ed7953\"], [0.7777777777777778, \"#fb9f3a\"], [0.8888888888888888, \"#fdca26\"], [1.0, \"#f0f921\"]], \"type\": \"heatmap\"}], \"heatmapgl\": [{\"colorbar\": {\"outlinewidth\": 0, \"ticks\": \"\"}, \"colorscale\": [[0.0, \"#0d0887\"], [0.1111111111111111, \"#46039f\"], [0.2222222222222222, \"#7201a8\"], [0.3333333333333333, \"#9c179e\"], [0.4444444444444444, \"#bd3786\"], [0.5555555555555556, \"#d8576b\"], [0.6666666666666666, \"#ed7953\"], [0.7777777777777778, \"#fb9f3a\"], [0.8888888888888888, \"#fdca26\"], [1.0, \"#f0f921\"]], \"type\": \"heatmapgl\"}], \"histogram\": [{\"marker\": {\"colorbar\": {\"outlinewidth\": 0, \"ticks\": \"\"}}, \"type\": \"histogram\"}], \"histogram2d\": [{\"colorbar\": {\"outlinewidth\": 0, \"ticks\": \"\"}, \"colorscale\": [[0.0, \"#0d0887\"], [0.1111111111111111, \"#46039f\"], [0.2222222222222222, \"#7201a8\"], [0.3333333333333333, \"#9c179e\"], [0.4444444444444444, \"#bd3786\"], [0.5555555555555556, \"#d8576b\"], [0.6666666666666666, \"#ed7953\"], [0.7777777777777778, \"#fb9f3a\"], [0.8888888888888888, \"#fdca26\"], [1.0, \"#f0f921\"]], \"type\": \"histogram2d\"}], \"histogram2dcontour\": [{\"colorbar\": {\"outlinewidth\": 0, \"ticks\": \"\"}, \"colorscale\": [[0.0, \"#0d0887\"], [0.1111111111111111, \"#46039f\"], [0.2222222222222222, \"#7201a8\"], [0.3333333333333333, \"#9c179e\"], [0.4444444444444444, \"#bd3786\"], [0.5555555555555556, \"#d8576b\"], [0.6666666666666666, \"#ed7953\"], [0.7777777777777778, \"#fb9f3a\"], [0.8888888888888888, \"#fdca26\"], [1.0, \"#f0f921\"]], \"type\": \"histogram2dcontour\"}], \"mesh3d\": [{\"colorbar\": {\"outlinewidth\": 0, \"ticks\": \"\"}, \"type\": \"mesh3d\"}], \"parcoords\": [{\"line\": {\"colorbar\": {\"outlinewidth\": 0, \"ticks\": \"\"}}, \"type\": \"parcoords\"}], \"pie\": [{\"automargin\": true, \"type\": \"pie\"}], \"scatter\": [{\"marker\": {\"colorbar\": {\"outlinewidth\": 0, \"ticks\": \"\"}}, \"type\": \"scatter\"}], \"scatter3d\": [{\"line\": {\"colorbar\": {\"outlinewidth\": 0, \"ticks\": \"\"}}, \"marker\": {\"colorbar\": {\"outlinewidth\": 0, \"ticks\": \"\"}}, \"type\": \"scatter3d\"}], \"scattercarpet\": [{\"marker\": {\"colorbar\": {\"outlinewidth\": 0, \"ticks\": \"\"}}, \"type\": \"scattercarpet\"}], \"scattergeo\": [{\"marker\": {\"colorbar\": {\"outlinewidth\": 0, \"ticks\": \"\"}}, \"type\": \"scattergeo\"}], \"scattergl\": [{\"marker\": {\"colorbar\": {\"outlinewidth\": 0, \"ticks\": \"\"}}, \"type\": \"scattergl\"}], \"scattermapbox\": [{\"marker\": {\"colorbar\": {\"outlinewidth\": 0, \"ticks\": \"\"}}, \"type\": \"scattermapbox\"}], \"scatterpolar\": [{\"marker\": {\"colorbar\": {\"outlinewidth\": 0, \"ticks\": \"\"}}, \"type\": \"scatterpolar\"}], \"scatterpolargl\": [{\"marker\": {\"colorbar\": {\"outlinewidth\": 0, \"ticks\": \"\"}}, \"type\": \"scatterpolargl\"}], \"scatterternary\": [{\"marker\": {\"colorbar\": {\"outlinewidth\": 0, \"ticks\": \"\"}}, \"type\": \"scatterternary\"}], \"surface\": [{\"colorbar\": {\"outlinewidth\": 0, \"ticks\": \"\"}, \"colorscale\": [[0.0, \"#0d0887\"], [0.1111111111111111, \"#46039f\"], [0.2222222222222222, \"#7201a8\"], [0.3333333333333333, \"#9c179e\"], [0.4444444444444444, \"#bd3786\"], [0.5555555555555556, \"#d8576b\"], [0.6666666666666666, \"#ed7953\"], [0.7777777777777778, \"#fb9f3a\"], [0.8888888888888888, \"#fdca26\"], [1.0, \"#f0f921\"]], \"type\": \"surface\"}], \"table\": [{\"cells\": {\"fill\": {\"color\": \"#EBF0F8\"}, \"line\": {\"color\": \"white\"}}, \"header\": {\"fill\": {\"color\": \"#C8D4E3\"}, \"line\": {\"color\": \"white\"}}, \"type\": \"table\"}]}, \"layout\": {\"annotationdefaults\": {\"arrowcolor\": \"#2a3f5f\", \"arrowhead\": 0, \"arrowwidth\": 1}, \"coloraxis\": {\"colorbar\": {\"outlinewidth\": 0, \"ticks\": \"\"}}, \"colorscale\": {\"diverging\": [[0, \"#8e0152\"], [0.1, \"#c51b7d\"], [0.2, \"#de77ae\"], [0.3, \"#f1b6da\"], [0.4, \"#fde0ef\"], [0.5, \"#f7f7f7\"], [0.6, \"#e6f5d0\"], [0.7, \"#b8e186\"], [0.8, \"#7fbc41\"], [0.9, \"#4d9221\"], [1, \"#276419\"]], \"sequential\": [[0.0, \"#0d0887\"], [0.1111111111111111, \"#46039f\"], [0.2222222222222222, \"#7201a8\"], [0.3333333333333333, \"#9c179e\"], [0.4444444444444444, \"#bd3786\"], [0.5555555555555556, \"#d8576b\"], [0.6666666666666666, \"#ed7953\"], [0.7777777777777778, \"#fb9f3a\"], [0.8888888888888888, \"#fdca26\"], [1.0, \"#f0f921\"]], \"sequentialminus\": [[0.0, \"#0d0887\"], [0.1111111111111111, \"#46039f\"], [0.2222222222222222, \"#7201a8\"], [0.3333333333333333, \"#9c179e\"], [0.4444444444444444, \"#bd3786\"], [0.5555555555555556, \"#d8576b\"], [0.6666666666666666, \"#ed7953\"], [0.7777777777777778, \"#fb9f3a\"], [0.8888888888888888, \"#fdca26\"], [1.0, \"#f0f921\"]]}, \"colorway\": [\"#636efa\", \"#EF553B\", \"#00cc96\", \"#ab63fa\", \"#FFA15A\", \"#19d3f3\", \"#FF6692\", \"#B6E880\", \"#FF97FF\", \"#FECB52\"], \"font\": {\"color\": \"#2a3f5f\"}, \"geo\": {\"bgcolor\": \"white\", \"lakecolor\": \"white\", \"landcolor\": \"#E5ECF6\", \"showlakes\": true, \"showland\": true, \"subunitcolor\": \"white\"}, \"hoverlabel\": {\"align\": \"left\"}, \"hovermode\": \"closest\", \"mapbox\": {\"style\": \"light\"}, \"paper_bgcolor\": \"white\", \"plot_bgcolor\": \"#E5ECF6\", \"polar\": {\"angularaxis\": {\"gridcolor\": \"white\", \"linecolor\": \"white\", \"ticks\": \"\"}, \"bgcolor\": \"#E5ECF6\", \"radialaxis\": {\"gridcolor\": \"white\", \"linecolor\": \"white\", \"ticks\": \"\"}}, \"scene\": {\"xaxis\": {\"backgroundcolor\": \"#E5ECF6\", \"gridcolor\": \"white\", \"gridwidth\": 2, \"linecolor\": \"white\", \"showbackground\": true, \"ticks\": \"\", \"zerolinecolor\": \"white\"}, \"yaxis\": {\"backgroundcolor\": \"#E5ECF6\", \"gridcolor\": \"white\", \"gridwidth\": 2, \"linecolor\": \"white\", \"showbackground\": true, \"ticks\": \"\", \"zerolinecolor\": \"white\"}, \"zaxis\": {\"backgroundcolor\": \"#E5ECF6\", \"gridcolor\": \"white\", \"gridwidth\": 2, \"linecolor\": \"white\", \"showbackground\": true, \"ticks\": \"\", \"zerolinecolor\": \"white\"}}, \"shapedefaults\": {\"line\": {\"color\": \"#2a3f5f\"}}, \"ternary\": {\"aaxis\": {\"gridcolor\": \"white\", \"linecolor\": \"white\", \"ticks\": \"\"}, \"baxis\": {\"gridcolor\": \"white\", \"linecolor\": \"white\", \"ticks\": \"\"}, \"bgcolor\": \"#E5ECF6\", \"caxis\": {\"gridcolor\": \"white\", \"linecolor\": \"white\", \"ticks\": \"\"}}, \"title\": {\"x\": 0.05}, \"xaxis\": {\"automargin\": true, \"gridcolor\": \"white\", \"linecolor\": \"white\", \"ticks\": \"\", \"title\": {\"standoff\": 15}, \"zerolinecolor\": \"white\", \"zerolinewidth\": 2}, \"yaxis\": {\"automargin\": true, \"gridcolor\": \"white\", \"linecolor\": \"white\", \"ticks\": \"\", \"title\": {\"standoff\": 15}, \"zerolinecolor\": \"white\", \"zerolinewidth\": 2}}}, \"title\": {\"text\": \"Sex / gender synonyms in title / abstract metadata<br><i>Hover over dots for exact values</i>\"}, \"xaxis\": {\"title\": {\"text\": \"Count\"}}, \"yaxis\": {\"title\": {\"text\": \"Regex\"}}},\n",
       "                        {\"responsive\": true}\n",
       "                    ).then(function(){\n",
       "                            \n",
       "var gd = document.getElementById('1b6fedac-58b3-4619-bab1-7a2b086a9ef4');\n",
       "var x = new MutationObserver(function (mutations, observer) {{\n",
       "        var display = window.getComputedStyle(gd).display;\n",
       "        if (!display || display === 'none') {{\n",
       "            console.log([gd, 'removed!']);\n",
       "            Plotly.purge(gd);\n",
       "            observer.disconnect();\n",
       "        }}\n",
       "}});\n",
       "\n",
       "// Listen for the removal of the full notebook cells\n",
       "var notebookContainer = gd.closest('#notebook-container');\n",
       "if (notebookContainer) {{\n",
       "    x.observe(notebookContainer, {childList: true});\n",
       "}}\n",
       "\n",
       "// Listen for the clearing of the current output cell\n",
       "var outputEl = gd.closest('.output');\n",
       "if (outputEl) {{\n",
       "    x.observe(outputEl, {childList: true});\n",
       "}}\n",
       "\n",
       "                        })\n",
       "                };\n",
       "                });\n",
       "            </script>\n",
       "        </div>"
      ]
     },
     "metadata": {},
     "output_type": "display_data"
    }
   ],
   "source": [
    "sex_synonyms = ['sex',\n",
    "                'gender',\n",
    "                r'\\bmale\\b',\n",
    "                r'\\bfemale\\b',\n",
    "                r'\\bmales\\b',\n",
    "                r'\\bfemales\\b',\n",
    "                r'\\bmen\\b',\n",
    "                r'\\bwomen\\b'\n",
    "               ]\n",
    "df, sex_counts = count_and_tag(df, sex_synonyms, 'risk_sex')\n",
    "dotplot(sex_counts, 'Sex / gender synonyms in title / abstract metadata')"
   ]
  },
  {
   "cell_type": "code",
   "execution_count": 46,
   "metadata": {},
   "outputs": [
    {
     "data": {
      "text/plain": [
       "\\bmale\\b       594\n",
       "sex            494\n",
       "\\bfemale\\b     471\n",
       "\\bwomen\\b      375\n",
       "\\bmales\\b      254\n",
       "gender         251\n",
       "\\bfemales\\b    231\n",
       "\\bmen\\b        198\n",
       "dtype: int64"
      ]
     },
     "execution_count": 46,
     "metadata": {},
     "output_type": "execute_result"
    }
   ],
   "source": [
    "sex_counts.sort_values(ascending=False)"
   ]
  },
  {
   "cell_type": "code",
   "execution_count": 47,
   "metadata": {},
   "outputs": [
    {
     "name": "stdout",
     "output_type": "stream",
     "text": [
      "There are 226 papers on Covid-19 and sex / gender.\n"
     ]
    }
   ],
   "source": [
    "n = (df.tag_disease_covid19 & df.tag_risk_sex).sum()\n",
    "print(f'There are {n} papers on Covid-19 and sex / gender.')"
   ]
  },
  {
   "cell_type": "markdown",
   "metadata": {},
   "source": [
    "## Bodyweight\n",
    "\n",
    "Obesity and related problems (e.g. diabetes, hypertension) have been widely speculated as risk factors, e.g. _The confluence of the COVID19 pandemic with the obesity epidemic_, https://doi.org/10.1136/bmj.m810"
   ]
  },
  {
   "cell_type": "code",
   "execution_count": 48,
   "metadata": {},
   "outputs": [
    {
     "data": {
      "text/html": [
       "<div>\n",
       "        \n",
       "        \n",
       "            <div id=\"6f6f62fe-d2d4-4712-ab56-5e599901fd5f\" class=\"plotly-graph-div\" style=\"height:525px; width:100%;\"></div>\n",
       "            <script type=\"text/javascript\">\n",
       "                require([\"plotly\"], function(Plotly) {\n",
       "                    window.PLOTLYENV=window.PLOTLYENV || {};\n",
       "                    \n",
       "                if (document.getElementById(\"6f6f62fe-d2d4-4712-ab56-5e599901fd5f\")) {\n",
       "                    Plotly.newPlot(\n",
       "                        '6f6f62fe-d2d4-4712-ab56-5e599901fd5f',\n",
       "                        [{\"marker\": {\"color\": \"crimson\", \"size\": 12}, \"mode\": \"markers\", \"name\": \"Count\", \"type\": \"scatter\", \"x\": [0, 0, 1, 2, 6, 9, 20, 29, 31, 34, 100, 188, 384], \"y\": [\"over weight\", \"bodyfat\", \"kilograms\", \"body fat\", \"bodyweight\", \"overweight\", \"\\\\bbmi\\\\b\", \"\\\\dkg\\\\b\", \"obese\", \"body mass\", \"obesity\", \"body weight\", \"\\\\bkg\\\\b\"]}],\n",
       "                        {\"template\": {\"data\": {\"bar\": [{\"error_x\": {\"color\": \"#2a3f5f\"}, \"error_y\": {\"color\": \"#2a3f5f\"}, \"marker\": {\"line\": {\"color\": \"#E5ECF6\", \"width\": 0.5}}, \"type\": \"bar\"}], \"barpolar\": [{\"marker\": {\"line\": {\"color\": \"#E5ECF6\", \"width\": 0.5}}, \"type\": \"barpolar\"}], \"carpet\": [{\"aaxis\": {\"endlinecolor\": \"#2a3f5f\", \"gridcolor\": \"white\", \"linecolor\": \"white\", \"minorgridcolor\": \"white\", \"startlinecolor\": \"#2a3f5f\"}, \"baxis\": {\"endlinecolor\": \"#2a3f5f\", \"gridcolor\": \"white\", \"linecolor\": \"white\", \"minorgridcolor\": \"white\", \"startlinecolor\": \"#2a3f5f\"}, \"type\": \"carpet\"}], \"choropleth\": [{\"colorbar\": {\"outlinewidth\": 0, \"ticks\": \"\"}, \"type\": \"choropleth\"}], \"contour\": [{\"colorbar\": {\"outlinewidth\": 0, \"ticks\": \"\"}, \"colorscale\": [[0.0, \"#0d0887\"], [0.1111111111111111, \"#46039f\"], [0.2222222222222222, \"#7201a8\"], [0.3333333333333333, \"#9c179e\"], [0.4444444444444444, \"#bd3786\"], [0.5555555555555556, \"#d8576b\"], [0.6666666666666666, \"#ed7953\"], [0.7777777777777778, \"#fb9f3a\"], [0.8888888888888888, \"#fdca26\"], [1.0, \"#f0f921\"]], \"type\": \"contour\"}], \"contourcarpet\": [{\"colorbar\": {\"outlinewidth\": 0, \"ticks\": \"\"}, \"type\": \"contourcarpet\"}], \"heatmap\": [{\"colorbar\": {\"outlinewidth\": 0, \"ticks\": \"\"}, \"colorscale\": [[0.0, \"#0d0887\"], [0.1111111111111111, \"#46039f\"], [0.2222222222222222, \"#7201a8\"], [0.3333333333333333, \"#9c179e\"], [0.4444444444444444, \"#bd3786\"], [0.5555555555555556, \"#d8576b\"], [0.6666666666666666, \"#ed7953\"], [0.7777777777777778, \"#fb9f3a\"], [0.8888888888888888, \"#fdca26\"], [1.0, \"#f0f921\"]], \"type\": \"heatmap\"}], \"heatmapgl\": [{\"colorbar\": {\"outlinewidth\": 0, \"ticks\": \"\"}, \"colorscale\": [[0.0, \"#0d0887\"], [0.1111111111111111, \"#46039f\"], [0.2222222222222222, \"#7201a8\"], [0.3333333333333333, \"#9c179e\"], [0.4444444444444444, \"#bd3786\"], [0.5555555555555556, \"#d8576b\"], [0.6666666666666666, \"#ed7953\"], [0.7777777777777778, \"#fb9f3a\"], [0.8888888888888888, \"#fdca26\"], [1.0, \"#f0f921\"]], \"type\": \"heatmapgl\"}], \"histogram\": [{\"marker\": {\"colorbar\": {\"outlinewidth\": 0, \"ticks\": \"\"}}, \"type\": \"histogram\"}], \"histogram2d\": [{\"colorbar\": {\"outlinewidth\": 0, \"ticks\": \"\"}, \"colorscale\": [[0.0, \"#0d0887\"], [0.1111111111111111, \"#46039f\"], [0.2222222222222222, \"#7201a8\"], [0.3333333333333333, \"#9c179e\"], [0.4444444444444444, \"#bd3786\"], [0.5555555555555556, \"#d8576b\"], [0.6666666666666666, \"#ed7953\"], [0.7777777777777778, \"#fb9f3a\"], [0.8888888888888888, \"#fdca26\"], [1.0, \"#f0f921\"]], \"type\": \"histogram2d\"}], \"histogram2dcontour\": [{\"colorbar\": {\"outlinewidth\": 0, \"ticks\": \"\"}, \"colorscale\": [[0.0, \"#0d0887\"], [0.1111111111111111, \"#46039f\"], [0.2222222222222222, \"#7201a8\"], [0.3333333333333333, \"#9c179e\"], [0.4444444444444444, \"#bd3786\"], [0.5555555555555556, \"#d8576b\"], [0.6666666666666666, \"#ed7953\"], [0.7777777777777778, \"#fb9f3a\"], [0.8888888888888888, \"#fdca26\"], [1.0, \"#f0f921\"]], \"type\": \"histogram2dcontour\"}], \"mesh3d\": [{\"colorbar\": {\"outlinewidth\": 0, \"ticks\": \"\"}, \"type\": \"mesh3d\"}], \"parcoords\": [{\"line\": {\"colorbar\": {\"outlinewidth\": 0, \"ticks\": \"\"}}, \"type\": \"parcoords\"}], \"pie\": [{\"automargin\": true, \"type\": \"pie\"}], \"scatter\": [{\"marker\": {\"colorbar\": {\"outlinewidth\": 0, \"ticks\": \"\"}}, \"type\": \"scatter\"}], \"scatter3d\": [{\"line\": {\"colorbar\": {\"outlinewidth\": 0, \"ticks\": \"\"}}, \"marker\": {\"colorbar\": {\"outlinewidth\": 0, \"ticks\": \"\"}}, \"type\": \"scatter3d\"}], \"scattercarpet\": [{\"marker\": {\"colorbar\": {\"outlinewidth\": 0, \"ticks\": \"\"}}, \"type\": \"scattercarpet\"}], \"scattergeo\": [{\"marker\": {\"colorbar\": {\"outlinewidth\": 0, \"ticks\": \"\"}}, \"type\": \"scattergeo\"}], \"scattergl\": [{\"marker\": {\"colorbar\": {\"outlinewidth\": 0, \"ticks\": \"\"}}, \"type\": \"scattergl\"}], \"scattermapbox\": [{\"marker\": {\"colorbar\": {\"outlinewidth\": 0, \"ticks\": \"\"}}, \"type\": \"scattermapbox\"}], \"scatterpolar\": [{\"marker\": {\"colorbar\": {\"outlinewidth\": 0, \"ticks\": \"\"}}, \"type\": \"scatterpolar\"}], \"scatterpolargl\": [{\"marker\": {\"colorbar\": {\"outlinewidth\": 0, \"ticks\": \"\"}}, \"type\": \"scatterpolargl\"}], \"scatterternary\": [{\"marker\": {\"colorbar\": {\"outlinewidth\": 0, \"ticks\": \"\"}}, \"type\": \"scatterternary\"}], \"surface\": [{\"colorbar\": {\"outlinewidth\": 0, \"ticks\": \"\"}, \"colorscale\": [[0.0, \"#0d0887\"], [0.1111111111111111, \"#46039f\"], [0.2222222222222222, \"#7201a8\"], [0.3333333333333333, \"#9c179e\"], [0.4444444444444444, \"#bd3786\"], [0.5555555555555556, \"#d8576b\"], [0.6666666666666666, \"#ed7953\"], [0.7777777777777778, \"#fb9f3a\"], [0.8888888888888888, \"#fdca26\"], [1.0, \"#f0f921\"]], \"type\": \"surface\"}], \"table\": [{\"cells\": {\"fill\": {\"color\": \"#EBF0F8\"}, \"line\": {\"color\": \"white\"}}, \"header\": {\"fill\": {\"color\": \"#C8D4E3\"}, \"line\": {\"color\": \"white\"}}, \"type\": \"table\"}]}, \"layout\": {\"annotationdefaults\": {\"arrowcolor\": \"#2a3f5f\", \"arrowhead\": 0, \"arrowwidth\": 1}, \"coloraxis\": {\"colorbar\": {\"outlinewidth\": 0, \"ticks\": \"\"}}, \"colorscale\": {\"diverging\": [[0, \"#8e0152\"], [0.1, \"#c51b7d\"], [0.2, \"#de77ae\"], [0.3, \"#f1b6da\"], [0.4, \"#fde0ef\"], [0.5, \"#f7f7f7\"], [0.6, \"#e6f5d0\"], [0.7, \"#b8e186\"], [0.8, \"#7fbc41\"], [0.9, \"#4d9221\"], [1, \"#276419\"]], \"sequential\": [[0.0, \"#0d0887\"], [0.1111111111111111, \"#46039f\"], [0.2222222222222222, \"#7201a8\"], [0.3333333333333333, \"#9c179e\"], [0.4444444444444444, \"#bd3786\"], [0.5555555555555556, \"#d8576b\"], [0.6666666666666666, \"#ed7953\"], [0.7777777777777778, \"#fb9f3a\"], [0.8888888888888888, \"#fdca26\"], [1.0, \"#f0f921\"]], \"sequentialminus\": [[0.0, \"#0d0887\"], [0.1111111111111111, \"#46039f\"], [0.2222222222222222, \"#7201a8\"], [0.3333333333333333, \"#9c179e\"], [0.4444444444444444, \"#bd3786\"], [0.5555555555555556, \"#d8576b\"], [0.6666666666666666, \"#ed7953\"], [0.7777777777777778, \"#fb9f3a\"], [0.8888888888888888, \"#fdca26\"], [1.0, \"#f0f921\"]]}, \"colorway\": [\"#636efa\", \"#EF553B\", \"#00cc96\", \"#ab63fa\", \"#FFA15A\", \"#19d3f3\", \"#FF6692\", \"#B6E880\", \"#FF97FF\", \"#FECB52\"], \"font\": {\"color\": \"#2a3f5f\"}, \"geo\": {\"bgcolor\": \"white\", \"lakecolor\": \"white\", \"landcolor\": \"#E5ECF6\", \"showlakes\": true, \"showland\": true, \"subunitcolor\": \"white\"}, \"hoverlabel\": {\"align\": \"left\"}, \"hovermode\": \"closest\", \"mapbox\": {\"style\": \"light\"}, \"paper_bgcolor\": \"white\", \"plot_bgcolor\": \"#E5ECF6\", \"polar\": {\"angularaxis\": {\"gridcolor\": \"white\", \"linecolor\": \"white\", \"ticks\": \"\"}, \"bgcolor\": \"#E5ECF6\", \"radialaxis\": {\"gridcolor\": \"white\", \"linecolor\": \"white\", \"ticks\": \"\"}}, \"scene\": {\"xaxis\": {\"backgroundcolor\": \"#E5ECF6\", \"gridcolor\": \"white\", \"gridwidth\": 2, \"linecolor\": \"white\", \"showbackground\": true, \"ticks\": \"\", \"zerolinecolor\": \"white\"}, \"yaxis\": {\"backgroundcolor\": \"#E5ECF6\", \"gridcolor\": \"white\", \"gridwidth\": 2, \"linecolor\": \"white\", \"showbackground\": true, \"ticks\": \"\", \"zerolinecolor\": \"white\"}, \"zaxis\": {\"backgroundcolor\": \"#E5ECF6\", \"gridcolor\": \"white\", \"gridwidth\": 2, \"linecolor\": \"white\", \"showbackground\": true, \"ticks\": \"\", \"zerolinecolor\": \"white\"}}, \"shapedefaults\": {\"line\": {\"color\": \"#2a3f5f\"}}, \"ternary\": {\"aaxis\": {\"gridcolor\": \"white\", \"linecolor\": \"white\", \"ticks\": \"\"}, \"baxis\": {\"gridcolor\": \"white\", \"linecolor\": \"white\", \"ticks\": \"\"}, \"bgcolor\": \"#E5ECF6\", \"caxis\": {\"gridcolor\": \"white\", \"linecolor\": \"white\", \"ticks\": \"\"}}, \"title\": {\"x\": 0.05}, \"xaxis\": {\"automargin\": true, \"gridcolor\": \"white\", \"linecolor\": \"white\", \"ticks\": \"\", \"title\": {\"standoff\": 15}, \"zerolinecolor\": \"white\", \"zerolinewidth\": 2}, \"yaxis\": {\"automargin\": true, \"gridcolor\": \"white\", \"linecolor\": \"white\", \"ticks\": \"\", \"title\": {\"standoff\": 15}, \"zerolinecolor\": \"white\", \"zerolinewidth\": 2}}}, \"title\": {\"text\": \"Bodyweight synonyms in title / abstract data<br><i>Hover over dots for exact values</i>\"}, \"xaxis\": {\"title\": {\"text\": \"Count\"}}, \"yaxis\": {\"title\": {\"text\": \"Regex\"}}},\n",
       "                        {\"responsive\": true}\n",
       "                    ).then(function(){\n",
       "                            \n",
       "var gd = document.getElementById('6f6f62fe-d2d4-4712-ab56-5e599901fd5f');\n",
       "var x = new MutationObserver(function (mutations, observer) {{\n",
       "        var display = window.getComputedStyle(gd).display;\n",
       "        if (!display || display === 'none') {{\n",
       "            console.log([gd, 'removed!']);\n",
       "            Plotly.purge(gd);\n",
       "            observer.disconnect();\n",
       "        }}\n",
       "}});\n",
       "\n",
       "// Listen for the removal of the full notebook cells\n",
       "var notebookContainer = gd.closest('#notebook-container');\n",
       "if (notebookContainer) {{\n",
       "    x.observe(notebookContainer, {childList: true});\n",
       "}}\n",
       "\n",
       "// Listen for the clearing of the current output cell\n",
       "var outputEl = gd.closest('.output');\n",
       "if (outputEl) {{\n",
       "    x.observe(outputEl, {childList: true});\n",
       "}}\n",
       "\n",
       "                        })\n",
       "                };\n",
       "                });\n",
       "            </script>\n",
       "        </div>"
      ]
     },
     "metadata": {},
     "output_type": "display_data"
    }
   ],
   "source": [
    "bodyweight_synonyms = [\n",
    "    'overweight',\n",
    "    'over weight',\n",
    "    'obese',\n",
    "    'obesity',\n",
    "    'bodyweight',\n",
    "    'body weight',\n",
    "    r'\\bbmi\\b',\n",
    "    'body mass',\n",
    "    'body fat',\n",
    "    'bodyfat',\n",
    "    'kilograms',\n",
    "    r'\\bkg\\b', # e.g. 70 kg\n",
    "    r'\\dkg\\b'  # e.g. 70kg\n",
    "]\n",
    "df, bodyweight_counts = count_and_tag(df, bodyweight_synonyms, 'risk_bodyweight')\n",
    "dotplot(bodyweight_counts, 'Bodyweight synonyms in title / abstract data')"
   ]
  },
  {
   "cell_type": "code",
   "execution_count": 49,
   "metadata": {},
   "outputs": [
    {
     "data": {
      "text/plain": [
       "\\bkg\\b         384\n",
       "body weight    188\n",
       "obesity        100\n",
       "body mass       34\n",
       "obese           31\n",
       "\\dkg\\b          29\n",
       "\\bbmi\\b         20\n",
       "overweight       9\n",
       "bodyweight       6\n",
       "body fat         2\n",
       "kilograms        1\n",
       "bodyfat          0\n",
       "over weight      0\n",
       "dtype: int64"
      ]
     },
     "execution_count": 49,
     "metadata": {},
     "output_type": "execute_result"
    }
   ],
   "source": [
    "bodyweight_counts.sort_values(ascending=False)"
   ]
  },
  {
   "cell_type": "code",
   "execution_count": 50,
   "metadata": {},
   "outputs": [
    {
     "name": "stdout",
     "output_type": "stream",
     "text": [
      "There are 11 papers on Covid-19 and bodyweight\n"
     ]
    }
   ],
   "source": [
    "n = (df.tag_disease_covid19 & df.tag_risk_bodyweight).sum()\n",
    "print(f'There are {n} papers on Covid-19 and bodyweight')"
   ]
  },
  {
   "cell_type": "code",
   "execution_count": 51,
   "metadata": {},
   "outputs": [
    {
     "name": "stdout",
     "output_type": "stream",
     "text": [
      "1 of 11\n",
      "Early, low-dose and short-term application of corticosteroid treatment in patients with severe COVID-19 pneumonia: single-center experience from Wuhan, China\n",
      "[ http://doi.org/10.1101/2020.03.06.20032342 ]\n",
      "    \"\"\n",
      "---\n",
      "2 of 11\n",
      "Epidemiological, Clinical Characteristics and Outcome of Medical Staff Infected with COVID-19 in Wuhan, China: A Retrospective Case Series Analysis\n",
      "[ http://doi.org/10.1101/2020.03.09.20033118 ]\n",
      "    \"\"\n",
      "---\n",
      "3 of 11\n",
      "Clinical Characteristics of 74 Children with Coronavirus Disease 2019\n",
      "[ http://doi.org/10.1101/2020.03.19.20027078 ]\n",
      "    \"\"\n",
      "---\n",
      "4 of 11\n",
      "An orally bioavailable broad-spectrum antiviral inhibits SARS-CoV-2 and multiple endemic, epidemic and bat coronavirus\n",
      "[ http://doi.org/10.1101/2020.03.19.997890 ]\n",
      "    \", and reduced virus titer and body weight loss. Decreased MERS-CoV yields in vitro and in vivo were associated with increased transition mutation frequency in viral but not host cell RNA, supporting a mechanism of lethal mutagenesis. The potency of NHC/EIDD-2801 against multiple coronaviruses, its t\"\n",
      "---\n",
      "5 of 11\n",
      "Estimating excess 1- year mortality from COVID-19 according to underlying conditions and age in England: a rapid analysis using NHS health records in 3.8 million adults\n",
      "[ http://doi.org/10.1101/2020.03.22.20040287 ]\n",
      "    \"ords in 3.8 million adults Background: The medical, health service, societal and economic impact of the COVID-19 emergency has unknown effects on overall population mortality. Previous models of population mortality are based on death over days among infected people, nearly all of whom (to date at l\"\n",
      "---\n"
     ]
    }
   ],
   "source": [
    "print_key_phrases(df[df.tag_disease_covid19 & df.tag_risk_bodyweight],\n",
    "                  bodyweight_synonyms)"
   ]
  },
  {
   "cell_type": "markdown",
   "metadata": {},
   "source": [
    "## Smoking\n",
    "\n",
    "e.g. _Sex difference and smoking predisposition in patients with COVID-19_,  https://doi.org/10.1016/S2213-2600(20)30117-X\n",
    "\n",
    "- smoking\n",
    "- smoke(rs)\n",
    "- cigarette(s)\n",
    "- cigar(s)\n",
    "- e-cigarette(s)\n",
    "- cannabis / marijuana / thc"
   ]
  },
  {
   "cell_type": "code",
   "execution_count": 52,
   "metadata": {},
   "outputs": [
    {
     "data": {
      "text/html": [
       "<div>\n",
       "        \n",
       "        \n",
       "            <div id=\"50499cf5-75ee-4825-a3a0-568c3eab559d\" class=\"plotly-graph-div\" style=\"height:525px; width:100%;\"></div>\n",
       "            <script type=\"text/javascript\">\n",
       "                require([\"plotly\"], function(Plotly) {\n",
       "                    window.PLOTLYENV=window.PLOTLYENV || {};\n",
       "                    \n",
       "                if (document.getElementById(\"50499cf5-75ee-4825-a3a0-568c3eab559d\")) {\n",
       "                    Plotly.newPlot(\n",
       "                        '50499cf5-75ee-4825-a3a0-568c3eab559d',\n",
       "                        [{\"marker\": {\"color\": \"crimson\", \"size\": 12}, \"mode\": \"markers\", \"name\": \"Count\", \"type\": \"scatter\", \"x\": [1, 2, 10, 35, 98, 121], \"y\": [\"marijuana\", \"cannabis\", \"nicotine\", \"cigar\", \"smoke\", \"smoking\"]}],\n",
       "                        {\"template\": {\"data\": {\"bar\": [{\"error_x\": {\"color\": \"#2a3f5f\"}, \"error_y\": {\"color\": \"#2a3f5f\"}, \"marker\": {\"line\": {\"color\": \"#E5ECF6\", \"width\": 0.5}}, \"type\": \"bar\"}], \"barpolar\": [{\"marker\": {\"line\": {\"color\": \"#E5ECF6\", \"width\": 0.5}}, \"type\": \"barpolar\"}], \"carpet\": [{\"aaxis\": {\"endlinecolor\": \"#2a3f5f\", \"gridcolor\": \"white\", \"linecolor\": \"white\", \"minorgridcolor\": \"white\", \"startlinecolor\": \"#2a3f5f\"}, \"baxis\": {\"endlinecolor\": \"#2a3f5f\", \"gridcolor\": \"white\", \"linecolor\": \"white\", \"minorgridcolor\": \"white\", \"startlinecolor\": \"#2a3f5f\"}, \"type\": \"carpet\"}], \"choropleth\": [{\"colorbar\": {\"outlinewidth\": 0, \"ticks\": \"\"}, \"type\": \"choropleth\"}], \"contour\": [{\"colorbar\": {\"outlinewidth\": 0, \"ticks\": \"\"}, \"colorscale\": [[0.0, \"#0d0887\"], [0.1111111111111111, \"#46039f\"], [0.2222222222222222, \"#7201a8\"], [0.3333333333333333, \"#9c179e\"], [0.4444444444444444, \"#bd3786\"], [0.5555555555555556, \"#d8576b\"], [0.6666666666666666, \"#ed7953\"], [0.7777777777777778, \"#fb9f3a\"], [0.8888888888888888, \"#fdca26\"], [1.0, \"#f0f921\"]], \"type\": \"contour\"}], \"contourcarpet\": [{\"colorbar\": {\"outlinewidth\": 0, \"ticks\": \"\"}, \"type\": \"contourcarpet\"}], \"heatmap\": [{\"colorbar\": {\"outlinewidth\": 0, \"ticks\": \"\"}, \"colorscale\": [[0.0, \"#0d0887\"], [0.1111111111111111, \"#46039f\"], [0.2222222222222222, \"#7201a8\"], [0.3333333333333333, \"#9c179e\"], [0.4444444444444444, \"#bd3786\"], [0.5555555555555556, \"#d8576b\"], [0.6666666666666666, \"#ed7953\"], [0.7777777777777778, \"#fb9f3a\"], [0.8888888888888888, \"#fdca26\"], [1.0, \"#f0f921\"]], \"type\": \"heatmap\"}], \"heatmapgl\": [{\"colorbar\": {\"outlinewidth\": 0, \"ticks\": \"\"}, \"colorscale\": [[0.0, \"#0d0887\"], [0.1111111111111111, \"#46039f\"], [0.2222222222222222, \"#7201a8\"], [0.3333333333333333, \"#9c179e\"], [0.4444444444444444, \"#bd3786\"], [0.5555555555555556, \"#d8576b\"], [0.6666666666666666, \"#ed7953\"], [0.7777777777777778, \"#fb9f3a\"], [0.8888888888888888, \"#fdca26\"], [1.0, \"#f0f921\"]], \"type\": \"heatmapgl\"}], \"histogram\": [{\"marker\": {\"colorbar\": {\"outlinewidth\": 0, \"ticks\": \"\"}}, \"type\": \"histogram\"}], \"histogram2d\": [{\"colorbar\": {\"outlinewidth\": 0, \"ticks\": \"\"}, \"colorscale\": [[0.0, \"#0d0887\"], [0.1111111111111111, \"#46039f\"], [0.2222222222222222, \"#7201a8\"], [0.3333333333333333, \"#9c179e\"], [0.4444444444444444, \"#bd3786\"], [0.5555555555555556, \"#d8576b\"], [0.6666666666666666, \"#ed7953\"], [0.7777777777777778, \"#fb9f3a\"], [0.8888888888888888, \"#fdca26\"], [1.0, \"#f0f921\"]], \"type\": \"histogram2d\"}], \"histogram2dcontour\": [{\"colorbar\": {\"outlinewidth\": 0, \"ticks\": \"\"}, \"colorscale\": [[0.0, \"#0d0887\"], [0.1111111111111111, \"#46039f\"], [0.2222222222222222, \"#7201a8\"], [0.3333333333333333, \"#9c179e\"], [0.4444444444444444, \"#bd3786\"], [0.5555555555555556, \"#d8576b\"], [0.6666666666666666, \"#ed7953\"], [0.7777777777777778, \"#fb9f3a\"], [0.8888888888888888, \"#fdca26\"], [1.0, \"#f0f921\"]], \"type\": \"histogram2dcontour\"}], \"mesh3d\": [{\"colorbar\": {\"outlinewidth\": 0, \"ticks\": \"\"}, \"type\": \"mesh3d\"}], \"parcoords\": [{\"line\": {\"colorbar\": {\"outlinewidth\": 0, \"ticks\": \"\"}}, \"type\": \"parcoords\"}], \"pie\": [{\"automargin\": true, \"type\": \"pie\"}], \"scatter\": [{\"marker\": {\"colorbar\": {\"outlinewidth\": 0, \"ticks\": \"\"}}, \"type\": \"scatter\"}], \"scatter3d\": [{\"line\": {\"colorbar\": {\"outlinewidth\": 0, \"ticks\": \"\"}}, \"marker\": {\"colorbar\": {\"outlinewidth\": 0, \"ticks\": \"\"}}, \"type\": \"scatter3d\"}], \"scattercarpet\": [{\"marker\": {\"colorbar\": {\"outlinewidth\": 0, \"ticks\": \"\"}}, \"type\": \"scattercarpet\"}], \"scattergeo\": [{\"marker\": {\"colorbar\": {\"outlinewidth\": 0, \"ticks\": \"\"}}, \"type\": \"scattergeo\"}], \"scattergl\": [{\"marker\": {\"colorbar\": {\"outlinewidth\": 0, \"ticks\": \"\"}}, \"type\": \"scattergl\"}], \"scattermapbox\": [{\"marker\": {\"colorbar\": {\"outlinewidth\": 0, \"ticks\": \"\"}}, \"type\": \"scattermapbox\"}], \"scatterpolar\": [{\"marker\": {\"colorbar\": {\"outlinewidth\": 0, \"ticks\": \"\"}}, \"type\": \"scatterpolar\"}], \"scatterpolargl\": [{\"marker\": {\"colorbar\": {\"outlinewidth\": 0, \"ticks\": \"\"}}, \"type\": \"scatterpolargl\"}], \"scatterternary\": [{\"marker\": {\"colorbar\": {\"outlinewidth\": 0, \"ticks\": \"\"}}, \"type\": \"scatterternary\"}], \"surface\": [{\"colorbar\": {\"outlinewidth\": 0, \"ticks\": \"\"}, \"colorscale\": [[0.0, \"#0d0887\"], [0.1111111111111111, \"#46039f\"], [0.2222222222222222, \"#7201a8\"], [0.3333333333333333, \"#9c179e\"], [0.4444444444444444, \"#bd3786\"], [0.5555555555555556, \"#d8576b\"], [0.6666666666666666, \"#ed7953\"], [0.7777777777777778, \"#fb9f3a\"], [0.8888888888888888, \"#fdca26\"], [1.0, \"#f0f921\"]], \"type\": \"surface\"}], \"table\": [{\"cells\": {\"fill\": {\"color\": \"#EBF0F8\"}, \"line\": {\"color\": \"white\"}}, \"header\": {\"fill\": {\"color\": \"#C8D4E3\"}, \"line\": {\"color\": \"white\"}}, \"type\": \"table\"}]}, \"layout\": {\"annotationdefaults\": {\"arrowcolor\": \"#2a3f5f\", \"arrowhead\": 0, \"arrowwidth\": 1}, \"coloraxis\": {\"colorbar\": {\"outlinewidth\": 0, \"ticks\": \"\"}}, \"colorscale\": {\"diverging\": [[0, \"#8e0152\"], [0.1, \"#c51b7d\"], [0.2, \"#de77ae\"], [0.3, \"#f1b6da\"], [0.4, \"#fde0ef\"], [0.5, \"#f7f7f7\"], [0.6, \"#e6f5d0\"], [0.7, \"#b8e186\"], [0.8, \"#7fbc41\"], [0.9, \"#4d9221\"], [1, \"#276419\"]], \"sequential\": [[0.0, \"#0d0887\"], [0.1111111111111111, \"#46039f\"], [0.2222222222222222, \"#7201a8\"], [0.3333333333333333, \"#9c179e\"], [0.4444444444444444, \"#bd3786\"], [0.5555555555555556, \"#d8576b\"], [0.6666666666666666, \"#ed7953\"], [0.7777777777777778, \"#fb9f3a\"], [0.8888888888888888, \"#fdca26\"], [1.0, \"#f0f921\"]], \"sequentialminus\": [[0.0, \"#0d0887\"], [0.1111111111111111, \"#46039f\"], [0.2222222222222222, \"#7201a8\"], [0.3333333333333333, \"#9c179e\"], [0.4444444444444444, \"#bd3786\"], [0.5555555555555556, \"#d8576b\"], [0.6666666666666666, \"#ed7953\"], [0.7777777777777778, \"#fb9f3a\"], [0.8888888888888888, \"#fdca26\"], [1.0, \"#f0f921\"]]}, \"colorway\": [\"#636efa\", \"#EF553B\", \"#00cc96\", \"#ab63fa\", \"#FFA15A\", \"#19d3f3\", \"#FF6692\", \"#B6E880\", \"#FF97FF\", \"#FECB52\"], \"font\": {\"color\": \"#2a3f5f\"}, \"geo\": {\"bgcolor\": \"white\", \"lakecolor\": \"white\", \"landcolor\": \"#E5ECF6\", \"showlakes\": true, \"showland\": true, \"subunitcolor\": \"white\"}, \"hoverlabel\": {\"align\": \"left\"}, \"hovermode\": \"closest\", \"mapbox\": {\"style\": \"light\"}, \"paper_bgcolor\": \"white\", \"plot_bgcolor\": \"#E5ECF6\", \"polar\": {\"angularaxis\": {\"gridcolor\": \"white\", \"linecolor\": \"white\", \"ticks\": \"\"}, \"bgcolor\": \"#E5ECF6\", \"radialaxis\": {\"gridcolor\": \"white\", \"linecolor\": \"white\", \"ticks\": \"\"}}, \"scene\": {\"xaxis\": {\"backgroundcolor\": \"#E5ECF6\", \"gridcolor\": \"white\", \"gridwidth\": 2, \"linecolor\": \"white\", \"showbackground\": true, \"ticks\": \"\", \"zerolinecolor\": \"white\"}, \"yaxis\": {\"backgroundcolor\": \"#E5ECF6\", \"gridcolor\": \"white\", \"gridwidth\": 2, \"linecolor\": \"white\", \"showbackground\": true, \"ticks\": \"\", \"zerolinecolor\": \"white\"}, \"zaxis\": {\"backgroundcolor\": \"#E5ECF6\", \"gridcolor\": \"white\", \"gridwidth\": 2, \"linecolor\": \"white\", \"showbackground\": true, \"ticks\": \"\", \"zerolinecolor\": \"white\"}}, \"shapedefaults\": {\"line\": {\"color\": \"#2a3f5f\"}}, \"ternary\": {\"aaxis\": {\"gridcolor\": \"white\", \"linecolor\": \"white\", \"ticks\": \"\"}, \"baxis\": {\"gridcolor\": \"white\", \"linecolor\": \"white\", \"ticks\": \"\"}, \"bgcolor\": \"#E5ECF6\", \"caxis\": {\"gridcolor\": \"white\", \"linecolor\": \"white\", \"ticks\": \"\"}}, \"title\": {\"x\": 0.05}, \"xaxis\": {\"automargin\": true, \"gridcolor\": \"white\", \"linecolor\": \"white\", \"ticks\": \"\", \"title\": {\"standoff\": 15}, \"zerolinecolor\": \"white\", \"zerolinewidth\": 2}, \"yaxis\": {\"automargin\": true, \"gridcolor\": \"white\", \"linecolor\": \"white\", \"ticks\": \"\", \"title\": {\"standoff\": 15}, \"zerolinecolor\": \"white\", \"zerolinewidth\": 2}}}, \"title\": {\"text\": \"Smoking synonym counts in title / abstract metadata<br><i>Hover over dots for exact values</i>\"}, \"xaxis\": {\"title\": {\"text\": \"Count\"}}, \"yaxis\": {\"title\": {\"text\": \"Regex\"}}},\n",
       "                        {\"responsive\": true}\n",
       "                    ).then(function(){\n",
       "                            \n",
       "var gd = document.getElementById('50499cf5-75ee-4825-a3a0-568c3eab559d');\n",
       "var x = new MutationObserver(function (mutations, observer) {{\n",
       "        var display = window.getComputedStyle(gd).display;\n",
       "        if (!display || display === 'none') {{\n",
       "            console.log([gd, 'removed!']);\n",
       "            Plotly.purge(gd);\n",
       "            observer.disconnect();\n",
       "        }}\n",
       "}});\n",
       "\n",
       "// Listen for the removal of the full notebook cells\n",
       "var notebookContainer = gd.closest('#notebook-container');\n",
       "if (notebookContainer) {{\n",
       "    x.observe(notebookContainer, {childList: true});\n",
       "}}\n",
       "\n",
       "// Listen for the clearing of the current output cell\n",
       "var outputEl = gd.closest('.output');\n",
       "if (outputEl) {{\n",
       "    x.observe(outputEl, {childList: true});\n",
       "}}\n",
       "\n",
       "                        })\n",
       "                };\n",
       "                });\n",
       "            </script>\n",
       "        </div>"
      ]
     },
     "metadata": {},
     "output_type": "display_data"
    }
   ],
   "source": [
    "smoking_synonyms = ['smoking',\n",
    "                    'smoke',\n",
    "                    'cigar', # this picks up cigar, cigarette, e-cigarette, etc.\n",
    "                    'nicotine',\n",
    "                    'cannabis',\n",
    "                    'marijuana']\n",
    "df, smoking_counts = count_and_tag(df, smoking_synonyms, 'risk_smoking')\n",
    "dotplot(smoking_counts, 'Smoking synonym counts in title / abstract metadata')"
   ]
  },
  {
   "cell_type": "code",
   "execution_count": 53,
   "metadata": {},
   "outputs": [
    {
     "data": {
      "text/plain": [
       "smoking      121\n",
       "smoke         98\n",
       "cigar         35\n",
       "nicotine      10\n",
       "cannabis       2\n",
       "marijuana      1\n",
       "dtype: int64"
      ]
     },
     "execution_count": 53,
     "metadata": {},
     "output_type": "execute_result"
    }
   ],
   "source": [
    "smoking_counts.sort_values(ascending=False)"
   ]
  },
  {
   "cell_type": "code",
   "execution_count": 54,
   "metadata": {},
   "outputs": [
    {
     "data": {
      "text/plain": [
       "tag_disease_covid19  tag_risk_smoking\n",
       "False                False               43115\n",
       "                     True                  186\n",
       "True                 False                2458\n",
       "                     True                   15\n",
       "Name: tag_risk_smoking, dtype: int64"
      ]
     },
     "execution_count": 54,
     "metadata": {},
     "output_type": "execute_result"
    }
   ],
   "source": [
    "df.groupby('tag_disease_covid19').tag_risk_smoking.value_counts()"
   ]
  },
  {
   "cell_type": "code",
   "execution_count": 55,
   "metadata": {},
   "outputs": [
    {
     "name": "stdout",
     "output_type": "stream",
     "text": [
      "tag_disease_covid19 x tag_risk_smoking currently returns 15 papers\n"
     ]
    }
   ],
   "source": [
    "n = (df.tag_disease_covid19 & df.tag_risk_smoking).sum()\n",
    "print(f'tag_disease_covid19 x tag_risk_smoking currently returns {n} papers')"
   ]
  },
  {
   "cell_type": "code",
   "execution_count": 56,
   "metadata": {},
   "outputs": [
    {
     "name": "stdout",
     "output_type": "stream",
     "text": [
      "1 of 15\n",
      "Integrative Bioinformatics Analysis Provides Insight into the Molecular Mechanisms of 2019-nCoV\n",
      "[ http://doi.org/10.1101/2020.02.03.20020206 ]\n",
      "    \" on the expression of ACE2 in smoking individuals, we inferred that long-term smoking might be a risk factor for 2019-nCoV. Analyzing the ACE2 in SARS-CoV infected cells suggested that ACE2 was more than just a receptor but also participated in post-infection regulation, including immune response, c\"\n",
      "---\n",
      "2 of 15\n",
      "Bulk and single-cell transcriptomics identify tobacco-use disparity in lung gene expression of ACE2, the receptor of 2019-nCov\n",
      "[ http://doi.org/10.1101/2020.02.05.20020107 ]\n",
      "    \"ated to race, age, gender and smoking status in ACE2 gene expression and its distribution among cell types. We didn't find significant disparities in ACE2 gene expression between racial groups (Asian vs Caucasian), age groups (>60 vs <60) or gender groups (male vs female). However, we observed signi\"\n",
      "---\n",
      "3 of 15\n",
      "Comorbidity and its impact on 1,590 patients with COVID-19 in China: A Nationwide Analysis\n",
      "[ http://doi.org/10.1101/2020.02.25.20027664 ]\n",
      "    \". After adjusting for age and smoking status, patients with COPD (HR 2.681, 95%CI 1.424-5.048), diabetes (HR 1.59, 95%CI 1.03-2.45), hypertension (HR 1.58, 95%CI 1.07-2.32) and malignancy (HR 3.50, 95%CI 1.60-7.64) were more likely to reach to the composite endpoints than those without. As compared \"\n",
      "---\n",
      "4 of 15\n",
      "Heart injury signs are associated with higher and earlier mortality in coronavirus disease 2019 (COVID-19)\n",
      "[ http://doi.org/10.1101/2020.02.26.20028589 ]\n",
      "    \"nts and patients with current smoking. High CK-MB on admission was associated with higher mortality. High CK-MB was associated with increased inflammatory levels and decreased lymphocytes. Increased LDH and α-HBDH levels tended to occur in older patients and patients with hypertension. Both high LDH\"\n",
      "---\n",
      "5 of 15\n",
      "Exploring diseases/traits and blood proteins causally related to expression of ACE2, the putative receptor of 2019-nCov: A Mendelian Randomization analysis\n",
      "[ http://doi.org/10.1101/2020.03.04.20031237 ]\n",
      "    \"ast and lung cancers, asthma, smoking and elevated ALT, among others. We also uncovered a number of plasma/serum proteins potentially linked to altered ACE2 expression, and the top enriched pathways included cytokine-cytokine-receptor interaction, VEGF signaling, JAK-STAT signaling etc. We also expl\"\n",
      "---\n",
      "6 of 15\n",
      "Recommendations for standardized management of CML patients in the core epidemic area of COVID-19 (Multi-center survey results in Hubei Province, China)\n",
      "[ http://doi.org/10.1101/2020.03.12.20034876 ]\n",
      "    \"hic data, place of residence, smoking status, CML diagnosis and treatment, comorbidities, combined medications, epidemiological history, symptoms(fever, cough, shortness of breath, etc) during the epidemic. Additional clinical data was collected on respondents suspected or confirmed to have COVID-19\"\n",
      "---\n",
      "7 of 15\n",
      "Incidence, clinical characteristics and prognostic factor of patients with COVID-19: a systematic review and meta-analysis\n",
      "[ http://doi.org/10.1101/2020.03.17.20037572 ]\n",
      "    \"=1.348, 95% CI, 1.195-1.521), smoking (OR =1.734, 95% CI, 1.146-2.626) and any comorbidity (OR = 2.635, 95% CI, 2.098-3.309), especially chronic kidney disease (CKD, OR = 6.017; 95% CI, 2.192-16.514), chronic obstructive pulmonary disease (COPD, OR = 5.323; 95% CI, 2.613-10.847) and cerebrovascular \"\n",
      "---\n",
      "8 of 15\n",
      "ACE-2 Expression in the Small Airway Epithelia of Smokers and COPD Patients: Implications for COVID-19\n",
      "[ http://doi.org/10.1101/2020.03.18.20038455 ]\n",
      "    \"rways was related to COPD and cigarette smoking. Methods: Using RNAseq, we determined gene expression levels in bronchial epithelia obtained from cytologic brushings of 6th to 8th generation airways in individuals with and without COPD. We externally validated these results from two additional indep\"\n",
      "---\n",
      "9 of 15\n",
      "Analysis of factors associated with disease outcomes in hospitalized patients with 2019 novel coronavirus disease\n",
      "[ http://doi.org/10.1097/cm9.0000000000000775 ]\n",
      "    \"of patients with a history of smoking than the improvement/stabilization group (27.3% vs. 3.0%, χ = 9.291, P = 0.018). For all the 78 patients, fever was the most common initial symptom, and the maximum body temperature at admission was significantly higher in the progression group than in the impro\"\n",
      "---\n",
      "10 of 15\n",
      "Clinical characteristics of 140 patients infected by SARS-CoV-2 in Wuhan, China\n",
      "[ http://doi.org/10.1111/all.14238 ]\n",
      "    \"ease (COPD, 1.4%) and current smokers (1.4%) were rare. Bilateral ground glass or patchy opacity (89.6%) were the most common signs of radiological finding. Lymphopenia (75.4%) and eosinopenia (52.9%) were observed in most patients. Blood eosinophil counts correlate positively with lymphocyte counts\"\n",
      "---\n",
      "11 of 15\n",
      "The 2019 Novel Coronavirus Outbreak - A Global Threat\n",
      "[ http://doi.org/ ]\n",
      "    \"enia, Bacterial co-infection, Smoking history, Chronic medical conditions like Hypertension and age >60 years (MuLBSTA score). Diagnosis is confirmed with PCR based testing of appropriate respiratory samples. Management is primarily supportive, with newer antivirals (lopinavir ritonavir and Remdesiv\"\n",
      "---\n",
      "12 of 15\n",
      "COVID-19 and smoking: A systematic review of the evidence\n",
      "[ http://doi.org/10.18332/tid/119324 ]\n",
      "    \" their prognostic factors(4). Smoking, to date, has been assumed to be possibly associated with adverse disease prognosis, as extensive evidence has highlighted the negative impact of tobacco use on lung health and its causal association with a plethora of respiratory diseases(5). Smoking is also de\"\n",
      "---\n"
     ]
    }
   ],
   "source": [
    "print_key_phrases(df[df.tag_disease_covid19 & df.tag_risk_smoking],\n",
    "                  smoking_synonyms, n=12)"
   ]
  },
  {
   "cell_type": "markdown",
   "metadata": {},
   "source": [
    "## Diabetes\n",
    "\n",
    "- Type I Diabetes\n",
    "- Type II Diabetes"
   ]
  },
  {
   "cell_type": "code",
   "execution_count": 57,
   "metadata": {},
   "outputs": [
    {
     "data": {
      "text/html": [
       "<div>\n",
       "        \n",
       "        \n",
       "            <div id=\"9b08914c-8383-41eb-924e-2cb505d15b72\" class=\"plotly-graph-div\" style=\"height:525px; width:100%;\"></div>\n",
       "            <script type=\"text/javascript\">\n",
       "                require([\"plotly\"], function(Plotly) {\n",
       "                    window.PLOTLYENV=window.PLOTLYENV || {};\n",
       "                    \n",
       "                if (document.getElementById(\"9b08914c-8383-41eb-924e-2cb505d15b72\")) {\n",
       "                    Plotly.newPlot(\n",
       "                        '9b08914c-8383-41eb-924e-2cb505d15b72',\n",
       "                        [{\"marker\": {\"color\": \"crimson\", \"size\": 12}, \"mode\": \"markers\", \"name\": \"Count\", \"type\": \"scatter\", \"x\": [2, 2, 18, 31, 112, 350], \"y\": [\"blood sugar\", \"ketoacidosis\", \"hyperglycemi\", \"blood glucose\", \"insulin\", \"diabet\"]}],\n",
       "                        {\"template\": {\"data\": {\"bar\": [{\"error_x\": {\"color\": \"#2a3f5f\"}, \"error_y\": {\"color\": \"#2a3f5f\"}, \"marker\": {\"line\": {\"color\": \"#E5ECF6\", \"width\": 0.5}}, \"type\": \"bar\"}], \"barpolar\": [{\"marker\": {\"line\": {\"color\": \"#E5ECF6\", \"width\": 0.5}}, \"type\": \"barpolar\"}], \"carpet\": [{\"aaxis\": {\"endlinecolor\": \"#2a3f5f\", \"gridcolor\": \"white\", \"linecolor\": \"white\", \"minorgridcolor\": \"white\", \"startlinecolor\": \"#2a3f5f\"}, \"baxis\": {\"endlinecolor\": \"#2a3f5f\", \"gridcolor\": \"white\", \"linecolor\": \"white\", \"minorgridcolor\": \"white\", \"startlinecolor\": \"#2a3f5f\"}, \"type\": \"carpet\"}], \"choropleth\": [{\"colorbar\": {\"outlinewidth\": 0, \"ticks\": \"\"}, \"type\": \"choropleth\"}], \"contour\": [{\"colorbar\": {\"outlinewidth\": 0, \"ticks\": \"\"}, \"colorscale\": [[0.0, \"#0d0887\"], [0.1111111111111111, \"#46039f\"], [0.2222222222222222, \"#7201a8\"], [0.3333333333333333, \"#9c179e\"], [0.4444444444444444, \"#bd3786\"], [0.5555555555555556, \"#d8576b\"], [0.6666666666666666, \"#ed7953\"], [0.7777777777777778, \"#fb9f3a\"], [0.8888888888888888, \"#fdca26\"], [1.0, \"#f0f921\"]], \"type\": \"contour\"}], \"contourcarpet\": [{\"colorbar\": {\"outlinewidth\": 0, \"ticks\": \"\"}, \"type\": \"contourcarpet\"}], \"heatmap\": [{\"colorbar\": {\"outlinewidth\": 0, \"ticks\": \"\"}, \"colorscale\": [[0.0, \"#0d0887\"], [0.1111111111111111, \"#46039f\"], [0.2222222222222222, \"#7201a8\"], [0.3333333333333333, \"#9c179e\"], [0.4444444444444444, \"#bd3786\"], [0.5555555555555556, \"#d8576b\"], [0.6666666666666666, \"#ed7953\"], [0.7777777777777778, \"#fb9f3a\"], [0.8888888888888888, \"#fdca26\"], [1.0, \"#f0f921\"]], \"type\": \"heatmap\"}], \"heatmapgl\": [{\"colorbar\": {\"outlinewidth\": 0, \"ticks\": \"\"}, \"colorscale\": [[0.0, \"#0d0887\"], [0.1111111111111111, \"#46039f\"], [0.2222222222222222, \"#7201a8\"], [0.3333333333333333, \"#9c179e\"], [0.4444444444444444, \"#bd3786\"], [0.5555555555555556, \"#d8576b\"], [0.6666666666666666, \"#ed7953\"], [0.7777777777777778, \"#fb9f3a\"], [0.8888888888888888, \"#fdca26\"], [1.0, \"#f0f921\"]], \"type\": \"heatmapgl\"}], \"histogram\": [{\"marker\": {\"colorbar\": {\"outlinewidth\": 0, \"ticks\": \"\"}}, \"type\": \"histogram\"}], \"histogram2d\": [{\"colorbar\": {\"outlinewidth\": 0, \"ticks\": \"\"}, \"colorscale\": [[0.0, \"#0d0887\"], [0.1111111111111111, \"#46039f\"], [0.2222222222222222, \"#7201a8\"], [0.3333333333333333, \"#9c179e\"], [0.4444444444444444, \"#bd3786\"], [0.5555555555555556, \"#d8576b\"], [0.6666666666666666, \"#ed7953\"], [0.7777777777777778, \"#fb9f3a\"], [0.8888888888888888, \"#fdca26\"], [1.0, \"#f0f921\"]], \"type\": \"histogram2d\"}], \"histogram2dcontour\": [{\"colorbar\": {\"outlinewidth\": 0, \"ticks\": \"\"}, \"colorscale\": [[0.0, \"#0d0887\"], [0.1111111111111111, \"#46039f\"], [0.2222222222222222, \"#7201a8\"], [0.3333333333333333, \"#9c179e\"], [0.4444444444444444, \"#bd3786\"], [0.5555555555555556, \"#d8576b\"], [0.6666666666666666, \"#ed7953\"], [0.7777777777777778, \"#fb9f3a\"], [0.8888888888888888, \"#fdca26\"], [1.0, \"#f0f921\"]], \"type\": \"histogram2dcontour\"}], \"mesh3d\": [{\"colorbar\": {\"outlinewidth\": 0, \"ticks\": \"\"}, \"type\": \"mesh3d\"}], \"parcoords\": [{\"line\": {\"colorbar\": {\"outlinewidth\": 0, \"ticks\": \"\"}}, \"type\": \"parcoords\"}], \"pie\": [{\"automargin\": true, \"type\": \"pie\"}], \"scatter\": [{\"marker\": {\"colorbar\": {\"outlinewidth\": 0, \"ticks\": \"\"}}, \"type\": \"scatter\"}], \"scatter3d\": [{\"line\": {\"colorbar\": {\"outlinewidth\": 0, \"ticks\": \"\"}}, \"marker\": {\"colorbar\": {\"outlinewidth\": 0, \"ticks\": \"\"}}, \"type\": \"scatter3d\"}], \"scattercarpet\": [{\"marker\": {\"colorbar\": {\"outlinewidth\": 0, \"ticks\": \"\"}}, \"type\": \"scattercarpet\"}], \"scattergeo\": [{\"marker\": {\"colorbar\": {\"outlinewidth\": 0, \"ticks\": \"\"}}, \"type\": \"scattergeo\"}], \"scattergl\": [{\"marker\": {\"colorbar\": {\"outlinewidth\": 0, \"ticks\": \"\"}}, \"type\": \"scattergl\"}], \"scattermapbox\": [{\"marker\": {\"colorbar\": {\"outlinewidth\": 0, \"ticks\": \"\"}}, \"type\": \"scattermapbox\"}], \"scatterpolar\": [{\"marker\": {\"colorbar\": {\"outlinewidth\": 0, \"ticks\": \"\"}}, \"type\": \"scatterpolar\"}], \"scatterpolargl\": [{\"marker\": {\"colorbar\": {\"outlinewidth\": 0, \"ticks\": \"\"}}, \"type\": \"scatterpolargl\"}], \"scatterternary\": [{\"marker\": {\"colorbar\": {\"outlinewidth\": 0, \"ticks\": \"\"}}, \"type\": \"scatterternary\"}], \"surface\": [{\"colorbar\": {\"outlinewidth\": 0, \"ticks\": \"\"}, \"colorscale\": [[0.0, \"#0d0887\"], [0.1111111111111111, \"#46039f\"], [0.2222222222222222, \"#7201a8\"], [0.3333333333333333, \"#9c179e\"], [0.4444444444444444, \"#bd3786\"], [0.5555555555555556, \"#d8576b\"], [0.6666666666666666, \"#ed7953\"], [0.7777777777777778, \"#fb9f3a\"], [0.8888888888888888, \"#fdca26\"], [1.0, \"#f0f921\"]], \"type\": \"surface\"}], \"table\": [{\"cells\": {\"fill\": {\"color\": \"#EBF0F8\"}, \"line\": {\"color\": \"white\"}}, \"header\": {\"fill\": {\"color\": \"#C8D4E3\"}, \"line\": {\"color\": \"white\"}}, \"type\": \"table\"}]}, \"layout\": {\"annotationdefaults\": {\"arrowcolor\": \"#2a3f5f\", \"arrowhead\": 0, \"arrowwidth\": 1}, \"coloraxis\": {\"colorbar\": {\"outlinewidth\": 0, \"ticks\": \"\"}}, \"colorscale\": {\"diverging\": [[0, \"#8e0152\"], [0.1, \"#c51b7d\"], [0.2, \"#de77ae\"], [0.3, \"#f1b6da\"], [0.4, \"#fde0ef\"], [0.5, \"#f7f7f7\"], [0.6, \"#e6f5d0\"], [0.7, \"#b8e186\"], [0.8, \"#7fbc41\"], [0.9, \"#4d9221\"], [1, \"#276419\"]], \"sequential\": [[0.0, \"#0d0887\"], [0.1111111111111111, \"#46039f\"], [0.2222222222222222, \"#7201a8\"], [0.3333333333333333, \"#9c179e\"], [0.4444444444444444, \"#bd3786\"], [0.5555555555555556, \"#d8576b\"], [0.6666666666666666, \"#ed7953\"], [0.7777777777777778, \"#fb9f3a\"], [0.8888888888888888, \"#fdca26\"], [1.0, \"#f0f921\"]], \"sequentialminus\": [[0.0, \"#0d0887\"], [0.1111111111111111, \"#46039f\"], [0.2222222222222222, \"#7201a8\"], [0.3333333333333333, \"#9c179e\"], [0.4444444444444444, \"#bd3786\"], [0.5555555555555556, \"#d8576b\"], [0.6666666666666666, \"#ed7953\"], [0.7777777777777778, \"#fb9f3a\"], [0.8888888888888888, \"#fdca26\"], [1.0, \"#f0f921\"]]}, \"colorway\": [\"#636efa\", \"#EF553B\", \"#00cc96\", \"#ab63fa\", \"#FFA15A\", \"#19d3f3\", \"#FF6692\", \"#B6E880\", \"#FF97FF\", \"#FECB52\"], \"font\": {\"color\": \"#2a3f5f\"}, \"geo\": {\"bgcolor\": \"white\", \"lakecolor\": \"white\", \"landcolor\": \"#E5ECF6\", \"showlakes\": true, \"showland\": true, \"subunitcolor\": \"white\"}, \"hoverlabel\": {\"align\": \"left\"}, \"hovermode\": \"closest\", \"mapbox\": {\"style\": \"light\"}, \"paper_bgcolor\": \"white\", \"plot_bgcolor\": \"#E5ECF6\", \"polar\": {\"angularaxis\": {\"gridcolor\": \"white\", \"linecolor\": \"white\", \"ticks\": \"\"}, \"bgcolor\": \"#E5ECF6\", \"radialaxis\": {\"gridcolor\": \"white\", \"linecolor\": \"white\", \"ticks\": \"\"}}, \"scene\": {\"xaxis\": {\"backgroundcolor\": \"#E5ECF6\", \"gridcolor\": \"white\", \"gridwidth\": 2, \"linecolor\": \"white\", \"showbackground\": true, \"ticks\": \"\", \"zerolinecolor\": \"white\"}, \"yaxis\": {\"backgroundcolor\": \"#E5ECF6\", \"gridcolor\": \"white\", \"gridwidth\": 2, \"linecolor\": \"white\", \"showbackground\": true, \"ticks\": \"\", \"zerolinecolor\": \"white\"}, \"zaxis\": {\"backgroundcolor\": \"#E5ECF6\", \"gridcolor\": \"white\", \"gridwidth\": 2, \"linecolor\": \"white\", \"showbackground\": true, \"ticks\": \"\", \"zerolinecolor\": \"white\"}}, \"shapedefaults\": {\"line\": {\"color\": \"#2a3f5f\"}}, \"ternary\": {\"aaxis\": {\"gridcolor\": \"white\", \"linecolor\": \"white\", \"ticks\": \"\"}, \"baxis\": {\"gridcolor\": \"white\", \"linecolor\": \"white\", \"ticks\": \"\"}, \"bgcolor\": \"#E5ECF6\", \"caxis\": {\"gridcolor\": \"white\", \"linecolor\": \"white\", \"ticks\": \"\"}}, \"title\": {\"x\": 0.05}, \"xaxis\": {\"automargin\": true, \"gridcolor\": \"white\", \"linecolor\": \"white\", \"ticks\": \"\", \"title\": {\"standoff\": 15}, \"zerolinecolor\": \"white\", \"zerolinewidth\": 2}, \"yaxis\": {\"automargin\": true, \"gridcolor\": \"white\", \"linecolor\": \"white\", \"ticks\": \"\", \"title\": {\"standoff\": 15}, \"zerolinecolor\": \"white\", \"zerolinewidth\": 2}}}, \"title\": {\"text\": \"Diabetes synonym counts in title / abstract metadata<br><i>Hover over dots for exact values</i>\"}, \"xaxis\": {\"title\": {\"text\": \"Count\"}}, \"yaxis\": {\"title\": {\"text\": \"Regex\"}}},\n",
       "                        {\"responsive\": true}\n",
       "                    ).then(function(){\n",
       "                            \n",
       "var gd = document.getElementById('9b08914c-8383-41eb-924e-2cb505d15b72');\n",
       "var x = new MutationObserver(function (mutations, observer) {{\n",
       "        var display = window.getComputedStyle(gd).display;\n",
       "        if (!display || display === 'none') {{\n",
       "            console.log([gd, 'removed!']);\n",
       "            Plotly.purge(gd);\n",
       "            observer.disconnect();\n",
       "        }}\n",
       "}});\n",
       "\n",
       "// Listen for the removal of the full notebook cells\n",
       "var notebookContainer = gd.closest('#notebook-container');\n",
       "if (notebookContainer) {{\n",
       "    x.observe(notebookContainer, {childList: true});\n",
       "}}\n",
       "\n",
       "// Listen for the clearing of the current output cell\n",
       "var outputEl = gd.closest('.output');\n",
       "if (outputEl) {{\n",
       "    x.observe(outputEl, {childList: true});\n",
       "}}\n",
       "\n",
       "                        })\n",
       "                };\n",
       "                });\n",
       "            </script>\n",
       "        </div>"
      ]
     },
     "metadata": {},
     "output_type": "display_data"
    }
   ],
   "source": [
    "diabetes_synonyms = [\n",
    "    'diabet', # picks up diabetes, diabetic, etc.\n",
    "    'insulin', # any paper mentioning insulin likely to be relevant\n",
    "    'blood sugar',\n",
    "    'blood glucose',\n",
    "    'ketoacidosis',\n",
    "    'hyperglycemi', # picks up hyperglycemia and hyperglycemic\n",
    "]\n",
    "df, diabetes_counts = count_and_tag(df, diabetes_synonyms, 'risk_diabetes')\n",
    "dotplot(diabetes_counts, 'Diabetes synonym counts in title / abstract metadata')"
   ]
  },
  {
   "cell_type": "code",
   "execution_count": 58,
   "metadata": {},
   "outputs": [
    {
     "data": {
      "text/plain": [
       "diabet           350\n",
       "insulin          112\n",
       "blood glucose     31\n",
       "hyperglycemi      18\n",
       "ketoacidosis       2\n",
       "blood sugar        2\n",
       "dtype: int64"
      ]
     },
     "execution_count": 58,
     "metadata": {},
     "output_type": "execute_result"
    }
   ],
   "source": [
    "diabetes_counts.sort_values(ascending=False)"
   ]
  },
  {
   "cell_type": "code",
   "execution_count": 59,
   "metadata": {},
   "outputs": [
    {
     "name": "stdout",
     "output_type": "stream",
     "text": [
      "There are 57 papers on Covid-19 and diabetes\n"
     ]
    }
   ],
   "source": [
    "n = (df.tag_disease_covid19 & df.tag_risk_diabetes).sum()\n",
    "print(f'There are {n} papers on Covid-19 and diabetes')"
   ]
  },
  {
   "cell_type": "code",
   "execution_count": 60,
   "metadata": {},
   "outputs": [
    {
     "name": "stdout",
     "output_type": "stream",
     "text": [
      "1 of 57\n",
      "Clinical features and progression of acute respiratory distress syndrome in coronavirus disease 2019\n",
      "[ http://doi.org/10.1101/2020.02.17.20024166 ]\n",
      "    \"xistent conditions, including diabetes (20.8% vs. 1.8%), cerebrovascular disease (11.3% vs. 0%), and chronic kidney disease (15.1% vs. 3.6%). Compared to mild ARDS patients, those with moderate and severe ARDS had higher mortality rates. No significant effect of antivirus, glucocorticoid, or immunog\"\n",
      "---\n",
      "2 of 57\n",
      "Clinical characteristics of 25 death cases infected with COVID-19 pneumonia: a retrospective review of medical records in a single medical center, Wuhan, China\n",
      "[ http://doi.org/10.1101/2020.02.19.20025239 ]\n",
      "    \"ion (16/25, 64%), followed by diabetes (10/25, 40%), heart diseases (8/25, 32%), kidney diseases (5/25, 20%), cerebral infarction (4/25, 16%), chronic obstructive pulmonary disease (COPD, 2/25, 8%), malignant tumors (2/25, 8%) and acute pancreatitis (1/25, 4%). The most common organ damage outside t\"\n",
      "---\n",
      "3 of 57\n",
      "Clinical characteristics of 51 patients discharged from hospital with COVID-19 in Chongqing，China\n",
      "[ http://doi.org/10.1101/2020.02.20.20025536 ]\n",
      "    \"), had a higher proportion of diabetes mellitus (4 [57.1%] vs 0 [0.0%]), most of them needed antibiotic treatment (7 [100%] vs 4 [9.1%], most of them needed nutritional diet (6 [85.7%) vs 0 [0.0%], and were more likely to have dyspnea (6 [85.7%] vs 5 [11.4%])，most of them needed noninvasive mechanic\"\n",
      "---\n",
      "4 of 57\n",
      "Clinical and radiographic features of cardiac injury in patients with 2019 novel coronavirus pneumonia\n",
      "[ http://doi.org/10.1101/2020.02.24.20027052 ]\n",
      "    \" as hypertension, CAD, type 2 diabetes mellites and tumor. The peak value of TnI in critical patients is 40-fold more than normal value. 2 patients in the critical group had the onset of atrial fibrillation, and the peak heart rates reached up to 160 bpm. CT scan showed low EAT density in severe and\"\n",
      "---\n",
      "5 of 57\n",
      "Comorbidity and its impact on 1,590 patients with COVID-19 in China: A Nationwide Analysis\n",
      "[ http://doi.org/10.1101/2020.02.25.20027664 ]\n",
      "    \"es, cerebrovascular diseases, diabetes, hepatitis B infections, chronic obstructive pulmonary disease, chronic kidney diseases, malignancy and immunodeficiency, respectively. 130 (8.2%) patients reported having two or more comorbidities. Patients with two or more comorbidities had significantly esca\"\n",
      "---\n",
      "6 of 57\n",
      "Clinical characteristics of 82 death cases with COVID-19\n",
      "[ http://doi.org/10.1101/2020.02.26.20028191 ]\n",
      "    \"6.1%), heart disease (20.7%), diabetes (18.3%), cerebrovascular disease (12.2%), and cancer (7.3%). Respiratory failure remained the leading cause of death (69.5%), following by sepsis syndrome/MOF (28.0%), cardiac failure (14.6%), hemorrhage (6.1%), and renal failure (3.7%). Furthermore, respirator\"\n",
      "---\n",
      "7 of 57\n",
      "Clinical characteristics of 36 non-survivors with COVID-19 in Wuhan, China\n",
      "[ http://doi.org/10.1101/2020.02.27.20029009 ]\n",
      "    \"n, cardiovascular disease and diabetes. Patients had common clinical symptoms of fever (34 [94.44%] patients), cough (28 [77.78%] patients), shortness of breath (21 [58.33%] patients), and fatigue (17 [47.22%] patient). Chest computed tomographic scans showed that 31 (96.88%) patients had bilateral \"\n",
      "---\n",
      "8 of 57\n",
      "Clinical characteristics of 101 non-surviving hospitalized patients with COVID-19: A single center, retrospective study\n",
      "[ http://doi.org/10.1101/2020.03.04.20031039 ]\n",
      "    \"g hypertension (59 [58.42%]), diabetes (22 [21.78%]) etc. 100 (99.01%) suffered respiratory failure, 53 (52.48%) developed acute cardiac injury, acute kidney and liver injury occurred in 23 (22.77%) and 18 (17.82%) patients, respectively. Multivariable regression analysis showed that elevated high s\"\n",
      "---\n",
      "9 of 57\n",
      "Exploring diseases/traits and blood proteins causally related to expression of ACE2, the putative receptor of 2019-nCov: A Mendelian Randomization analysis\n",
      "[ http://doi.org/10.1101/2020.03.04.20031237 ]\n",
      "    \"ve causal association between diabetes-related traits and increased ACE2 expression. Based on one of the largest GWAS on type II diabetes (T2DM) to date (N=898,130), we found that T2DM is causally linked to raised ACE2 expression (beta=0.1835, 95% CI 0.0853-0.2817; p=2.49E-4; GSMR method). Significa\"\n",
      "---\n",
      "10 of 57\n",
      "Acute Myocardial Injury of Patients with Coronavirus Disease 2019\n",
      "[ http://doi.org/10.1101/2020.03.05.20031591 ]\n",
      "    \" comorbidities (hypertension, diabetes, cardiovascular diseases, and chronic obstructive pulmonary disease). Novel coronavirus pneumonia (NCP) severity was higher in the AMI patients than in patients with non-definite AMI (p<0.001). All the AMI patients required care in intensive care unit; of them,\"\n",
      "---\n",
      "11 of 57\n",
      "The epidemiological characteristics of 2019 novel coronavirus diseases (COVID-19) in Jingmen,Hubei,China\n",
      "[ http://doi.org/10.1101/2020.03.07.20031393 ]\n",
      "    \"ases, including hypertension, diabetes, heart failure, stroke, and renal insufficiency. Under the controlled measures, the number of new patients gradually decreased and nearly disappeared after 20 days. Interpretation: All people are susceptible to the COVID-19, but older males and those with comor\"\n",
      "---\n",
      "12 of 57\n",
      "Active or latent tuberculosis increases susceptibility to COVID-19 and disease severity\n",
      "[ http://doi.org/10.1101/2020.03.10.20033795 ]\n",
      "    \"her co-morbidities (36.11% vs diabetes: 25%; hypertension: 22.2%; coronary heart disease: 8.33%; COPD: 5.56%). MTB co-infection linked with disease severity (severe/critical 78% vs mild/moderate cases 22%; p=0.0049), and rate of disease progression: infection to development of symptoms (MTB+SARS-CoV\"\n",
      "---\n",
      "13 of 57\n",
      "Clinical features and outcomes of 2019 novel coronavirus-infected patients with cardiac injury\n",
      "[ http://doi.org/10.1101/2020.03.11.20030957 ]\n",
      "    \" heart disease (n=3, 20%) and diabetes (n=3, 20%). The most common symptoms at illness onset in patients with cardiac injury were fever (n=11, 73.3%), cough (n=7, 46.7%), headache or fatigue (n=5, 33.3%) and dyspnoea (n=4, 26.6%). These patients had higher systolic pressures, and lower lymphocyte co\"\n",
      "---\n",
      "14 of 57\n",
      "Ocular manifestations and clinical characteristics of 534 cases of COVID-19 in China: A cross-sectional study\n",
      "[ http://doi.org/10.1101/2020.03.12.20034678 ]\n",
      "    \"2%), cataract (9, 1.69%), and diabetic retinopathy (5, 0.94%). In consistent with previous studies, the most common clinical symptoms were fever, cough, and fatigue. Patients, 60.5% in Mobile Cabin Hospital and 67.5% in Tongji Hospital, respectively were confirmed with positive SARS-CoV-2 detection.\"\n",
      "---\n",
      "15 of 57\n",
      "Influence factors of death risk among COVID-19 patients in Wuhan, China: a hospital-based case-cohort study\n",
      "[ http://doi.org/10.1101/2020.03.13.20035329 ]\n",
      "    \"e of comorbidities, including diabetes, hypertension, hepatic disease, cardiac disease, chronic pulmonary disease and others. Among all patients, critical cases, defined as oxygenation index lower than 200, accounted for 26.2%. Severe cases, oxygenation index from 200 to 300, were 29.7%. Besides, co\"\n",
      "---\n",
      "16 of 57\n",
      "Favipiravir versus Arbidol for COVID-19: A Randomized Clinical Trial\n",
      "[ http://doi.org/10.1101/2020.03.17.20037432 ]\n",
      "    \"ents with hypertension and/or diabetes, the time of fever reduction and cough relief in favipiravir group was significantly shorter than that in arbidol group (both P < 0.001), but there was no statistical difference was observed of auxiliary oxygen therapy or noninvasive mechanical ventilation rate\"\n",
      "---\n",
      "17 of 57\n",
      "A Tool to Early Predict Severe 2019-Novel Coronavirus Pneumonia (COVID-19) : A Multicenter Study using the Risk Nomogram in Wuhan and Guangdong, China\n",
      "[ http://doi.org/10.1101/2020.03.17.20037515 ]\n",
      "    \"ease, including hypertension, diabetes, coronary heart disease, chronic respiratory disease, tuberculosis disease. We found one demographic and six serological indicators (age, serum lactate dehydrogenase, C-reactive protein, the coefficient of variation of red blood cell distribution width (RDW), b\"\n",
      "---\n",
      "18 of 57\n",
      "Incidence, clinical characteristics and prognostic factor of patients with COVID-19: a systematic review and meta-analysis\n",
      "[ http://doi.org/10.1101/2020.03.17.20037572 ]\n",
      "    \" 4.48; 95% CI, 3.69-5.45) and diabetes (RR = 4.43; 95% CI, 3.49-5.61) were found to be independent prognostic factors for the COVID-19 related death. Conclusions: To our knowledge, this is the first evidence-based medicine research to explore the risk factors of prognosis in patients with COVID-19, \"\n",
      "---\n",
      "19 of 57\n",
      "Clinical Characteristics of Coronavirus Disease 2019 in Hainan, China\n",
      "[ http://doi.org/10.1101/2020.03.19.20038539 ]\n",
      "    \".2%). The elderly people with diabetes, hypertension and CVD are more likely to develop severe cases. Follow-up of 160 discharged patients found that 20 patients (12.5%) had a positive RT-PCR test results of pharyngeal swabs or anal swabs or fecal. Conclusions: In light of the rapid spread of Covid-\"\n",
      "---\n",
      "20 of 57\n",
      "Estimating excess 1- year mortality from COVID-19 according to underlying conditions and age in England: a rapid analysis using NHS health records in 3.8 million adults\n",
      "[ http://doi.org/10.1101/2020.03.22.20040287 ]\n",
      "    \"ardiovascular disease (2.3%), diabetes (2.2%), steroid therapy (1.9%), severe obesity (0.9%), chronic kidney disease (0.6%) and chronic obstructive pulmonary disease, COPD (0.5%). Multimorbidity (co-occurrence of ≥2 conditions in an individual) was common (10.1%). The 1-year mortality in the at-risk\"\n",
      "---\n",
      "21 of 57\n",
      "Hypertension and Diabetes Delay the Viral Clearance in COVID-19 Patients\n",
      "[ http://doi.org/10.1101/2020.03.22.20040774 ]\n",
      "    \"tors (including hypertension, diabetes, and cardiovascular diseases) adversely affected the viral clearance. Furthermore, analysis by a random forest survival model pointed out hypertension, cortisone treatment, gender, and age as the four most important variables. Conclusions: We conclude that pati\"\n",
      "---\n",
      "22 of 57\n",
      "Imaging changes of severe COVID-19 pneumonia in advanced stage\n",
      "[ http://doi.org/10.1007/s00134-020-05990-y ]\n",
      "    \"-year hypertension and 1-year diabetes. He presently received advanced life support treatment including respiratory support (invasive mechanical ventilation) and circulatory support (vasoconstrictor assistance), as well as intermittent renal replacement therapy (IRRT) in intensive care unit (ICU) of\"\n",
      "---\n",
      "23 of 57\n",
      "Risk Factors Associated With Acute Respiratory Distress Syndrome and Death in Patients With Coronavirus Disease 2019 Pneumonia in Wuhan, China\n",
      "[ http://doi.org/10.1001/jamainternmed.2020.0994 ]\n",
      "    \".7%; 95% CI, 1.3%-26.1%]) and diabetes (16 of 84 [19.0%] patients and 6 of 117 [5.1%] patients, respectively [difference, 13.9%; 95% CI, 3.6%-24.2%]). In bivariate Cox regression analysis, risk factors associated with the development of ARDS and progression from ARDS to death included older age (haz\"\n",
      "---\n",
      "24 of 57\n",
      "Clinical features of deaths in the novel coronavirus epidemic in China\n",
      "[ http://doi.org/10.1002/rmv.2103 ]\n",
      "    \"be associated with mortality. Diabetes was likely to be associated with mortality. There is, however, not yet sufficient evidence to support the association between hypertension and mortality as similar prevalence of hypertension was also observed in the Hubei population.\"\n",
      "---\n",
      "25 of 57\n",
      "Prevalence and impact of cardiovascular metabolic diseases on COVID-19 in China\n",
      "[ http://doi.org/10.1007/s00392-020-01626-9 ]\n",
      "    \"a-cerebrovascular disease and diabetes in patients with COVID-19 were 17.1%, 16.4% and 9.7%, respectively. The incidences of hypertension, cardia-cerebrovascular diseases and diabetes were about twofolds, threefolds and twofolds, respectively, higher in ICU/severe cases than in their non-ICU/severe \"\n",
      "---\n",
      "26 of 57\n",
      "The 2019 novel cornoavirus pneumonia with onset of oculomotor nerve palsy: a case study\n",
      "[ http://doi.org/10.1007/s00415-020-09773-9 ]\n",
      "    \"ohol and tobacco use, type II diabetes mellitus and hypertension (both well controlled by drugs), and lacunar infarction (without sequela).DA - 2020/02/25\"\n",
      "---\n",
      "27 of 57\n",
      "A Locally Transmitted Case of SARS-CoV-2 Infection in Taiwan\n",
      "[ http://doi.org/10.1056/nejmc2001573 ]\n",
      "    \"oman with a history of type 2 diabetes presented with fever to an emergency department in central Taiwan. She was admitted to the hospital because of suspicion of pneumonia associated with SARS-CoV-2 infection. She had lived in Wuhan from October 21, 2019, to January 20, 2020. She returned to Taiwan\"\n",
      "---\n",
      "28 of 57\n",
      "A Diabetic Patient With 2019-nCoV Infection Who Recovered and Was Discharged From Hospital\n",
      "[ http://doi.org/10.1097/rti.0000000000000506 ]\n",
      "    \"9-nCoV infection in our young diabetic patient featured ground-glass opacities and consolidations in both lungs. The lung lesions may involute rapidly during the course. The patient showed improvement both clinically and on computed tomography imaging at discharged after 2 weeks'treatment. Computed \"\n",
      "---\n",
      "29 of 57\n",
      "Diabetes and COVID-19\n",
      "[ http://doi.org/10.1111/1753-0407.13027 ]\n",
      "    \"Providing care to people with diabetes is an important part of the effort. The Journal of Diabetes was started more than a decade ago in a spirit of collaboration between East and West addressing the epidemiology, etiology, pathogenesis, management, complications, and prevention of diabetes. The jou\"\n",
      "---\n",
      "30 of 57\n",
      "Clinical characteristics of 140 patients infected by SARS-CoV-2 in Wuhan, China\n",
      "[ http://doi.org/10.1111/all.14238 ]\n",
      "    \"reas hypertension (30.0%) and diabetes mellitus (12.1%) were the most common comorbidities. Drug hypersensitivity (11.4%) and urticaria (1.4%) were self-reported by several patients. Asthma or other allergic diseases was not reported by any of the patients. Chronic obstructive pulmonary disease (COP\"\n",
      "---\n",
      "31 of 57\n",
      "Clinical analysis of 31 cases of 2019 novel coronavirus infection in children from six provinces (autonomous region) of northern China\n",
      "[ http://doi.org/10.3760/cma.j.cn112140-20200225-00138 ]\n",
      "    \"oportions. Renal function and blood glucose were normal. There were abnormal chest CT changes in 14 cases, including 9 cases with patchy ground glass opacities and nodules, mostly located in the lower lobe of both lungs near the pleural area. After receiving supportive treatment, the viral nucleic a\"\n",
      "---\n",
      "32 of 57\n",
      "[Analysis of myocardial injury in patients with COVID-19 and association between concomitant cardiovascular diseases and severity of COVID-19]\n",
      "[ http://doi.org/10.3760/cma.j.cn112148-20200225-00123 ]\n",
      "    \"story including hypertension, diabetes and coronary heart disease (CHD) , as well as the levels of serum NT-proBNP and cTnI to the disease severity of COVID-19 patients. Results: Age, hypersensitive C-reactive protein(hs-CRP) and serum creatinine levels of the patients were higher in critical care c\"\n",
      "---\n",
      "33 of 57\n",
      "Impact of complicated myocardial injury on the clinical outcome of severe or critically ill COVID-19 patients\n",
      "[ http://doi.org/10.3760/cma.j.cn112148-20200228-00137 ]\n",
      "    \"hypertension, 13 (24.1%) with diabetes, 8 (14.8%) with coronary heart disease, and 3 (5.6%) with previous cerebral infarction. During hospitalization, 24 (44.4%) of the patients were complicated with myocardial injury and 26 (48.1%) patients died in hospital. In-hospital mortality was significantly \"\n",
      "---\n",
      "34 of 57\n",
      "Clinical features of 2019 novel coronavirus pneumonia in the early stage from a fever clinic in Beijing\n",
      "[ http://doi.org/10.3760/cma.j.issn.1001-0939.2020.0013 ]\n",
      "    \"disease and one suffered from diabetes. 7 patients had a history of travel to Wuhan City or Hubei Province, and one patient was a medical staff. Two family clustered was found. The incubation period was 1 to 6 days. The clinical manifestations were fever in 8 cases (8/9) , dry cough in 5 cases (5/9)\"\n",
      "---\n",
      "35 of 57\n",
      "Novel coronavirus (2019-nCoV) update: What we know and what is unknown\n",
      "[ http://doi.org/10.4103/1995-7645.277795 ]\n",
      "    \"ses (comorbidities) including diabetes, hypertension, cardiovascular disease, chronic obstructive pulmonary disease, malignancy and chronic liver disease[6]. Patient presented with fever, cough, myalgia, sputum production, headache, haemoptysis, diarrhea and dyspnea[6]. Person- to-person transmissio\"\n",
      "---\n",
      "36 of 57\n",
      "Paying close attention to diabetic patients with novel coronavirus infection\n",
      "[ http://doi.org/ ]\n",
      "    \"nical studies have shown that diabetes is commonly complicated with this disorder. Hyperglycemia is a risk factor for severe infection, and also an independent risk factor for the progression of mild infection to severe infection. This may be related to the immune deficiency of diabetics. Besides, v\"\n",
      "---\n",
      "37 of 57\n",
      "Novel Coronavirus Disease 2019 (COVID-19): An Emerging Infectious Disease in the 21st Century\n",
      "[ http://doi.org/ ]\n",
      "    \"with coronary artery disease, diabetes, chronic pulmonary disease, and hypertension. The mortality rate in healthy subjects is less than 1%. Conclusion: The outbreak caused by the novel coronavirus is larger than the previous human coronaviruses, showing that the SARS-CoV-2 is an extremely contagiou\"\n",
      "---\n",
      "38 of 57\n",
      "Use Stones from Another Mountain to Polish One’s Jade: Learn from MERS Studies toexplore potential mechanisms underlying the effect of diabetes mellitus on COVID-19\n",
      "[ http://doi.org/ ]\n",
      "    \"studies suggest that comorbid diabetes may have negative impact on the progression and severity of the coronavirus disease 2019 (COVID-19), which first occurred in Wuhan. However, the exact mechanism remains unclear. A recent study on another type of coronavirus infection, Middle East Respiratory Sy\"\n",
      "---\n",
      "39 of 57\n",
      "Analysis of clinical features of 153 patients with novel coronavirus pneumonia in Chongqing\n",
      "[ http://doi.org/ ]\n",
      "    \"verity. Results Combined with diabetes and chronic respiratory diseases, the severity of the disease was statistically significant ( &chi; 2 =11.04&#21644;6.94, P &lt;0.05). No symptoms were found in patients with mild illness ( &chi; 2 =4.09, P &lt;0.05) .The proportion of fever and muscle soreness\"\n",
      "---\n",
      "40 of 57\n",
      "Clinical features of 30 cases with novel coronavirus pneumonia\n",
      "[ http://doi.org/ ]\n",
      "    \"eases including hypertension, diabetes, coronary heart disease and bronchitis. On admission, two (7%) cases were mild, 19 (63%) cases were ordinary, eight (27%) cases were severe, and one (3%) case was critical. Clinical manifestations mainly include fever, with or without upper respiratory tract sy\"\n",
      "---\n",
      "41 of 57\n",
      "Clinical analysis of 23 cases of 2019 novel coronavirus infection in Xinyang City, Henan Province\n",
      "[ http://doi.org/ ]\n",
      "    \"ardiovascular diseases (17%), diabetes (9%), hypothyroidism (4%) and old tuberculosis (4%). All the 23 patients had contact history in Wuhan area or with confirmed infections. Clinical symptoms included: fever (100%), cough (70%), expectoration (43%), myalgia (26%), headache (17%) and dyspnea (17%),\"\n",
      "---\n",
      "42 of 57\n",
      "Performance of urea-mediated dissociation in reducing false-positive of 2019-nCoV IgM test\n",
      "[ http://doi.org/ ]\n",
      "    \"ypertension patients serum, 5 diabetes mellitus patients serum, 6 human immunodeficiency virus (HIV) infection patients serum and 6 Corona Virus Disease 2019 (COVID-19) patients serum. The interference factors causing false positive results of the two methods were analyzed, and urea dissociation tes\"\n",
      "---\n",
      "43 of 57\n",
      "Expert recommendations for diabetes with or without COVID-19 management in communities\n",
      "[ http://doi.org/ ]\n",
      "    \" observed among patients with diabetes. There are rigorous challenges existing in terms of diabetes prevention and glycemic control in primary medical care during period of COVID-19. Here, expert recommendations were developed by Chinese diabetologists, healthcare providers, and public health admini\"\n",
      "---\n",
      "44 of 57\n",
      "Diabetes patients with COVID-19 need better care\n",
      "[ http://doi.org/10.1016/j.metabol.2020.154216 ]\n",
      "NO ABSTRACT\n",
      "---\n",
      "45 of 57\n",
      "Commentary: COVID-19 in Patients with Diabetes\n",
      "[ http://doi.org/10.1016/j.metabol.2020.154217 ]\n",
      "NO ABSTRACT\n",
      "---\n",
      "46 of 57\n",
      "Timely blood glucose management for the outbreak of 2019 novel coronavirus disease (COVID-19) is urgently needed\n",
      "[ http://doi.org/10.1016/j.diabres.2020.108118 ]\n",
      "NO ABSTRACT\n",
      "---\n",
      "47 of 57\n",
      "Contentious Issues and Evolving Concepts in the Clinical Presentation and Management of Patients with COVID-19 Infectionwith Reference to Use of Therapeutic and Other Drugs used in Co-morbid Diseases (Hypertension, Diabetes etc)\n",
      "[ http://doi.org/10.1016/j.dsx.2020.03.012 ]\n",
      "    \"Abstract Background and Aims Multiple issues in management of COVID have emerged, but confusion persists regarding rational interpretation. Aim of this brief review is to review these issues based on current literature. Methods This is a narrative review with Pubmed and Google Scholar search till 23\"\n",
      "---\n",
      "48 of 57\n",
      "Clinical course and risk factors for mortality of adult inpatients with COVID-19 in Wuhan, China: a retrospective cohort study\n",
      "[ http://doi.org/10.1016/s0140-6736(20)30566-3 ]\n",
      "    \" [30%] patients), followed by diabetes (36 [19%] patients) and coronary heart disease (15 [8%] patients). Multivariable regression showed increasing odds of in-hospital death associated with older age (odds ratio 1·10, 95% CI 1·03–1·17, per year increase; p=0·0043), higher Sequential Organ Failure A\"\n",
      "---\n",
      "49 of 57\n",
      "Characteristics of and Public Health Responses to the Coronavirus Disease 2019 Outbreak in China\n",
      "[ http://doi.org/10.3390/jcm9020575 ]\n",
      "    \"y cases include hypertension, diabetes, coronary heart disease, cerebral infarction, and chronic bronchitis. The source of the virus and the pathogenesis of this disease are still unconfirmed. No specific therapeutic drug has been found. The Chinese Government has initiated a level-1 public health r\"\n",
      "---\n"
     ]
    }
   ],
   "source": [
    "print_key_phrases(df[df.tag_disease_covid19 & df.tag_risk_diabetes],\n",
    "                  diabetes_synonyms, n=49)"
   ]
  },
  {
   "cell_type": "markdown",
   "metadata": {},
   "source": [
    "## Hypertension"
   ]
  },
  {
   "cell_type": "code",
   "execution_count": 61,
   "metadata": {},
   "outputs": [
    {
     "data": {
      "text/html": [
       "<div>\n",
       "        \n",
       "        \n",
       "            <div id=\"1fe5d4b0-aefe-4b39-a4a6-e6f9529cca5d\" class=\"plotly-graph-div\" style=\"height:525px; width:100%;\"></div>\n",
       "            <script type=\"text/javascript\">\n",
       "                require([\"plotly\"], function(Plotly) {\n",
       "                    window.PLOTLYENV=window.PLOTLYENV || {};\n",
       "                    \n",
       "                if (document.getElementById(\"1fe5d4b0-aefe-4b39-a4a6-e6f9529cca5d\")) {\n",
       "                    Plotly.newPlot(\n",
       "                        '1fe5d4b0-aefe-4b39-a4a6-e6f9529cca5d',\n",
       "                        [{\"marker\": {\"color\": \"crimson\", \"size\": 12}, \"mode\": \"markers\", \"name\": \"Count\", \"type\": \"scatter\", \"x\": [2, 4, 77, 199], \"y\": [\"\\\\bhtn\\\\b\", \"\\\\bhbp\\\\b\", \"blood pressure\", \"hypertension\"]}],\n",
       "                        {\"template\": {\"data\": {\"bar\": [{\"error_x\": {\"color\": \"#2a3f5f\"}, \"error_y\": {\"color\": \"#2a3f5f\"}, \"marker\": {\"line\": {\"color\": \"#E5ECF6\", \"width\": 0.5}}, \"type\": \"bar\"}], \"barpolar\": [{\"marker\": {\"line\": {\"color\": \"#E5ECF6\", \"width\": 0.5}}, \"type\": \"barpolar\"}], \"carpet\": [{\"aaxis\": {\"endlinecolor\": \"#2a3f5f\", \"gridcolor\": \"white\", \"linecolor\": \"white\", \"minorgridcolor\": \"white\", \"startlinecolor\": \"#2a3f5f\"}, \"baxis\": {\"endlinecolor\": \"#2a3f5f\", \"gridcolor\": \"white\", \"linecolor\": \"white\", \"minorgridcolor\": \"white\", \"startlinecolor\": \"#2a3f5f\"}, \"type\": \"carpet\"}], \"choropleth\": [{\"colorbar\": {\"outlinewidth\": 0, \"ticks\": \"\"}, \"type\": \"choropleth\"}], \"contour\": [{\"colorbar\": {\"outlinewidth\": 0, \"ticks\": \"\"}, \"colorscale\": [[0.0, \"#0d0887\"], [0.1111111111111111, \"#46039f\"], [0.2222222222222222, \"#7201a8\"], [0.3333333333333333, \"#9c179e\"], [0.4444444444444444, \"#bd3786\"], [0.5555555555555556, \"#d8576b\"], [0.6666666666666666, \"#ed7953\"], [0.7777777777777778, \"#fb9f3a\"], [0.8888888888888888, \"#fdca26\"], [1.0, \"#f0f921\"]], \"type\": \"contour\"}], \"contourcarpet\": [{\"colorbar\": {\"outlinewidth\": 0, \"ticks\": \"\"}, \"type\": \"contourcarpet\"}], \"heatmap\": [{\"colorbar\": {\"outlinewidth\": 0, \"ticks\": \"\"}, \"colorscale\": [[0.0, \"#0d0887\"], [0.1111111111111111, \"#46039f\"], [0.2222222222222222, \"#7201a8\"], [0.3333333333333333, \"#9c179e\"], [0.4444444444444444, \"#bd3786\"], [0.5555555555555556, \"#d8576b\"], [0.6666666666666666, \"#ed7953\"], [0.7777777777777778, \"#fb9f3a\"], [0.8888888888888888, \"#fdca26\"], [1.0, \"#f0f921\"]], \"type\": \"heatmap\"}], \"heatmapgl\": [{\"colorbar\": {\"outlinewidth\": 0, \"ticks\": \"\"}, \"colorscale\": [[0.0, \"#0d0887\"], [0.1111111111111111, \"#46039f\"], [0.2222222222222222, \"#7201a8\"], [0.3333333333333333, \"#9c179e\"], [0.4444444444444444, \"#bd3786\"], [0.5555555555555556, \"#d8576b\"], [0.6666666666666666, \"#ed7953\"], [0.7777777777777778, \"#fb9f3a\"], [0.8888888888888888, \"#fdca26\"], [1.0, \"#f0f921\"]], \"type\": \"heatmapgl\"}], \"histogram\": [{\"marker\": {\"colorbar\": {\"outlinewidth\": 0, \"ticks\": \"\"}}, \"type\": \"histogram\"}], \"histogram2d\": [{\"colorbar\": {\"outlinewidth\": 0, \"ticks\": \"\"}, \"colorscale\": [[0.0, \"#0d0887\"], [0.1111111111111111, \"#46039f\"], [0.2222222222222222, \"#7201a8\"], [0.3333333333333333, \"#9c179e\"], [0.4444444444444444, \"#bd3786\"], [0.5555555555555556, \"#d8576b\"], [0.6666666666666666, \"#ed7953\"], [0.7777777777777778, \"#fb9f3a\"], [0.8888888888888888, \"#fdca26\"], [1.0, \"#f0f921\"]], \"type\": \"histogram2d\"}], \"histogram2dcontour\": [{\"colorbar\": {\"outlinewidth\": 0, \"ticks\": \"\"}, \"colorscale\": [[0.0, \"#0d0887\"], [0.1111111111111111, \"#46039f\"], [0.2222222222222222, \"#7201a8\"], [0.3333333333333333, \"#9c179e\"], [0.4444444444444444, \"#bd3786\"], [0.5555555555555556, \"#d8576b\"], [0.6666666666666666, \"#ed7953\"], [0.7777777777777778, \"#fb9f3a\"], [0.8888888888888888, \"#fdca26\"], [1.0, \"#f0f921\"]], \"type\": \"histogram2dcontour\"}], \"mesh3d\": [{\"colorbar\": {\"outlinewidth\": 0, \"ticks\": \"\"}, \"type\": \"mesh3d\"}], \"parcoords\": [{\"line\": {\"colorbar\": {\"outlinewidth\": 0, \"ticks\": \"\"}}, \"type\": \"parcoords\"}], \"pie\": [{\"automargin\": true, \"type\": \"pie\"}], \"scatter\": [{\"marker\": {\"colorbar\": {\"outlinewidth\": 0, \"ticks\": \"\"}}, \"type\": \"scatter\"}], \"scatter3d\": [{\"line\": {\"colorbar\": {\"outlinewidth\": 0, \"ticks\": \"\"}}, \"marker\": {\"colorbar\": {\"outlinewidth\": 0, \"ticks\": \"\"}}, \"type\": \"scatter3d\"}], \"scattercarpet\": [{\"marker\": {\"colorbar\": {\"outlinewidth\": 0, \"ticks\": \"\"}}, \"type\": \"scattercarpet\"}], \"scattergeo\": [{\"marker\": {\"colorbar\": {\"outlinewidth\": 0, \"ticks\": \"\"}}, \"type\": \"scattergeo\"}], \"scattergl\": [{\"marker\": {\"colorbar\": {\"outlinewidth\": 0, \"ticks\": \"\"}}, \"type\": \"scattergl\"}], \"scattermapbox\": [{\"marker\": {\"colorbar\": {\"outlinewidth\": 0, \"ticks\": \"\"}}, \"type\": \"scattermapbox\"}], \"scatterpolar\": [{\"marker\": {\"colorbar\": {\"outlinewidth\": 0, \"ticks\": \"\"}}, \"type\": \"scatterpolar\"}], \"scatterpolargl\": [{\"marker\": {\"colorbar\": {\"outlinewidth\": 0, \"ticks\": \"\"}}, \"type\": \"scatterpolargl\"}], \"scatterternary\": [{\"marker\": {\"colorbar\": {\"outlinewidth\": 0, \"ticks\": \"\"}}, \"type\": \"scatterternary\"}], \"surface\": [{\"colorbar\": {\"outlinewidth\": 0, \"ticks\": \"\"}, \"colorscale\": [[0.0, \"#0d0887\"], [0.1111111111111111, \"#46039f\"], [0.2222222222222222, \"#7201a8\"], [0.3333333333333333, \"#9c179e\"], [0.4444444444444444, \"#bd3786\"], [0.5555555555555556, \"#d8576b\"], [0.6666666666666666, \"#ed7953\"], [0.7777777777777778, \"#fb9f3a\"], [0.8888888888888888, \"#fdca26\"], [1.0, \"#f0f921\"]], \"type\": \"surface\"}], \"table\": [{\"cells\": {\"fill\": {\"color\": \"#EBF0F8\"}, \"line\": {\"color\": \"white\"}}, \"header\": {\"fill\": {\"color\": \"#C8D4E3\"}, \"line\": {\"color\": \"white\"}}, \"type\": \"table\"}]}, \"layout\": {\"annotationdefaults\": {\"arrowcolor\": \"#2a3f5f\", \"arrowhead\": 0, \"arrowwidth\": 1}, \"coloraxis\": {\"colorbar\": {\"outlinewidth\": 0, \"ticks\": \"\"}}, \"colorscale\": {\"diverging\": [[0, \"#8e0152\"], [0.1, \"#c51b7d\"], [0.2, \"#de77ae\"], [0.3, \"#f1b6da\"], [0.4, \"#fde0ef\"], [0.5, \"#f7f7f7\"], [0.6, \"#e6f5d0\"], [0.7, \"#b8e186\"], [0.8, \"#7fbc41\"], [0.9, \"#4d9221\"], [1, \"#276419\"]], \"sequential\": [[0.0, \"#0d0887\"], [0.1111111111111111, \"#46039f\"], [0.2222222222222222, \"#7201a8\"], [0.3333333333333333, \"#9c179e\"], [0.4444444444444444, \"#bd3786\"], [0.5555555555555556, \"#d8576b\"], [0.6666666666666666, \"#ed7953\"], [0.7777777777777778, \"#fb9f3a\"], [0.8888888888888888, \"#fdca26\"], [1.0, \"#f0f921\"]], \"sequentialminus\": [[0.0, \"#0d0887\"], [0.1111111111111111, \"#46039f\"], [0.2222222222222222, \"#7201a8\"], [0.3333333333333333, \"#9c179e\"], [0.4444444444444444, \"#bd3786\"], [0.5555555555555556, \"#d8576b\"], [0.6666666666666666, \"#ed7953\"], [0.7777777777777778, \"#fb9f3a\"], [0.8888888888888888, \"#fdca26\"], [1.0, \"#f0f921\"]]}, \"colorway\": [\"#636efa\", \"#EF553B\", \"#00cc96\", \"#ab63fa\", \"#FFA15A\", \"#19d3f3\", \"#FF6692\", \"#B6E880\", \"#FF97FF\", \"#FECB52\"], \"font\": {\"color\": \"#2a3f5f\"}, \"geo\": {\"bgcolor\": \"white\", \"lakecolor\": \"white\", \"landcolor\": \"#E5ECF6\", \"showlakes\": true, \"showland\": true, \"subunitcolor\": \"white\"}, \"hoverlabel\": {\"align\": \"left\"}, \"hovermode\": \"closest\", \"mapbox\": {\"style\": \"light\"}, \"paper_bgcolor\": \"white\", \"plot_bgcolor\": \"#E5ECF6\", \"polar\": {\"angularaxis\": {\"gridcolor\": \"white\", \"linecolor\": \"white\", \"ticks\": \"\"}, \"bgcolor\": \"#E5ECF6\", \"radialaxis\": {\"gridcolor\": \"white\", \"linecolor\": \"white\", \"ticks\": \"\"}}, \"scene\": {\"xaxis\": {\"backgroundcolor\": \"#E5ECF6\", \"gridcolor\": \"white\", \"gridwidth\": 2, \"linecolor\": \"white\", \"showbackground\": true, \"ticks\": \"\", \"zerolinecolor\": \"white\"}, \"yaxis\": {\"backgroundcolor\": \"#E5ECF6\", \"gridcolor\": \"white\", \"gridwidth\": 2, \"linecolor\": \"white\", \"showbackground\": true, \"ticks\": \"\", \"zerolinecolor\": \"white\"}, \"zaxis\": {\"backgroundcolor\": \"#E5ECF6\", \"gridcolor\": \"white\", \"gridwidth\": 2, \"linecolor\": \"white\", \"showbackground\": true, \"ticks\": \"\", \"zerolinecolor\": \"white\"}}, \"shapedefaults\": {\"line\": {\"color\": \"#2a3f5f\"}}, \"ternary\": {\"aaxis\": {\"gridcolor\": \"white\", \"linecolor\": \"white\", \"ticks\": \"\"}, \"baxis\": {\"gridcolor\": \"white\", \"linecolor\": \"white\", \"ticks\": \"\"}, \"bgcolor\": \"#E5ECF6\", \"caxis\": {\"gridcolor\": \"white\", \"linecolor\": \"white\", \"ticks\": \"\"}}, \"title\": {\"x\": 0.05}, \"xaxis\": {\"automargin\": true, \"gridcolor\": \"white\", \"linecolor\": \"white\", \"ticks\": \"\", \"title\": {\"standoff\": 15}, \"zerolinecolor\": \"white\", \"zerolinewidth\": 2}, \"yaxis\": {\"automargin\": true, \"gridcolor\": \"white\", \"linecolor\": \"white\", \"ticks\": \"\", \"title\": {\"standoff\": 15}, \"zerolinecolor\": \"white\", \"zerolinewidth\": 2}}}, \"title\": {\"text\": \"Hypertension synonyms in title / abstract metadata<br><i>Hover over dots for exact values</i>\"}, \"xaxis\": {\"title\": {\"text\": \"Count\"}}, \"yaxis\": {\"title\": {\"text\": \"Regex\"}}},\n",
       "                        {\"responsive\": true}\n",
       "                    ).then(function(){\n",
       "                            \n",
       "var gd = document.getElementById('1fe5d4b0-aefe-4b39-a4a6-e6f9529cca5d');\n",
       "var x = new MutationObserver(function (mutations, observer) {{\n",
       "        var display = window.getComputedStyle(gd).display;\n",
       "        if (!display || display === 'none') {{\n",
       "            console.log([gd, 'removed!']);\n",
       "            Plotly.purge(gd);\n",
       "            observer.disconnect();\n",
       "        }}\n",
       "}});\n",
       "\n",
       "// Listen for the removal of the full notebook cells\n",
       "var notebookContainer = gd.closest('#notebook-container');\n",
       "if (notebookContainer) {{\n",
       "    x.observe(notebookContainer, {childList: true});\n",
       "}}\n",
       "\n",
       "// Listen for the clearing of the current output cell\n",
       "var outputEl = gd.closest('.output');\n",
       "if (outputEl) {{\n",
       "    x.observe(outputEl, {childList: true});\n",
       "}}\n",
       "\n",
       "                        })\n",
       "                };\n",
       "                });\n",
       "            </script>\n",
       "        </div>"
      ]
     },
     "metadata": {},
     "output_type": "display_data"
    }
   ],
   "source": [
    "hypertension_synonyms = [\n",
    "    'hypertension',\n",
    "    'blood pressure',\n",
    "    r'\\bhbp\\b', # HBP = high blood pressure\n",
    "    r'\\bhtn\\b' # HTN = hypertension\n",
    "]\n",
    "df, hypertension_counts = count_and_tag(df, hypertension_synonyms, 'risk_hypertension')\n",
    "dotplot(hypertension_counts, 'Hypertension synonyms in title / abstract metadata')"
   ]
  },
  {
   "cell_type": "code",
   "execution_count": 62,
   "metadata": {},
   "outputs": [
    {
     "data": {
      "text/plain": [
       "hypertension      199\n",
       "blood pressure     77\n",
       "\\bhbp\\b             4\n",
       "\\bhtn\\b             2\n",
       "dtype: int64"
      ]
     },
     "execution_count": 62,
     "metadata": {},
     "output_type": "execute_result"
    }
   ],
   "source": [
    "hypertension_counts.sort_values(ascending=False)"
   ]
  },
  {
   "cell_type": "code",
   "execution_count": 63,
   "metadata": {},
   "outputs": [
    {
     "name": "stdout",
     "output_type": "stream",
     "text": [
      "There are 49 papers on Covid-19 and hypertension\n"
     ]
    }
   ],
   "source": [
    "n = (df.tag_disease_covid19 & df.tag_risk_hypertension).sum()\n",
    "print(f'There are {n} papers on Covid-19 and hypertension')"
   ]
  },
  {
   "cell_type": "markdown",
   "metadata": {},
   "source": [
    "## Immunodeficiency\n",
    "\n",
    "Immunodeficiency (e.g. HIV / AIDS, side effect of chemotherapy, etc.) may be important."
   ]
  },
  {
   "cell_type": "code",
   "execution_count": 64,
   "metadata": {},
   "outputs": [
    {
     "data": {
      "text/html": [
       "<div>\n",
       "        \n",
       "        \n",
       "            <div id=\"e0d34fcb-5cf9-4392-b467-269c8ec55965\" class=\"plotly-graph-div\" style=\"height:525px; width:100%;\"></div>\n",
       "            <script type=\"text/javascript\">\n",
       "                require([\"plotly\"], function(Plotly) {\n",
       "                    window.PLOTLYENV=window.PLOTLYENV || {};\n",
       "                    \n",
       "                if (document.getElementById(\"e0d34fcb-5cf9-4392-b467-269c8ec55965\")) {\n",
       "                    Plotly.newPlot(\n",
       "                        'e0d34fcb-5cf9-4392-b467-269c8ec55965',\n",
       "                        [{\"marker\": {\"color\": \"crimson\", \"size\": 12}, \"mode\": \"markers\", \"name\": \"Count\", \"type\": \"scatter\", \"x\": [0, 0, 0, 0, 0, 1, 6, 9, 43, 62, 745, 1326], \"y\": [\"\\\\baids\\\\bgranulocyte deficiency\", \"dysfunction of the spleen\", \"spleen dysfunction\", \"complement deficiency\", \"neutropaenia\", \"asplenia\", \"cell deficiency\", \"hypogammaglobulinemia\", \"immune deficiency\", \"neutropenia\", \"immunodeficiency\", \"\\\\bhiv\\\\b\"]}],\n",
       "                        {\"template\": {\"data\": {\"bar\": [{\"error_x\": {\"color\": \"#2a3f5f\"}, \"error_y\": {\"color\": \"#2a3f5f\"}, \"marker\": {\"line\": {\"color\": \"#E5ECF6\", \"width\": 0.5}}, \"type\": \"bar\"}], \"barpolar\": [{\"marker\": {\"line\": {\"color\": \"#E5ECF6\", \"width\": 0.5}}, \"type\": \"barpolar\"}], \"carpet\": [{\"aaxis\": {\"endlinecolor\": \"#2a3f5f\", \"gridcolor\": \"white\", \"linecolor\": \"white\", \"minorgridcolor\": \"white\", \"startlinecolor\": \"#2a3f5f\"}, \"baxis\": {\"endlinecolor\": \"#2a3f5f\", \"gridcolor\": \"white\", \"linecolor\": \"white\", \"minorgridcolor\": \"white\", \"startlinecolor\": \"#2a3f5f\"}, \"type\": \"carpet\"}], \"choropleth\": [{\"colorbar\": {\"outlinewidth\": 0, \"ticks\": \"\"}, \"type\": \"choropleth\"}], \"contour\": [{\"colorbar\": {\"outlinewidth\": 0, \"ticks\": \"\"}, \"colorscale\": [[0.0, \"#0d0887\"], [0.1111111111111111, \"#46039f\"], [0.2222222222222222, \"#7201a8\"], [0.3333333333333333, \"#9c179e\"], [0.4444444444444444, \"#bd3786\"], [0.5555555555555556, \"#d8576b\"], [0.6666666666666666, \"#ed7953\"], [0.7777777777777778, \"#fb9f3a\"], [0.8888888888888888, \"#fdca26\"], [1.0, \"#f0f921\"]], \"type\": \"contour\"}], \"contourcarpet\": [{\"colorbar\": {\"outlinewidth\": 0, \"ticks\": \"\"}, \"type\": \"contourcarpet\"}], \"heatmap\": [{\"colorbar\": {\"outlinewidth\": 0, \"ticks\": \"\"}, \"colorscale\": [[0.0, \"#0d0887\"], [0.1111111111111111, \"#46039f\"], [0.2222222222222222, \"#7201a8\"], [0.3333333333333333, \"#9c179e\"], [0.4444444444444444, \"#bd3786\"], [0.5555555555555556, \"#d8576b\"], [0.6666666666666666, \"#ed7953\"], [0.7777777777777778, \"#fb9f3a\"], [0.8888888888888888, \"#fdca26\"], [1.0, \"#f0f921\"]], \"type\": \"heatmap\"}], \"heatmapgl\": [{\"colorbar\": {\"outlinewidth\": 0, \"ticks\": \"\"}, \"colorscale\": [[0.0, \"#0d0887\"], [0.1111111111111111, \"#46039f\"], [0.2222222222222222, \"#7201a8\"], [0.3333333333333333, \"#9c179e\"], [0.4444444444444444, \"#bd3786\"], [0.5555555555555556, \"#d8576b\"], [0.6666666666666666, \"#ed7953\"], [0.7777777777777778, \"#fb9f3a\"], [0.8888888888888888, \"#fdca26\"], [1.0, \"#f0f921\"]], \"type\": \"heatmapgl\"}], \"histogram\": [{\"marker\": {\"colorbar\": {\"outlinewidth\": 0, \"ticks\": \"\"}}, \"type\": \"histogram\"}], \"histogram2d\": [{\"colorbar\": {\"outlinewidth\": 0, \"ticks\": \"\"}, \"colorscale\": [[0.0, \"#0d0887\"], [0.1111111111111111, \"#46039f\"], [0.2222222222222222, \"#7201a8\"], [0.3333333333333333, \"#9c179e\"], [0.4444444444444444, \"#bd3786\"], [0.5555555555555556, \"#d8576b\"], [0.6666666666666666, \"#ed7953\"], [0.7777777777777778, \"#fb9f3a\"], [0.8888888888888888, \"#fdca26\"], [1.0, \"#f0f921\"]], \"type\": \"histogram2d\"}], \"histogram2dcontour\": [{\"colorbar\": {\"outlinewidth\": 0, \"ticks\": \"\"}, \"colorscale\": [[0.0, \"#0d0887\"], [0.1111111111111111, \"#46039f\"], [0.2222222222222222, \"#7201a8\"], [0.3333333333333333, \"#9c179e\"], [0.4444444444444444, \"#bd3786\"], [0.5555555555555556, \"#d8576b\"], [0.6666666666666666, \"#ed7953\"], [0.7777777777777778, \"#fb9f3a\"], [0.8888888888888888, \"#fdca26\"], [1.0, \"#f0f921\"]], \"type\": \"histogram2dcontour\"}], \"mesh3d\": [{\"colorbar\": {\"outlinewidth\": 0, \"ticks\": \"\"}, \"type\": \"mesh3d\"}], \"parcoords\": [{\"line\": {\"colorbar\": {\"outlinewidth\": 0, \"ticks\": \"\"}}, \"type\": \"parcoords\"}], \"pie\": [{\"automargin\": true, \"type\": \"pie\"}], \"scatter\": [{\"marker\": {\"colorbar\": {\"outlinewidth\": 0, \"ticks\": \"\"}}, \"type\": \"scatter\"}], \"scatter3d\": [{\"line\": {\"colorbar\": {\"outlinewidth\": 0, \"ticks\": \"\"}}, \"marker\": {\"colorbar\": {\"outlinewidth\": 0, \"ticks\": \"\"}}, \"type\": \"scatter3d\"}], \"scattercarpet\": [{\"marker\": {\"colorbar\": {\"outlinewidth\": 0, \"ticks\": \"\"}}, \"type\": \"scattercarpet\"}], \"scattergeo\": [{\"marker\": {\"colorbar\": {\"outlinewidth\": 0, \"ticks\": \"\"}}, \"type\": \"scattergeo\"}], \"scattergl\": [{\"marker\": {\"colorbar\": {\"outlinewidth\": 0, \"ticks\": \"\"}}, \"type\": \"scattergl\"}], \"scattermapbox\": [{\"marker\": {\"colorbar\": {\"outlinewidth\": 0, \"ticks\": \"\"}}, \"type\": \"scattermapbox\"}], \"scatterpolar\": [{\"marker\": {\"colorbar\": {\"outlinewidth\": 0, \"ticks\": \"\"}}, \"type\": \"scatterpolar\"}], \"scatterpolargl\": [{\"marker\": {\"colorbar\": {\"outlinewidth\": 0, \"ticks\": \"\"}}, \"type\": \"scatterpolargl\"}], \"scatterternary\": [{\"marker\": {\"colorbar\": {\"outlinewidth\": 0, \"ticks\": \"\"}}, \"type\": \"scatterternary\"}], \"surface\": [{\"colorbar\": {\"outlinewidth\": 0, \"ticks\": \"\"}, \"colorscale\": [[0.0, \"#0d0887\"], [0.1111111111111111, \"#46039f\"], [0.2222222222222222, \"#7201a8\"], [0.3333333333333333, \"#9c179e\"], [0.4444444444444444, \"#bd3786\"], [0.5555555555555556, \"#d8576b\"], [0.6666666666666666, \"#ed7953\"], [0.7777777777777778, \"#fb9f3a\"], [0.8888888888888888, \"#fdca26\"], [1.0, \"#f0f921\"]], \"type\": \"surface\"}], \"table\": [{\"cells\": {\"fill\": {\"color\": \"#EBF0F8\"}, \"line\": {\"color\": \"white\"}}, \"header\": {\"fill\": {\"color\": \"#C8D4E3\"}, \"line\": {\"color\": \"white\"}}, \"type\": \"table\"}]}, \"layout\": {\"annotationdefaults\": {\"arrowcolor\": \"#2a3f5f\", \"arrowhead\": 0, \"arrowwidth\": 1}, \"coloraxis\": {\"colorbar\": {\"outlinewidth\": 0, \"ticks\": \"\"}}, \"colorscale\": {\"diverging\": [[0, \"#8e0152\"], [0.1, \"#c51b7d\"], [0.2, \"#de77ae\"], [0.3, \"#f1b6da\"], [0.4, \"#fde0ef\"], [0.5, \"#f7f7f7\"], [0.6, \"#e6f5d0\"], [0.7, \"#b8e186\"], [0.8, \"#7fbc41\"], [0.9, \"#4d9221\"], [1, \"#276419\"]], \"sequential\": [[0.0, \"#0d0887\"], [0.1111111111111111, \"#46039f\"], [0.2222222222222222, \"#7201a8\"], [0.3333333333333333, \"#9c179e\"], [0.4444444444444444, \"#bd3786\"], [0.5555555555555556, \"#d8576b\"], [0.6666666666666666, \"#ed7953\"], [0.7777777777777778, \"#fb9f3a\"], [0.8888888888888888, \"#fdca26\"], [1.0, \"#f0f921\"]], \"sequentialminus\": [[0.0, \"#0d0887\"], [0.1111111111111111, \"#46039f\"], [0.2222222222222222, \"#7201a8\"], [0.3333333333333333, \"#9c179e\"], [0.4444444444444444, \"#bd3786\"], [0.5555555555555556, \"#d8576b\"], [0.6666666666666666, \"#ed7953\"], [0.7777777777777778, \"#fb9f3a\"], [0.8888888888888888, \"#fdca26\"], [1.0, \"#f0f921\"]]}, \"colorway\": [\"#636efa\", \"#EF553B\", \"#00cc96\", \"#ab63fa\", \"#FFA15A\", \"#19d3f3\", \"#FF6692\", \"#B6E880\", \"#FF97FF\", \"#FECB52\"], \"font\": {\"color\": \"#2a3f5f\"}, \"geo\": {\"bgcolor\": \"white\", \"lakecolor\": \"white\", \"landcolor\": \"#E5ECF6\", \"showlakes\": true, \"showland\": true, \"subunitcolor\": \"white\"}, \"hoverlabel\": {\"align\": \"left\"}, \"hovermode\": \"closest\", \"mapbox\": {\"style\": \"light\"}, \"paper_bgcolor\": \"white\", \"plot_bgcolor\": \"#E5ECF6\", \"polar\": {\"angularaxis\": {\"gridcolor\": \"white\", \"linecolor\": \"white\", \"ticks\": \"\"}, \"bgcolor\": \"#E5ECF6\", \"radialaxis\": {\"gridcolor\": \"white\", \"linecolor\": \"white\", \"ticks\": \"\"}}, \"scene\": {\"xaxis\": {\"backgroundcolor\": \"#E5ECF6\", \"gridcolor\": \"white\", \"gridwidth\": 2, \"linecolor\": \"white\", \"showbackground\": true, \"ticks\": \"\", \"zerolinecolor\": \"white\"}, \"yaxis\": {\"backgroundcolor\": \"#E5ECF6\", \"gridcolor\": \"white\", \"gridwidth\": 2, \"linecolor\": \"white\", \"showbackground\": true, \"ticks\": \"\", \"zerolinecolor\": \"white\"}, \"zaxis\": {\"backgroundcolor\": \"#E5ECF6\", \"gridcolor\": \"white\", \"gridwidth\": 2, \"linecolor\": \"white\", \"showbackground\": true, \"ticks\": \"\", \"zerolinecolor\": \"white\"}}, \"shapedefaults\": {\"line\": {\"color\": \"#2a3f5f\"}}, \"ternary\": {\"aaxis\": {\"gridcolor\": \"white\", \"linecolor\": \"white\", \"ticks\": \"\"}, \"baxis\": {\"gridcolor\": \"white\", \"linecolor\": \"white\", \"ticks\": \"\"}, \"bgcolor\": \"#E5ECF6\", \"caxis\": {\"gridcolor\": \"white\", \"linecolor\": \"white\", \"ticks\": \"\"}}, \"title\": {\"x\": 0.05}, \"xaxis\": {\"automargin\": true, \"gridcolor\": \"white\", \"linecolor\": \"white\", \"ticks\": \"\", \"title\": {\"standoff\": 15}, \"zerolinecolor\": \"white\", \"zerolinewidth\": 2}, \"yaxis\": {\"automargin\": true, \"gridcolor\": \"white\", \"linecolor\": \"white\", \"ticks\": \"\", \"title\": {\"standoff\": 15}, \"zerolinecolor\": \"white\", \"zerolinewidth\": 2}}}, \"title\": {\"text\": \"Immunodeficiency synonyms in title / abstract metadata<br><i>Hover over dots for exact values</i>\"}, \"xaxis\": {\"title\": {\"text\": \"Count\"}}, \"yaxis\": {\"title\": {\"text\": \"Regex\"}}},\n",
       "                        {\"responsive\": true}\n",
       "                    ).then(function(){\n",
       "                            \n",
       "var gd = document.getElementById('e0d34fcb-5cf9-4392-b467-269c8ec55965');\n",
       "var x = new MutationObserver(function (mutations, observer) {{\n",
       "        var display = window.getComputedStyle(gd).display;\n",
       "        if (!display || display === 'none') {{\n",
       "            console.log([gd, 'removed!']);\n",
       "            Plotly.purge(gd);\n",
       "            observer.disconnect();\n",
       "        }}\n",
       "}});\n",
       "\n",
       "// Listen for the removal of the full notebook cells\n",
       "var notebookContainer = gd.closest('#notebook-container');\n",
       "if (notebookContainer) {{\n",
       "    x.observe(notebookContainer, {childList: true});\n",
       "}}\n",
       "\n",
       "// Listen for the clearing of the current output cell\n",
       "var outputEl = gd.closest('.output');\n",
       "if (outputEl) {{\n",
       "    x.observe(outputEl, {childList: true});\n",
       "}}\n",
       "\n",
       "                        })\n",
       "                };\n",
       "                });\n",
       "            </script>\n",
       "        </div>"
      ]
     },
     "metadata": {},
     "output_type": "display_data"
    }
   ],
   "source": [
    "immunodeficiency_synonyms = [\n",
    "    'immune deficiency',\n",
    "    'immunodeficiency',\n",
    "    r'\\bhiv\\b',\n",
    "    r'\\baids\\b'\n",
    "    'granulocyte deficiency',\n",
    "    'hypogammaglobulinemia',\n",
    "    'asplenia',\n",
    "    'dysfunction of the spleen',\n",
    "    'spleen dysfunction',\n",
    "    'complement deficiency',\n",
    "    'neutropenia',\n",
    "    'neutropaenia', # alternate spelling\n",
    "    'cell deficiency' # e.g. T cell deficiency, B cell deficiency\n",
    "]\n",
    "df, immunodeficiency_counts = count_and_tag(df,\n",
    "                                            immunodeficiency_synonyms,\n",
    "                                            'risk_immunodeficiency')\n",
    "dotplot(immunodeficiency_counts, 'Immunodeficiency synonyms in title / abstract metadata')"
   ]
  },
  {
   "cell_type": "code",
   "execution_count": 65,
   "metadata": {},
   "outputs": [
    {
     "data": {
      "text/plain": [
       "\\bhiv\\b                           1326\n",
       "immunodeficiency                   745\n",
       "neutropenia                         62\n",
       "immune deficiency                   43\n",
       "hypogammaglobulinemia                9\n",
       "cell deficiency                      6\n",
       "asplenia                             1\n",
       "neutropaenia                         0\n",
       "complement deficiency                0\n",
       "spleen dysfunction                   0\n",
       "dysfunction of the spleen            0\n",
       "\\baids\\bgranulocyte deficiency       0\n",
       "dtype: int64"
      ]
     },
     "execution_count": 65,
     "metadata": {},
     "output_type": "execute_result"
    }
   ],
   "source": [
    "immunodeficiency_counts.sort_values(ascending=False)"
   ]
  },
  {
   "cell_type": "code",
   "execution_count": 66,
   "metadata": {},
   "outputs": [
    {
     "name": "stdout",
     "output_type": "stream",
     "text": [
      "tag_disease_covid19 x tag_risk_immunodeficiency currently returns 22 papers\n"
     ]
    }
   ],
   "source": [
    "n = (df.tag_disease_covid19 & df.tag_risk_immunodeficiency).sum()\n",
    "print(f'tag_disease_covid19 x tag_risk_immunodeficiency currently returns {n} papers')"
   ]
  },
  {
   "cell_type": "code",
   "execution_count": 67,
   "metadata": {},
   "outputs": [
    {
     "data": {
      "text/html": [
       "<div>\n",
       "<style scoped>\n",
       "    .dataframe tbody tr th:only-of-type {\n",
       "        vertical-align: middle;\n",
       "    }\n",
       "\n",
       "    .dataframe tbody tr th {\n",
       "        vertical-align: top;\n",
       "    }\n",
       "\n",
       "    .dataframe thead th {\n",
       "        text-align: right;\n",
       "    }\n",
       "</style>\n",
       "<table border=\"1\" class=\"dataframe\">\n",
       "  <thead>\n",
       "    <tr style=\"text-align: right;\">\n",
       "      <th></th>\n",
       "      <th>cord_uid</th>\n",
       "      <th>sha</th>\n",
       "      <th>source_x</th>\n",
       "      <th>title</th>\n",
       "      <th>doi</th>\n",
       "      <th>pmcid</th>\n",
       "      <th>pubmed_id</th>\n",
       "      <th>license</th>\n",
       "      <th>abstract</th>\n",
       "      <th>publish_time</th>\n",
       "      <th>authors</th>\n",
       "      <th>journal</th>\n",
       "      <th>Microsoft Academic Paper ID</th>\n",
       "      <th>WHO #Covidence</th>\n",
       "      <th>has_full_text</th>\n",
       "      <th>full_text_file</th>\n",
       "      <th>url</th>\n",
       "      <th>tag_disease_covid19</th>\n",
       "      <th>tag_disease_sars</th>\n",
       "      <th>tag_disease_mers</th>\n",
       "      <th>tag_disease_corona</th>\n",
       "      <th>tag_disease_ards</th>\n",
       "      <th>tag_design_riskfac</th>\n",
       "      <th>tag_risk_generic</th>\n",
       "      <th>tag_risk_age</th>\n",
       "      <th>tag_risk_sex</th>\n",
       "      <th>tag_risk_bodyweight</th>\n",
       "      <th>tag_risk_smoking</th>\n",
       "      <th>tag_risk_diabetes</th>\n",
       "      <th>tag_risk_hypertension</th>\n",
       "      <th>tag_risk_immunodeficiency</th>\n",
       "    </tr>\n",
       "  </thead>\n",
       "  <tbody>\n",
       "    <tr>\n",
       "      <th>138</th>\n",
       "      <td>1qniriu0</td>\n",
       "      <td>6ae20454d1a9f228864de24660c2460becbc8151</td>\n",
       "      <td>biorxiv</td>\n",
       "      <td>Machine intelligence design of 2019-nCoV drugs</td>\n",
       "      <td>http://doi.org/10.1101/2020.01.30.927889</td>\n",
       "      <td>NaN</td>\n",
       "      <td>NaN</td>\n",
       "      <td>biorxiv</td>\n",
       "      <td>AbstractWuhan coronavirus, called 2019-nCoV, i...</td>\n",
       "      <td>2020-02-04</td>\n",
       "      <td>Kaifu Gao; Duc Duy Nguyen; Rui Wang; Guo-Wei Wei</td>\n",
       "      <td>NaN</td>\n",
       "      <td>NaN</td>\n",
       "      <td>NaN</td>\n",
       "      <td>True</td>\n",
       "      <td>biorxiv_medrxiv</td>\n",
       "      <td>https://doi.org/10.1101/2020.01.30.927889</td>\n",
       "      <td>True</td>\n",
       "      <td>True</td>\n",
       "      <td>False</td>\n",
       "      <td>True</td>\n",
       "      <td>False</td>\n",
       "      <td>False</td>\n",
       "      <td>False</td>\n",
       "      <td>False</td>\n",
       "      <td>False</td>\n",
       "      <td>False</td>\n",
       "      <td>False</td>\n",
       "      <td>False</td>\n",
       "      <td>False</td>\n",
       "      <td>True</td>\n",
       "    </tr>\n",
       "    <tr>\n",
       "      <th>144</th>\n",
       "      <td>cszqykpu</td>\n",
       "      <td>ff54e3e961a72eb1d2500166809b3651b2f98cf6</td>\n",
       "      <td>biorxiv</td>\n",
       "      <td>Predicting commercially available antiviral dr...</td>\n",
       "      <td>http://doi.org/10.1101/2020.01.31.929547</td>\n",
       "      <td>NaN</td>\n",
       "      <td>NaN</td>\n",
       "      <td>biorxiv</td>\n",
       "      <td>AbstractThe infection of a novel coronavirus f...</td>\n",
       "      <td>2020-02-02</td>\n",
       "      <td>Bo Ram Beck; Bonggun Shin; Yoonjung Choi; Sung...</td>\n",
       "      <td>NaN</td>\n",
       "      <td>NaN</td>\n",
       "      <td>NaN</td>\n",
       "      <td>True</td>\n",
       "      <td>biorxiv_medrxiv</td>\n",
       "      <td>https://doi.org/10.1101/2020.01.31.929547</td>\n",
       "      <td>True</td>\n",
       "      <td>False</td>\n",
       "      <td>False</td>\n",
       "      <td>True</td>\n",
       "      <td>False</td>\n",
       "      <td>False</td>\n",
       "      <td>False</td>\n",
       "      <td>False</td>\n",
       "      <td>False</td>\n",
       "      <td>False</td>\n",
       "      <td>False</td>\n",
       "      <td>False</td>\n",
       "      <td>False</td>\n",
       "      <td>True</td>\n",
       "    </tr>\n",
       "    <tr>\n",
       "      <th>145</th>\n",
       "      <td>vbgf50os</td>\n",
       "      <td>9e94f9379fd74fcacc4f3a57e03cbe9035efee8e</td>\n",
       "      <td>biorxiv</td>\n",
       "      <td>Molecular Modeling Evaluation of the Binding E...</td>\n",
       "      <td>http://doi.org/10.1101/2020.01.31.929695</td>\n",
       "      <td>NaN</td>\n",
       "      <td>NaN</td>\n",
       "      <td>biorxiv</td>\n",
       "      <td>AbstractThree anti-HIV drugs, ritonavir, lopin...</td>\n",
       "      <td>2020-02-03</td>\n",
       "      <td>Shen Lin; Runnan Shen; Jingdong He; Xinhao Li;...</td>\n",
       "      <td>NaN</td>\n",
       "      <td>NaN</td>\n",
       "      <td>NaN</td>\n",
       "      <td>True</td>\n",
       "      <td>biorxiv_medrxiv</td>\n",
       "      <td>https://doi.org/10.1101/2020.01.31.929695</td>\n",
       "      <td>True</td>\n",
       "      <td>True</td>\n",
       "      <td>False</td>\n",
       "      <td>True</td>\n",
       "      <td>False</td>\n",
       "      <td>False</td>\n",
       "      <td>False</td>\n",
       "      <td>False</td>\n",
       "      <td>False</td>\n",
       "      <td>False</td>\n",
       "      <td>False</td>\n",
       "      <td>False</td>\n",
       "      <td>False</td>\n",
       "      <td>True</td>\n",
       "    </tr>\n",
       "    <tr>\n",
       "      <th>166</th>\n",
       "      <td>mtv80pjo</td>\n",
       "      <td>8a1fde8c65e439496ac5810504de23ef77312f28</td>\n",
       "      <td>biorxiv</td>\n",
       "      <td>Protein structure and sequence re-analysis of ...</td>\n",
       "      <td>http://doi.org/10.1101/2020.02.04.933135</td>\n",
       "      <td>NaN</td>\n",
       "      <td>NaN</td>\n",
       "      <td>biorxiv</td>\n",
       "      <td>AbstractAs the infection of 2019-nCoV coronavi...</td>\n",
       "      <td>2020-02-08</td>\n",
       "      <td>Chengxin Zhang; Wei Zheng; Xiaoqiang Huang; Er...</td>\n",
       "      <td>NaN</td>\n",
       "      <td>NaN</td>\n",
       "      <td>NaN</td>\n",
       "      <td>True</td>\n",
       "      <td>biorxiv_medrxiv</td>\n",
       "      <td>https://doi.org/10.1101/2020.02.04.933135</td>\n",
       "      <td>True</td>\n",
       "      <td>False</td>\n",
       "      <td>False</td>\n",
       "      <td>True</td>\n",
       "      <td>False</td>\n",
       "      <td>False</td>\n",
       "      <td>False</td>\n",
       "      <td>False</td>\n",
       "      <td>False</td>\n",
       "      <td>False</td>\n",
       "      <td>False</td>\n",
       "      <td>False</td>\n",
       "      <td>False</td>\n",
       "      <td>True</td>\n",
       "    </tr>\n",
       "    <tr>\n",
       "      <th>396</th>\n",
       "      <td>7s9ot4vq</td>\n",
       "      <td>875b7c463f00772fa0dc18ada678bc1ff16a4274</td>\n",
       "      <td>medrxiv</td>\n",
       "      <td>Comorbidity and its impact on 1,590 patients w...</td>\n",
       "      <td>http://doi.org/10.1101/2020.02.25.20027664</td>\n",
       "      <td>NaN</td>\n",
       "      <td>NaN</td>\n",
       "      <td>medrvix</td>\n",
       "      <td>Objective: To evaluate the spectrum of comorbi...</td>\n",
       "      <td>2020-02-27</td>\n",
       "      <td>Wei-jie Guan; Wen-hua Liang; Yi Zhao; Heng-rui...</td>\n",
       "      <td>NaN</td>\n",
       "      <td>NaN</td>\n",
       "      <td>NaN</td>\n",
       "      <td>True</td>\n",
       "      <td>biorxiv_medrxiv</td>\n",
       "      <td>https://doi.org/10.1101/2020.02.25.20027664</td>\n",
       "      <td>True</td>\n",
       "      <td>False</td>\n",
       "      <td>False</td>\n",
       "      <td>True</td>\n",
       "      <td>False</td>\n",
       "      <td>False</td>\n",
       "      <td>True</td>\n",
       "      <td>True</td>\n",
       "      <td>True</td>\n",
       "      <td>False</td>\n",
       "      <td>True</td>\n",
       "      <td>True</td>\n",
       "      <td>True</td>\n",
       "      <td>True</td>\n",
       "    </tr>\n",
       "  </tbody>\n",
       "</table>\n",
       "</div>"
      ],
      "text/plain": [
       "     cord_uid                                       sha source_x  \\\n",
       "138  1qniriu0  6ae20454d1a9f228864de24660c2460becbc8151  biorxiv   \n",
       "144  cszqykpu  ff54e3e961a72eb1d2500166809b3651b2f98cf6  biorxiv   \n",
       "145  vbgf50os  9e94f9379fd74fcacc4f3a57e03cbe9035efee8e  biorxiv   \n",
       "166  mtv80pjo  8a1fde8c65e439496ac5810504de23ef77312f28  biorxiv   \n",
       "396  7s9ot4vq  875b7c463f00772fa0dc18ada678bc1ff16a4274  medrxiv   \n",
       "\n",
       "                                                 title  \\\n",
       "138     Machine intelligence design of 2019-nCoV drugs   \n",
       "144  Predicting commercially available antiviral dr...   \n",
       "145  Molecular Modeling Evaluation of the Binding E...   \n",
       "166  Protein structure and sequence re-analysis of ...   \n",
       "396  Comorbidity and its impact on 1,590 patients w...   \n",
       "\n",
       "                                            doi pmcid pubmed_id  license  \\\n",
       "138    http://doi.org/10.1101/2020.01.30.927889   NaN       NaN  biorxiv   \n",
       "144    http://doi.org/10.1101/2020.01.31.929547   NaN       NaN  biorxiv   \n",
       "145    http://doi.org/10.1101/2020.01.31.929695   NaN       NaN  biorxiv   \n",
       "166    http://doi.org/10.1101/2020.02.04.933135   NaN       NaN  biorxiv   \n",
       "396  http://doi.org/10.1101/2020.02.25.20027664   NaN       NaN  medrvix   \n",
       "\n",
       "                                              abstract publish_time  \\\n",
       "138  AbstractWuhan coronavirus, called 2019-nCoV, i...   2020-02-04   \n",
       "144  AbstractThe infection of a novel coronavirus f...   2020-02-02   \n",
       "145  AbstractThree anti-HIV drugs, ritonavir, lopin...   2020-02-03   \n",
       "166  AbstractAs the infection of 2019-nCoV coronavi...   2020-02-08   \n",
       "396  Objective: To evaluate the spectrum of comorbi...   2020-02-27   \n",
       "\n",
       "                                               authors journal  \\\n",
       "138   Kaifu Gao; Duc Duy Nguyen; Rui Wang; Guo-Wei Wei     NaN   \n",
       "144  Bo Ram Beck; Bonggun Shin; Yoonjung Choi; Sung...     NaN   \n",
       "145  Shen Lin; Runnan Shen; Jingdong He; Xinhao Li;...     NaN   \n",
       "166  Chengxin Zhang; Wei Zheng; Xiaoqiang Huang; Er...     NaN   \n",
       "396  Wei-jie Guan; Wen-hua Liang; Yi Zhao; Heng-rui...     NaN   \n",
       "\n",
       "    Microsoft Academic Paper ID WHO #Covidence  has_full_text  \\\n",
       "138                         NaN            NaN           True   \n",
       "144                         NaN            NaN           True   \n",
       "145                         NaN            NaN           True   \n",
       "166                         NaN            NaN           True   \n",
       "396                         NaN            NaN           True   \n",
       "\n",
       "      full_text_file                                          url  \\\n",
       "138  biorxiv_medrxiv    https://doi.org/10.1101/2020.01.30.927889   \n",
       "144  biorxiv_medrxiv    https://doi.org/10.1101/2020.01.31.929547   \n",
       "145  biorxiv_medrxiv    https://doi.org/10.1101/2020.01.31.929695   \n",
       "166  biorxiv_medrxiv    https://doi.org/10.1101/2020.02.04.933135   \n",
       "396  biorxiv_medrxiv  https://doi.org/10.1101/2020.02.25.20027664   \n",
       "\n",
       "     tag_disease_covid19  tag_disease_sars  tag_disease_mers  \\\n",
       "138                 True              True             False   \n",
       "144                 True             False             False   \n",
       "145                 True              True             False   \n",
       "166                 True             False             False   \n",
       "396                 True             False             False   \n",
       "\n",
       "     tag_disease_corona  tag_disease_ards  tag_design_riskfac  \\\n",
       "138                True             False               False   \n",
       "144                True             False               False   \n",
       "145                True             False               False   \n",
       "166                True             False               False   \n",
       "396                True             False               False   \n",
       "\n",
       "     tag_risk_generic  tag_risk_age  tag_risk_sex  tag_risk_bodyweight  \\\n",
       "138             False         False         False                False   \n",
       "144             False         False         False                False   \n",
       "145             False         False         False                False   \n",
       "166             False         False         False                False   \n",
       "396              True          True          True                False   \n",
       "\n",
       "     tag_risk_smoking  tag_risk_diabetes  tag_risk_hypertension  \\\n",
       "138             False              False                  False   \n",
       "144             False              False                  False   \n",
       "145             False              False                  False   \n",
       "166             False              False                  False   \n",
       "396              True               True                   True   \n",
       "\n",
       "     tag_risk_immunodeficiency  \n",
       "138                       True  \n",
       "144                       True  \n",
       "145                       True  \n",
       "166                       True  \n",
       "396                       True  "
      ]
     },
     "execution_count": 67,
     "metadata": {},
     "output_type": "execute_result"
    }
   ],
   "source": [
    "df[df.tag_disease_covid19 & df.tag_risk_immunodeficiency].head()"
   ]
  },
  {
   "cell_type": "markdown",
   "metadata": {},
   "source": [
    "## Cancer"
   ]
  },
  {
   "cell_type": "code",
   "execution_count": 68,
   "metadata": {},
   "outputs": [
    {
     "data": {
      "text/html": [
       "<div>\n",
       "        \n",
       "        \n",
       "            <div id=\"24d12341-9413-42e5-b8f1-4792c6050152\" class=\"plotly-graph-div\" style=\"height:525px; width:100%;\"></div>\n",
       "            <script type=\"text/javascript\">\n",
       "                require([\"plotly\"], function(Plotly) {\n",
       "                    window.PLOTLYENV=window.PLOTLYENV || {};\n",
       "                    \n",
       "                if (document.getElementById(\"24d12341-9413-42e5-b8f1-4792c6050152\")) {\n",
       "                    Plotly.newPlot(\n",
       "                        '24d12341-9413-42e5-b8f1-4792c6050152',\n",
       "                        [{\"marker\": {\"color\": \"crimson\", \"size\": 12}, \"mode\": \"markers\", \"name\": \"Count\", \"type\": \"scatter\", \"x\": [3, 5, 18, 19, 51, 69, 74, 82, 112, 122, 136, 262, 268, 1196], \"y\": [\"radiation therapy\", \"malignant tumour\", \"radiotherapy\", \"malignant tumor\", \"leukaemia\", \"blastoma\", \"oncolog\", \"melanoma\", \"sarcoma\", \"lymphoma\", \"chemotherapy\", \"carcinoma\", \"leukemia\", \"cancer\"]}],\n",
       "                        {\"template\": {\"data\": {\"bar\": [{\"error_x\": {\"color\": \"#2a3f5f\"}, \"error_y\": {\"color\": \"#2a3f5f\"}, \"marker\": {\"line\": {\"color\": \"#E5ECF6\", \"width\": 0.5}}, \"type\": \"bar\"}], \"barpolar\": [{\"marker\": {\"line\": {\"color\": \"#E5ECF6\", \"width\": 0.5}}, \"type\": \"barpolar\"}], \"carpet\": [{\"aaxis\": {\"endlinecolor\": \"#2a3f5f\", \"gridcolor\": \"white\", \"linecolor\": \"white\", \"minorgridcolor\": \"white\", \"startlinecolor\": \"#2a3f5f\"}, \"baxis\": {\"endlinecolor\": \"#2a3f5f\", \"gridcolor\": \"white\", \"linecolor\": \"white\", \"minorgridcolor\": \"white\", \"startlinecolor\": \"#2a3f5f\"}, \"type\": \"carpet\"}], \"choropleth\": [{\"colorbar\": {\"outlinewidth\": 0, \"ticks\": \"\"}, \"type\": \"choropleth\"}], \"contour\": [{\"colorbar\": {\"outlinewidth\": 0, \"ticks\": \"\"}, \"colorscale\": [[0.0, \"#0d0887\"], [0.1111111111111111, \"#46039f\"], [0.2222222222222222, \"#7201a8\"], [0.3333333333333333, \"#9c179e\"], [0.4444444444444444, \"#bd3786\"], [0.5555555555555556, \"#d8576b\"], [0.6666666666666666, \"#ed7953\"], [0.7777777777777778, \"#fb9f3a\"], [0.8888888888888888, \"#fdca26\"], [1.0, \"#f0f921\"]], \"type\": \"contour\"}], \"contourcarpet\": [{\"colorbar\": {\"outlinewidth\": 0, \"ticks\": \"\"}, \"type\": \"contourcarpet\"}], \"heatmap\": [{\"colorbar\": {\"outlinewidth\": 0, \"ticks\": \"\"}, \"colorscale\": [[0.0, \"#0d0887\"], [0.1111111111111111, \"#46039f\"], [0.2222222222222222, \"#7201a8\"], [0.3333333333333333, \"#9c179e\"], [0.4444444444444444, \"#bd3786\"], [0.5555555555555556, \"#d8576b\"], [0.6666666666666666, \"#ed7953\"], [0.7777777777777778, \"#fb9f3a\"], [0.8888888888888888, \"#fdca26\"], [1.0, \"#f0f921\"]], \"type\": \"heatmap\"}], \"heatmapgl\": [{\"colorbar\": {\"outlinewidth\": 0, \"ticks\": \"\"}, \"colorscale\": [[0.0, \"#0d0887\"], [0.1111111111111111, \"#46039f\"], [0.2222222222222222, \"#7201a8\"], [0.3333333333333333, \"#9c179e\"], [0.4444444444444444, \"#bd3786\"], [0.5555555555555556, \"#d8576b\"], [0.6666666666666666, \"#ed7953\"], [0.7777777777777778, \"#fb9f3a\"], [0.8888888888888888, \"#fdca26\"], [1.0, \"#f0f921\"]], \"type\": \"heatmapgl\"}], \"histogram\": [{\"marker\": {\"colorbar\": {\"outlinewidth\": 0, \"ticks\": \"\"}}, \"type\": \"histogram\"}], \"histogram2d\": [{\"colorbar\": {\"outlinewidth\": 0, \"ticks\": \"\"}, \"colorscale\": [[0.0, \"#0d0887\"], [0.1111111111111111, \"#46039f\"], [0.2222222222222222, \"#7201a8\"], [0.3333333333333333, \"#9c179e\"], [0.4444444444444444, \"#bd3786\"], [0.5555555555555556, \"#d8576b\"], [0.6666666666666666, \"#ed7953\"], [0.7777777777777778, \"#fb9f3a\"], [0.8888888888888888, \"#fdca26\"], [1.0, \"#f0f921\"]], \"type\": \"histogram2d\"}], \"histogram2dcontour\": [{\"colorbar\": {\"outlinewidth\": 0, \"ticks\": \"\"}, \"colorscale\": [[0.0, \"#0d0887\"], [0.1111111111111111, \"#46039f\"], [0.2222222222222222, \"#7201a8\"], [0.3333333333333333, \"#9c179e\"], [0.4444444444444444, \"#bd3786\"], [0.5555555555555556, \"#d8576b\"], [0.6666666666666666, \"#ed7953\"], [0.7777777777777778, \"#fb9f3a\"], [0.8888888888888888, \"#fdca26\"], [1.0, \"#f0f921\"]], \"type\": \"histogram2dcontour\"}], \"mesh3d\": [{\"colorbar\": {\"outlinewidth\": 0, \"ticks\": \"\"}, \"type\": \"mesh3d\"}], \"parcoords\": [{\"line\": {\"colorbar\": {\"outlinewidth\": 0, \"ticks\": \"\"}}, \"type\": \"parcoords\"}], \"pie\": [{\"automargin\": true, \"type\": \"pie\"}], \"scatter\": [{\"marker\": {\"colorbar\": {\"outlinewidth\": 0, \"ticks\": \"\"}}, \"type\": \"scatter\"}], \"scatter3d\": [{\"line\": {\"colorbar\": {\"outlinewidth\": 0, \"ticks\": \"\"}}, \"marker\": {\"colorbar\": {\"outlinewidth\": 0, \"ticks\": \"\"}}, \"type\": \"scatter3d\"}], \"scattercarpet\": [{\"marker\": {\"colorbar\": {\"outlinewidth\": 0, \"ticks\": \"\"}}, \"type\": \"scattercarpet\"}], \"scattergeo\": [{\"marker\": {\"colorbar\": {\"outlinewidth\": 0, \"ticks\": \"\"}}, \"type\": \"scattergeo\"}], \"scattergl\": [{\"marker\": {\"colorbar\": {\"outlinewidth\": 0, \"ticks\": \"\"}}, \"type\": \"scattergl\"}], \"scattermapbox\": [{\"marker\": {\"colorbar\": {\"outlinewidth\": 0, \"ticks\": \"\"}}, \"type\": \"scattermapbox\"}], \"scatterpolar\": [{\"marker\": {\"colorbar\": {\"outlinewidth\": 0, \"ticks\": \"\"}}, \"type\": \"scatterpolar\"}], \"scatterpolargl\": [{\"marker\": {\"colorbar\": {\"outlinewidth\": 0, \"ticks\": \"\"}}, \"type\": \"scatterpolargl\"}], \"scatterternary\": [{\"marker\": {\"colorbar\": {\"outlinewidth\": 0, \"ticks\": \"\"}}, \"type\": \"scatterternary\"}], \"surface\": [{\"colorbar\": {\"outlinewidth\": 0, \"ticks\": \"\"}, \"colorscale\": [[0.0, \"#0d0887\"], [0.1111111111111111, \"#46039f\"], [0.2222222222222222, \"#7201a8\"], [0.3333333333333333, \"#9c179e\"], [0.4444444444444444, \"#bd3786\"], [0.5555555555555556, \"#d8576b\"], [0.6666666666666666, \"#ed7953\"], [0.7777777777777778, \"#fb9f3a\"], [0.8888888888888888, \"#fdca26\"], [1.0, \"#f0f921\"]], \"type\": \"surface\"}], \"table\": [{\"cells\": {\"fill\": {\"color\": \"#EBF0F8\"}, \"line\": {\"color\": \"white\"}}, \"header\": {\"fill\": {\"color\": \"#C8D4E3\"}, \"line\": {\"color\": \"white\"}}, \"type\": \"table\"}]}, \"layout\": {\"annotationdefaults\": {\"arrowcolor\": \"#2a3f5f\", \"arrowhead\": 0, \"arrowwidth\": 1}, \"coloraxis\": {\"colorbar\": {\"outlinewidth\": 0, \"ticks\": \"\"}}, \"colorscale\": {\"diverging\": [[0, \"#8e0152\"], [0.1, \"#c51b7d\"], [0.2, \"#de77ae\"], [0.3, \"#f1b6da\"], [0.4, \"#fde0ef\"], [0.5, \"#f7f7f7\"], [0.6, \"#e6f5d0\"], [0.7, \"#b8e186\"], [0.8, \"#7fbc41\"], [0.9, \"#4d9221\"], [1, \"#276419\"]], \"sequential\": [[0.0, \"#0d0887\"], [0.1111111111111111, \"#46039f\"], [0.2222222222222222, \"#7201a8\"], [0.3333333333333333, \"#9c179e\"], [0.4444444444444444, \"#bd3786\"], [0.5555555555555556, \"#d8576b\"], [0.6666666666666666, \"#ed7953\"], [0.7777777777777778, \"#fb9f3a\"], [0.8888888888888888, \"#fdca26\"], [1.0, \"#f0f921\"]], \"sequentialminus\": [[0.0, \"#0d0887\"], [0.1111111111111111, \"#46039f\"], [0.2222222222222222, \"#7201a8\"], [0.3333333333333333, \"#9c179e\"], [0.4444444444444444, \"#bd3786\"], [0.5555555555555556, \"#d8576b\"], [0.6666666666666666, \"#ed7953\"], [0.7777777777777778, \"#fb9f3a\"], [0.8888888888888888, \"#fdca26\"], [1.0, \"#f0f921\"]]}, \"colorway\": [\"#636efa\", \"#EF553B\", \"#00cc96\", \"#ab63fa\", \"#FFA15A\", \"#19d3f3\", \"#FF6692\", \"#B6E880\", \"#FF97FF\", \"#FECB52\"], \"font\": {\"color\": \"#2a3f5f\"}, \"geo\": {\"bgcolor\": \"white\", \"lakecolor\": \"white\", \"landcolor\": \"#E5ECF6\", \"showlakes\": true, \"showland\": true, \"subunitcolor\": \"white\"}, \"hoverlabel\": {\"align\": \"left\"}, \"hovermode\": \"closest\", \"mapbox\": {\"style\": \"light\"}, \"paper_bgcolor\": \"white\", \"plot_bgcolor\": \"#E5ECF6\", \"polar\": {\"angularaxis\": {\"gridcolor\": \"white\", \"linecolor\": \"white\", \"ticks\": \"\"}, \"bgcolor\": \"#E5ECF6\", \"radialaxis\": {\"gridcolor\": \"white\", \"linecolor\": \"white\", \"ticks\": \"\"}}, \"scene\": {\"xaxis\": {\"backgroundcolor\": \"#E5ECF6\", \"gridcolor\": \"white\", \"gridwidth\": 2, \"linecolor\": \"white\", \"showbackground\": true, \"ticks\": \"\", \"zerolinecolor\": \"white\"}, \"yaxis\": {\"backgroundcolor\": \"#E5ECF6\", \"gridcolor\": \"white\", \"gridwidth\": 2, \"linecolor\": \"white\", \"showbackground\": true, \"ticks\": \"\", \"zerolinecolor\": \"white\"}, \"zaxis\": {\"backgroundcolor\": \"#E5ECF6\", \"gridcolor\": \"white\", \"gridwidth\": 2, \"linecolor\": \"white\", \"showbackground\": true, \"ticks\": \"\", \"zerolinecolor\": \"white\"}}, \"shapedefaults\": {\"line\": {\"color\": \"#2a3f5f\"}}, \"ternary\": {\"aaxis\": {\"gridcolor\": \"white\", \"linecolor\": \"white\", \"ticks\": \"\"}, \"baxis\": {\"gridcolor\": \"white\", \"linecolor\": \"white\", \"ticks\": \"\"}, \"bgcolor\": \"#E5ECF6\", \"caxis\": {\"gridcolor\": \"white\", \"linecolor\": \"white\", \"ticks\": \"\"}}, \"title\": {\"x\": 0.05}, \"xaxis\": {\"automargin\": true, \"gridcolor\": \"white\", \"linecolor\": \"white\", \"ticks\": \"\", \"title\": {\"standoff\": 15}, \"zerolinecolor\": \"white\", \"zerolinewidth\": 2}, \"yaxis\": {\"automargin\": true, \"gridcolor\": \"white\", \"linecolor\": \"white\", \"ticks\": \"\", \"title\": {\"standoff\": 15}, \"zerolinecolor\": \"white\", \"zerolinewidth\": 2}}}, \"title\": {\"text\": \"Cancer synonyms in title / abstract metadata<br><i>Hover over dots for exact values</i>\"}, \"xaxis\": {\"title\": {\"text\": \"Count\"}}, \"yaxis\": {\"title\": {\"text\": \"Regex\"}}},\n",
       "                        {\"responsive\": true}\n",
       "                    ).then(function(){\n",
       "                            \n",
       "var gd = document.getElementById('24d12341-9413-42e5-b8f1-4792c6050152');\n",
       "var x = new MutationObserver(function (mutations, observer) {{\n",
       "        var display = window.getComputedStyle(gd).display;\n",
       "        if (!display || display === 'none') {{\n",
       "            console.log([gd, 'removed!']);\n",
       "            Plotly.purge(gd);\n",
       "            observer.disconnect();\n",
       "        }}\n",
       "}});\n",
       "\n",
       "// Listen for the removal of the full notebook cells\n",
       "var notebookContainer = gd.closest('#notebook-container');\n",
       "if (notebookContainer) {{\n",
       "    x.observe(notebookContainer, {childList: true});\n",
       "}}\n",
       "\n",
       "// Listen for the clearing of the current output cell\n",
       "var outputEl = gd.closest('.output');\n",
       "if (outputEl) {{\n",
       "    x.observe(outputEl, {childList: true});\n",
       "}}\n",
       "\n",
       "                        })\n",
       "                };\n",
       "                });\n",
       "            </script>\n",
       "        </div>"
      ]
     },
     "metadata": {},
     "output_type": "display_data"
    }
   ],
   "source": [
    "cancer_synonyms = [\n",
    "    'cancer',\n",
    "    'malignant tumour',\n",
    "    'malignant tumor',\n",
    "    'melanoma',\n",
    "    'leukemia',\n",
    "    'leukaemia',\n",
    "    'chemotherapy',\n",
    "    'radiotherapy',\n",
    "    'radiation therapy',\n",
    "    'lymphoma',\n",
    "    'sarcoma',\n",
    "    'carcinoma',\n",
    "    'blastoma',\n",
    "    'oncolog'\n",
    "]\n",
    "df, cancer_counts = count_and_tag(df, cancer_synonyms, 'risk_cancer')\n",
    "dotplot(cancer_counts, 'Cancer synonyms in title / abstract metadata')"
   ]
  },
  {
   "cell_type": "code",
   "execution_count": 69,
   "metadata": {},
   "outputs": [
    {
     "data": {
      "text/plain": [
       "cancer               1196\n",
       "leukemia              268\n",
       "carcinoma             262\n",
       "chemotherapy          136\n",
       "lymphoma              122\n",
       "sarcoma               112\n",
       "melanoma               82\n",
       "oncolog                74\n",
       "blastoma               69\n",
       "leukaemia              51\n",
       "malignant tumor        19\n",
       "radiotherapy           18\n",
       "malignant tumour        5\n",
       "radiation therapy       3\n",
       "dtype: int64"
      ]
     },
     "execution_count": 69,
     "metadata": {},
     "output_type": "execute_result"
    }
   ],
   "source": [
    "cancer_counts.sort_values(ascending=False)"
   ]
  },
  {
   "cell_type": "code",
   "execution_count": 70,
   "metadata": {},
   "outputs": [
    {
     "name": "stdout",
     "output_type": "stream",
     "text": [
      "There are 56 papers on Covid-19 and cancer\n"
     ]
    }
   ],
   "source": [
    "n = (df.tag_disease_covid19 & df.tag_risk_cancer).sum()\n",
    "print(f'There are {n} papers on Covid-19 and cancer')"
   ]
  },
  {
   "cell_type": "markdown",
   "metadata": {},
   "source": [
    "## Chronic respiratory disease"
   ]
  },
  {
   "cell_type": "code",
   "execution_count": 71,
   "metadata": {},
   "outputs": [
    {
     "data": {
      "text/html": [
       "<div>\n",
       "        \n",
       "        \n",
       "            <div id=\"c08e270d-d00a-4db7-b532-9180b282c655\" class=\"plotly-graph-div\" style=\"height:525px; width:100%;\"></div>\n",
       "            <script type=\"text/javascript\">\n",
       "                require([\"plotly\"], function(Plotly) {\n",
       "                    window.PLOTLYENV=window.PLOTLYENV || {};\n",
       "                    \n",
       "                if (document.getElementById(\"c08e270d-d00a-4db7-b532-9180b282c655\")) {\n",
       "                    Plotly.newPlot(\n",
       "                        'c08e270d-d00a-4db7-b532-9180b282c655',\n",
       "                        [{\"marker\": {\"color\": \"crimson\", \"size\": 12}, \"mode\": \"markers\", \"name\": \"Count\", \"type\": \"scatter\", \"x\": [22, 25, 41, 181, 203, 511], \"y\": [\"emphysema\", \"chronic bronchitis\", \"chronic respiratory disease\", \"\\\\bcopd\", \"chronic obstructive pulmonary disease\", \"asthma\"]}],\n",
       "                        {\"template\": {\"data\": {\"bar\": [{\"error_x\": {\"color\": \"#2a3f5f\"}, \"error_y\": {\"color\": \"#2a3f5f\"}, \"marker\": {\"line\": {\"color\": \"#E5ECF6\", \"width\": 0.5}}, \"type\": \"bar\"}], \"barpolar\": [{\"marker\": {\"line\": {\"color\": \"#E5ECF6\", \"width\": 0.5}}, \"type\": \"barpolar\"}], \"carpet\": [{\"aaxis\": {\"endlinecolor\": \"#2a3f5f\", \"gridcolor\": \"white\", \"linecolor\": \"white\", \"minorgridcolor\": \"white\", \"startlinecolor\": \"#2a3f5f\"}, \"baxis\": {\"endlinecolor\": \"#2a3f5f\", \"gridcolor\": \"white\", \"linecolor\": \"white\", \"minorgridcolor\": \"white\", \"startlinecolor\": \"#2a3f5f\"}, \"type\": \"carpet\"}], \"choropleth\": [{\"colorbar\": {\"outlinewidth\": 0, \"ticks\": \"\"}, \"type\": \"choropleth\"}], \"contour\": [{\"colorbar\": {\"outlinewidth\": 0, \"ticks\": \"\"}, \"colorscale\": [[0.0, \"#0d0887\"], [0.1111111111111111, \"#46039f\"], [0.2222222222222222, \"#7201a8\"], [0.3333333333333333, \"#9c179e\"], [0.4444444444444444, \"#bd3786\"], [0.5555555555555556, \"#d8576b\"], [0.6666666666666666, \"#ed7953\"], [0.7777777777777778, \"#fb9f3a\"], [0.8888888888888888, \"#fdca26\"], [1.0, \"#f0f921\"]], \"type\": \"contour\"}], \"contourcarpet\": [{\"colorbar\": {\"outlinewidth\": 0, \"ticks\": \"\"}, \"type\": \"contourcarpet\"}], \"heatmap\": [{\"colorbar\": {\"outlinewidth\": 0, \"ticks\": \"\"}, \"colorscale\": [[0.0, \"#0d0887\"], [0.1111111111111111, \"#46039f\"], [0.2222222222222222, \"#7201a8\"], [0.3333333333333333, \"#9c179e\"], [0.4444444444444444, \"#bd3786\"], [0.5555555555555556, \"#d8576b\"], [0.6666666666666666, \"#ed7953\"], [0.7777777777777778, \"#fb9f3a\"], [0.8888888888888888, \"#fdca26\"], [1.0, \"#f0f921\"]], \"type\": \"heatmap\"}], \"heatmapgl\": [{\"colorbar\": {\"outlinewidth\": 0, \"ticks\": \"\"}, \"colorscale\": [[0.0, \"#0d0887\"], [0.1111111111111111, \"#46039f\"], [0.2222222222222222, \"#7201a8\"], [0.3333333333333333, \"#9c179e\"], [0.4444444444444444, \"#bd3786\"], [0.5555555555555556, \"#d8576b\"], [0.6666666666666666, \"#ed7953\"], [0.7777777777777778, \"#fb9f3a\"], [0.8888888888888888, \"#fdca26\"], [1.0, \"#f0f921\"]], \"type\": \"heatmapgl\"}], \"histogram\": [{\"marker\": {\"colorbar\": {\"outlinewidth\": 0, \"ticks\": \"\"}}, \"type\": \"histogram\"}], \"histogram2d\": [{\"colorbar\": {\"outlinewidth\": 0, \"ticks\": \"\"}, \"colorscale\": [[0.0, \"#0d0887\"], [0.1111111111111111, \"#46039f\"], [0.2222222222222222, \"#7201a8\"], [0.3333333333333333, \"#9c179e\"], [0.4444444444444444, \"#bd3786\"], [0.5555555555555556, \"#d8576b\"], [0.6666666666666666, \"#ed7953\"], [0.7777777777777778, \"#fb9f3a\"], [0.8888888888888888, \"#fdca26\"], [1.0, \"#f0f921\"]], \"type\": \"histogram2d\"}], \"histogram2dcontour\": [{\"colorbar\": {\"outlinewidth\": 0, \"ticks\": \"\"}, \"colorscale\": [[0.0, \"#0d0887\"], [0.1111111111111111, \"#46039f\"], [0.2222222222222222, \"#7201a8\"], [0.3333333333333333, \"#9c179e\"], [0.4444444444444444, \"#bd3786\"], [0.5555555555555556, \"#d8576b\"], [0.6666666666666666, \"#ed7953\"], [0.7777777777777778, \"#fb9f3a\"], [0.8888888888888888, \"#fdca26\"], [1.0, \"#f0f921\"]], \"type\": \"histogram2dcontour\"}], \"mesh3d\": [{\"colorbar\": {\"outlinewidth\": 0, \"ticks\": \"\"}, \"type\": \"mesh3d\"}], \"parcoords\": [{\"line\": {\"colorbar\": {\"outlinewidth\": 0, \"ticks\": \"\"}}, \"type\": \"parcoords\"}], \"pie\": [{\"automargin\": true, \"type\": \"pie\"}], \"scatter\": [{\"marker\": {\"colorbar\": {\"outlinewidth\": 0, \"ticks\": \"\"}}, \"type\": \"scatter\"}], \"scatter3d\": [{\"line\": {\"colorbar\": {\"outlinewidth\": 0, \"ticks\": \"\"}}, \"marker\": {\"colorbar\": {\"outlinewidth\": 0, \"ticks\": \"\"}}, \"type\": \"scatter3d\"}], \"scattercarpet\": [{\"marker\": {\"colorbar\": {\"outlinewidth\": 0, \"ticks\": \"\"}}, \"type\": \"scattercarpet\"}], \"scattergeo\": [{\"marker\": {\"colorbar\": {\"outlinewidth\": 0, \"ticks\": \"\"}}, \"type\": \"scattergeo\"}], \"scattergl\": [{\"marker\": {\"colorbar\": {\"outlinewidth\": 0, \"ticks\": \"\"}}, \"type\": \"scattergl\"}], \"scattermapbox\": [{\"marker\": {\"colorbar\": {\"outlinewidth\": 0, \"ticks\": \"\"}}, \"type\": \"scattermapbox\"}], \"scatterpolar\": [{\"marker\": {\"colorbar\": {\"outlinewidth\": 0, \"ticks\": \"\"}}, \"type\": \"scatterpolar\"}], \"scatterpolargl\": [{\"marker\": {\"colorbar\": {\"outlinewidth\": 0, \"ticks\": \"\"}}, \"type\": \"scatterpolargl\"}], \"scatterternary\": [{\"marker\": {\"colorbar\": {\"outlinewidth\": 0, \"ticks\": \"\"}}, \"type\": \"scatterternary\"}], \"surface\": [{\"colorbar\": {\"outlinewidth\": 0, \"ticks\": \"\"}, \"colorscale\": [[0.0, \"#0d0887\"], [0.1111111111111111, \"#46039f\"], [0.2222222222222222, \"#7201a8\"], [0.3333333333333333, \"#9c179e\"], [0.4444444444444444, \"#bd3786\"], [0.5555555555555556, \"#d8576b\"], [0.6666666666666666, \"#ed7953\"], [0.7777777777777778, \"#fb9f3a\"], [0.8888888888888888, \"#fdca26\"], [1.0, \"#f0f921\"]], \"type\": \"surface\"}], \"table\": [{\"cells\": {\"fill\": {\"color\": \"#EBF0F8\"}, \"line\": {\"color\": \"white\"}}, \"header\": {\"fill\": {\"color\": \"#C8D4E3\"}, \"line\": {\"color\": \"white\"}}, \"type\": \"table\"}]}, \"layout\": {\"annotationdefaults\": {\"arrowcolor\": \"#2a3f5f\", \"arrowhead\": 0, \"arrowwidth\": 1}, \"coloraxis\": {\"colorbar\": {\"outlinewidth\": 0, \"ticks\": \"\"}}, \"colorscale\": {\"diverging\": [[0, \"#8e0152\"], [0.1, \"#c51b7d\"], [0.2, \"#de77ae\"], [0.3, \"#f1b6da\"], [0.4, \"#fde0ef\"], [0.5, \"#f7f7f7\"], [0.6, \"#e6f5d0\"], [0.7, \"#b8e186\"], [0.8, \"#7fbc41\"], [0.9, \"#4d9221\"], [1, \"#276419\"]], \"sequential\": [[0.0, \"#0d0887\"], [0.1111111111111111, \"#46039f\"], [0.2222222222222222, \"#7201a8\"], [0.3333333333333333, \"#9c179e\"], [0.4444444444444444, \"#bd3786\"], [0.5555555555555556, \"#d8576b\"], [0.6666666666666666, \"#ed7953\"], [0.7777777777777778, \"#fb9f3a\"], [0.8888888888888888, \"#fdca26\"], [1.0, \"#f0f921\"]], \"sequentialminus\": [[0.0, \"#0d0887\"], [0.1111111111111111, \"#46039f\"], [0.2222222222222222, \"#7201a8\"], [0.3333333333333333, \"#9c179e\"], [0.4444444444444444, \"#bd3786\"], [0.5555555555555556, \"#d8576b\"], [0.6666666666666666, \"#ed7953\"], [0.7777777777777778, \"#fb9f3a\"], [0.8888888888888888, \"#fdca26\"], [1.0, \"#f0f921\"]]}, \"colorway\": [\"#636efa\", \"#EF553B\", \"#00cc96\", \"#ab63fa\", \"#FFA15A\", \"#19d3f3\", \"#FF6692\", \"#B6E880\", \"#FF97FF\", \"#FECB52\"], \"font\": {\"color\": \"#2a3f5f\"}, \"geo\": {\"bgcolor\": \"white\", \"lakecolor\": \"white\", \"landcolor\": \"#E5ECF6\", \"showlakes\": true, \"showland\": true, \"subunitcolor\": \"white\"}, \"hoverlabel\": {\"align\": \"left\"}, \"hovermode\": \"closest\", \"mapbox\": {\"style\": \"light\"}, \"paper_bgcolor\": \"white\", \"plot_bgcolor\": \"#E5ECF6\", \"polar\": {\"angularaxis\": {\"gridcolor\": \"white\", \"linecolor\": \"white\", \"ticks\": \"\"}, \"bgcolor\": \"#E5ECF6\", \"radialaxis\": {\"gridcolor\": \"white\", \"linecolor\": \"white\", \"ticks\": \"\"}}, \"scene\": {\"xaxis\": {\"backgroundcolor\": \"#E5ECF6\", \"gridcolor\": \"white\", \"gridwidth\": 2, \"linecolor\": \"white\", \"showbackground\": true, \"ticks\": \"\", \"zerolinecolor\": \"white\"}, \"yaxis\": {\"backgroundcolor\": \"#E5ECF6\", \"gridcolor\": \"white\", \"gridwidth\": 2, \"linecolor\": \"white\", \"showbackground\": true, \"ticks\": \"\", \"zerolinecolor\": \"white\"}, \"zaxis\": {\"backgroundcolor\": \"#E5ECF6\", \"gridcolor\": \"white\", \"gridwidth\": 2, \"linecolor\": \"white\", \"showbackground\": true, \"ticks\": \"\", \"zerolinecolor\": \"white\"}}, \"shapedefaults\": {\"line\": {\"color\": \"#2a3f5f\"}}, \"ternary\": {\"aaxis\": {\"gridcolor\": \"white\", \"linecolor\": \"white\", \"ticks\": \"\"}, \"baxis\": {\"gridcolor\": \"white\", \"linecolor\": \"white\", \"ticks\": \"\"}, \"bgcolor\": \"#E5ECF6\", \"caxis\": {\"gridcolor\": \"white\", \"linecolor\": \"white\", \"ticks\": \"\"}}, \"title\": {\"x\": 0.05}, \"xaxis\": {\"automargin\": true, \"gridcolor\": \"white\", \"linecolor\": \"white\", \"ticks\": \"\", \"title\": {\"standoff\": 15}, \"zerolinecolor\": \"white\", \"zerolinewidth\": 2}, \"yaxis\": {\"automargin\": true, \"gridcolor\": \"white\", \"linecolor\": \"white\", \"ticks\": \"\", \"title\": {\"standoff\": 15}, \"zerolinecolor\": \"white\", \"zerolinewidth\": 2}}}, \"title\": {\"text\": \"Chronic respiratory disease terms in title / abstract metadata<br><i>Hover over dots for exact values</i>\"}, \"xaxis\": {\"title\": {\"text\": \"Count\"}}, \"yaxis\": {\"title\": {\"text\": \"Regex\"}}},\n",
       "                        {\"responsive\": true}\n",
       "                    ).then(function(){\n",
       "                            \n",
       "var gd = document.getElementById('c08e270d-d00a-4db7-b532-9180b282c655');\n",
       "var x = new MutationObserver(function (mutations, observer) {{\n",
       "        var display = window.getComputedStyle(gd).display;\n",
       "        if (!display || display === 'none') {{\n",
       "            console.log([gd, 'removed!']);\n",
       "            Plotly.purge(gd);\n",
       "            observer.disconnect();\n",
       "        }}\n",
       "}});\n",
       "\n",
       "// Listen for the removal of the full notebook cells\n",
       "var notebookContainer = gd.closest('#notebook-container');\n",
       "if (notebookContainer) {{\n",
       "    x.observe(notebookContainer, {childList: true});\n",
       "}}\n",
       "\n",
       "// Listen for the clearing of the current output cell\n",
       "var outputEl = gd.closest('.output');\n",
       "if (outputEl) {{\n",
       "    x.observe(outputEl, {childList: true});\n",
       "}}\n",
       "\n",
       "                        })\n",
       "                };\n",
       "                });\n",
       "            </script>\n",
       "        </div>"
      ]
     },
     "metadata": {},
     "output_type": "display_data"
    }
   ],
   "source": [
    "chronicresp_synonyms = [\n",
    "    'chronic respiratory disease',\n",
    "    'asthma',\n",
    "    'chronic obstructive pulmonary disease',\n",
    "    r'\\bcopd',\n",
    "    'chronic bronchitis',\n",
    "    'emphysema'\n",
    "]\n",
    "df, chronicresp_counts = count_and_tag(df, chronicresp_synonyms, 'risk_chronicresp')\n",
    "dotplot(chronicresp_counts, 'Chronic respiratory disease terms in title / abstract metadata')"
   ]
  },
  {
   "cell_type": "code",
   "execution_count": 72,
   "metadata": {},
   "outputs": [
    {
     "data": {
      "text/plain": [
       "asthma                                   511\n",
       "chronic obstructive pulmonary disease    203\n",
       "\\bcopd                                   181\n",
       "chronic respiratory disease               41\n",
       "chronic bronchitis                        25\n",
       "emphysema                                 22\n",
       "dtype: int64"
      ]
     },
     "execution_count": 72,
     "metadata": {},
     "output_type": "execute_result"
    }
   ],
   "source": [
    "chronicresp_counts.sort_values(ascending=False)"
   ]
  },
  {
   "cell_type": "code",
   "execution_count": 73,
   "metadata": {},
   "outputs": [
    {
     "name": "stdout",
     "output_type": "stream",
     "text": [
      "There are 21 papers on Covid-19 and chronic respiratory disease\n"
     ]
    }
   ],
   "source": [
    "n = (df.tag_disease_covid19 & df.tag_risk_chronicresp).sum()\n",
    "print(f'There are {n} papers on Covid-19 and chronic respiratory disease')"
   ]
  },
  {
   "cell_type": "code",
   "execution_count": 74,
   "metadata": {},
   "outputs": [
    {
     "name": "stdout",
     "output_type": "stream",
     "text": [
      "1 of 21\n",
      "Clinical characteristics of 25 death cases infected with COVID-19 pneumonia: a retrospective review of medical records in a single medical center, Wuhan, China\n",
      "[ http://doi.org/10.1101/2020.02.19.20025239 ]\n",
      "    \"ebral infarction (4/25, 16%), chronic obstructive pulmonary disease (COPD, 2/25, 8%), malignant tumors (2/25, 8%) and acute pancreatitis (1/25, 4%). The most common organ damage outside the lungs was the heart, followed by kidney and liver. In the patients' last examination before death, white blood\"\n",
      "---\n",
      "2 of 21\n",
      "Estimation of risk factors for COVID-19 mortality - preliminary results\n",
      "[ http://doi.org/10.1101/2020.02.24.20027268 ]\n",
      "    \"10.2736; 15.8643], along with chronic respiratory disease (OR=7.7925 CI95%[5.5446; 10.4319]). Males are more likely to die from COVID-19 (OR=1.8518 (CI95%[1.5996; 2.1270]). Some limitations such as the lack of information about the correct prevalence of gender per age or about comorbidities per age \"\n",
      "---\n",
      "3 of 21\n",
      "Comorbidity and its impact on 1,590 patients with COVID-19 in China: A Nationwide Analysis\n",
      "[ http://doi.org/10.1101/2020.02.25.20027664 ]\n",
      "    \"etes, hepatitis B infections, chronic obstructive pulmonary disease, chronic kidney diseases, malignancy and immunodeficiency, respectively. 130 (8.2%) patients reported having two or more comorbidities. Patients with two or more comorbidities had significantly escalated risks of reaching to the com\"\n",
      "---\n",
      "4 of 21\n",
      "Exploring diseases/traits and blood proteins causally related to expression of ACE2, the putative receptor of 2019-nCov: A Mendelian Randomization analysis\n",
      "[ http://doi.org/10.1101/2020.03.04.20031237 ]\n",
      "    \"ER+) breast and lung cancers, asthma, smoking and elevated ALT, among others. We also uncovered a number of plasma/serum proteins potentially linked to altered ACE2 expression, and the top enriched pathways included cytokine-cytokine-receptor interaction, VEGF signaling, JAK-STAT signaling etc. We a\"\n",
      "---\n",
      "5 of 21\n",
      "Acute Myocardial Injury of Patients with Coronavirus Disease 2019\n",
      "[ http://doi.org/10.1101/2020.03.05.20031591 ]\n",
      "    \" cardiovascular diseases, and chronic obstructive pulmonary disease). Novel coronavirus pneumonia (NCP) severity was higher in the AMI patients than in patients with non-definite AMI (p<0.001). All the AMI patients required care in intensive care unit; of them, three died, two remain hospitalized. M\"\n",
      "---\n",
      "6 of 21\n",
      "Active or latent tuberculosis increases susceptibility to COVID-19 and disease severity\n",
      "[ http://doi.org/10.1101/2020.03.10.20033795 ]\n",
      "    \"oronary heart disease: 8.33%; COPD: 5.56%). MTB co-infection linked with disease severity (severe/critical 78% vs mild/moderate cases 22%; p=0.0049), and rate of disease progression: infection to development of symptoms (MTB+SARS-CoV-2: 6.5+/-4.2 days vs SARS-COV-2: 8.9+/-5.2 days; p=0.073); from sy\"\n",
      "---\n",
      "7 of 21\n",
      "Systematic review and meta-analysis of predictive symptoms and comorbidities for severe COVID-19 infection\n",
      "[ http://doi.org/10.1101/2020.03.15.20035360 ]\n",
      "    \"tanding the low prevalence of COPD in severe disease and ICU-admitted groups (4.5% and 9.7%, respectively), COPD was the most strongly predictive comorbidity for both severe disease (pOR 6.42, 95% CI 2.44 − 16.9) and ICU admission (pOR 17.8, 95% CI 6.56 − 48.2). Cardiovascular disease and hypertensi\"\n",
      "---\n",
      "8 of 21\n",
      "A Tool to Early Predict Severe 2019-Novel Coronavirus Pneumonia (COVID-19) : A Multicenter Study using the Risk Nomogram in Wuhan and Guangdong, China\n",
      "[ http://doi.org/10.1101/2020.03.17.20037515 ]\n",
      "    \"etes, coronary heart disease, chronic respiratory disease, tuberculosis disease. We found one demographic and six serological indicators (age, serum lactate dehydrogenase, C-reactive protein, the coefficient of variation of red blood cell distribution width (RDW), blood urea nitrogen, albumin, direc\"\n",
      "---\n",
      "9 of 21\n",
      "Incidence, clinical characteristics and prognostic factor of patients with COVID-19: a systematic review and meta-analysis\n",
      "[ http://doi.org/10.1101/2020.03.17.20037572 ]\n",
      "    \"6.017; 95% CI, 2.192-16.514), chronic obstructive pulmonary disease (COPD, OR = 5.323; 95% CI, 2.613-10.847) and cerebrovascular disease (OR = 3.219; 95% CI, 1.486-6.972). In terms of laboratory results, increased lactate dehydrogenase (LDH), C-reactive protein (CRP) and D-dimer and decreased blood \"\n",
      "---\n",
      "10 of 21\n",
      "ACE-2 Expression in the Small Airway Epithelia of Smokers and COPD Patients: Implications for COVID-19\n",
      "[ http://doi.org/10.1101/2020.03.18.20038455 ]\n",
      "    \"act. Because individuals with chronic obstructive pulmonary disease (COPD) are at increased risk of severe COVID19, we determined whether ACE2 expression in the lower airways was related to COPD and cigarette smoking. Methods: Using RNAseq, we determined gene expression levels in bronchial epithelia\"\n",
      "---\n",
      "11 of 21\n",
      "Potential Factors for Prediction of Disease Severity of COVID-19 Patients\n",
      "[ http://doi.org/10.1101/2020.03.20.20039818 ]\n",
      "    \"oms of anhelation (78.6%) and asthma (71.4%). For laboratory examination, 57.1% severe cases showed significant reduction in lymphocyte count. The levels of Interluekin-6 (IL6), IL10, erythrocyte sedimentation rate (ESR) and D-Dimer (D-D) were significantly higher in severe patients than mild patien\"\n",
      "---\n",
      "12 of 21\n",
      "Estimating excess 1- year mortality from COVID-19 according to underlying conditions and age in England: a rapid analysis using NHS health records in 3.8 million adults\n",
      "[ http://doi.org/10.1101/2020.03.22.20040287 ]\n",
      "    \"nic kidney disease (0.6%) and chronic obstructive pulmonary disease, COPD (0.5%). Multimorbidity (co-occurrence of ≥2 conditions in an individual) was common (10.1%). The 1-year mortality in the at-risk population was 4.46%, and age and underlying conditions combine to influence background risk, var\"\n",
      "---\n",
      "13 of 21\n",
      "Imaging changes of severe COVID-19 pneumonia in advanced stage\n",
      "[ http://doi.org/10.1007/s00134-020-05990-y ]\n",
      "    \"y green arrows), compensatory emphysema occurred in Panels D and E (marked by blue arrows), and pulmonary cavity formation appeared in Panel F (marked by blue arrows), compared with acute stage of the day 5 after symptom onset, inflammatory lesions and ground glass shadow of Panels A and B (marked b\"\n",
      "---\n",
      "14 of 21\n",
      "Clinical characteristics of 140 patients infected by SARS-CoV-2 in Wuhan, China\n",
      "[ http://doi.org/10.1111/all.14238 ]\n",
      "    \"reported by several patients. Asthma or other allergic diseases was not reported by any of the patients. Chronic obstructive pulmonary disease (COPD, 1.4%) and current smokers (1.4%) were rare. Bilateral ground glass or patchy opacity (89.6%) were the most common signs of radiological finding. Lymph\"\n",
      "---\n",
      "15 of 21\n",
      "Medical management and prevention instruction of chronic obstructive pulmonary disease during the coronavirus disease 2019 epidemic\n",
      "[ http://doi.org/10.3760/cma.j.cn112147-20200227-00201 ]\n",
      "    \"-19, especially patients with chronic obstructive pulmonary disease (COPD) resulting in high mortalities. There were nearly 100 million COPD patients in China, and most of them were the elderly. Once infected with COVID-19, it would be life-threatening for the COPD patients. Therefore, during the ep\"\n",
      "---\n"
     ]
    }
   ],
   "source": [
    "print_key_phrases(df[df.tag_disease_covid19 & df.tag_risk_chronicresp],\n",
    "                  chronicresp_synonyms, n=15)"
   ]
  },
  {
   "cell_type": "markdown",
   "metadata": {},
   "source": [
    "## Asthma"
   ]
  },
  {
   "cell_type": "code",
   "execution_count": 75,
   "metadata": {},
   "outputs": [
    {
     "data": {
      "text/plain": [
       "asthma    511\n",
       "dtype: int64"
      ]
     },
     "execution_count": 75,
     "metadata": {},
     "output_type": "execute_result"
    }
   ],
   "source": [
    "# Only really one term for asthma\n",
    "df, asthma_counts = count_and_tag(df, ['asthma'], 'risk_asthma')\n",
    "asthma_counts"
   ]
  },
  {
   "cell_type": "code",
   "execution_count": 76,
   "metadata": {},
   "outputs": [
    {
     "name": "stdout",
     "output_type": "stream",
     "text": [
      "There are 5 papers on Covid-19 and asthma\n"
     ]
    }
   ],
   "source": [
    "n = (df.tag_disease_covid19 & df.tag_risk_asthma).sum()\n",
    "print(f'There are {n} papers on Covid-19 and asthma')"
   ]
  },
  {
   "cell_type": "code",
   "execution_count": 77,
   "metadata": {},
   "outputs": [
    {
     "name": "stdout",
     "output_type": "stream",
     "text": [
      "1 of 5\n",
      "Exploring diseases/traits and blood proteins causally related to expression of ACE2, the putative receptor of 2019-nCov: A Mendelian Randomization analysis\n",
      "[ http://doi.org/10.1101/2020.03.04.20031237 ]\n",
      "    \"ER+) breast and lung cancers, asthma, smoking and elevated ALT, among others. We also uncovered a number of plasma/serum proteins potentially linked to altered ACE2 expression, and the top enriched pathways included cytokine-cytokine-receptor interaction, VEGF signaling, JAK-STAT signaling etc. We a\"\n",
      "---\n",
      "2 of 5\n",
      "Potential Factors for Prediction of Disease Severity of COVID-19 Patients\n",
      "[ http://doi.org/10.1101/2020.03.20.20039818 ]\n",
      "    \"oms of anhelation (78.6%) and asthma (71.4%). For laboratory examination, 57.1% severe cases showed significant reduction in lymphocyte count. The levels of Interluekin-6 (IL6), IL10, erythrocyte sedimentation rate (ESR) and D-Dimer (D-D) were significantly higher in severe patients than mild patien\"\n",
      "---\n",
      "3 of 5\n",
      "Clinical characteristics of 140 patients infected by SARS-CoV-2 in Wuhan, China\n",
      "[ http://doi.org/10.1111/all.14238 ]\n",
      "    \"reported by several patients. Asthma or other allergic diseases was not reported by any of the patients. Chronic obstructive pulmonary disease (COPD, 1.4%) and current smokers (1.4%) were rare. Bilateral ground glass or patchy opacity (89.6%) were the most common signs of radiological finding. Lymph\"\n",
      "---\n",
      "4 of 5\n",
      "Preliminary study of the relationship between novel coronavirus pneumonia and liver function damage: a multicenter study\n",
      "[ http://doi.org/10.3760/cma.j.issn.1007-3418.2020.02.003 ]\n",
      "    \"underlying disease (bronchial asthma, coronary heart disease, malignant tumor, chronic kidney disease), and one case (3.13%) was simultaneously combined with high blood pressure and malignant tumor. The results of laboratory examination showed that the alanine aminotransferase (ALT), aspartate amino\"\n",
      "---\n",
      "5 of 5\n",
      "2019-novel coronavirus outbreak: A new challenge\n",
      "[ http://doi.org/10.1016/j.jgar.2020.02.021 ]\n",
      "    \"lmonary diseases (e.g., COPD, asthma, bronchiectasis) that were surprisingly underreported. Fever was presented in all the case series available, flanked by cough, dyspnea, myalgias and fatigue. Multiple bilateral lobular and subsegmental areas of consolidation or bilateral ground-glass opacities we\"\n",
      "---\n"
     ]
    }
   ],
   "source": [
    "print_key_phrases(df[df.tag_disease_covid19 & df.tag_risk_asthma],\n",
    "                  ['asthma'])"
   ]
  },
  {
   "cell_type": "markdown",
   "metadata": {},
   "source": [
    "# Immunity\n",
    "\n",
    "Looking for terms which indicate factors relating to vaccination and immunity.\n",
    "\n",
    "## Generic immunity / vaccination\n",
    "\n",
    "Papers which mention generic themes relating to immunity / vaccination. (As the research develops, we may extend this section to include specific lines of research relating to immunity / vaccination."
   ]
  },
  {
   "cell_type": "code",
   "execution_count": 78,
   "metadata": {},
   "outputs": [
    {
     "data": {
      "text/plain": [
       "immunity     2120\n",
       "\\bvaccin     5336\n",
       "innoculat       0\n",
       "dtype: int64"
      ]
     },
     "execution_count": 78,
     "metadata": {},
     "output_type": "execute_result"
    }
   ],
   "source": [
    "immunity_synonyms = [\n",
    "    'immunity',\n",
    "    r'\\bvaccin',\n",
    "    'innoculat'\n",
    "]\n",
    "df, immunity_counts = count_and_tag(df, immunity_synonyms, 'immunity_generic')\n",
    "immunity_counts"
   ]
  },
  {
   "cell_type": "code",
   "execution_count": 79,
   "metadata": {},
   "outputs": [
    {
     "name": "stdout",
     "output_type": "stream",
     "text": [
      "There are 156 papers on Covid-19 and immunity / vaccines\n"
     ]
    }
   ],
   "source": [
    "n = (df.tag_disease_covid19 & df.tag_immunity_generic).sum()\n",
    "print(f'There are {n} papers on Covid-19 and immunity / vaccines')"
   ]
  },
  {
   "cell_type": "code",
   "execution_count": 80,
   "metadata": {},
   "outputs": [
    {
     "name": "stdout",
     "output_type": "stream",
     "text": [
      "Intersection of tag_disease_covid19, tag_risk_generic & tag_immunity_generic\n",
      "============================================================================\n",
      "1 of 8\n",
      "COVID-2019: the role of the nsp2 and nsp3 in its pathogenesis\n",
      "[ http://doi.org/10.1002/jmv.25719 ]\n",
      "    \"essure could account for some clinical features of this virus compared to SARS and Bat SARS-like CoV. The stabilizing mutation falling in the endosome-associated-protein-like domain of the nsp2 protein could account for COVID-2019 high ability of contagious, while the destabilizing mutation in nsp3 \"\n",
      "---\n",
      "2 of 8\n",
      "An outbreak of <scp>COVID</scp> ‐19 caused by a new coronavirus: what we know so far\n",
      "[ http://doi.org/10.5694/mja2.50530 ]\n",
      "    \"g diagnostic, therapeutic and vaccine development efforts. Information on the new virus and its impact is being updated constantly. We know that SARS‐CoV‐2 can cause severe disease, although active surveillance of contacts is required to define the milder end of the disease spectrum and to estimate \"\n",
      "---\n",
      "3 of 8\n",
      "Persistence and clearance of viral RNA in 2019 novel coronavirus disease rehabilitation patients\n",
      "[ http://doi.org/ ]\n",
      "    \"tive. Using a multiple linear regression model ( F =2.669, P =0.044, and adjusted R 2 =0.122), the analysis showed that the CD4+ T lymphocyte count may help predict the duration of viral RNA detection in patients&rsquo; stools ( t =-2.699, P =0.010). The duration of viral RNA detection from orophary\"\n",
      "---\n",
      "4 of 8\n",
      "Two clinical cases of Novel coronavirus pneumonia (NCP) in renal transplant recipients\n",
      "[ http://doi.org/ ]\n",
      "    \"\"\n",
      "---\n",
      "5 of 8\n",
      "Bibliometric analysis of PubMed literature on Coronavirus Disease 2019\n",
      "[ http://doi.org/ ]\n",
      "    \"ment, pathology and etiology, vaccines and drugs, epidemic prediction models, and bioinformatics analysis. The proportion of article in English literatures was higher than that in Chinese literatures ( P =0.005). Among them, 91 papers (46.9%) were independently completed by the Chinese researchers, \"\n",
      "---\n"
     ]
    }
   ],
   "source": [
    "print('Intersection of tag_disease_covid19, tag_risk_generic & tag_immunity_generic')\n",
    "print('=' * 76)\n",
    "print_key_phrases(df[df.tag_disease_covid19 &\n",
    "                     df.tag_risk_generic &\n",
    "                     df.tag_immunity_generic],\n",
    "                  risk_factor_synonyms + immunity_synonyms)"
   ]
  },
  {
   "cell_type": "code",
   "execution_count": 81,
   "metadata": {},
   "outputs": [],
   "source": [
    "tag_columns = df.columns[df.columns.str.startswith('tag_')].tolist()"
   ]
  },
  {
   "cell_type": "markdown",
   "metadata": {},
   "source": [
    "# Geographies\n",
    "\n",
    "**IMPORTANT: This section is still under development, as have been focusing on Risk Factors and Research Design**\n",
    "\n",
    "- Continents (inc. continental regions)\n",
    "- Countries\n",
    "- Key regions of countries\n",
    "- Key cities\n",
    "\n",
    "## Continents\n",
    "\n",
    "These search strings include continents and subregions of continents, with particular focus on countries where initial outbreaks have been studied (e.g. China, Korea, Japan, Iran, Italy)."
   ]
  },
  {
   "cell_type": "code",
   "execution_count": 82,
   "metadata": {},
   "outputs": [
    {
     "data": {
      "text/html": [
       "<div>\n",
       "        \n",
       "        \n",
       "            <div id=\"adf31c1e-e62a-4c7f-99d0-4077c1508181\" class=\"plotly-graph-div\" style=\"height:525px; width:100%;\"></div>\n",
       "            <script type=\"text/javascript\">\n",
       "                require([\"plotly\"], function(Plotly) {\n",
       "                    window.PLOTLYENV=window.PLOTLYENV || {};\n",
       "                    \n",
       "                if (document.getElementById(\"adf31c1e-e62a-4c7f-99d0-4077c1508181\")) {\n",
       "                    Plotly.newPlot(\n",
       "                        'adf31c1e-e62a-4c7f-99d0-4077c1508181',\n",
       "                        [{\"marker\": {\"color\": \"crimson\", \"size\": 12}, \"mode\": \"markers\", \"name\": \"Count\", \"type\": \"scatter\", \"x\": [400, 410, 414, 522, 1034, 1497, 1869, 3132, 4498, 5418], \"y\": [\"south_america\", \"australasia\", \"south_asia\", \"se_asia\", \"africa\", \"europe\", \"middle_east\", \"north_america\", \"east_asia\", \"asia\"]}],\n",
       "                        {\"template\": {\"data\": {\"bar\": [{\"error_x\": {\"color\": \"#2a3f5f\"}, \"error_y\": {\"color\": \"#2a3f5f\"}, \"marker\": {\"line\": {\"color\": \"#E5ECF6\", \"width\": 0.5}}, \"type\": \"bar\"}], \"barpolar\": [{\"marker\": {\"line\": {\"color\": \"#E5ECF6\", \"width\": 0.5}}, \"type\": \"barpolar\"}], \"carpet\": [{\"aaxis\": {\"endlinecolor\": \"#2a3f5f\", \"gridcolor\": \"white\", \"linecolor\": \"white\", \"minorgridcolor\": \"white\", \"startlinecolor\": \"#2a3f5f\"}, \"baxis\": {\"endlinecolor\": \"#2a3f5f\", \"gridcolor\": \"white\", \"linecolor\": \"white\", \"minorgridcolor\": \"white\", \"startlinecolor\": \"#2a3f5f\"}, \"type\": \"carpet\"}], \"choropleth\": [{\"colorbar\": {\"outlinewidth\": 0, \"ticks\": \"\"}, \"type\": \"choropleth\"}], \"contour\": [{\"colorbar\": {\"outlinewidth\": 0, \"ticks\": \"\"}, \"colorscale\": [[0.0, \"#0d0887\"], [0.1111111111111111, \"#46039f\"], [0.2222222222222222, \"#7201a8\"], [0.3333333333333333, \"#9c179e\"], [0.4444444444444444, \"#bd3786\"], [0.5555555555555556, \"#d8576b\"], [0.6666666666666666, \"#ed7953\"], [0.7777777777777778, \"#fb9f3a\"], [0.8888888888888888, \"#fdca26\"], [1.0, \"#f0f921\"]], \"type\": \"contour\"}], \"contourcarpet\": [{\"colorbar\": {\"outlinewidth\": 0, \"ticks\": \"\"}, \"type\": \"contourcarpet\"}], \"heatmap\": [{\"colorbar\": {\"outlinewidth\": 0, \"ticks\": \"\"}, \"colorscale\": [[0.0, \"#0d0887\"], [0.1111111111111111, \"#46039f\"], [0.2222222222222222, \"#7201a8\"], [0.3333333333333333, \"#9c179e\"], [0.4444444444444444, \"#bd3786\"], [0.5555555555555556, \"#d8576b\"], [0.6666666666666666, \"#ed7953\"], [0.7777777777777778, \"#fb9f3a\"], [0.8888888888888888, \"#fdca26\"], [1.0, \"#f0f921\"]], \"type\": \"heatmap\"}], \"heatmapgl\": [{\"colorbar\": {\"outlinewidth\": 0, \"ticks\": \"\"}, \"colorscale\": [[0.0, \"#0d0887\"], [0.1111111111111111, \"#46039f\"], [0.2222222222222222, \"#7201a8\"], [0.3333333333333333, \"#9c179e\"], [0.4444444444444444, \"#bd3786\"], [0.5555555555555556, \"#d8576b\"], [0.6666666666666666, \"#ed7953\"], [0.7777777777777778, \"#fb9f3a\"], [0.8888888888888888, \"#fdca26\"], [1.0, \"#f0f921\"]], \"type\": \"heatmapgl\"}], \"histogram\": [{\"marker\": {\"colorbar\": {\"outlinewidth\": 0, \"ticks\": \"\"}}, \"type\": \"histogram\"}], \"histogram2d\": [{\"colorbar\": {\"outlinewidth\": 0, \"ticks\": \"\"}, \"colorscale\": [[0.0, \"#0d0887\"], [0.1111111111111111, \"#46039f\"], [0.2222222222222222, \"#7201a8\"], [0.3333333333333333, \"#9c179e\"], [0.4444444444444444, \"#bd3786\"], [0.5555555555555556, \"#d8576b\"], [0.6666666666666666, \"#ed7953\"], [0.7777777777777778, \"#fb9f3a\"], [0.8888888888888888, \"#fdca26\"], [1.0, \"#f0f921\"]], \"type\": \"histogram2d\"}], \"histogram2dcontour\": [{\"colorbar\": {\"outlinewidth\": 0, \"ticks\": \"\"}, \"colorscale\": [[0.0, \"#0d0887\"], [0.1111111111111111, \"#46039f\"], [0.2222222222222222, \"#7201a8\"], [0.3333333333333333, \"#9c179e\"], [0.4444444444444444, \"#bd3786\"], [0.5555555555555556, \"#d8576b\"], [0.6666666666666666, \"#ed7953\"], [0.7777777777777778, \"#fb9f3a\"], [0.8888888888888888, \"#fdca26\"], [1.0, \"#f0f921\"]], \"type\": \"histogram2dcontour\"}], \"mesh3d\": [{\"colorbar\": {\"outlinewidth\": 0, \"ticks\": \"\"}, \"type\": \"mesh3d\"}], \"parcoords\": [{\"line\": {\"colorbar\": {\"outlinewidth\": 0, \"ticks\": \"\"}}, \"type\": \"parcoords\"}], \"pie\": [{\"automargin\": true, \"type\": \"pie\"}], \"scatter\": [{\"marker\": {\"colorbar\": {\"outlinewidth\": 0, \"ticks\": \"\"}}, \"type\": \"scatter\"}], \"scatter3d\": [{\"line\": {\"colorbar\": {\"outlinewidth\": 0, \"ticks\": \"\"}}, \"marker\": {\"colorbar\": {\"outlinewidth\": 0, \"ticks\": \"\"}}, \"type\": \"scatter3d\"}], \"scattercarpet\": [{\"marker\": {\"colorbar\": {\"outlinewidth\": 0, \"ticks\": \"\"}}, \"type\": \"scattercarpet\"}], \"scattergeo\": [{\"marker\": {\"colorbar\": {\"outlinewidth\": 0, \"ticks\": \"\"}}, \"type\": \"scattergeo\"}], \"scattergl\": [{\"marker\": {\"colorbar\": {\"outlinewidth\": 0, \"ticks\": \"\"}}, \"type\": \"scattergl\"}], \"scattermapbox\": [{\"marker\": {\"colorbar\": {\"outlinewidth\": 0, \"ticks\": \"\"}}, \"type\": \"scattermapbox\"}], \"scatterpolar\": [{\"marker\": {\"colorbar\": {\"outlinewidth\": 0, \"ticks\": \"\"}}, \"type\": \"scatterpolar\"}], \"scatterpolargl\": [{\"marker\": {\"colorbar\": {\"outlinewidth\": 0, \"ticks\": \"\"}}, \"type\": \"scatterpolargl\"}], \"scatterternary\": [{\"marker\": {\"colorbar\": {\"outlinewidth\": 0, \"ticks\": \"\"}}, \"type\": \"scatterternary\"}], \"surface\": [{\"colorbar\": {\"outlinewidth\": 0, \"ticks\": \"\"}, \"colorscale\": [[0.0, \"#0d0887\"], [0.1111111111111111, \"#46039f\"], [0.2222222222222222, \"#7201a8\"], [0.3333333333333333, \"#9c179e\"], [0.4444444444444444, \"#bd3786\"], [0.5555555555555556, \"#d8576b\"], [0.6666666666666666, \"#ed7953\"], [0.7777777777777778, \"#fb9f3a\"], [0.8888888888888888, \"#fdca26\"], [1.0, \"#f0f921\"]], \"type\": \"surface\"}], \"table\": [{\"cells\": {\"fill\": {\"color\": \"#EBF0F8\"}, \"line\": {\"color\": \"white\"}}, \"header\": {\"fill\": {\"color\": \"#C8D4E3\"}, \"line\": {\"color\": \"white\"}}, \"type\": \"table\"}]}, \"layout\": {\"annotationdefaults\": {\"arrowcolor\": \"#2a3f5f\", \"arrowhead\": 0, \"arrowwidth\": 1}, \"coloraxis\": {\"colorbar\": {\"outlinewidth\": 0, \"ticks\": \"\"}}, \"colorscale\": {\"diverging\": [[0, \"#8e0152\"], [0.1, \"#c51b7d\"], [0.2, \"#de77ae\"], [0.3, \"#f1b6da\"], [0.4, \"#fde0ef\"], [0.5, \"#f7f7f7\"], [0.6, \"#e6f5d0\"], [0.7, \"#b8e186\"], [0.8, \"#7fbc41\"], [0.9, \"#4d9221\"], [1, \"#276419\"]], \"sequential\": [[0.0, \"#0d0887\"], [0.1111111111111111, \"#46039f\"], [0.2222222222222222, \"#7201a8\"], [0.3333333333333333, \"#9c179e\"], [0.4444444444444444, \"#bd3786\"], [0.5555555555555556, \"#d8576b\"], [0.6666666666666666, \"#ed7953\"], [0.7777777777777778, \"#fb9f3a\"], [0.8888888888888888, \"#fdca26\"], [1.0, \"#f0f921\"]], \"sequentialminus\": [[0.0, \"#0d0887\"], [0.1111111111111111, \"#46039f\"], [0.2222222222222222, \"#7201a8\"], [0.3333333333333333, \"#9c179e\"], [0.4444444444444444, \"#bd3786\"], [0.5555555555555556, \"#d8576b\"], [0.6666666666666666, \"#ed7953\"], [0.7777777777777778, \"#fb9f3a\"], [0.8888888888888888, \"#fdca26\"], [1.0, \"#f0f921\"]]}, \"colorway\": [\"#636efa\", \"#EF553B\", \"#00cc96\", \"#ab63fa\", \"#FFA15A\", \"#19d3f3\", \"#FF6692\", \"#B6E880\", \"#FF97FF\", \"#FECB52\"], \"font\": {\"color\": \"#2a3f5f\"}, \"geo\": {\"bgcolor\": \"white\", \"lakecolor\": \"white\", \"landcolor\": \"#E5ECF6\", \"showlakes\": true, \"showland\": true, \"subunitcolor\": \"white\"}, \"hoverlabel\": {\"align\": \"left\"}, \"hovermode\": \"closest\", \"mapbox\": {\"style\": \"light\"}, \"paper_bgcolor\": \"white\", \"plot_bgcolor\": \"#E5ECF6\", \"polar\": {\"angularaxis\": {\"gridcolor\": \"white\", \"linecolor\": \"white\", \"ticks\": \"\"}, \"bgcolor\": \"#E5ECF6\", \"radialaxis\": {\"gridcolor\": \"white\", \"linecolor\": \"white\", \"ticks\": \"\"}}, \"scene\": {\"xaxis\": {\"backgroundcolor\": \"#E5ECF6\", \"gridcolor\": \"white\", \"gridwidth\": 2, \"linecolor\": \"white\", \"showbackground\": true, \"ticks\": \"\", \"zerolinecolor\": \"white\"}, \"yaxis\": {\"backgroundcolor\": \"#E5ECF6\", \"gridcolor\": \"white\", \"gridwidth\": 2, \"linecolor\": \"white\", \"showbackground\": true, \"ticks\": \"\", \"zerolinecolor\": \"white\"}, \"zaxis\": {\"backgroundcolor\": \"#E5ECF6\", \"gridcolor\": \"white\", \"gridwidth\": 2, \"linecolor\": \"white\", \"showbackground\": true, \"ticks\": \"\", \"zerolinecolor\": \"white\"}}, \"shapedefaults\": {\"line\": {\"color\": \"#2a3f5f\"}}, \"ternary\": {\"aaxis\": {\"gridcolor\": \"white\", \"linecolor\": \"white\", \"ticks\": \"\"}, \"baxis\": {\"gridcolor\": \"white\", \"linecolor\": \"white\", \"ticks\": \"\"}, \"bgcolor\": \"#E5ECF6\", \"caxis\": {\"gridcolor\": \"white\", \"linecolor\": \"white\", \"ticks\": \"\"}}, \"title\": {\"x\": 0.05}, \"xaxis\": {\"automargin\": true, \"gridcolor\": \"white\", \"linecolor\": \"white\", \"ticks\": \"\", \"title\": {\"standoff\": 15}, \"zerolinecolor\": \"white\", \"zerolinewidth\": 2}, \"yaxis\": {\"automargin\": true, \"gridcolor\": \"white\", \"linecolor\": \"white\", \"ticks\": \"\", \"title\": {\"standoff\": 15}, \"zerolinecolor\": \"white\", \"zerolinewidth\": 2}}}, \"title\": {\"text\": \"Continent counts in title / abstract metadata<br><i>Hover over dots for exact values</i>\"}, \"xaxis\": {\"title\": {\"text\": \"Count\"}}, \"yaxis\": {\"title\": {\"text\": \"Regex\"}}},\n",
       "                        {\"responsive\": true}\n",
       "                    ).then(function(){\n",
       "                            \n",
       "var gd = document.getElementById('adf31c1e-e62a-4c7f-99d0-4077c1508181');\n",
       "var x = new MutationObserver(function (mutations, observer) {{\n",
       "        var display = window.getComputedStyle(gd).display;\n",
       "        if (!display || display === 'none') {{\n",
       "            console.log([gd, 'removed!']);\n",
       "            Plotly.purge(gd);\n",
       "            observer.disconnect();\n",
       "        }}\n",
       "}});\n",
       "\n",
       "// Listen for the removal of the full notebook cells\n",
       "var notebookContainer = gd.closest('#notebook-container');\n",
       "if (notebookContainer) {{\n",
       "    x.observe(notebookContainer, {childList: true});\n",
       "}}\n",
       "\n",
       "// Listen for the clearing of the current output cell\n",
       "var outputEl = gd.closest('.output');\n",
       "if (outputEl) {{\n",
       "    x.observe(outputEl, {childList: true});\n",
       "}}\n",
       "\n",
       "                        })\n",
       "                };\n",
       "                });\n",
       "            </script>\n",
       "        </div>"
      ]
     },
     "metadata": {},
     "output_type": "display_data"
    }
   ],
   "source": [
    "# Note that this section needs more work - have been focusing on later sections\n",
    "continental_regions = {\n",
    "    'asia': 'asia|china|korea|japan|hubei|wuhan|malaysia|singapore|hong kong',\n",
    "    'east_asia': 'east asia|china|korea|japan|hubei|wuhan|hong kong',\n",
    "    'south_asia': 'south asia|india|pakistan|bangladesh|sri lanka',\n",
    "    'se_asia': r'south east asia|\\bse asia|malaysia|thailand|indonesia|vietnam|cambodia|viet nam',\n",
    "    'europe': 'europe|italy|france|spain|germany|austria|switzerland|united kingdom|ireland',\n",
    "    'africa': 'africa|kenya',\n",
    "    'middle_east': 'middle east|gulf states|saudi arabia|\\buae\\b|iran|persian',\n",
    "    'south_america': 'south america|latin america|brazil|argentina',\n",
    "    'north_america': 'north america|usa|united states|canada|caribbean',\n",
    "    'australasia': 'australia|new zealand|oceania|australasia|south pacific'\n",
    "}\n",
    "\n",
    "counts = {}\n",
    "for cr, s in continental_regions.items():\n",
    "    con_filter = abstract_title_filter(s)\n",
    "    counts[cr] = sum(con_filter)\n",
    "    df.loc[con_filter, f'tag_continent_{cr}'] = True\n",
    "    df[f'tag_continent_{cr}'].fillna(False, inplace=True)\n",
    "counts = pd.Series(counts)\n",
    "dotplot(counts, 'Continent counts in title / abstract metadata')"
   ]
  },
  {
   "cell_type": "markdown",
   "metadata": {},
   "source": [
    "## Countries\n",
    "\n",
    "We will just use countries that appear >50 times in the dateset. Can be adjusted to get more detail.\n",
    "\n",
    "_**IMPORTANT**: This takes several minutes to run. Skip if not important. PyCountry uses official names which are different from commonly used names - need to fix this._\n",
    "\n",
    "_TO DO: Add in country subregions (e.g. Hubei -> China, Lombardy -> Italy)_"
   ]
  },
  {
   "cell_type": "code",
   "execution_count": 83,
   "metadata": {},
   "outputs": [],
   "source": [
    "### THIS SECTION TAKES A LONG TIME TO RUN SO COMMENTED OUT WHILE DEVELOPING\n",
    "# MIN_PAPERS_PER_COUNTRY = 50\n",
    "# counts = {}\n",
    "\n",
    "# for i, country in enumerate(pycountry.countries):\n",
    "#     if i % 20 == 0:\n",
    "#         print(f'Checking country {i} ({country.name})')\n",
    "#     country_filter = abstract_title_filter(r'\\b' + re.escape(country.name.lower()) + r'\\b')\n",
    "#     n = sum(country_filter)\n",
    "#     if n >= MIN_PAPERS_PER_COUNTRY:\n",
    "#         counts[country.name] = n\n",
    "#         df.loc[country_filter, f'tag_country_{country.alpha_3.lower()}'] = True\n",
    "#         df[f'tag_country_{country.alpha_3.lower()}'].fillna(False, inplace=True)\n",
    "# counts = pd.Series(counts)\n",
    "# plt.figure(figsize=(5,7))\n",
    "# dotplot(counts, 'Country counts in title / abstract metadata')\n",
    "# df.groupby('tag_disease_covid19').tag_country_chn.value_counts()"
   ]
  },
  {
   "cell_type": "markdown",
   "metadata": {},
   "source": [
    "# Climate\n",
    "\n",
    "Climate has been hypothesised as a factor in the spread of Covid-19"
   ]
  },
  {
   "cell_type": "code",
   "execution_count": 84,
   "metadata": {},
   "outputs": [
    {
     "data": {
      "text/html": [
       "<div>\n",
       "        \n",
       "        \n",
       "            <div id=\"08480613-19d0-4270-9d61-c5336c49c5df\" class=\"plotly-graph-div\" style=\"height:525px; width:100%;\"></div>\n",
       "            <script type=\"text/javascript\">\n",
       "                require([\"plotly\"], function(Plotly) {\n",
       "                    window.PLOTLYENV=window.PLOTLYENV || {};\n",
       "                    \n",
       "                if (document.getElementById(\"08480613-19d0-4270-9d61-c5336c49c5df\")) {\n",
       "                    Plotly.newPlot(\n",
       "                        '08480613-19d0-4270-9d61-c5336c49c5df',\n",
       "                        [{\"marker\": {\"color\": \"crimson\", \"size\": 12}, \"mode\": \"markers\", \"name\": \"Count\", \"type\": \"scatter\", \"x\": [0, 0, 0, 1, 1, 1, 1, 6, 6, 18, 64, 73, 167, 257], \"y\": [\"damp environment\", \"cold environment\", \"cool environment\", \"dry environment\", \"moist environment\", \"wet environment\", \"hot environment\", \"sunlight\", \"climatolog\", \"air temperature\", \"meteorolog\", \"weather\", \"humid\", \"climate\"]}],\n",
       "                        {\"template\": {\"data\": {\"bar\": [{\"error_x\": {\"color\": \"#2a3f5f\"}, \"error_y\": {\"color\": \"#2a3f5f\"}, \"marker\": {\"line\": {\"color\": \"#E5ECF6\", \"width\": 0.5}}, \"type\": \"bar\"}], \"barpolar\": [{\"marker\": {\"line\": {\"color\": \"#E5ECF6\", \"width\": 0.5}}, \"type\": \"barpolar\"}], \"carpet\": [{\"aaxis\": {\"endlinecolor\": \"#2a3f5f\", \"gridcolor\": \"white\", \"linecolor\": \"white\", \"minorgridcolor\": \"white\", \"startlinecolor\": \"#2a3f5f\"}, \"baxis\": {\"endlinecolor\": \"#2a3f5f\", \"gridcolor\": \"white\", \"linecolor\": \"white\", \"minorgridcolor\": \"white\", \"startlinecolor\": \"#2a3f5f\"}, \"type\": \"carpet\"}], \"choropleth\": [{\"colorbar\": {\"outlinewidth\": 0, \"ticks\": \"\"}, \"type\": \"choropleth\"}], \"contour\": [{\"colorbar\": {\"outlinewidth\": 0, \"ticks\": \"\"}, \"colorscale\": [[0.0, \"#0d0887\"], [0.1111111111111111, \"#46039f\"], [0.2222222222222222, \"#7201a8\"], [0.3333333333333333, \"#9c179e\"], [0.4444444444444444, \"#bd3786\"], [0.5555555555555556, \"#d8576b\"], [0.6666666666666666, \"#ed7953\"], [0.7777777777777778, \"#fb9f3a\"], [0.8888888888888888, \"#fdca26\"], [1.0, \"#f0f921\"]], \"type\": \"contour\"}], \"contourcarpet\": [{\"colorbar\": {\"outlinewidth\": 0, \"ticks\": \"\"}, \"type\": \"contourcarpet\"}], \"heatmap\": [{\"colorbar\": {\"outlinewidth\": 0, \"ticks\": \"\"}, \"colorscale\": [[0.0, \"#0d0887\"], [0.1111111111111111, \"#46039f\"], [0.2222222222222222, \"#7201a8\"], [0.3333333333333333, \"#9c179e\"], [0.4444444444444444, \"#bd3786\"], [0.5555555555555556, \"#d8576b\"], [0.6666666666666666, \"#ed7953\"], [0.7777777777777778, \"#fb9f3a\"], [0.8888888888888888, \"#fdca26\"], [1.0, \"#f0f921\"]], \"type\": \"heatmap\"}], \"heatmapgl\": [{\"colorbar\": {\"outlinewidth\": 0, \"ticks\": \"\"}, \"colorscale\": [[0.0, \"#0d0887\"], [0.1111111111111111, \"#46039f\"], [0.2222222222222222, \"#7201a8\"], [0.3333333333333333, \"#9c179e\"], [0.4444444444444444, \"#bd3786\"], [0.5555555555555556, \"#d8576b\"], [0.6666666666666666, \"#ed7953\"], [0.7777777777777778, \"#fb9f3a\"], [0.8888888888888888, \"#fdca26\"], [1.0, \"#f0f921\"]], \"type\": \"heatmapgl\"}], \"histogram\": [{\"marker\": {\"colorbar\": {\"outlinewidth\": 0, \"ticks\": \"\"}}, \"type\": \"histogram\"}], \"histogram2d\": [{\"colorbar\": {\"outlinewidth\": 0, \"ticks\": \"\"}, \"colorscale\": [[0.0, \"#0d0887\"], [0.1111111111111111, \"#46039f\"], [0.2222222222222222, \"#7201a8\"], [0.3333333333333333, \"#9c179e\"], [0.4444444444444444, \"#bd3786\"], [0.5555555555555556, \"#d8576b\"], [0.6666666666666666, \"#ed7953\"], [0.7777777777777778, \"#fb9f3a\"], [0.8888888888888888, \"#fdca26\"], [1.0, \"#f0f921\"]], \"type\": \"histogram2d\"}], \"histogram2dcontour\": [{\"colorbar\": {\"outlinewidth\": 0, \"ticks\": \"\"}, \"colorscale\": [[0.0, \"#0d0887\"], [0.1111111111111111, \"#46039f\"], [0.2222222222222222, \"#7201a8\"], [0.3333333333333333, \"#9c179e\"], [0.4444444444444444, \"#bd3786\"], [0.5555555555555556, \"#d8576b\"], [0.6666666666666666, \"#ed7953\"], [0.7777777777777778, \"#fb9f3a\"], [0.8888888888888888, \"#fdca26\"], [1.0, \"#f0f921\"]], \"type\": \"histogram2dcontour\"}], \"mesh3d\": [{\"colorbar\": {\"outlinewidth\": 0, \"ticks\": \"\"}, \"type\": \"mesh3d\"}], \"parcoords\": [{\"line\": {\"colorbar\": {\"outlinewidth\": 0, \"ticks\": \"\"}}, \"type\": \"parcoords\"}], \"pie\": [{\"automargin\": true, \"type\": \"pie\"}], \"scatter\": [{\"marker\": {\"colorbar\": {\"outlinewidth\": 0, \"ticks\": \"\"}}, \"type\": \"scatter\"}], \"scatter3d\": [{\"line\": {\"colorbar\": {\"outlinewidth\": 0, \"ticks\": \"\"}}, \"marker\": {\"colorbar\": {\"outlinewidth\": 0, \"ticks\": \"\"}}, \"type\": \"scatter3d\"}], \"scattercarpet\": [{\"marker\": {\"colorbar\": {\"outlinewidth\": 0, \"ticks\": \"\"}}, \"type\": \"scattercarpet\"}], \"scattergeo\": [{\"marker\": {\"colorbar\": {\"outlinewidth\": 0, \"ticks\": \"\"}}, \"type\": \"scattergeo\"}], \"scattergl\": [{\"marker\": {\"colorbar\": {\"outlinewidth\": 0, \"ticks\": \"\"}}, \"type\": \"scattergl\"}], \"scattermapbox\": [{\"marker\": {\"colorbar\": {\"outlinewidth\": 0, \"ticks\": \"\"}}, \"type\": \"scattermapbox\"}], \"scatterpolar\": [{\"marker\": {\"colorbar\": {\"outlinewidth\": 0, \"ticks\": \"\"}}, \"type\": \"scatterpolar\"}], \"scatterpolargl\": [{\"marker\": {\"colorbar\": {\"outlinewidth\": 0, \"ticks\": \"\"}}, \"type\": \"scatterpolargl\"}], \"scatterternary\": [{\"marker\": {\"colorbar\": {\"outlinewidth\": 0, \"ticks\": \"\"}}, \"type\": \"scatterternary\"}], \"surface\": [{\"colorbar\": {\"outlinewidth\": 0, \"ticks\": \"\"}, \"colorscale\": [[0.0, \"#0d0887\"], [0.1111111111111111, \"#46039f\"], [0.2222222222222222, \"#7201a8\"], [0.3333333333333333, \"#9c179e\"], [0.4444444444444444, \"#bd3786\"], [0.5555555555555556, \"#d8576b\"], [0.6666666666666666, \"#ed7953\"], [0.7777777777777778, \"#fb9f3a\"], [0.8888888888888888, \"#fdca26\"], [1.0, \"#f0f921\"]], \"type\": \"surface\"}], \"table\": [{\"cells\": {\"fill\": {\"color\": \"#EBF0F8\"}, \"line\": {\"color\": \"white\"}}, \"header\": {\"fill\": {\"color\": \"#C8D4E3\"}, \"line\": {\"color\": \"white\"}}, \"type\": \"table\"}]}, \"layout\": {\"annotationdefaults\": {\"arrowcolor\": \"#2a3f5f\", \"arrowhead\": 0, \"arrowwidth\": 1}, \"coloraxis\": {\"colorbar\": {\"outlinewidth\": 0, \"ticks\": \"\"}}, \"colorscale\": {\"diverging\": [[0, \"#8e0152\"], [0.1, \"#c51b7d\"], [0.2, \"#de77ae\"], [0.3, \"#f1b6da\"], [0.4, \"#fde0ef\"], [0.5, \"#f7f7f7\"], [0.6, \"#e6f5d0\"], [0.7, \"#b8e186\"], [0.8, \"#7fbc41\"], [0.9, \"#4d9221\"], [1, \"#276419\"]], \"sequential\": [[0.0, \"#0d0887\"], [0.1111111111111111, \"#46039f\"], [0.2222222222222222, \"#7201a8\"], [0.3333333333333333, \"#9c179e\"], [0.4444444444444444, \"#bd3786\"], [0.5555555555555556, \"#d8576b\"], [0.6666666666666666, \"#ed7953\"], [0.7777777777777778, \"#fb9f3a\"], [0.8888888888888888, \"#fdca26\"], [1.0, \"#f0f921\"]], \"sequentialminus\": [[0.0, \"#0d0887\"], [0.1111111111111111, \"#46039f\"], [0.2222222222222222, \"#7201a8\"], [0.3333333333333333, \"#9c179e\"], [0.4444444444444444, \"#bd3786\"], [0.5555555555555556, \"#d8576b\"], [0.6666666666666666, \"#ed7953\"], [0.7777777777777778, \"#fb9f3a\"], [0.8888888888888888, \"#fdca26\"], [1.0, \"#f0f921\"]]}, \"colorway\": [\"#636efa\", \"#EF553B\", \"#00cc96\", \"#ab63fa\", \"#FFA15A\", \"#19d3f3\", \"#FF6692\", \"#B6E880\", \"#FF97FF\", \"#FECB52\"], \"font\": {\"color\": \"#2a3f5f\"}, \"geo\": {\"bgcolor\": \"white\", \"lakecolor\": \"white\", \"landcolor\": \"#E5ECF6\", \"showlakes\": true, \"showland\": true, \"subunitcolor\": \"white\"}, \"hoverlabel\": {\"align\": \"left\"}, \"hovermode\": \"closest\", \"mapbox\": {\"style\": \"light\"}, \"paper_bgcolor\": \"white\", \"plot_bgcolor\": \"#E5ECF6\", \"polar\": {\"angularaxis\": {\"gridcolor\": \"white\", \"linecolor\": \"white\", \"ticks\": \"\"}, \"bgcolor\": \"#E5ECF6\", \"radialaxis\": {\"gridcolor\": \"white\", \"linecolor\": \"white\", \"ticks\": \"\"}}, \"scene\": {\"xaxis\": {\"backgroundcolor\": \"#E5ECF6\", \"gridcolor\": \"white\", \"gridwidth\": 2, \"linecolor\": \"white\", \"showbackground\": true, \"ticks\": \"\", \"zerolinecolor\": \"white\"}, \"yaxis\": {\"backgroundcolor\": \"#E5ECF6\", \"gridcolor\": \"white\", \"gridwidth\": 2, \"linecolor\": \"white\", \"showbackground\": true, \"ticks\": \"\", \"zerolinecolor\": \"white\"}, \"zaxis\": {\"backgroundcolor\": \"#E5ECF6\", \"gridcolor\": \"white\", \"gridwidth\": 2, \"linecolor\": \"white\", \"showbackground\": true, \"ticks\": \"\", \"zerolinecolor\": \"white\"}}, \"shapedefaults\": {\"line\": {\"color\": \"#2a3f5f\"}}, \"ternary\": {\"aaxis\": {\"gridcolor\": \"white\", \"linecolor\": \"white\", \"ticks\": \"\"}, \"baxis\": {\"gridcolor\": \"white\", \"linecolor\": \"white\", \"ticks\": \"\"}, \"bgcolor\": \"#E5ECF6\", \"caxis\": {\"gridcolor\": \"white\", \"linecolor\": \"white\", \"ticks\": \"\"}}, \"title\": {\"x\": 0.05}, \"xaxis\": {\"automargin\": true, \"gridcolor\": \"white\", \"linecolor\": \"white\", \"ticks\": \"\", \"title\": {\"standoff\": 15}, \"zerolinecolor\": \"white\", \"zerolinewidth\": 2}, \"yaxis\": {\"automargin\": true, \"gridcolor\": \"white\", \"linecolor\": \"white\", \"ticks\": \"\", \"title\": {\"standoff\": 15}, \"zerolinecolor\": \"white\", \"zerolinewidth\": 2}}}, \"title\": {\"text\": \"Climate synonyms by title / abstract metadata<br><i>Hover over dots for exact values</i>\"}, \"xaxis\": {\"title\": {\"text\": \"Count\"}}, \"yaxis\": {\"title\": {\"text\": \"Regex\"}}},\n",
       "                        {\"responsive\": true}\n",
       "                    ).then(function(){\n",
       "                            \n",
       "var gd = document.getElementById('08480613-19d0-4270-9d61-c5336c49c5df');\n",
       "var x = new MutationObserver(function (mutations, observer) {{\n",
       "        var display = window.getComputedStyle(gd).display;\n",
       "        if (!display || display === 'none') {{\n",
       "            console.log([gd, 'removed!']);\n",
       "            Plotly.purge(gd);\n",
       "            observer.disconnect();\n",
       "        }}\n",
       "}});\n",
       "\n",
       "// Listen for the removal of the full notebook cells\n",
       "var notebookContainer = gd.closest('#notebook-container');\n",
       "if (notebookContainer) {{\n",
       "    x.observe(notebookContainer, {childList: true});\n",
       "}}\n",
       "\n",
       "// Listen for the clearing of the current output cell\n",
       "var outputEl = gd.closest('.output');\n",
       "if (outputEl) {{\n",
       "    x.observe(outputEl, {childList: true});\n",
       "}}\n",
       "\n",
       "                        })\n",
       "                };\n",
       "                });\n",
       "            </script>\n",
       "        </div>"
      ]
     },
     "metadata": {},
     "output_type": "display_data"
    }
   ],
   "source": [
    "climate_synonyms = [\n",
    "    'climate',\n",
    "    'weather',\n",
    "    'humid',\n",
    "    'sunlight',\n",
    "    'air temperature',\n",
    "    'meteorolog', # picks up meteorology, meteorological, meteorologist\n",
    "    'climatolog', # as above\n",
    "    'dry environment',\n",
    "    'damp environment',\n",
    "    'moist environment',\n",
    "    'wet environment',\n",
    "    'hot environment',\n",
    "    'cold environment',\n",
    "    'cool environment'\n",
    "]\n",
    "df, climate_counts = count_and_tag(df, climate_synonyms, 'climate_generic')\n",
    "dotplot(climate_counts, 'Climate synonyms by title / abstract metadata')"
   ]
  },
  {
   "cell_type": "code",
   "execution_count": 85,
   "metadata": {},
   "outputs": [
    {
     "data": {
      "text/plain": [
       "climate              257\n",
       "humid                167\n",
       "weather               73\n",
       "meteorolog            64\n",
       "air temperature       18\n",
       "climatolog             6\n",
       "sunlight               6\n",
       "hot environment        1\n",
       "wet environment        1\n",
       "moist environment      1\n",
       "dry environment        1\n",
       "cool environment       0\n",
       "cold environment       0\n",
       "damp environment       0\n",
       "dtype: int64"
      ]
     },
     "execution_count": 85,
     "metadata": {},
     "output_type": "execute_result"
    }
   ],
   "source": [
    "climate_counts.sort_values(ascending=False)"
   ]
  },
  {
   "cell_type": "code",
   "execution_count": 86,
   "metadata": {},
   "outputs": [
    {
     "name": "stdout",
     "output_type": "stream",
     "text": [
      "There are 16 papers on Covid-19 and climate:\n",
      "\n",
      "1 of 16\n",
      "The role of absolute humidity on transmission rates of the COVID-19 outbreak\n",
      "[ http://doi.org/10.1101/2020.02.12.20022467 ]\n",
      "    \"at cold and dry (low absolute humidity) environments facilitate the survival and spread of droplet-mediated viral diseases, and warm and humid (high absolute humidity) environments see attenuated viral transmission (i.e., influenza). However, the role of absolute humidity in transmission of COVID-19\"\n",
      "---\n",
      "2 of 16\n",
      "Analysis of meteorological conditions and prediction of epidemic trend of 2019-nCoV infection in 2020\n",
      "[ http://doi.org/10.1101/2020.02.13.20022715 ]\n",
      "    \"Objective: To investigate the meteorological condition for incidence and spread of 2019-nCoV infection, to predict the epidemiology of the infectious disease, and to provide a scientific basis for prevention and control measures against the new disease. Methods: The meteorological factors during the\"\n",
      "---\n",
      "3 of 16\n",
      "The Effects of \"Fangcang, Huoshenshan, and Leishenshan\" Makeshift Hospitals and Temperature on the Mortality of COVID-19\n",
      "[ http://doi.org/10.1101/2020.02.26.20028472 ]\n",
      "    \"l Health Commission and China Weather Net were collected using standard forms. The difference in the mortality of confirmed and severe cases before and after the use of Fangcang, Huoshenshan, and Leishenshan makeshift hospitals (MSHs) was tested using Mann-Whitney U test. We also studied whether air\"\n",
      "---\n",
      "4 of 16\n",
      "Role of temperature and humidity in the modulation of the doubling time of COVID-19 cases\n",
      "[ http://doi.org/10.1101/2020.03.05.20031872 ]\n",
      "    \"read differently according to meteorological conditions. Our main goal is to investigate the role of some meteorological variables on the expansion of this outbreak. In this study, an exponential model relating the number of accumulated confirmed cases and time was considered. The rate of COVID-19 s\"\n",
      "---\n",
      "5 of 16\n",
      "Spread of SARS-CoV-2 Coronavirus likely to be constrained by climate\n",
      "[ http://doi.org/10.1101/2020.03.12.20034728 ]\n",
      "    \" project monthly variation in climate suitability of SARS-CoV-2 Coronavirus throughout a typical climatological year. The current spread suggests a degree of climate determination with Coronavirus displaying preference for cool and dry conditions. The predecessor SARS-CoV was linked to similar clima\"\n",
      "---\n",
      "6 of 16\n",
      "Impacts of social and economic factors on the transmission of coronavirus disease (COVID-19) in China\n",
      "[ http://doi.org/10.1101/2020.03.13.20035238 ]\n",
      "    \"sion among the rich exogenous weather characteristics. Our 2SLS estimates show that the stringent quarantine, massive lockdown and other public health measures imposed in late January significantly reduced the transmission rate of COVID-19. By early February, the virus spread had been contained. Whi\"\n",
      "---\n",
      "7 of 16\n",
      "Effects of temperature variation and humidity on the mortality of COVID-19 in Wuhan\n",
      "[ http://doi.org/10.1101/2020.03.15.20036426 ]\n",
      "    \"\"\n",
      "---\n",
      "8 of 16\n",
      "Roles of meteorological conditions in COVID-19 transmission on a worldwide scale\n",
      "[ http://doi.org/10.1101/2020.03.16.20037168 ]\n",
      "    \"s suggested an involvement of meteorological conditions in the spread of droplet-mediated viral diseases, such as influenza. However, as for the recent novel coronavirus, few studies have discussed systematically about the role of daily weather in the epidemic transmission of the virus. Here, we exa\"\n",
      "---\n",
      "9 of 16\n",
      "Role of meteorological temperature and relative humidity in the January-February 2020 propagation of 2019-nCoV in Wuhan, China\n",
      "[ http://doi.org/10.1101/2020.03.19.20039164 ]\n",
      "    \"some attention is the role of meteorological variables (e.g., temperature and humidity) in the 2019-nCoV transmission. Correlations between meteorological temperature and relative humidity with the number of daily confirmed cases were explored in this work for the epicenter city of Wuhan, China for \"\n",
      "---\n",
      "10 of 16\n",
      "The impact of temperature and absolute humidity on the coronavirus disease 2019 (COVID-19) outbreak - evidence from China\n",
      "[ http://doi.org/10.1101/2020.03.22.20038919 ]\n",
      "    \"t of temperature and absolute humidity on the coronavirus disease 2019 (COVID-19) outbreak. DESIGN Ecological study. SETTING 31 provincial-level regions in mainland China. MAIN OUTCOME MEASURES Data on COVID-19 incidence and climate between Jan 20 and Feb 29, 2020. RESULTS The number of new confirm \"\n",
      "---\n",
      "11 of 16\n",
      "Are Powered Air Purifying Respirators a Solution for Protecting Healthcare Workers from Emerging Aerosol-Transmissible Diseases?\n",
      "[ http://doi.org/10.1093/annweh/wxaa024 ]\n",
      "    \"riods of time at low relative humidity. We argued that healthcare workers should be provided with fit-tested N95 filtering facepiece respirators (FFRs), at a minimum, when caring for MERS patients. For exposures to high concentrations of infectious particles, such as from patients experiencing sever\"\n",
      "---\n",
      "12 of 16\n",
      "China virus response criticized as slow\n",
      "[ http://doi.org/10.1126/science.367.6478.606 ]\n",
      "    \"mber 2019 email by a National Weather Service official , reported by The Washington Post, after superiors rebuked forecasters for contradicting the president's inaccurate tweets about Hurricane Dorian's path. ### Agriculture The largest plague of desert locusts ( Schistocerca gregaria ) in decades i\"\n",
      "---\n",
      "13 of 16\n",
      "Will novel virus go pandemic or be contained?\n",
      "[ http://doi.org/10.1126/science.367.6478.610 ]\n",
      "    \".” She and others suspect the climate may help. Influenza typically only spreads during the winter months and hits northern and southern China at different times. If that is true for 2019-nCoV, its spread might start to slow down in the Northern Hemisphere within a few months. “That is a big questio\"\n",
      "---\n",
      "14 of 16\n",
      "Expert consensus on preventing nosocomial transmission during respiratory care for critically ill patients infected by 2019 novel coronavirus pneumonia\n",
      "[ http://doi.org/10.3760/cma.j.issn.1001-0939.2020.0020 ]\n",
      "    \"anger (HME) instead of heated humidification in single limb ventilator with HME placed between exhalation port and mask; avoid using mask with exhalation port on the mask; (4) Placing filter between resuscitator and mask or artificial airway; (5) For spontaneous breathing patients, placing mask for \"\n",
      "---\n",
      "15 of 16\n",
      "Severe air pollution events not avoided by reduced anthropogenic activities during COVID-19 outbreak\n",
      "[ http://doi.org/10.1016/j.resconrec.2020.104814 ]\n",
      "    \"ncentrations, indicating that meteorology was unfavorable during simulation episode. A further analysis shows that benefits of emission reductions were overwhelmed by adverse meteorology and severe air pollution events were not avoided. This study highlights that large emissions reduction in transpo\"\n",
      "---\n",
      "16 of 16\n",
      "Potential Factors Influencing Repeated SARS Outbreaks in China\n",
      "[ http://doi.org/10.3390/ijerph17051633 ]\n",
      "    \"oVs, cold temperature and low humidity in these times might provide conducive environmental conditions for prolonged viral survival in these regions concentrated with bats. The widespread existence of these bat-carried or -released viruses might have an easier time in breaking through human defenses\"\n",
      "---\n"
     ]
    }
   ],
   "source": [
    "n = (df.tag_disease_covid19 & df.tag_climate_generic).sum()\n",
    "print(f'There are {n} papers on Covid-19 and climate:\\n')\n",
    "print_key_phrases(df[df.tag_disease_covid19 & df.tag_climate_generic],\n",
    "                  climate_synonyms, n=n)"
   ]
  },
  {
   "cell_type": "code",
   "execution_count": null,
   "metadata": {},
   "outputs": [],
   "source": []
  },
  {
   "cell_type": "markdown",
   "metadata": {},
   "source": [
    "# Transmission\n",
    "\n",
    "## Transmission / incubation generic"
   ]
  },
  {
   "cell_type": "code",
   "execution_count": 87,
   "metadata": {},
   "outputs": [
    {
     "data": {
      "text/html": [
       "<div>\n",
       "        \n",
       "        \n",
       "            <div id=\"55cf6bc6-a33d-492d-b1f5-56014e01fa08\" class=\"plotly-graph-div\" style=\"height:525px; width:100%;\"></div>\n",
       "            <script type=\"text/javascript\">\n",
       "                require([\"plotly\"], function(Plotly) {\n",
       "                    window.PLOTLYENV=window.PLOTLYENV || {};\n",
       "                    \n",
       "                if (document.getElementById(\"55cf6bc6-a33d-492d-b1f5-56014e01fa08\")) {\n",
       "                    Plotly.newPlot(\n",
       "                        '55cf6bc6-a33d-492d-b1f5-56014e01fa08',\n",
       "                        [{\"marker\": {\"color\": \"crimson\", \"size\": 12}, \"mode\": \"markers\", \"name\": \"Count\", \"type\": \"scatter\", \"x\": [0, 5, 5, 14, 22, 214, 316, 470, 663, 752, 4181], \"y\": [\"through secretions\", \"environmental stability\", \"through droplets\", \"via contact\", \"exportation\", \"human to human\", \"airborne\", \"incubation\", \"transmitted\", \"\\\\broute\", \"transmiss\"]}],\n",
       "                        {\"template\": {\"data\": {\"bar\": [{\"error_x\": {\"color\": \"#2a3f5f\"}, \"error_y\": {\"color\": \"#2a3f5f\"}, \"marker\": {\"line\": {\"color\": \"#E5ECF6\", \"width\": 0.5}}, \"type\": \"bar\"}], \"barpolar\": [{\"marker\": {\"line\": {\"color\": \"#E5ECF6\", \"width\": 0.5}}, \"type\": \"barpolar\"}], \"carpet\": [{\"aaxis\": {\"endlinecolor\": \"#2a3f5f\", \"gridcolor\": \"white\", \"linecolor\": \"white\", \"minorgridcolor\": \"white\", \"startlinecolor\": \"#2a3f5f\"}, \"baxis\": {\"endlinecolor\": \"#2a3f5f\", \"gridcolor\": \"white\", \"linecolor\": \"white\", \"minorgridcolor\": \"white\", \"startlinecolor\": \"#2a3f5f\"}, \"type\": \"carpet\"}], \"choropleth\": [{\"colorbar\": {\"outlinewidth\": 0, \"ticks\": \"\"}, \"type\": \"choropleth\"}], \"contour\": [{\"colorbar\": {\"outlinewidth\": 0, \"ticks\": \"\"}, \"colorscale\": [[0.0, \"#0d0887\"], [0.1111111111111111, \"#46039f\"], [0.2222222222222222, \"#7201a8\"], [0.3333333333333333, \"#9c179e\"], [0.4444444444444444, \"#bd3786\"], [0.5555555555555556, \"#d8576b\"], [0.6666666666666666, \"#ed7953\"], [0.7777777777777778, \"#fb9f3a\"], [0.8888888888888888, \"#fdca26\"], [1.0, \"#f0f921\"]], \"type\": \"contour\"}], \"contourcarpet\": [{\"colorbar\": {\"outlinewidth\": 0, \"ticks\": \"\"}, \"type\": \"contourcarpet\"}], \"heatmap\": [{\"colorbar\": {\"outlinewidth\": 0, \"ticks\": \"\"}, \"colorscale\": [[0.0, \"#0d0887\"], [0.1111111111111111, \"#46039f\"], [0.2222222222222222, \"#7201a8\"], [0.3333333333333333, \"#9c179e\"], [0.4444444444444444, \"#bd3786\"], [0.5555555555555556, \"#d8576b\"], [0.6666666666666666, \"#ed7953\"], [0.7777777777777778, \"#fb9f3a\"], [0.8888888888888888, \"#fdca26\"], [1.0, \"#f0f921\"]], \"type\": \"heatmap\"}], \"heatmapgl\": [{\"colorbar\": {\"outlinewidth\": 0, \"ticks\": \"\"}, \"colorscale\": [[0.0, \"#0d0887\"], [0.1111111111111111, \"#46039f\"], [0.2222222222222222, \"#7201a8\"], [0.3333333333333333, \"#9c179e\"], [0.4444444444444444, \"#bd3786\"], [0.5555555555555556, \"#d8576b\"], [0.6666666666666666, \"#ed7953\"], [0.7777777777777778, \"#fb9f3a\"], [0.8888888888888888, \"#fdca26\"], [1.0, \"#f0f921\"]], \"type\": \"heatmapgl\"}], \"histogram\": [{\"marker\": {\"colorbar\": {\"outlinewidth\": 0, \"ticks\": \"\"}}, \"type\": \"histogram\"}], \"histogram2d\": [{\"colorbar\": {\"outlinewidth\": 0, \"ticks\": \"\"}, \"colorscale\": [[0.0, \"#0d0887\"], [0.1111111111111111, \"#46039f\"], [0.2222222222222222, \"#7201a8\"], [0.3333333333333333, \"#9c179e\"], [0.4444444444444444, \"#bd3786\"], [0.5555555555555556, \"#d8576b\"], [0.6666666666666666, \"#ed7953\"], [0.7777777777777778, \"#fb9f3a\"], [0.8888888888888888, \"#fdca26\"], [1.0, \"#f0f921\"]], \"type\": \"histogram2d\"}], \"histogram2dcontour\": [{\"colorbar\": {\"outlinewidth\": 0, \"ticks\": \"\"}, \"colorscale\": [[0.0, \"#0d0887\"], [0.1111111111111111, \"#46039f\"], [0.2222222222222222, \"#7201a8\"], [0.3333333333333333, \"#9c179e\"], [0.4444444444444444, \"#bd3786\"], [0.5555555555555556, \"#d8576b\"], [0.6666666666666666, \"#ed7953\"], [0.7777777777777778, \"#fb9f3a\"], [0.8888888888888888, \"#fdca26\"], [1.0, \"#f0f921\"]], \"type\": \"histogram2dcontour\"}], \"mesh3d\": [{\"colorbar\": {\"outlinewidth\": 0, \"ticks\": \"\"}, \"type\": \"mesh3d\"}], \"parcoords\": [{\"line\": {\"colorbar\": {\"outlinewidth\": 0, \"ticks\": \"\"}}, \"type\": \"parcoords\"}], \"pie\": [{\"automargin\": true, \"type\": \"pie\"}], \"scatter\": [{\"marker\": {\"colorbar\": {\"outlinewidth\": 0, \"ticks\": \"\"}}, \"type\": \"scatter\"}], \"scatter3d\": [{\"line\": {\"colorbar\": {\"outlinewidth\": 0, \"ticks\": \"\"}}, \"marker\": {\"colorbar\": {\"outlinewidth\": 0, \"ticks\": \"\"}}, \"type\": \"scatter3d\"}], \"scattercarpet\": [{\"marker\": {\"colorbar\": {\"outlinewidth\": 0, \"ticks\": \"\"}}, \"type\": \"scattercarpet\"}], \"scattergeo\": [{\"marker\": {\"colorbar\": {\"outlinewidth\": 0, \"ticks\": \"\"}}, \"type\": \"scattergeo\"}], \"scattergl\": [{\"marker\": {\"colorbar\": {\"outlinewidth\": 0, \"ticks\": \"\"}}, \"type\": \"scattergl\"}], \"scattermapbox\": [{\"marker\": {\"colorbar\": {\"outlinewidth\": 0, \"ticks\": \"\"}}, \"type\": \"scattermapbox\"}], \"scatterpolar\": [{\"marker\": {\"colorbar\": {\"outlinewidth\": 0, \"ticks\": \"\"}}, \"type\": \"scatterpolar\"}], \"scatterpolargl\": [{\"marker\": {\"colorbar\": {\"outlinewidth\": 0, \"ticks\": \"\"}}, \"type\": \"scatterpolargl\"}], \"scatterternary\": [{\"marker\": {\"colorbar\": {\"outlinewidth\": 0, \"ticks\": \"\"}}, \"type\": \"scatterternary\"}], \"surface\": [{\"colorbar\": {\"outlinewidth\": 0, \"ticks\": \"\"}, \"colorscale\": [[0.0, \"#0d0887\"], [0.1111111111111111, \"#46039f\"], [0.2222222222222222, \"#7201a8\"], [0.3333333333333333, \"#9c179e\"], [0.4444444444444444, \"#bd3786\"], [0.5555555555555556, \"#d8576b\"], [0.6666666666666666, \"#ed7953\"], [0.7777777777777778, \"#fb9f3a\"], [0.8888888888888888, \"#fdca26\"], [1.0, \"#f0f921\"]], \"type\": \"surface\"}], \"table\": [{\"cells\": {\"fill\": {\"color\": \"#EBF0F8\"}, \"line\": {\"color\": \"white\"}}, \"header\": {\"fill\": {\"color\": \"#C8D4E3\"}, \"line\": {\"color\": \"white\"}}, \"type\": \"table\"}]}, \"layout\": {\"annotationdefaults\": {\"arrowcolor\": \"#2a3f5f\", \"arrowhead\": 0, \"arrowwidth\": 1}, \"coloraxis\": {\"colorbar\": {\"outlinewidth\": 0, \"ticks\": \"\"}}, \"colorscale\": {\"diverging\": [[0, \"#8e0152\"], [0.1, \"#c51b7d\"], [0.2, \"#de77ae\"], [0.3, \"#f1b6da\"], [0.4, \"#fde0ef\"], [0.5, \"#f7f7f7\"], [0.6, \"#e6f5d0\"], [0.7, \"#b8e186\"], [0.8, \"#7fbc41\"], [0.9, \"#4d9221\"], [1, \"#276419\"]], \"sequential\": [[0.0, \"#0d0887\"], [0.1111111111111111, \"#46039f\"], [0.2222222222222222, \"#7201a8\"], [0.3333333333333333, \"#9c179e\"], [0.4444444444444444, \"#bd3786\"], [0.5555555555555556, \"#d8576b\"], [0.6666666666666666, \"#ed7953\"], [0.7777777777777778, \"#fb9f3a\"], [0.8888888888888888, \"#fdca26\"], [1.0, \"#f0f921\"]], \"sequentialminus\": [[0.0, \"#0d0887\"], [0.1111111111111111, \"#46039f\"], [0.2222222222222222, \"#7201a8\"], [0.3333333333333333, \"#9c179e\"], [0.4444444444444444, \"#bd3786\"], [0.5555555555555556, \"#d8576b\"], [0.6666666666666666, \"#ed7953\"], [0.7777777777777778, \"#fb9f3a\"], [0.8888888888888888, \"#fdca26\"], [1.0, \"#f0f921\"]]}, \"colorway\": [\"#636efa\", \"#EF553B\", \"#00cc96\", \"#ab63fa\", \"#FFA15A\", \"#19d3f3\", \"#FF6692\", \"#B6E880\", \"#FF97FF\", \"#FECB52\"], \"font\": {\"color\": \"#2a3f5f\"}, \"geo\": {\"bgcolor\": \"white\", \"lakecolor\": \"white\", \"landcolor\": \"#E5ECF6\", \"showlakes\": true, \"showland\": true, \"subunitcolor\": \"white\"}, \"hoverlabel\": {\"align\": \"left\"}, \"hovermode\": \"closest\", \"mapbox\": {\"style\": \"light\"}, \"paper_bgcolor\": \"white\", \"plot_bgcolor\": \"#E5ECF6\", \"polar\": {\"angularaxis\": {\"gridcolor\": \"white\", \"linecolor\": \"white\", \"ticks\": \"\"}, \"bgcolor\": \"#E5ECF6\", \"radialaxis\": {\"gridcolor\": \"white\", \"linecolor\": \"white\", \"ticks\": \"\"}}, \"scene\": {\"xaxis\": {\"backgroundcolor\": \"#E5ECF6\", \"gridcolor\": \"white\", \"gridwidth\": 2, \"linecolor\": \"white\", \"showbackground\": true, \"ticks\": \"\", \"zerolinecolor\": \"white\"}, \"yaxis\": {\"backgroundcolor\": \"#E5ECF6\", \"gridcolor\": \"white\", \"gridwidth\": 2, \"linecolor\": \"white\", \"showbackground\": true, \"ticks\": \"\", \"zerolinecolor\": \"white\"}, \"zaxis\": {\"backgroundcolor\": \"#E5ECF6\", \"gridcolor\": \"white\", \"gridwidth\": 2, \"linecolor\": \"white\", \"showbackground\": true, \"ticks\": \"\", \"zerolinecolor\": \"white\"}}, \"shapedefaults\": {\"line\": {\"color\": \"#2a3f5f\"}}, \"ternary\": {\"aaxis\": {\"gridcolor\": \"white\", \"linecolor\": \"white\", \"ticks\": \"\"}, \"baxis\": {\"gridcolor\": \"white\", \"linecolor\": \"white\", \"ticks\": \"\"}, \"bgcolor\": \"#E5ECF6\", \"caxis\": {\"gridcolor\": \"white\", \"linecolor\": \"white\", \"ticks\": \"\"}}, \"title\": {\"x\": 0.05}, \"xaxis\": {\"automargin\": true, \"gridcolor\": \"white\", \"linecolor\": \"white\", \"ticks\": \"\", \"title\": {\"standoff\": 15}, \"zerolinecolor\": \"white\", \"zerolinewidth\": 2}, \"yaxis\": {\"automargin\": true, \"gridcolor\": \"white\", \"linecolor\": \"white\", \"ticks\": \"\", \"title\": {\"standoff\": 15}, \"zerolinecolor\": \"white\", \"zerolinewidth\": 2}}}, \"title\": {\"text\": \"Transmission / incubation synonyms by title / abstract metadata<br><i>Hover over dots for exact values</i>\"}, \"xaxis\": {\"title\": {\"text\": \"Count\"}}, \"yaxis\": {\"title\": {\"text\": \"Regex\"}}},\n",
       "                        {\"responsive\": true}\n",
       "                    ).then(function(){\n",
       "                            \n",
       "var gd = document.getElementById('55cf6bc6-a33d-492d-b1f5-56014e01fa08');\n",
       "var x = new MutationObserver(function (mutations, observer) {{\n",
       "        var display = window.getComputedStyle(gd).display;\n",
       "        if (!display || display === 'none') {{\n",
       "            console.log([gd, 'removed!']);\n",
       "            Plotly.purge(gd);\n",
       "            observer.disconnect();\n",
       "        }}\n",
       "}});\n",
       "\n",
       "// Listen for the removal of the full notebook cells\n",
       "var notebookContainer = gd.closest('#notebook-container');\n",
       "if (notebookContainer) {{\n",
       "    x.observe(notebookContainer, {childList: true});\n",
       "}}\n",
       "\n",
       "// Listen for the clearing of the current output cell\n",
       "var outputEl = gd.closest('.output');\n",
       "if (outputEl) {{\n",
       "    x.observe(outputEl, {childList: true});\n",
       "}}\n",
       "\n",
       "                        })\n",
       "                };\n",
       "                });\n",
       "            </script>\n",
       "        </div>"
      ]
     },
     "metadata": {},
     "output_type": "display_data"
    }
   ],
   "source": [
    "transmission_synonyms = [\n",
    "    'transmiss', # Picks up 'transmission' and 'transmissibility'\n",
    "    'transmitted',\n",
    "    'incubation',\n",
    "    'environmental stability',\n",
    "    'airborne',\n",
    "    'via contact',\n",
    "    'human to human',\n",
    "    'through droplets',\n",
    "    'through secretions',\n",
    "    r'\\broute',\n",
    "    'exportation'\n",
    "]\n",
    "df, transmission_counts = count_and_tag(df, transmission_synonyms, 'transmission_generic')\n",
    "dotplot(transmission_counts, 'Transmission / incubation synonyms by title / abstract metadata')"
   ]
  },
  {
   "cell_type": "code",
   "execution_count": 88,
   "metadata": {},
   "outputs": [
    {
     "data": {
      "text/plain": [
       "transmiss                  4181\n",
       "\\broute                     752\n",
       "transmitted                 663\n",
       "incubation                  470\n",
       "airborne                    316\n",
       "human to human              214\n",
       "exportation                  22\n",
       "via contact                  14\n",
       "through droplets              5\n",
       "environmental stability       5\n",
       "through secretions            0\n",
       "dtype: int64"
      ]
     },
     "execution_count": 88,
     "metadata": {},
     "output_type": "execute_result"
    }
   ],
   "source": [
    "transmission_counts.sort_values(ascending=False)"
   ]
  },
  {
   "cell_type": "code",
   "execution_count": 89,
   "metadata": {},
   "outputs": [
    {
     "name": "stdout",
     "output_type": "stream",
     "text": [
      "There are 591 papers on Covid-19 and transmission / incubation / environmental stability\n",
      "\n",
      "This entire dataset is exported to thematic_tagging_output_transmission.csv\n"
     ]
    }
   ],
   "source": [
    "n = (df.tag_disease_covid19 & df.tag_transmission_generic).sum()\n",
    "print(f'There are {n} papers on Covid-19 and transmission / incubation / environmental stability')\n",
    "print('\\nThis entire dataset is exported to thematic_tagging_output_transmission.csv')"
   ]
  },
  {
   "cell_type": "markdown",
   "metadata": {},
   "source": [
    "## Reproduction rates ($R$ / $R_0$)\n",
    "\n",
    "- Basic reproduction rate ($R_0$)\n",
    "- Effective reproduction rate ($R$)"
   ]
  },
  {
   "cell_type": "code",
   "execution_count": 90,
   "metadata": {},
   "outputs": [
    {
     "data": {
      "text/html": [
       "<div>\n",
       "        \n",
       "        \n",
       "            <div id=\"90205fe0-b0f8-4a82-96d9-1b55dc68acae\" class=\"plotly-graph-div\" style=\"height:525px; width:100%;\"></div>\n",
       "            <script type=\"text/javascript\">\n",
       "                require([\"plotly\"], function(Plotly) {\n",
       "                    window.PLOTLYENV=window.PLOTLYENV || {};\n",
       "                    \n",
       "                if (document.getElementById(\"90205fe0-b0f8-4a82-96d9-1b55dc68acae\")) {\n",
       "                    Plotly.newPlot(\n",
       "                        '90205fe0-b0f8-4a82-96d9-1b55dc68acae',\n",
       "                        [{\"marker\": {\"color\": \"crimson\", \"size\": 12}, \"mode\": \"markers\", \"name\": \"Count\", \"type\": \"scatter\", \"x\": [0, 0, 0, 0, 0, 1, 4, 7, 7, 71], \"y\": [\"reproduction \\\\(r\\\\)\", \"{r_0}\", \"\\\\b{r}\", \"\\\\br naught\", \"\\\\br zero\", \"{r}_0\", \"reproductive rate\", \"reproduction rate\", \"\\\\br_0\", \"\\\\br0\\\\b\"]}],\n",
       "                        {\"template\": {\"data\": {\"bar\": [{\"error_x\": {\"color\": \"#2a3f5f\"}, \"error_y\": {\"color\": \"#2a3f5f\"}, \"marker\": {\"line\": {\"color\": \"#E5ECF6\", \"width\": 0.5}}, \"type\": \"bar\"}], \"barpolar\": [{\"marker\": {\"line\": {\"color\": \"#E5ECF6\", \"width\": 0.5}}, \"type\": \"barpolar\"}], \"carpet\": [{\"aaxis\": {\"endlinecolor\": \"#2a3f5f\", \"gridcolor\": \"white\", \"linecolor\": \"white\", \"minorgridcolor\": \"white\", \"startlinecolor\": \"#2a3f5f\"}, \"baxis\": {\"endlinecolor\": \"#2a3f5f\", \"gridcolor\": \"white\", \"linecolor\": \"white\", \"minorgridcolor\": \"white\", \"startlinecolor\": \"#2a3f5f\"}, \"type\": \"carpet\"}], \"choropleth\": [{\"colorbar\": {\"outlinewidth\": 0, \"ticks\": \"\"}, \"type\": \"choropleth\"}], \"contour\": [{\"colorbar\": {\"outlinewidth\": 0, \"ticks\": \"\"}, \"colorscale\": [[0.0, \"#0d0887\"], [0.1111111111111111, \"#46039f\"], [0.2222222222222222, \"#7201a8\"], [0.3333333333333333, \"#9c179e\"], [0.4444444444444444, \"#bd3786\"], [0.5555555555555556, \"#d8576b\"], [0.6666666666666666, \"#ed7953\"], [0.7777777777777778, \"#fb9f3a\"], [0.8888888888888888, \"#fdca26\"], [1.0, \"#f0f921\"]], \"type\": \"contour\"}], \"contourcarpet\": [{\"colorbar\": {\"outlinewidth\": 0, \"ticks\": \"\"}, \"type\": \"contourcarpet\"}], \"heatmap\": [{\"colorbar\": {\"outlinewidth\": 0, \"ticks\": \"\"}, \"colorscale\": [[0.0, \"#0d0887\"], [0.1111111111111111, \"#46039f\"], [0.2222222222222222, \"#7201a8\"], [0.3333333333333333, \"#9c179e\"], [0.4444444444444444, \"#bd3786\"], [0.5555555555555556, \"#d8576b\"], [0.6666666666666666, \"#ed7953\"], [0.7777777777777778, \"#fb9f3a\"], [0.8888888888888888, \"#fdca26\"], [1.0, \"#f0f921\"]], \"type\": \"heatmap\"}], \"heatmapgl\": [{\"colorbar\": {\"outlinewidth\": 0, \"ticks\": \"\"}, \"colorscale\": [[0.0, \"#0d0887\"], [0.1111111111111111, \"#46039f\"], [0.2222222222222222, \"#7201a8\"], [0.3333333333333333, \"#9c179e\"], [0.4444444444444444, \"#bd3786\"], [0.5555555555555556, \"#d8576b\"], [0.6666666666666666, \"#ed7953\"], [0.7777777777777778, \"#fb9f3a\"], [0.8888888888888888, \"#fdca26\"], [1.0, \"#f0f921\"]], \"type\": \"heatmapgl\"}], \"histogram\": [{\"marker\": {\"colorbar\": {\"outlinewidth\": 0, \"ticks\": \"\"}}, \"type\": \"histogram\"}], \"histogram2d\": [{\"colorbar\": {\"outlinewidth\": 0, \"ticks\": \"\"}, \"colorscale\": [[0.0, \"#0d0887\"], [0.1111111111111111, \"#46039f\"], [0.2222222222222222, \"#7201a8\"], [0.3333333333333333, \"#9c179e\"], [0.4444444444444444, \"#bd3786\"], [0.5555555555555556, \"#d8576b\"], [0.6666666666666666, \"#ed7953\"], [0.7777777777777778, \"#fb9f3a\"], [0.8888888888888888, \"#fdca26\"], [1.0, \"#f0f921\"]], \"type\": \"histogram2d\"}], \"histogram2dcontour\": [{\"colorbar\": {\"outlinewidth\": 0, \"ticks\": \"\"}, \"colorscale\": [[0.0, \"#0d0887\"], [0.1111111111111111, \"#46039f\"], [0.2222222222222222, \"#7201a8\"], [0.3333333333333333, \"#9c179e\"], [0.4444444444444444, \"#bd3786\"], [0.5555555555555556, \"#d8576b\"], [0.6666666666666666, \"#ed7953\"], [0.7777777777777778, \"#fb9f3a\"], [0.8888888888888888, \"#fdca26\"], [1.0, \"#f0f921\"]], \"type\": \"histogram2dcontour\"}], \"mesh3d\": [{\"colorbar\": {\"outlinewidth\": 0, \"ticks\": \"\"}, \"type\": \"mesh3d\"}], \"parcoords\": [{\"line\": {\"colorbar\": {\"outlinewidth\": 0, \"ticks\": \"\"}}, \"type\": \"parcoords\"}], \"pie\": [{\"automargin\": true, \"type\": \"pie\"}], \"scatter\": [{\"marker\": {\"colorbar\": {\"outlinewidth\": 0, \"ticks\": \"\"}}, \"type\": \"scatter\"}], \"scatter3d\": [{\"line\": {\"colorbar\": {\"outlinewidth\": 0, \"ticks\": \"\"}}, \"marker\": {\"colorbar\": {\"outlinewidth\": 0, \"ticks\": \"\"}}, \"type\": \"scatter3d\"}], \"scattercarpet\": [{\"marker\": {\"colorbar\": {\"outlinewidth\": 0, \"ticks\": \"\"}}, \"type\": \"scattercarpet\"}], \"scattergeo\": [{\"marker\": {\"colorbar\": {\"outlinewidth\": 0, \"ticks\": \"\"}}, \"type\": \"scattergeo\"}], \"scattergl\": [{\"marker\": {\"colorbar\": {\"outlinewidth\": 0, \"ticks\": \"\"}}, \"type\": \"scattergl\"}], \"scattermapbox\": [{\"marker\": {\"colorbar\": {\"outlinewidth\": 0, \"ticks\": \"\"}}, \"type\": \"scattermapbox\"}], \"scatterpolar\": [{\"marker\": {\"colorbar\": {\"outlinewidth\": 0, \"ticks\": \"\"}}, \"type\": \"scatterpolar\"}], \"scatterpolargl\": [{\"marker\": {\"colorbar\": {\"outlinewidth\": 0, \"ticks\": \"\"}}, \"type\": \"scatterpolargl\"}], \"scatterternary\": [{\"marker\": {\"colorbar\": {\"outlinewidth\": 0, \"ticks\": \"\"}}, \"type\": \"scatterternary\"}], \"surface\": [{\"colorbar\": {\"outlinewidth\": 0, \"ticks\": \"\"}, \"colorscale\": [[0.0, \"#0d0887\"], [0.1111111111111111, \"#46039f\"], [0.2222222222222222, \"#7201a8\"], [0.3333333333333333, \"#9c179e\"], [0.4444444444444444, \"#bd3786\"], [0.5555555555555556, \"#d8576b\"], [0.6666666666666666, \"#ed7953\"], [0.7777777777777778, \"#fb9f3a\"], [0.8888888888888888, \"#fdca26\"], [1.0, \"#f0f921\"]], \"type\": \"surface\"}], \"table\": [{\"cells\": {\"fill\": {\"color\": \"#EBF0F8\"}, \"line\": {\"color\": \"white\"}}, \"header\": {\"fill\": {\"color\": \"#C8D4E3\"}, \"line\": {\"color\": \"white\"}}, \"type\": \"table\"}]}, \"layout\": {\"annotationdefaults\": {\"arrowcolor\": \"#2a3f5f\", \"arrowhead\": 0, \"arrowwidth\": 1}, \"coloraxis\": {\"colorbar\": {\"outlinewidth\": 0, \"ticks\": \"\"}}, \"colorscale\": {\"diverging\": [[0, \"#8e0152\"], [0.1, \"#c51b7d\"], [0.2, \"#de77ae\"], [0.3, \"#f1b6da\"], [0.4, \"#fde0ef\"], [0.5, \"#f7f7f7\"], [0.6, \"#e6f5d0\"], [0.7, \"#b8e186\"], [0.8, \"#7fbc41\"], [0.9, \"#4d9221\"], [1, \"#276419\"]], \"sequential\": [[0.0, \"#0d0887\"], [0.1111111111111111, \"#46039f\"], [0.2222222222222222, \"#7201a8\"], [0.3333333333333333, \"#9c179e\"], [0.4444444444444444, \"#bd3786\"], [0.5555555555555556, \"#d8576b\"], [0.6666666666666666, \"#ed7953\"], [0.7777777777777778, \"#fb9f3a\"], [0.8888888888888888, \"#fdca26\"], [1.0, \"#f0f921\"]], \"sequentialminus\": [[0.0, \"#0d0887\"], [0.1111111111111111, \"#46039f\"], [0.2222222222222222, \"#7201a8\"], [0.3333333333333333, \"#9c179e\"], [0.4444444444444444, \"#bd3786\"], [0.5555555555555556, \"#d8576b\"], [0.6666666666666666, \"#ed7953\"], [0.7777777777777778, \"#fb9f3a\"], [0.8888888888888888, \"#fdca26\"], [1.0, \"#f0f921\"]]}, \"colorway\": [\"#636efa\", \"#EF553B\", \"#00cc96\", \"#ab63fa\", \"#FFA15A\", \"#19d3f3\", \"#FF6692\", \"#B6E880\", \"#FF97FF\", \"#FECB52\"], \"font\": {\"color\": \"#2a3f5f\"}, \"geo\": {\"bgcolor\": \"white\", \"lakecolor\": \"white\", \"landcolor\": \"#E5ECF6\", \"showlakes\": true, \"showland\": true, \"subunitcolor\": \"white\"}, \"hoverlabel\": {\"align\": \"left\"}, \"hovermode\": \"closest\", \"mapbox\": {\"style\": \"light\"}, \"paper_bgcolor\": \"white\", \"plot_bgcolor\": \"#E5ECF6\", \"polar\": {\"angularaxis\": {\"gridcolor\": \"white\", \"linecolor\": \"white\", \"ticks\": \"\"}, \"bgcolor\": \"#E5ECF6\", \"radialaxis\": {\"gridcolor\": \"white\", \"linecolor\": \"white\", \"ticks\": \"\"}}, \"scene\": {\"xaxis\": {\"backgroundcolor\": \"#E5ECF6\", \"gridcolor\": \"white\", \"gridwidth\": 2, \"linecolor\": \"white\", \"showbackground\": true, \"ticks\": \"\", \"zerolinecolor\": \"white\"}, \"yaxis\": {\"backgroundcolor\": \"#E5ECF6\", \"gridcolor\": \"white\", \"gridwidth\": 2, \"linecolor\": \"white\", \"showbackground\": true, \"ticks\": \"\", \"zerolinecolor\": \"white\"}, \"zaxis\": {\"backgroundcolor\": \"#E5ECF6\", \"gridcolor\": \"white\", \"gridwidth\": 2, \"linecolor\": \"white\", \"showbackground\": true, \"ticks\": \"\", \"zerolinecolor\": \"white\"}}, \"shapedefaults\": {\"line\": {\"color\": \"#2a3f5f\"}}, \"ternary\": {\"aaxis\": {\"gridcolor\": \"white\", \"linecolor\": \"white\", \"ticks\": \"\"}, \"baxis\": {\"gridcolor\": \"white\", \"linecolor\": \"white\", \"ticks\": \"\"}, \"bgcolor\": \"#E5ECF6\", \"caxis\": {\"gridcolor\": \"white\", \"linecolor\": \"white\", \"ticks\": \"\"}}, \"title\": {\"x\": 0.05}, \"xaxis\": {\"automargin\": true, \"gridcolor\": \"white\", \"linecolor\": \"white\", \"ticks\": \"\", \"title\": {\"standoff\": 15}, \"zerolinecolor\": \"white\", \"zerolinewidth\": 2}, \"yaxis\": {\"automargin\": true, \"gridcolor\": \"white\", \"linecolor\": \"white\", \"ticks\": \"\", \"title\": {\"standoff\": 15}, \"zerolinecolor\": \"white\", \"zerolinewidth\": 2}}}, \"title\": {\"text\": \"R<sub>0</sub> synonyms by title / abstract metadata<br><i>Hover over dots for exact values</i>\"}, \"xaxis\": {\"title\": {\"text\": \"Count\"}}, \"yaxis\": {\"title\": {\"text\": \"Regex\"}}},\n",
       "                        {\"responsive\": true}\n",
       "                    ).then(function(){\n",
       "                            \n",
       "var gd = document.getElementById('90205fe0-b0f8-4a82-96d9-1b55dc68acae');\n",
       "var x = new MutationObserver(function (mutations, observer) {{\n",
       "        var display = window.getComputedStyle(gd).display;\n",
       "        if (!display || display === 'none') {{\n",
       "            console.log([gd, 'removed!']);\n",
       "            Plotly.purge(gd);\n",
       "            observer.disconnect();\n",
       "        }}\n",
       "}});\n",
       "\n",
       "// Listen for the removal of the full notebook cells\n",
       "var notebookContainer = gd.closest('#notebook-container');\n",
       "if (notebookContainer) {{\n",
       "    x.observe(notebookContainer, {childList: true});\n",
       "}}\n",
       "\n",
       "// Listen for the clearing of the current output cell\n",
       "var outputEl = gd.closest('.output');\n",
       "if (outputEl) {{\n",
       "    x.observe(outputEl, {childList: true});\n",
       "}}\n",
       "\n",
       "                        })\n",
       "                };\n",
       "                });\n",
       "            </script>\n",
       "        </div>"
      ]
     },
     "metadata": {},
     "output_type": "display_data"
    }
   ],
   "source": [
    "repr_synonyms = [\n",
    "    r'reproduction \\(r\\)',\n",
    "    'reproduction rate',\n",
    "    'reproductive rate',\n",
    "    '{r}_0',\n",
    "    r'\\br0\\b',\n",
    "    r'\\br_0',\n",
    "    '{r_0}',\n",
    "    r'\\b{r}',\n",
    "    r'\\br naught',\n",
    "    r'\\br zero'\n",
    "]\n",
    "df, repr_counts = count_and_tag(df,repr_synonyms, 'transmission_repr')\n",
    "dotplot(repr_counts, 'R<sub>0</sub> synonyms by title / abstract metadata')"
   ]
  },
  {
   "cell_type": "code",
   "execution_count": 91,
   "metadata": {},
   "outputs": [
    {
     "data": {
      "text/plain": [
       "\\br0\\b                71\n",
       "\\br_0                  7\n",
       "reproduction rate      7\n",
       "reproductive rate      4\n",
       "{r}_0                  1\n",
       "\\br zero               0\n",
       "\\br naught             0\n",
       "\\b{r}                  0\n",
       "{r_0}                  0\n",
       "reproduction \\(r\\)     0\n",
       "dtype: int64"
      ]
     },
     "execution_count": 91,
     "metadata": {},
     "output_type": "execute_result"
    }
   ],
   "source": [
    "repr_counts.sort_values(ascending=False)"
   ]
  },
  {
   "cell_type": "code",
   "execution_count": 92,
   "metadata": {},
   "outputs": [
    {
     "name": "stdout",
     "output_type": "stream",
     "text": [
      "There are 67 papers on Covid-19 and R or R_0\n",
      "=\n",
      "1 of 67\n",
      "A mathematical model for simulating the transmission of Wuhan novel Coronavirus\n",
      "[ http://doi.org/10.1101/2020.01.19.911669 ]\n",
      "    \"he basic reproduction number (R0) was calculated from the RP model to assess the transmissibility of the 2019-nCoV.\"\n",
      "---\n",
      "2 of 67\n",
      "Preliminary estimation of the basic reproduction number of novel coronavirus (2019-nCoV) in China, from 2019 to 2020: A data-driven analysis in the early phase of the outbreak\n",
      "[ http://doi.org/10.1101/2020.01.23.916395 ]\n",
      "    \"he basic reproduction number, R0, of 2019-nCoV in the early phase of the outbreak.MethodsAccounting for the impact of the variations in disease reporting rate, we modelled the epidemic curve of 2019-nCoV cases time series, in mainland China from January 10 to January 24, 2020, through the exponential growth. With the estimated intrinsic growth rate (γ), we estimated R0 by using the serial intervals (SI) of two other well-known coronavirus diseases, MERS and SARS, as approximations for the true u\"\n",
      "---\n",
      "3 of 67\n",
      "Pattern of early human-to-human transmission of Wuhan 2019-nCoV\n",
      "[ http://doi.org/10.1101/2020.01.23.917351 ]\n",
      "    \"he basic reproduction number, R0, to be around 2.2 (90% high density interval 1.4—3.8), indicating the potential for sustained human-to-human transmission. Transmission characteristics appear to be of a similar magnitude to severe acute respiratory syndrome-related coronavirus (SARS-CoV) and the 1918 pandemic influenza. These findings underline the importance of heightened screening, surveillance and control efforts, particularly at airports and other travel hubs, in order to prevent further int\"\n",
      "---\n",
      "4 of 67\n",
      "Time-varying transmission dynamics of Novel Coronavirus Pneumonia in China\n",
      "[ http://doi.org/10.1101/2020.01.25.919787 ]\n",
      "    \"e, basic reproduction number (R0) and time-varying reproduction number (Rt) of NCP and SARS.Measurements and main resultsAs of February 7, 2020, 34,598 NCP cases were identified in China, and daily confirmed cases decreased after February 4. The doubling time of NCP nationwide was 2.4 days which was shorter than that of SARS in Guangdong (14.3 days), Hong Kong (5.7 days) and Beijing (12.4 days). The R0 of NCP cases nationwide and in Wuhan were 4.5 and 4.4 respectively, which were higher than R0 \"\n",
      "---\n",
      "5 of 67\n",
      "Forecasting the Wuhan coronavirus (2019-nCoV) epidemics using a simple (simplistic) model - update (Feb. 8, 2020)\n",
      "[ http://doi.org/10.1101/2020.02.04.20020461 ]\n",
      "    \"nal basic reproduction number R0 to be about 2.4 to 2.5. As data become available, we subsequently analyzed them during three consecutive periods obtaining a sequence of model predictions. All available data up were processed the same way. We used a simple logistic growth model that fitted very well with all data. Using this model and the three sets of data, we estimated maximum cases as about 21,000, 28,000 and 35,000 cases refining these predictions in near-real time. With slightly different a\"\n",
      "---\n",
      "6 of 67\n",
      "The Novel Coronavirus, 2019-nCoV, is Highly Contagious and More Infectious Than Initially Estimated\n",
      "[ http://doi.org/10.1101/2020.02.07.20021154 ]\n",
      "    \"he basic reproductive number, R0, was estimated to be 2.2 to 2.7. Here we provide a new estimate of this quantity. We collected extensive individual case reports and estimated key epidemiology parameters, including the incubation period. Integrating these estimates and high-resolution real-time human travel and infection data with mathematical models, we estimated that the number of infected individuals during early epidemic double every 2.4 days, and the R0 value is likely to be between 4.7 and\"\n",
      "---\n",
      "7 of 67\n",
      "Feasibility of controlling 2019-nCoV outbreaks by isolation of cases and contacts\n",
      "[ http://doi.org/10.1101/2020.02.08.20021162 ]\n",
      "    \"the basic reproduction number R0; the delay from symptom onset to isolation; the probability contacts were traced; the proportion of transmission that occurred before symptom onset, and the proportion of subclinical infections. We assumed isolation prevented all further transmission in the model. Outbreaks were deemed controlled if transmission ended within 12 weeks or before 5000 cases in total. We measured the success of controlling outbreaks using isolation and contact tracing, and quantified\"\n",
      "---\n",
      "8 of 67\n",
      "Assessing the Tendency of 2019-nCoV (COVID-19) Outbreak in China\n",
      "[ http://doi.org/10.1101/2020.02.09.20021444 ]\n",
      "    \"he basic reproductive numbers R0 of COVID-19 is 3.56 (95% CI: 2.31-4.81). The number of daily confirmed new cases reaches the inflection point on Feb. 6-10 outside Hubei. For the maximum of infected cases number, the predicted peak value in China except Hubei was estimated to be 13806 (95% CI: 11926-15845). The peak arrival time is on March 3-9. The temporal number of patients in most areas of China outside Hubei will peak from March 12 to March 15. The peak values of more than 73.5% provinces o\"\n",
      "---\n",
      "9 of 67\n",
      "Beyond R0: the importance of contact tracing when predicting epidemics\n",
      "[ http://doi.org/10.1101/2020.02.10.20021725 ]\n",
      "    \"basic reproductive number --- R0 --- is one of the most common and most commonly misapplied numbers in public health. Nevertheless, estimating R0 for every transmissible pathogen, emerging or endemic, remains a priority for epidemiologists the world over. Although often used to compare outbreaks and forecast pandemic risk, this single number belies the complexity that two different pathogens can exhibit, even when they have the same R0. Here, we show how predicting outbreak size requires both an\"\n",
      "---\n",
      "10 of 67\n",
      "Data-Based Analysis, Modelling and Forecasting of the COVID-19 outbreak\n",
      "[ http://doi.org/10.1101/2020.02.11.20022186 ]\n",
      "    \"he basic reproduction number (R0), and the per day infection mortality and recovery rates. By calibrating the parameters of the SIRD model to the reported data, we also attempt to forecast the evolution of the of the outbreak at the epicenter three weeks ahead, i.e. until February 29. As the number of infected individuals, especially of those with asymptomatic or mild courses, is suspected to be much higher than the official numbers, which can be considered only as a subset of the actual numbers\"\n",
      "---\n",
      "11 of 67\n",
      "A model simulation study on effects of intervention measures in Wuhan COVID-19 epidemic\n",
      "[ http://doi.org/10.1101/2020.02.14.20023168 ]\n",
      "    \"eated using known parameters. R0 set to 3 and mean incubation time to be 7.5days. the epidemic was divided to 3 periods. Simulation would run 50 times to mimic different patient0 status. Personal activity index was used to mimic different level of control measures. 141427709 simulated patients were created. Cumulation number of patients at the end of period 1 (day50) is 2868.7 ± 1739.0. Total infected patients could be 913396.5 ± 559099.9 by the end of period 2 (day70) in free transmission state\"\n",
      "---\n",
      "12 of 67\n",
      "Study on SARS-COV-2 transmission and the effects of control measures in China\n",
      "[ http://doi.org/10.1101/2020.02.16.20023770 ]\n",
      "    \"ts Basic reproduction number, R0, was 3.6 in the very early stage. The true infected number was 4508 in our model in Wuhan before January 22, 2020. By January 22 2020, it was estimated that 1764 infected cases migrated from Wuhan to other cities in Hubei province. Effective reproductive number, R, gradually decreased from 3.6 (Wuhan, stage 1), 3.4 (Hubei except Wuhan, stage 1) and 3.3 (China except Hubei, stage 1) to 0.67 (Wuhan, stage 4), 0.83 (Hubei except Wuhan, stage 2) and 0.63 (China excep\"\n",
      "---\n",
      "13 of 67\n",
      "When will the battle against novel coronavirus end in Wuhan: a SEIR modeling analysis\n",
      "[ http://doi.org/10.1101/2020.02.16.20023804 ]\n",
      "    \" parameters were estimated as R0=1.44 (interquartile range: 1.40-1.47)，TI=14 (interquartile range: 14-14) and TE=3.0 (interquartile range: 2.8-3.1). Based on these parameters, the number of infected individuals in Wuhan city may reach the peak around February 19 at about 45,000 people. Once entering March, the epidemic would gradually decline, and end around the late March. It is worth noting that the above prediction is based on the assumption that the number of susceptible population N = 200,0\"\n",
      "---\n",
      "14 of 67\n",
      "The reproductive number R0 of COVID-19 based on estimate of a statistical time delay dynamical system\n",
      "[ http://doi.org/10.1101/2020.02.17.20023747 ]\n",
      "    \"imate the reproductive number R0 of COVID-19 based on Wallinga and Lipsitch framework {11} and a novel statistical time delay dynamic system. We use the observed data reported in CCDC's paper to estimate distribution of the generation interval of the infection and apply the simulation results from the time delay dynamic system as well as released data from CCDC to fit the growth rate. The conclusion is: Based our Fudan-CCDC model, the growth rate r of COVID-19 is almost in [0.30, 0.32] which is \"\n",
      "---\n",
      "15 of 67\n",
      "Tracking and Predicting COVID-19 Epidemic in China Mainland\n",
      "[ http://doi.org/10.1101/2020.02.17.20024257 ]\n",
      "    \"ns in the reproduction number R0 among the 30 provinces and 15 Hubei cities, respectively. This suggests the extreme control measures implemented since January 23, which include cutting off Wuhan and many other cities and towns, a great public awareness and high level of self isolation at home, have contributed to a substantial decline in the reproductivity of the COVID-19 in China. We predict that Hubei province will reach its peak between February 20 and 22, 2020, and if the removal rate can b\"\n",
      "---\n",
      "16 of 67\n",
      "Phase adjusted estimation of the number of 2019 novel coronavirus cases in Wuhan, China\n",
      "[ http://doi.org/10.1101/2020.02.18.20024281 ]\n",
      "    \"ral groups reported estimated R0 of Coronavirus Disease 2019 (COVID-19) and generated valuable prediction for the early phase of this outbreak. After implementation of strict prevention and control measures in China, new estimation is needed. An infectious disease dynamics SEIR (Susceptible, Exposed, Infectious and Removed) model was applied to estimate the epidemic trend in Wuhan, China under two assumptions of Rt. In the first assumption, Rt was assumed to maintain over 1. The estimated number\"\n",
      "---\n",
      "17 of 67\n",
      "Estimation of the epidemic properties of the 2019 novel coronavirus: A mathematical modeling study\n",
      "[ http://doi.org/10.1101/2020.02.18.20024315 ]\n",
      "    \"he basic reproduction number (R0) of COVID-19, using data on confirmed cases obtained from the China National Health Commission for the period 10th January to 8th February. We analyzed the data for the period before the closure of Wuhan city (10th January to 23rd January) and the post-closure period (23rd January to 8th February) and for the whole period, to assess both the epidemic risk of the virus and the effectiveness of the closure of Wuhan city on spread of COVID-19. Findings Before the cl\"\n",
      "---\n",
      "18 of 67\n",
      "Effective containment explains sub-exponential growth in confirmed cases of recent COVID-19 outbreak in Mainland China\n",
      "[ http://doi.org/10.1101/2020.02.18.20024414 ]\n",
      "    \"break with sufficiently large reproduction rate. Although case counts vary significantly between affected provinces in Mainland China, the scaling law t^μ is surprisingly universal, with a range of exponents μ = 2.1 ± 0.3. The universality of this behavior indicates that, in spite of social, regional, demographical, geographical, and socio-economical heterogeneities of affected Chinese provinces, this outbreak is dominated by fundamental mechanisms that are not captured by standard epidemiologic\"\n",
      "---\n",
      "19 of 67\n",
      "Association of Population Migration and Coronavirus Disease 2019 Epidemic Control\n",
      "[ http://doi.org/10.1101/2020.02.18.20024661 ]\n",
      "    \"ted basic reproduction number R0 to reflect the rate of spread of COVID-19 in these cities. Aggregated data of population migration during the same period was extracted from Baidu Migration. The change of R0 in the two cites were analyzed and compared. Spearman correlation analysis between R0 and population inflow from epidemic focus were performed. Results A total of 157 confirmed cases was identified in Hefei by 24:00 February 11, 2020, with an average age of 44.4±15.6 years, 74 female (47.1%)\"\n",
      "---\n",
      "20 of 67\n",
      "Effectiveness of control strategies for Coronavirus Disease 2019: a SEIR dynamic modeling study\n",
      "[ http://doi.org/10.1101/2020.02.19.20025387 ]\n",
      "    \"he basic reproductive number (R0) was calculated for the period between 18 January 2020 and 16 February 2020: R0 declined from 5.75 to 1.69 in Wuhan and from 6.22 to 1.67 in the entire country (not including the Wuhan area). At the same time, Wuhan is estimated to observe a peak in the number of confirmed cases around 6 February 2020. The number of infected individuals in the entire country (not including the Wuhan area) peaked around February 3. The results also show that the peak of new asympt\"\n",
      "---\n",
      "21 of 67\n",
      "Epidemiological Development of Novel Coronavirus Pneumonia in China and Its Forecast\n",
      "[ http://doi.org/10.1101/2020.02.21.20026229 ]\n",
      "    \"nd basic reproduction number (R0) was also calculated as well. Therefore the disease's infection intensity, peak time and the epidemiological end time can be deduced.\"\n",
      "---\n",
      "22 of 67\n",
      "Relations of parameters for describing the epidemic of COVID―19 by the Kermack―McKendrick model\n",
      "[ http://doi.org/10.1101/2020.02.26.20027797 ]\n",
      "    \"second relation p(∞) ≈1−exp(−(R0−1)/0.60) is the relation between p(∞), the final size of the disaster defined by the ratio of the total infected people to the population of the society,and the basic reproduction number, R0, which is the number of persons infected by the transmission of the pathogen from one infected person during the infectious time. The third relation 1/τend=1/τinf−(1−p(∞))/τtrans gives the decay time constant τend at the ending stage of the epidemic. Derived relations are app\"\n",
      "---\n",
      "23 of 67\n",
      "Estimation of country-level basic reproductive ratios for novel Coronavirus (COVID-19) using synthetic contact matrices\n",
      "[ http://doi.org/10.1101/2020.02.26.20028167 ]\n",
      "    \"The basic reproductive ratio (R0) is determined by both the nature of pathogen and the network of contacts through which the disease can spread - with this network determined by socio-demographics including age-structure and household composition. Here we focus on the age-structured transmission within the population, using data from China to inform age-dependent susceptibility and synthetic age-mixing matrices to inform the contact network. This allows us to determine the country-specific basic\"\n",
      "---\n",
      "24 of 67\n",
      "Infection Dynamics of Coronavirus Disease 2019 (Covid-19) Modeled with the Integration of the Eyring Rate Process Theory and Free Volume Concept\n",
      "[ http://doi.org/10.1101/2020.02.26.20028571 ]\n",
      "    \"he basic reproduction number, R0, is not a constant, dependent on the volume frac- tion of virus particles, virus particle size, and virus particle packing structure, the energy barrier associated with susceptible individuals, and environment temperature. The developed models are applied to treat coronavirus disease 2019 (Covid-19) transmission and make predictions on peak time, peak infected, and R0. Our work provides a simple and straightforward approach to estimate how infection diseases evol\"\n",
      "---\n",
      "25 of 67\n",
      "Preliminary estimating the reproduction number of the coronavirus disease (COVID-19) outbreak in Republic of Korea and Italy by 5 March 2020\n",
      "[ http://doi.org/10.1101/2020.03.02.20030312 ]\n",
      "    \"the basic reproduction number R0 as 2.6 (95% CI: 2.3-2.9) or 3.2 (95% CI: 2.9-3.5) in Republic of Korea, under the assumption that the exponential growth starting on 31 January or 5 February 2020, and 2.6 (95% CI: 2.3-2.9) or 3.3 (95% CI: 3.0-3.6) in Italy, under the assumption that the exponential growth starting on 5 February or 10 February 2020. Estimates of dispersion term (k) were 10 (95% CI: 5-56) or 22 (95% CI: 8-61) in Republic of Korea, and 13 (95% CI: 5-61) or 37 (95% CI: 13-61) in Ita\"\n",
      "---\n",
      "26 of 67\n",
      "Transmission interval estimates suggest pre-symptomatic spread of COVID-19\n",
      "[ http://doi.org/10.1101/2020.03.03.20029983 ]\n",
      "    \"ls lead to lower estimates of R0, which suggest that half of all secondary infections should be prevented to control spread.\"\n",
      "---\n",
      "27 of 67\n",
      "SOCRATES: An online tool leveraging a social contact data sharing initiative to assess mitigation strategies for COVID-19\n",
      "[ http://doi.org/10.1101/2020.03.03.20030627 ]\n",
      "    \"rices, relative incidence and R0. We incorporated location-specific isolation measures (e.g. school closure or telework) and capture their effect on transmission dynamics. All methods have been implemented in an online application based on R Shiny and applied to COVID-19 with age-specific susceptibility and infectiousness. Using our online tool with the available social contact data, we illustrate that social distancing could have a considerable impact on reducing transmission for COVID-19. The \"\n",
      "---\n",
      "28 of 67\n",
      "Evaluating the secondary transmission pattern and epidemic prediction of the COVID-19 in metropolitan areas of China\n",
      "[ http://doi.org/10.1101/2020.03.06.20032177 ]\n",
      "    \"the basic reproductive number R0 ​is 3.11 in Beijing, 2.78 in Shanghai, 2.02 in Guangzhou, and 1.75 in Shenzhen. In addition, we inferred the prediction results and compared the results of different level of parameters, For example, In Beijing, the predicated peak number of cases is around 466 at the peak time Feb 29, 2020; however, when the city conducts different levels (strict, mild, or weak) of travel restrictions or regulation measures, the estimation results show that transmission dynamics\"\n",
      "---\n",
      "29 of 67\n",
      "Transmission potential of COVID-19 in Iran\n",
      "[ http://doi.org/10.1101/2020.03.08.20030643 ]\n",
      "    \"fferent methods. We estimated R0 at 3.6 (95% CI, 3.2, 4.2) (generalized growth model) and at 3.58 (95% CI, 1.29, 8.46) (estimated epidemic doubling time of 1.20 (95% CI, 1.05, 1.44) days) respectively. Immediate social distancing measures are recommended.\"\n",
      "---\n",
      "30 of 67\n",
      "A deterministic epidemic model for the emergence of COVID-19 in China\n",
      "[ http://doi.org/10.1101/2020.03.08.20032854 ]\n",
      "    \"he basic reproduction number, R0 = 2.82 ± 0.11, time between March19 and March 21 when the effective reproduction number becoming lessthan one, the epidemic ending after April 2 and the total number ofconfirmed cases approaching 14408 ± 429 on the Chinese mainlandexcluding Hubei province.\"\n",
      "---\n",
      "31 of 67\n",
      "The effect of control strategies that reduce social mixing on outcomes of the COVID-19 epidemic in Wuhan, China\n",
      "[ http://doi.org/10.1101/2020.03.09.20033050 ]\n",
      "    \"rtainties around estimates of R0 and the duration of infectiousness.\"\n",
      "---\n",
      "32 of 67\n",
      "The time scale of asymptomatic transmission affects estimates of epidemic potential in the COVID-19 outbreak\n",
      "[ http://doi.org/10.1101/2020.03.09.20033514 ]\n",
      "    \"erval than symptomatic cases, R_0 will be over-estimated, and if they have a longer generation interval, R_0 will be under-estimated. We also show that as the length of asymptomatic generation intervals increase, estimates of the realized proportion of asymptomatic transmission during the exponential phase of the epidemic decrease. Our analysis provides a rationale for assessing the duration of asymptomatic cases of COVID-19 in addition to their prevalence in the population.\"\n",
      "---\n",
      "33 of 67\n",
      "Revealing the influence of national public health policies for the outbreak of the SARS-CoV-2 epidemic in Wuhan, China through status dynamic modeling\n",
      "[ http://doi.org/10.1101/2020.03.10.20032995 ]\n",
      "    \"the basic reproduction number R_0 of 2.65 before lockdown, whereas R_0 dropped to 1.98 for the first 30 days after the lockdown. The peak point is Feb. 17th, 2020 with 24,115 infected people and the end point is Jun. 17th, 2020. In total, 77,453 people will be infected. If lockdown imposed 7 days earlier, the total number of infected people would be 21,508, while delaying the lockdown by 1-6 days would expand the infection scale 1.23 to 4.94 times. A delay for 7 days would make the epidemic fina\"\n",
      "---\n",
      "34 of 67\n",
      "Effectiveness of isolation and contact tracing for containment and slowing down a COVID-19 epidemic: a modelling study\n",
      "[ http://doi.org/10.1101/2020.03.10.20033738 ]\n",
      "    \"ansmissibility as measured by R0 is in the lower ranges of reported values. Timeliness as well as completeness of tracing and diagnosis of cases are paramount to achieve containment and effective slowing down of the epidemic growth rate.\"\n",
      "---\n",
      "35 of 67\n",
      "Preliminary evaluation of voluntary event cancellation as a countermeasure against the COVID-19 outbreak in Japan as of 11 March, 2020\n",
      "[ http://doi.org/10.1101/2020.03.12.20035220 ]\n",
      "    \"he basic reproduction number, R0, before VEC introduced as 2.50 with a 95% confidence interval (CI) was [2.43, 2.55] and the effective reproduction number, Rv, after VEC introduced as 1. 88; its 95% CI was [1.68,2.02]. Discussion and Conclusion: Results demonstrated that VEC can reduce COVID−19 infectiousness by 35%, but R0 remains higher than one.\"\n",
      "---\n",
      "36 of 67\n",
      "The effects of border control and quarantine measures on global spread of COVID-19\n",
      "[ http://doi.org/10.1101/2020.03.13.20035261 ]\n",
      "    \"under the reproductive number R0 = 2.92 and latent period τ = 5.2 days. Next, we showed that although control measures can gain extra 32.5 and 44.0 days in arrival time through a high intensive border control measure and a shorter time to quarantine under a low R0 (1.4), if the R0 is higher (2.92), only 10 extra days can be gained for each of the same measures. This suggests the importance of lowering the incidence at source regions together with infectious disease control measures in susceptibl\"\n",
      "---\n",
      "37 of 67\n",
      "COVID-19: Forecasting short term hospital needs in France\n",
      "[ http://doi.org/10.1101/2020.03.16.20036939 ]\n",
      "    \"or three different scenarios (R0=1.5, R0=2.25, R0=3), where we estimated the daily number of COVID-19 cases, hospitalizations and deaths, the needs in ICU beds per Region and the reaching date of ICU capacity limits. At the national level, the total number of infected cases is expected to range from 22,872 in the best case (R0=1.5) to 161,832 in the worst case (R0=3), while the total number of deaths would vary from 1,021 to 11,032, respectively. At the regional level, all ICU capacities may be \"\n",
      "---\n",
      "38 of 67\n",
      "Modeling and Forecasting Trend of COVID-19 Epidemic in Iran\n",
      "[ http://doi.org/10.1101/2020.03.17.20037671 ]\n",
      "    \"te basic reproduction number (R0). Epidemic Curve along with patient population growth, recovered and deceased individuals was used to predict the epidemic trend. Epidemic projection models of logistic growth differential equations, Gompertz growth, von Bertalanffy and Cubic Polynomial east squared error (LSE) method were used. Matlab software was used to predict the number of cases until April 3, 2020. Results: In the first week of the epidemic, R0 (the mean number of individuals directly infec\"\n",
      "---\n",
      "39 of 67\n",
      "Tracing DAY-ZERO and Forecasting the Fade out of the COVID-19 Outbreak in Lombardy, Italy: A Compartmental Modelling and Numerical Optimization Approach.\n",
      "[ http://doi.org/10.1101/2020.03.17.20037689 ]\n",
      "    \"he basic reproduction number (R0); (d) the effective per-day disease transmission and mortality rates; and, importantly, (e) a forecast for the fade out of the outbreak, on the basis of the released data of confirmed cases for Lombardy from February 21 to March 8, the day of lockdown. Methods To deal with the uncertainty in the number of actual exposed/ infected cases in the total population, we address a new compartmental Susceptible/ Exposed/ Infectious/ Recovered/ Dead (SEIRD) model with two \"\n",
      "---\n",
      "40 of 67\n",
      "Assessing the Global Tendency of COVID-19 Outbreak\n",
      "[ http://doi.org/10.1101/2020.03.18.20038224 ]\n",
      "    \" results show that the global R_0, excluding China, is estimated to be 2.63 (95% CI: 1.67 - 4.69). Seven countries, including Italy and Republic of Korea, have peak values over 10,000. And the peak arrival time of all these countries is after May 12, 2020 (95 % CI: April 1, 2020 - June 24, 2020). We predict that there are four regional clusters of the outbreak: Southeast Asia extending southward to Oceania, the Middle East, Western Europe and North America. Among them, Western Europe will become\"\n",
      "---\n",
      "41 of 67\n",
      "Insignificant effect of counter measure for coronavirus infectious disease -19 in Japan\n",
      "[ http://doi.org/10.1101/2020.03.19.20037945 ]\n",
      "    \"he basic reproduction number, R0, before VEC introduced as 2.29 with a 95% confidence interval (CI) was [2.19, 2.37] and the effective reproduction number, Rv, after VEC introduced as 1. 99; its 95% CI was [1.71,2.23]. Discussion and Conclusion: No significant effect of VEC was observed.\"\n",
      "---\n",
      "42 of 67\n",
      "MATHEMATICAL PREDICTIONS FOR COVID-19 AS A GLOBAL PANDEMIC\n",
      "[ http://doi.org/10.1101/2020.03.19.20038794 ]\n",
      "    \"he Basic Reproductive number (R_0<1) by Equation (33) shows that there is a chance of decline of secondary infections when the ratio between the incidence rate in the population and the total number of infected population quarantined with observatory procedure. The effort to evaluate the disease equilibrium shows that unless there is a dedicated effort from government, decision makers and stakeholders, the world would hardly be reed of the COVID-19 coronavirus and further spread is eminent and t\"\n",
      "---\n",
      "43 of 67\n",
      "Basic and effective reproduction numbers of COVID-19 cases in South Korea excluding Sincheonji cases\n",
      "[ http://doi.org/10.1101/2020.03.19.20039347 ]\n",
      "    \"ed basic reproduction number (R0) and time-dependent reproduction number (Rt) of confirmed cases based on various kinds of populations, including total, Daegu-Geyoengbuk, except-Daegu-Gyeongbuk, Sincheonji, and except-Sincheonji. In total, it seems the infection is going to be under control, but this is never true because in the except-Sincheonji and except-Daegu-Geyongbuk cases, R0 is still above 1.0, and Rt is drifting around 1.0. This study could be used to determine government policies in th\"\n",
      "---\n",
      "44 of 67\n",
      "Estimating the reproduction number of COVID-19 in Iran using epidemic modeling\n",
      "[ http://doi.org/10.1101/2020.03.20.20038422 ]\n",
      "    \"he basic reproduction number (R_0) of COVID-19 in Iran. Methods: We used data from February 21, 2020, to March 18, 2020, on the number of cases reported by Iranian governments and we employed the SIR (Susceptible-Infectious-Removed) epidemic spreading model to fit the transmission model to the reported case data by tuning the parameters in order to estimate the basic reproduction number of COVID-19 in Iran. Results: The value of reproduction number was estimated 4.86 in the first week and 4.5 in\"\n",
      "---\n",
      "45 of 67\n",
      "COVID-19 outbreak in Algeria: A mathematical model to predict the incidence\n",
      "[ http://doi.org/10.1101/2020.03.20.20039891 ]\n",
      "    \"e and the reproduction number R0 in the coming months in order to help decision makers. The Alg-COVIS-19 Model initial equation 1, estimates the cases number at t prediction time using two parameters: the reproduction number R0 and the serial interval SI. Results: We found R0=2.56 based on actual incidence at the first 23 days, using the serial interval SI= 4,4 and the prediction time t=23. The herd immunity HI estimated is HI=61%. Also, The Covid-19 incidence predicted with the Alg-COVID-19 Mod\"\n",
      "---\n",
      "46 of 67\n",
      "A mathematical model for the spatiotemporal epidemic spreading of COVID19\n",
      "[ http://doi.org/10.1101/2020.03.21.20040022 ]\n",
      "    \"ge basic reproduction number, R_0 ~ 2.3, number of secondary cases produced by an infected individual in a population of susceptible individuals, as well as an asymptomatic period (up to 14 days) in which infectious individuals are undetectable without further analysis, pave the way for a major crisis of the national health capacity systems. Recent scientific reports have pointed out that the detected cases of COVID19 at young ages is strikingly short and that lethality is concentrated at large \"\n",
      "---\n",
      "47 of 67\n",
      "Epidemiological parameters of coronavirus disease 2019: a pooled analysis of publicly reported individual data of 1155 cases from seven countries\n",
      "[ http://doi.org/10.1101/2020.03.21.20040329 ]\n",
      "    \"nd basic reproduction number (R0) of COVID-19. Methods Between late February and early March of 2020, the individual data of laboratory confirmed cases of COVID-19 were retrieved from 10728 publicly available reports released by the health authorities of and outside China and from 1790 publications identified in PubMed and CNKI. To be eligible, a report had to contain the data that allowed for estimation of at least one parameter. As relevant data mainly came from clustering cases, the clusters \"\n",
      "---\n",
      "48 of 67\n",
      "From a single host to global spread. The global mobility based modelling of the COVID-19 pandemic implies higher infection and lower detection rates than current estimates.\n",
      "[ http://doi.org/10.1101/2020.03.21.20040444 ]\n",
      "    \"the basic reproduction number R0, ~4.4; a latent non-infectious period of 1.1. days followed by 4.6 days of the presymptomatic infectious period; the probability of developing severe symptoms, 0.01; the probability of being diagnosed when presenting severe symptoms of 0.6; the probability of diagnosis for cases with mild symptoms or asymptomatic, 0.001. Also, the higher the testing rate per country, the lower the discrepancy between data (diagnosed cases) and model. Interpretation Parameters tha\"\n",
      "---\n",
      "49 of 67\n",
      "Mechanistic-statistical SIR modelling for early estimation of the actual number of cases and mortality rate from COVID-19\n",
      "[ http://doi.org/10.1101/2020.03.22.20040915 ]\n",
      "    \"observation period. We find a R0 of 4.8, a high value which may be linked to the long viral shedding period of 20 days.\"\n",
      "---\n",
      "50 of 67\n",
      "COVID-19 outbreak on the Diamond Princess cruise ship: estimating the epidemic potential and effectiveness of public health countermeasures\n",
      "[ http://doi.org/10.1093/jtm/taaa030 ]\n",
      "    \"cuation of the ship.The basic reproduction rate was initially 4 times higher on-board compared to the ${R}_0$ in the epicentre in Wuhan, but the countermeasures lowered it substantially. Based on the modeled initial ${R}_0$ of 14.8, we estimated that without any interventions within the time period of 21 January to 19 February, 2920 out of the 3700 (79%) would have been infected. Isolation and quarantine therefore prevented 2307 cases, and lowered the ${R}_0$ to 1.78. We showed that an early eva\"\n",
      "---\n",
      "51 of 67\n",
      "Unique epidemiological and clinical features of the emerging 2019 novel coronavirus pneumonia (COVID-19) implicate special control measures\n",
      "[ http://doi.org/10.1002/jmv.25748 ]\n",
      "    \"he basic reproductive number (R0) of COVID-19 ranges from 2-3.5 at the early phase regardless of different prediction models, which is higher than SARS and MERS. A study from China CDC showed majority of patients (80.9%) were considered asymptomatic or mild pneumonia but released large amounts of viruses at the early phase of infection, which posed enormous challenges for containing the spread of COVID-19. Nosocomial transmission was another severe problem. 3019 health workers were infected by F\"\n",
      "---\n",
      "52 of 67\n",
      "The First Disease X is Caused by a Highly Transmissible Acute Respiratory Syndrome Coronavirus\n",
      "[ http://doi.org/10.1007/s12250-020-00206-5 ]\n",
      "    \"n-to-human transmission rate (R0), 2019-nCoV has quickly spread in China and other countries, resulting in 34,953 confirmed cases and 725 deaths as of 8 February 2020, thus calling for urgent development of therapeutics and prophylactics. Here we suggest renaming 2019-nCoV as “transmissible acute respiratory syndrome coronavirus (TARS-CoV)” and briefly review the advancement of research and development of neutralizing antibodies and vaccines targeting the receptor-binding domain (RBD) and viral \"\n",
      "---\n"
     ]
    }
   ],
   "source": [
    "n = (df.tag_disease_covid19 & df.tag_transmission_repr).sum()\n",
    "print(f'There are {n} papers on Covid-19 and R or R_0')\n",
    "print('=')\n",
    "print_key_phrases(df[df.tag_disease_covid19 & df.tag_transmission_repr], \n",
    "                  repr_synonyms, n=52, chars=500)"
   ]
  },
  {
   "cell_type": "code",
   "execution_count": 93,
   "metadata": {},
   "outputs": [],
   "source": [
    "# DATA_FOLDER = '../input/CORD-19-research-challenge'\n",
    "\n",
    "# import json\n",
    "# import os\n",
    "\n",
    "# json_list = []\n",
    "\n",
    "# for row in df[df.tag_disease_covid19 &\n",
    "#               df.tag_transmission_repr & \n",
    "#               df.has_full_text].itertuples():\n",
    "#     filename = f'{row.sha}.json'\n",
    "#     sources = ['biorxiv_medrxiv', 'comm_use_subset',\n",
    "#                'custom_license', 'noncomm_use_subset']\n",
    "#     for source in sources:\n",
    "#         if filename in os.listdir(os.path.join(DATA_FOLDER, source, source)):\n",
    "#             with open(os.path.join(DATA_FOLDER, source, source, filename), 'rb') as f:\n",
    "#                 json_list.append(json.load(f))"
   ]
  },
  {
   "cell_type": "code",
   "execution_count": 94,
   "metadata": {},
   "outputs": [],
   "source": [
    "# candidate_sections = [\n",
    "#     'results',\n",
    "#     'conclusion',\n",
    "#     'conclusions',\n",
    "#     'reproduction',\n",
    "#     'r_0',\n",
    "#     'r0',\n",
    "#     'reproductive'\n",
    "# ]"
   ]
  },
  {
   "cell_type": "code",
   "execution_count": 95,
   "metadata": {},
   "outputs": [],
   "source": [
    "# for i, item in enumerate(json_list):\n",
    "#     print(i)\n",
    "#     body_text = item['body_text']\n",
    "#     for sub_item in body_text:\n",
    "#         found = False\n",
    "#         for cs in candidate_sections:\n",
    "#             if cs in sub_item['section'].lower():\n",
    "#                 found = True\n",
    "#         if found:\n",
    "#             print(sub_item['section'])\n",
    "#             print(sub_item['text'])\n",
    "#             print()\n",
    "#     print()"
   ]
  },
  {
   "cell_type": "code",
   "execution_count": 96,
   "metadata": {},
   "outputs": [],
   "source": [
    "# for i, item in enumerate(json_list):\n",
    "#     print(i)\n",
    "#     body_text = item['body_text']\n",
    "#     for sub_item in body_text:\n",
    "#         if sub_item['section'] in ['Methods and Results', 'Results', 'Conclusions']:\n",
    "#             print(sub_item['text'])\n",
    "#     print()"
   ]
  },
  {
   "cell_type": "markdown",
   "metadata": {},
   "source": [
    "# Output\n",
    "\n",
    "## Covid-19 papers only"
   ]
  },
  {
   "cell_type": "code",
   "execution_count": 97,
   "metadata": {},
   "outputs": [
    {
     "name": "stdout",
     "output_type": "stream",
     "text": [
      "Outputting 2473 records to thematic_tagging_output_covid19_only.csv\n"
     ]
    }
   ],
   "source": [
    "filename = 'thematic_tagging_output_covid19_only.csv'\n",
    "print(f'Outputting {df.tag_disease_covid19.sum()} records to {filename}')\n",
    "df[df.tag_disease_covid19].to_csv(filename, index=False)"
   ]
  },
  {
   "cell_type": "markdown",
   "metadata": {},
   "source": [
    "## Covid-19 papers x questions\n",
    "\n",
    "### Risk factors"
   ]
  },
  {
   "cell_type": "code",
   "execution_count": 98,
   "metadata": {},
   "outputs": [
    {
     "name": "stdout",
     "output_type": "stream",
     "text": [
      "Outputting 355 records to thematic_tagging_output_risk_factors.csv\n"
     ]
    }
   ],
   "source": [
    "file_filter = df.tag_disease_covid19 & df.tag_risk_generic\n",
    "filename = 'thematic_tagging_output_risk_factors.csv'\n",
    "print(f'Outputting {file_filter.sum()} records to {filename}')\n",
    "df[file_filter].to_csv(filename, index=False)"
   ]
  },
  {
   "cell_type": "markdown",
   "metadata": {},
   "source": [
    "### Diabetes"
   ]
  },
  {
   "cell_type": "code",
   "execution_count": 99,
   "metadata": {},
   "outputs": [
    {
     "name": "stdout",
     "output_type": "stream",
     "text": [
      "Outputting 57 records to thematic_tagging_output_risk_diabetes.csv\n"
     ]
    }
   ],
   "source": [
    "file_filter = df.tag_disease_covid19 & df.tag_risk_diabetes\n",
    "filename = 'thematic_tagging_output_risk_diabetes.csv'\n",
    "print(f'Outputting {file_filter.sum()} records to {filename}')\n",
    "df[file_filter].to_csv(filename, index=False)"
   ]
  },
  {
   "cell_type": "markdown",
   "metadata": {},
   "source": [
    "### Smoking"
   ]
  },
  {
   "cell_type": "code",
   "execution_count": 100,
   "metadata": {},
   "outputs": [
    {
     "name": "stdout",
     "output_type": "stream",
     "text": [
      "Outputting 15 records to thematic_tagging_output_risk_smoking.csv\n"
     ]
    }
   ],
   "source": [
    "file_filter = df.tag_disease_covid19 & df.tag_risk_smoking\n",
    "filename = 'thematic_tagging_output_risk_smoking.csv'\n",
    "print(f'Outputting {file_filter.sum()} records to {filename}')\n",
    "df[file_filter].to_csv(filename, index=False)"
   ]
  },
  {
   "cell_type": "markdown",
   "metadata": {},
   "source": [
    "### Climate"
   ]
  },
  {
   "cell_type": "code",
   "execution_count": 101,
   "metadata": {},
   "outputs": [
    {
     "name": "stdout",
     "output_type": "stream",
     "text": [
      "Outputting 16 records to thematic_tagging_output_climate.csv\n"
     ]
    }
   ],
   "source": [
    "file_filter = df.tag_disease_covid19 & df.tag_climate_generic\n",
    "filename = 'thematic_tagging_output_climate.csv'\n",
    "print(f'Outputting {file_filter.sum()} records to {filename}')\n",
    "df[file_filter].to_csv(filename, index=False)"
   ]
  },
  {
   "cell_type": "markdown",
   "metadata": {},
   "source": [
    "## Transmission / incubation"
   ]
  },
  {
   "cell_type": "code",
   "execution_count": 102,
   "metadata": {},
   "outputs": [
    {
     "name": "stdout",
     "output_type": "stream",
     "text": [
      "Outputting 591 records to thematic_tagging_output_transmission.csv\n"
     ]
    }
   ],
   "source": [
    "file_filter = df.tag_disease_covid19 & df.tag_transmission_generic\n",
    "filename = 'thematic_tagging_output_transmission.csv'\n",
    "print(f'Outputting {file_filter.sum()} records to {filename}')\n",
    "df[file_filter].to_csv(filename, index=False)"
   ]
  },
  {
   "cell_type": "markdown",
   "metadata": {},
   "source": [
    "## $R$ / $R_0$"
   ]
  },
  {
   "cell_type": "code",
   "execution_count": 103,
   "metadata": {},
   "outputs": [
    {
     "name": "stdout",
     "output_type": "stream",
     "text": [
      "Outputting 67 records to thematic_tagging_output_repr.csv\n"
     ]
    }
   ],
   "source": [
    "file_filter = df.tag_disease_covid19 & df.tag_transmission_repr\n",
    "filename = 'thematic_tagging_output_repr.csv'\n",
    "print(f'Outputting {file_filter.sum()} records to {filename}')\n",
    "df[file_filter].to_csv(filename, index=False)"
   ]
  },
  {
   "cell_type": "markdown",
   "metadata": {},
   "source": [
    "## Full dataset"
   ]
  },
  {
   "cell_type": "code",
   "execution_count": 104,
   "metadata": {},
   "outputs": [
    {
     "name": "stdout",
     "output_type": "stream",
     "text": [
      "Outputting 45774 records to thematic_tagging_output_full.csv\n"
     ]
    }
   ],
   "source": [
    "filename = 'thematic_tagging_output_full.csv'\n",
    "print(f'Outputting {len(df)} records to {filename}')\n",
    "df.to_csv(filename, index=False)"
   ]
  },
  {
   "cell_type": "markdown",
   "metadata": {},
   "source": [
    "# Filtering tool"
   ]
  },
  {
   "cell_type": "markdown",
   "metadata": {},
   "source": [
    "TO DO: Add tool for filtering on tags."
   ]
  }
 ],
 "metadata": {
  "kernelspec": {
   "display_name": "Python 3",
   "language": "python",
   "name": "python3"
  },
  "language_info": {
   "codemirror_mode": {
    "name": "ipython",
    "version": 3
   },
   "file_extension": ".py",
   "mimetype": "text/x-python",
   "name": "python",
   "nbconvert_exporter": "python",
   "pygments_lexer": "ipython3",
   "version": "3.6.6"
  }
 },
 "nbformat": 4,
 "nbformat_minor": 4
}
