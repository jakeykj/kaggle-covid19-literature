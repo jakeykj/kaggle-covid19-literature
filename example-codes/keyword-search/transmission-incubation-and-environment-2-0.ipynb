{
 "cells": [
  {
   "cell_type": "markdown",
   "metadata": {},
   "source": [
    "# **COVID-19 TASK - 1 transmission incubation environment 2.0**\n",
    "\n",
    "**REVISION - 2020-03-30 code cleaned, modularized and commented**\n",
    "\n",
    "![](https://sportslogohistory.com/wp-content/uploads/2018/09/georgia_tech_yellow_jackets_1991-pres-1.png)\n",
    "\n",
    "**PROBLEM:** When a new virus is discovered and causes a pandemic, it is important for scientists to get information coming from all scientific sources that may help them combat the pandemic.  The challenege, however, is that the number of scientific papers created is large and the papers are published very rapidly, making it nearly impossible for scientists to digest and understand important data in this mass of data.\n",
    "\n",
    "**SOLUTION:** Create an unsupervised scientific literature understanding system that can take in common terms and analyze a very large corpus of scientific papers and return highly relevant text excerpts from papers containing topical data relating to the common text inputed, allowing a single researcher or small team to gather targeted information and quickly and easily locate relevant text in the scientific papers to answer important questions about the new virus from a large corpus of documents.\n",
    "\n",
    "**APPROACH:** The newest implementation outlined:\n",
    "- open the meta CSV file in a dataframe - 44K entries\n",
    "- drop the duplicates by abstract\n",
    "- loop (comprehension) a list of lists for the keyword for searches. eg. search=[['incubation','period','range']]\n",
    "- stem the keywords so incubation becomes incubat etc.\n",
    "- append indpendently - different variations of corona references - (covid, cov, -cov, hcov) to the keywords avoids pulling older research\n",
    "- query function in pandas to query the above terms with the keywords - the abstract has to have all the keywords and at least one of (covid, cov, -cov, hcov) \n",
    "- drop the duplicates in the df again after the queries\n",
    "- caclulate a relevance score for all the abstracts in the query result df\n",
    "- raw_score = total count of the keywords in the abstract\n",
    "- final_score = (raw_score/len(abstract))*raw_score\n",
    "- sort the df on the final_score ascending=False (best on top)\n",
    "- drop rows with a relevance score < .02\n",
    "- parse the relevant abstarcts into sentences split('. ') works well.\n",
    "- test if keywords are in the sentences\n",
    "- if sentence has all keywords, it is added to the df for display.\n",
    "- if you are seeking statistics in the data, adding % to the search terms works well\n",
    "- df with search results displayed in HTML - currently limiting results to 3 for ease of scanning\n",
    "\n",
    "**Pros:** Currently the system is a very simple **(as Einstein said \"make it as simple as possible, but no simpler\")**, but quite effective solutiuon to providing insight on topical queries.  The code is easy to read and simple to understand.\n",
    "\n",
    "**Cons:** Currently the system requires some human understanding in crafting keyword combinations, however, the recent relevance measure changes and stemming of keywords, have made it so the keywords can be very close to the NL questions and return very good results.\n"
   ]
  },
  {
   "cell_type": "code",
   "execution_count": 1,
   "metadata": {
    "_cell_guid": "b1076dfc-b9ad-4769-8c92-a6c4dae69d19",
    "_kg_hide-input": true,
    "_uuid": "8f2839f25d086af736a60e9eeb907d3b93b6e0e5"
   },
   "outputs": [
    {
     "name": "stdout",
     "output_type": "stream",
     "text": [
      "(45774, 5)\n",
      "(34776, 5)\n"
     ]
    },
    {
     "data": {
      "text/html": [
       "<div>\n",
       "<style scoped>\n",
       "    .dataframe tbody tr th:only-of-type {\n",
       "        vertical-align: middle;\n",
       "    }\n",
       "\n",
       "    .dataframe tbody tr th {\n",
       "        vertical-align: top;\n",
       "    }\n",
       "\n",
       "    .dataframe thead th {\n",
       "        text-align: right;\n",
       "    }\n",
       "</style>\n",
       "<table border=\"1\" class=\"dataframe\">\n",
       "  <thead>\n",
       "    <tr style=\"text-align: right;\">\n",
       "      <th></th>\n",
       "      <th>title</th>\n",
       "      <th>doi</th>\n",
       "      <th>abstract</th>\n",
       "      <th>publish_time</th>\n",
       "      <th>authors</th>\n",
       "    </tr>\n",
       "  </thead>\n",
       "  <tbody>\n",
       "    <tr>\n",
       "      <th>0</th>\n",
       "      <td>SIANN: Strain Identification by Alignment to N...</td>\n",
       "      <td>10.1101/001727</td>\n",
       "      <td>next-generation sequencing is increasingly bei...</td>\n",
       "      <td>2014-01-10</td>\n",
       "      <td>Samuel Minot; Stephen D Turner; Krista L Ternu...</td>\n",
       "    </tr>\n",
       "    <tr>\n",
       "      <th>1</th>\n",
       "      <td>Spatial epidemiology of networked metapopulati...</td>\n",
       "      <td>10.1101/003889</td>\n",
       "      <td>an emerging disease is one infectious epidemic...</td>\n",
       "      <td>2014-06-04</td>\n",
       "      <td>Lin WANG; Xiang Li</td>\n",
       "    </tr>\n",
       "    <tr>\n",
       "      <th>2</th>\n",
       "      <td>Sequencing of the human IG light chain loci fr...</td>\n",
       "      <td>10.1101/006866</td>\n",
       "      <td>germline variation at immunoglobulin gene (ig)...</td>\n",
       "      <td>2014-07-03</td>\n",
       "      <td>Corey T Watson; Karyn Meltz Steinberg; Tina A ...</td>\n",
       "    </tr>\n",
       "    <tr>\n",
       "      <th>3</th>\n",
       "      <td>Bayesian mixture analysis for metagenomic comm...</td>\n",
       "      <td>10.1101/007476</td>\n",
       "      <td>deep sequencing of clinical samples is now an ...</td>\n",
       "      <td>2014-07-25</td>\n",
       "      <td>Sofia Morfopoulou; Vincent Plagnol</td>\n",
       "    </tr>\n",
       "    <tr>\n",
       "      <th>4</th>\n",
       "      <td>Mapping a viral phylogeny onto outbreak trees ...</td>\n",
       "      <td>10.1101/010389</td>\n",
       "      <td>developing methods to reconstruct transmission...</td>\n",
       "      <td>2014-11-11</td>\n",
       "      <td>Stephen P Velsko; Jonathan E Allen</td>\n",
       "    </tr>\n",
       "  </tbody>\n",
       "</table>\n",
       "</div>"
      ],
      "text/plain": [
       "                                               title             doi  \\\n",
       "0  SIANN: Strain Identification by Alignment to N...  10.1101/001727   \n",
       "1  Spatial epidemiology of networked metapopulati...  10.1101/003889   \n",
       "2  Sequencing of the human IG light chain loci fr...  10.1101/006866   \n",
       "3  Bayesian mixture analysis for metagenomic comm...  10.1101/007476   \n",
       "4  Mapping a viral phylogeny onto outbreak trees ...  10.1101/010389   \n",
       "\n",
       "                                            abstract publish_time  \\\n",
       "0  next-generation sequencing is increasingly bei...   2014-01-10   \n",
       "1  an emerging disease is one infectious epidemic...   2014-06-04   \n",
       "2  germline variation at immunoglobulin gene (ig)...   2014-07-03   \n",
       "3  deep sequencing of clinical samples is now an ...   2014-07-25   \n",
       "4  developing methods to reconstruct transmission...   2014-11-11   \n",
       "\n",
       "                                             authors  \n",
       "0  Samuel Minot; Stephen D Turner; Krista L Ternu...  \n",
       "1                                 Lin WANG; Xiang Li  \n",
       "2  Corey T Watson; Karyn Meltz Steinberg; Tina A ...  \n",
       "3                 Sofia Morfopoulou; Vincent Plagnol  \n",
       "4                 Stephen P Velsko; Jonathan E Allen  "
      ]
     },
     "execution_count": 1,
     "metadata": {},
     "output_type": "execute_result"
    }
   ],
   "source": [
    "import numpy as np # linear algebra\n",
    "import pandas as pd # data processing, CSV file I/O (e.g. pd.read_csv)\n",
    "\n",
    "# load the meta data from the CSV file using 3 columns (abstract, title, authors),\n",
    "df=pd.read_csv('/kaggle/input/CORD-19-research-challenge/metadata.csv', usecols=['title','abstract','authors','doi','publish_time'])\n",
    "print (df.shape)\n",
    "#drop duplicate abstracts\n",
    "df = df.drop_duplicates(subset='title', keep=\"first\")\n",
    "#drop NANs \n",
    "df=df.dropna()\n",
    "# convert abstracts to lowercase\n",
    "df[\"abstract\"] = df[\"abstract\"].str.lower()\n",
    "#show 5 lines of the new dataframe\n",
    "print (df.shape)\n",
    "df.head()"
   ]
  },
  {
   "cell_type": "code",
   "execution_count": 2,
   "metadata": {
    "_cell_guid": "79c7e3d0-c299-4dcb-8224-4455121ee9b0",
    "_kg_hide-input": true,
    "_uuid": "d629ff2d2480ee46fbb7e2d37f6b5fab8052498a"
   },
   "outputs": [
    {
     "data": {
      "text/html": [
       "<h1>Task 1: What is known about transmission, incubation, and environmental stability?</h1>"
      ],
      "text/plain": [
       "<IPython.core.display.HTML object>"
      ]
     },
     "metadata": {},
     "output_type": "display_data"
    },
    {
     "data": {
      "text/html": [
       "<h3>Results currently limited to two (2) for ease of scanning</h3>"
      ],
      "text/plain": [
       "<IPython.core.display.HTML object>"
      ]
     },
     "metadata": {},
     "output_type": "display_data"
    },
    {
     "data": {
      "text/html": [
       "<h3>Q: What is the range of incubation periods for the disease in humans?</h3>"
      ],
      "text/plain": [
       "<IPython.core.display.HTML object>"
      ]
     },
     "metadata": {},
     "output_type": "display_data"
    },
    {
     "data": {
      "text/html": [
       "<table border=\"1\" class=\"dataframe\">\n",
       "  <thead>\n",
       "    <tr style=\"text-align: right;\">\n",
       "      <th>pub_date</th>\n",
       "      <th>authors</th>\n",
       "      <th>title</th>\n",
       "      <th>excerpt</th>\n",
       "    </tr>\n",
       "  </thead>\n",
       "  <tbody>\n",
       "    <tr>\n",
       "      <td>2020-03-18</td>\n",
       "      <td>Xue et al.</td>\n",
       "      <td><p align=\"left\"><a href=\"https://doi.org/10.1101/2020.03.15.20036533\">Is a 14-day quarantine period optimal for effectively controlling coronavirus disease 2019 (COVID-19)?</a></p></td>\n",
       "      <td><p fontsize=tiny\" align=\"left\"><br><br>Results the full range of incubation periods of the covid-19 cases ranged from 0 to 33 days among 2015 cases.</p></td>\n",
       "    </tr>\n",
       "    <tr>\n",
       "      <td>2020-03-08</td>\n",
       "      <td>Wei et al.</td>\n",
       "      <td><p align=\"left\"><a href=\"https://doi.org/10.1101/2020.03.06.20031955\">Transmission of corona virus disease 2019 during the incubation period may lead to a quarantine loophole</a></p></td>\n",
       "      <td><p fontsize=tiny\" align=\"left\"><br><br>Results: the estimated mean incubation period for covid-19 was 4.9 days (95% confidence interval [ci], 4.4 to 5.4) days, ranging from 0.8 to 11.1 days (2.5th to 97.5th percentile).</p></td>\n",
       "    </tr>\n",
       "  </tbody>\n",
       "</table>"
      ],
      "text/plain": [
       "<IPython.core.display.HTML object>"
      ]
     },
     "metadata": {},
     "output_type": "display_data"
    },
    {
     "data": {
      "text/html": [
       "<h3>Q: How long are individuals are contagious?</h3>"
      ],
      "text/plain": [
       "<IPython.core.display.HTML object>"
      ]
     },
     "metadata": {},
     "output_type": "display_data"
    },
    {
     "data": {
      "text/html": [
       "<table border=\"1\" class=\"dataframe\">\n",
       "  <thead>\n",
       "    <tr style=\"text-align: right;\">\n",
       "      <th>pub_date</th>\n",
       "      <th>authors</th>\n",
       "      <th>title</th>\n",
       "      <th>excerpt</th>\n",
       "    </tr>\n",
       "  </thead>\n",
       "  <tbody>\n",
       "    <tr>\n",
       "      <td>2018-11-01</td>\n",
       "      <td>Eichenberger, et al.</td>\n",
       "      <td><p align=\"left\"><a href=\"https://doi.org/10.1038/s41409-018-0386-z\">Incidence, significance, and persistence of human coronavirus infection in hematopoietic stem cell transplant recipients</a></p></td>\n",
       "      <td><p fontsize=tiny\" align=\"left\"><br><br>Twenty-seven (59%) patients who underwent repeat np swab had persistent viral shedding for ≥21 days, with a median duration of 4 weeks of viral shedding.</p></td>\n",
       "    </tr>\n",
       "    <tr>\n",
       "      <td>2020-03-11</td>\n",
       "      <td>Zhou, et al.</td>\n",
       "      <td><p align=\"left\"><a href=\"https://doi.org/10.1016/s0140-6736(20)30566-3\">Clinical course and risk factors for mortality of adult inpatients with COVID-19 in Wuhan, China: a retrospective cohort study</a></p></td>\n",
       "      <td><p fontsize=tiny\" align=\"left\"><br><br>Median duration of viral shedding was 20·0 days (iqr 17·0–24·0) in survivors, but sars-cov-2 was detectable until death in non-survivors.<br><br>The longest observed duration of viral shedding in survivors was 37 days.</p></td>\n",
       "    </tr>\n",
       "  </tbody>\n",
       "</table>"
      ],
      "text/plain": [
       "<IPython.core.display.HTML object>"
      ]
     },
     "metadata": {},
     "output_type": "display_data"
    },
    {
     "data": {
      "text/html": [
       "<h3>Q: How long are individuals are contagious, even after recovery.</h3>"
      ],
      "text/plain": [
       "<IPython.core.display.HTML object>"
      ]
     },
     "metadata": {},
     "output_type": "display_data"
    },
    {
     "data": {
      "text/html": [
       "<table border=\"1\" class=\"dataframe\">\n",
       "  <thead>\n",
       "    <tr style=\"text-align: right;\">\n",
       "      <th>pub_date</th>\n",
       "      <th>authors</th>\n",
       "      <th>title</th>\n",
       "      <th>excerpt</th>\n",
       "    </tr>\n",
       "  </thead>\n",
       "  <tbody>\n",
       "    <tr>\n",
       "      <td>2020-01-01</td>\n",
       "      <td>Fung, et al.</td>\n",
       "      <td><p align=\"left\"><a href=\"https://doi.org/10.1080/22221751.2020.1735265\">A tug-of-war between severe acute respiratory syndrome coronavirus 2 and host antiviral defence: lessons from other pathogenic viruses</a></p></td>\n",
       "      <td><p fontsize=tiny\" align=\"left\"><br><br>Important questions concerning the interaction between sars-cov-2 and host antiviral defence, including asymptomatic and presymptomatic virus shedding, are also discussed.</p></td>\n",
       "    </tr>\n",
       "    <tr>\n",
       "      <td>2020-03-16</td>\n",
       "      <td>Yuen, et al.</td>\n",
       "      <td><p align=\"left\"><a href=\"https://doi.org/10.1186/s13578-020-00404-4\">SARS-CoV-2 and COVID-19: The most important research questions</a></p></td>\n",
       "      <td><p fontsize=tiny\" align=\"left\"><br><br>Here we highlight nine most important research questions concerning virus transmission, asymptomatic and presymptomatic virus shedding, diagnosis, treatment, vaccine development, origin of virus and viral pathogenesis.</p></td>\n",
       "    </tr>\n",
       "  </tbody>\n",
       "</table>"
      ],
      "text/plain": [
       "<IPython.core.display.HTML object>"
      ]
     },
     "metadata": {},
     "output_type": "display_data"
    },
    {
     "data": {
      "text/html": [
       "<h3>Q: Does the range of incubation period vary across age groups?</h3>"
      ],
      "text/plain": [
       "<IPython.core.display.HTML object>"
      ]
     },
     "metadata": {},
     "output_type": "display_data"
    },
    {
     "data": {
      "text/html": [
       "<table border=\"1\" class=\"dataframe\">\n",
       "  <thead>\n",
       "    <tr style=\"text-align: right;\">\n",
       "      <th>pub_date</th>\n",
       "      <th>authors</th>\n",
       "      <th>title</th>\n",
       "      <th>excerpt</th>\n",
       "    </tr>\n",
       "  </thead>\n",
       "  <tbody>\n",
       "    <tr>\n",
       "      <td>2020-02-29</td>\n",
       "      <td>Henry et al.</td>\n",
       "      <td><p align=\"left\"><a href=\"https://doi.org/10.1101/2020.02.24.20027474\">Estimate the incubation period of coronavirus 2019 (COVID-19)</a></p></td>\n",
       "      <td><p fontsize=tiny\" align=\"left\"><br><br>We found that the incubation periods of the groups with age>=40 years and age<40 years demonstrated a statistically significant difference.</p></td>\n",
       "    </tr>\n",
       "  </tbody>\n",
       "</table>"
      ],
      "text/plain": [
       "<IPython.core.display.HTML object>"
      ]
     },
     "metadata": {},
     "output_type": "display_data"
    },
    {
     "data": {
      "text/html": [
       "<h3>Q: Does the range of incubation period vary with children?</h3>"
      ],
      "text/plain": [
       "<IPython.core.display.HTML object>"
      ]
     },
     "metadata": {},
     "output_type": "display_data"
    },
    {
     "data": {
      "text/html": [
       "<table border=\"1\" class=\"dataframe\">\n",
       "  <thead>\n",
       "    <tr style=\"text-align: right;\">\n",
       "      <th>pub_date</th>\n",
       "      <th>authors</th>\n",
       "      <th>title</th>\n",
       "      <th>excerpt</th>\n",
       "    </tr>\n",
       "  </thead>\n",
       "  <tbody>\n",
       "    <tr>\n",
       "      <td>2020-03-18</td>\n",
       "      <td>Xue et al.</td>\n",
       "      <td><p align=\"left\"><a href=\"https://doi.org/10.1101/2020.03.15.20036533\">Is a 14-day quarantine period optimal for effectively controlling coronavirus disease 2019 (COVID-19)?</a></p></td>\n",
       "      <td><p fontsize=tiny\" align=\"left\"><br><br>The median incubation period of both male and female adults was similar (7-day) but significantly shorter than that (9-day) of child cases (p=0.02).</p></td>\n",
       "    </tr>\n",
       "  </tbody>\n",
       "</table>"
      ],
      "text/plain": [
       "<IPython.core.display.HTML object>"
      ]
     },
     "metadata": {},
     "output_type": "display_data"
    },
    {
     "data": {
      "text/html": [
       "<h3>Q: Does the range of incubation period vary based on underlying health?</h3>"
      ],
      "text/plain": [
       "<IPython.core.display.HTML object>"
      ]
     },
     "metadata": {},
     "output_type": "display_data"
    },
    {
     "name": "stdout",
     "output_type": "stream",
     "text": [
      "No reliable answer could be located in the literature\n"
     ]
    },
    {
     "data": {
      "text/html": [
       "<h3>Q: What do we know about the basic reproduction number?</h3>"
      ],
      "text/plain": [
       "<IPython.core.display.HTML object>"
      ]
     },
     "metadata": {},
     "output_type": "display_data"
    },
    {
     "data": {
      "text/html": [
       "<table border=\"1\" class=\"dataframe\">\n",
       "  <thead>\n",
       "    <tr style=\"text-align: right;\">\n",
       "      <th>pub_date</th>\n",
       "      <th>authors</th>\n",
       "      <th>title</th>\n",
       "      <th>excerpt</th>\n",
       "    </tr>\n",
       "  </thead>\n",
       "  <tbody>\n",
       "    <tr>\n",
       "      <td>2020-02-20</td>\n",
       "      <td>Jinghua et al.</td>\n",
       "      <td><p align=\"left\"><a href=\"https://doi.org/10.1101/2020.02.18.20024315\">Estimation of the epidemic properties of the 2019 novel coronavirus: A mathematical modeling study</a></p></td>\n",
       "      <td><p fontsize=tiny\" align=\"left\"><br><br>Findings before the closure of wuhan city the basic reproduction number of covid-19 was 4.38 (95% ci: 3.63-5.13), dropping to 3.41 (95% ci: 3.16-3.65) after the closure of wuhan city.<br><br>Over the entire epidemic period covid-19 had a basic reproduction number of 3.39 (95% ci: 3.09-3.70), indicating it has a very high transmissibility.</p></td>\n",
       "    </tr>\n",
       "    <tr>\n",
       "      <td>2020-03-20</td>\n",
       "      <td>Wangping et al.</td>\n",
       "      <td><p align=\"left\"><a href=\"https://doi.org/10.1101/2020.03.18.20038570\">Extended SIR prediction of the epidemics trend of COVID-19 in Italy and compared with Hunan, China</a></p></td>\n",
       "      <td><p fontsize=tiny\" align=\"left\"><br><br>The basic reproductive number was estimated using markov chain monte carlo methods and presented using the resulting posterior mean and 95% credible interval (ci).<br><br>Results: in the esir model, we estimated that the basic reproductive number for covid 19 was respectively 4.10 (95% ci: 2.15 to 6.77) in italy and 3.15(95% ci: 1.71 to 5.21) in hunan.</p></td>\n",
       "    </tr>\n",
       "  </tbody>\n",
       "</table>"
      ],
      "text/plain": [
       "<IPython.core.display.HTML object>"
      ]
     },
     "metadata": {},
     "output_type": "display_data"
    },
    {
     "data": {
      "text/html": [
       "<h3>Q: What is the prevalance of asymptomatic transmission?</h3>"
      ],
      "text/plain": [
       "<IPython.core.display.HTML object>"
      ]
     },
     "metadata": {},
     "output_type": "display_data"
    },
    {
     "data": {
      "text/html": [
       "<table border=\"1\" class=\"dataframe\">\n",
       "  <thead>\n",
       "    <tr style=\"text-align: right;\">\n",
       "      <th>pub_date</th>\n",
       "      <th>authors</th>\n",
       "      <th>title</th>\n",
       "      <th>excerpt</th>\n",
       "    </tr>\n",
       "  </thead>\n",
       "  <tbody>\n",
       "    <tr>\n",
       "      <td>2020-03-23</td>\n",
       "      <td>Koo, et al.</td>\n",
       "      <td><p align=\"left\"><a href=\"https://doi.org/10.1016/s1473-3099(20)30162-6\">Interventions to mitigate early spread of SARS-CoV-2 in Singapore: a modelling study</a></p></td>\n",
       "      <td><p fontsize=tiny\" align=\"left\"><br><br>Using this model, we estimated the cumulative number of sars-cov-2 infections at 80 days, after detection of 100 cases of community transmission, under three infectivity scenarios (basic reproduction number [r 0] of 1·5, 2·0, or 2·5) and assuming 7·5% of infections are asymptomatic.<br><br>We also did sensitivity analyses by altering the asymptomatic fraction of infections (22·7%, 30·0%, 40·0%, and 50·0%) to compare outbreak sizes under the same control measures.<br><br>Assuming increasing asymptomatic fractions up to 50·0%, up to 277 000 infections were estimated to occur at day 80 with the combined intervention relative to 1800 for the baseline at r 0 of 1·5.</p></td>\n",
       "    </tr>\n",
       "    <tr>\n",
       "      <td>2020-03-08</td>\n",
       "      <td>Cheng, et al.</td>\n",
       "      <td><p align=\"left\"><a href=\"https://doi.org/10.5694/mja2.50530\">An outbreak of <scp>COVID</scp> ‐19 caused by a new coronavirus: what we know so far</a></p></td>\n",
       "      <td><p fontsize=tiny\" align=\"left\"><br><br>While reports suggest that asymptomatic infection and transmission may result from minimally symptomatic cases, the contribution of this to transmission is not yet known.8 careful analysis of early data suggests that the mean incubation period is 6 days, with a range of up to 14 days.9 reports of large outbreaks, particularly associated with hospitals and closed communities, raise the possibility of “superspreading” events, a feature of previous coronavirus outbreaks.10 the importance of infection control is also reinforced by a report that 41% of cases in wuhan were acquired nosocomially (including 40 health care workers and 17 patients).4 as at 26 february 2020, there were 23 confirmed cases of covid‐19 in australia, across five jurisdictions.</p></td>\n",
       "    </tr>\n",
       "  </tbody>\n",
       "</table>"
      ],
      "text/plain": [
       "<IPython.core.display.HTML object>"
      ]
     },
     "metadata": {},
     "output_type": "display_data"
    },
    {
     "data": {
      "text/html": [
       "<h3>Q: What do we know about asymptomatic transmission in children?</h3>"
      ],
      "text/plain": [
       "<IPython.core.display.HTML object>"
      ]
     },
     "metadata": {},
     "output_type": "display_data"
    },
    {
     "data": {
      "text/html": [
       "<table border=\"1\" class=\"dataframe\">\n",
       "  <thead>\n",
       "    <tr style=\"text-align: right;\">\n",
       "      <th>pub_date</th>\n",
       "      <th>authors</th>\n",
       "      <th>title</th>\n",
       "      <th>excerpt</th>\n",
       "    </tr>\n",
       "  </thead>\n",
       "  <tbody>\n",
       "    <tr>\n",
       "      <td>2012-03-01</td>\n",
       "      <td>Prill, et al.</td>\n",
       "      <td><p align=\"left\"><a href=\"https://doi.org/10.1097/inf.0b013e31823e07fe\">Human Coronavirus in Young Children Hospitalized for Acute Respiratory Illness and Asymptomatic Controls</a></p></td>\n",
       "      <td><p fontsize=tiny\" align=\"left\"><br><br>Objective: to compare the prevalence of hcov species among children hospitalized for acute respiratory illness and/or fever with asymptomatic controls and to assess the severity of outcomes among hospitalized children with hcov compared with other respiratory viruses.</p></td>\n",
       "    </tr>\n",
       "    <tr>\n",
       "      <td>2016-05-09</td>\n",
       "      <td>Kenmoe, et al.</td>\n",
       "      <td><p align=\"left\"><a href=\"https://doi.org/10.1111/irv.12391\">Viral etiology of severe acute respiratory infections in hospitalized children in Cameroon, 2011–2013</a></p></td>\n",
       "      <td><p fontsize=tiny\" align=\"left\"><br><br>Nevertheless, additional studies evaluating asymptomatic cameroonian children will be important in understanding the relationship between viral carriage and disease.</p></td>\n",
       "    </tr>\n",
       "  </tbody>\n",
       "</table>"
      ],
      "text/plain": [
       "<IPython.core.display.HTML object>"
      ]
     },
     "metadata": {},
     "output_type": "display_data"
    },
    {
     "data": {
      "text/html": [
       "<h3>Q: What do we know about seasonality of transmission?</h3>"
      ],
      "text/plain": [
       "<IPython.core.display.HTML object>"
      ]
     },
     "metadata": {},
     "output_type": "display_data"
    },
    {
     "data": {
      "text/html": [
       "<table border=\"1\" class=\"dataframe\">\n",
       "  <thead>\n",
       "    <tr style=\"text-align: right;\">\n",
       "      <th>pub_date</th>\n",
       "      <th>authors</th>\n",
       "      <th>title</th>\n",
       "      <th>excerpt</th>\n",
       "    </tr>\n",
       "  </thead>\n",
       "  <tbody>\n",
       "    <tr>\n",
       "      <td>2020-02-14</td>\n",
       "      <td>Leon et al.</td>\n",
       "      <td><p align=\"left\"><a href=\"https://doi.org/10.1101/2020.02.12.20022566\">A spatial model of CoVID-19 transmission in England and Wales: early spread and peak timing</a></p></td>\n",
       "      <td><p fontsize=tiny\" align=\"left\"><br><br>Seasonal changes in transmission rate substantially impact the timing and size of the epidemic peak, as well as the total attack rate.<br><br>Seasonal changes in transmission rate could shift the timing of the peak into winter months, which will have important implications for healthcare capacity planning.</p></td>\n",
       "    </tr>\n",
       "    <tr>\n",
       "      <td>2020-03-24</td>\n",
       "      <td>Stephen et al.</td>\n",
       "      <td><p align=\"left\"><a href=\"https://doi.org/10.1101/2020.03.22.20041079\">Social distancing strategies for curbing the COVID-19 epidemic</a></p></td>\n",
       "      <td><p fontsize=tiny\" align=\"left\"><br><br>The amount of social distancing needed to curb the sars-cov-2 epidemic in the context of seasonally varying transmission remains unclear.<br><br>Seasonal variation in transmission will facilitate epidemic control during the summer months but could lead to an intense resurgence in the autumn.</p></td>\n",
       "    </tr>\n",
       "  </tbody>\n",
       "</table>"
      ],
      "text/plain": [
       "<IPython.core.display.HTML object>"
      ]
     },
     "metadata": {},
     "output_type": "display_data"
    },
    {
     "data": {
      "text/html": [
       "<h3>Q: Informing decontamination based on physical science of the coronavirus?</h3>"
      ],
      "text/plain": [
       "<IPython.core.display.HTML object>"
      ]
     },
     "metadata": {},
     "output_type": "display_data"
    },
    {
     "data": {
      "text/html": [
       "<table border=\"1\" class=\"dataframe\">\n",
       "  <thead>\n",
       "    <tr style=\"text-align: right;\">\n",
       "      <th>pub_date</th>\n",
       "      <th>authors</th>\n",
       "      <th>title</th>\n",
       "      <th>excerpt</th>\n",
       "    </tr>\n",
       "  </thead>\n",
       "  <tbody>\n",
       "    <tr>\n",
       "      <td>2020-02-27</td>\n",
       "      <td>Yanfang et al.</td>\n",
       "      <td><p align=\"left\"><a href=\"https://doi.org/10.1101/2020.02.25.20028043\">Clinical Data on Hospital Environmental Hygiene Monitoring and Medical Staff Protection during the Coronavirus Disease 2019 Outbreak</a></p></td>\n",
       "      <td><p fontsize=tiny\" align=\"left\"><br><br>Objective: to detect the presence of covid-19 in the samples from the area at risk of contamination in the first hospital of jilin university.</p></td>\n",
       "    </tr>\n",
       "    <tr>\n",
       "      <td>2020-03-16</td>\n",
       "      <td>Guangming et al.</td>\n",
       "      <td><p align=\"left\"><a href=\"https://doi.org/10.1101/2020.03.11.20034546\">Environmental contamination of the SARS-CoV-2 in healthcare premises: An urgent call for protection for healthcare workers</a></p></td>\n",
       "      <td><p fontsize=tiny\" align=\"left\"><br><br>Objective to investigate the extent to which sars-cov-2 contaminates healthcare settings, including to identify function zones of the hospital with the highest contamination levels and to identify the most contaminated objects, and personal protection equipment (ppe) in wuhan, china.<br><br>The most contaminated objects are self-service printers (20.0%), desktop/keyboard (16.8%), and doorknob (16.0%).<br><br>Conclusions and relevance many surfaces were contaminated with sars-cov-2 across the hospital in various patient care areas, commonly used objects, medical equipment, and ppe.</p></td>\n",
       "    </tr>\n",
       "  </tbody>\n",
       "</table>"
      ],
      "text/plain": [
       "<IPython.core.display.HTML object>"
      ]
     },
     "metadata": {},
     "output_type": "display_data"
    },
    {
     "data": {
      "text/html": [
       "<h3>Q: What do we know about stability of the virus in environmental conditions?</h3>"
      ],
      "text/plain": [
       "<IPython.core.display.HTML object>"
      ]
     },
     "metadata": {},
     "output_type": "display_data"
    },
    {
     "data": {
      "text/html": [
       "<table border=\"1\" class=\"dataframe\">\n",
       "  <thead>\n",
       "    <tr style=\"text-align: right;\">\n",
       "      <th>pub_date</th>\n",
       "      <th>authors</th>\n",
       "      <th>title</th>\n",
       "      <th>excerpt</th>\n",
       "    </tr>\n",
       "  </thead>\n",
       "  <tbody>\n",
       "    <tr>\n",
       "      <td>2012-11-12</td>\n",
       "      <td>Geller, et al.</td>\n",
       "      <td><p align=\"left\"><a href=\"https://doi.org/10.3390/v4113044\">Human Coronaviruses: Insights into Environmental Resistance and Its Influence on the Development of New Antiseptic Strategies</a></p></td>\n",
       "      <td><p fontsize=tiny\" align=\"left\"><br><br>Hcov 229e, hcov oc43 (also known as betacoronavirus 1), nl63, hku1 or sars-cov) to survive in different environmental conditions (e.g.</p></td>\n",
       "    </tr>\n",
       "    <tr>\n",
       "      <td>2020-03-24</td>\n",
       "      <td>Hoe et al.</td>\n",
       "      <td><p align=\"left\"><a href=\"https://doi.org/10.1016/j.shaw.2020.03.001\">Preventing intra-hospital infection and transmission of COVID-19 in healthcare workers</a></p></td>\n",
       "      <td><p fontsize=tiny\" align=\"left\"><br><br>Based on the systems engineering initiative for patient safety model, the strategies and measures to protect healthcare workers in an acute tertiary hospital are described along the domains of work task, technologies and tools, work environmental factors, and organizational conditions.</p></td>\n",
       "    </tr>\n",
       "  </tbody>\n",
       "</table>"
      ],
      "text/plain": [
       "<IPython.core.display.HTML object>"
      ]
     },
     "metadata": {},
     "output_type": "display_data"
    },
    {
     "data": {
      "text/html": [
       "<h3>Q: What do we know about persistence of the virus on various substrates? (e.g., nasal discharge, sputum, urine, fecal matter, blood)</h3>"
      ],
      "text/plain": [
       "<IPython.core.display.HTML object>"
      ]
     },
     "metadata": {},
     "output_type": "display_data"
    },
    {
     "data": {
      "text/html": [
       "<table border=\"1\" class=\"dataframe\">\n",
       "  <thead>\n",
       "    <tr style=\"text-align: right;\">\n",
       "      <th>pub_date</th>\n",
       "      <th>authors</th>\n",
       "      <th>title</th>\n",
       "      <th>excerpt</th>\n",
       "    </tr>\n",
       "  </thead>\n",
       "  <tbody>\n",
       "    <tr>\n",
       "      <td>2020-03-08</td>\n",
       "      <td>Roman et al.</td>\n",
       "      <td><p align=\"left\"><a href=\"https://doi.org/10.1101/2020.03.05.20030502\">Clinical presentation and virological assessment of hospitalized cases of coronavirus disease 2019 in a travel-associated transmission cluster</a></p></td>\n",
       "      <td><p fontsize=tiny\" align=\"left\"><br><br>Methods: we studied viral load courses by rt-pcr in oro- and nasopharyngeal swabs, sputum, stool, blood, and urine in nine hospitalized cases.</p></td>\n",
       "    </tr>\n",
       "  </tbody>\n",
       "</table>"
      ],
      "text/plain": [
       "<IPython.core.display.HTML object>"
      ]
     },
     "metadata": {},
     "output_type": "display_data"
    },
    {
     "data": {
      "text/html": [
       "<h3>Q: What do we know about persistence of the virus on various surfaces? (e,g., copper, stainless steel, plastic) </h3>"
      ],
      "text/plain": [
       "<IPython.core.display.HTML object>"
      ]
     },
     "metadata": {},
     "output_type": "display_data"
    },
    {
     "data": {
      "text/html": [
       "<table border=\"1\" class=\"dataframe\">\n",
       "  <thead>\n",
       "    <tr style=\"text-align: right;\">\n",
       "      <th>pub_date</th>\n",
       "      <th>authors</th>\n",
       "      <th>title</th>\n",
       "      <th>excerpt</th>\n",
       "    </tr>\n",
       "  </thead>\n",
       "  <tbody>\n",
       "    <tr>\n",
       "      <td>2020</td>\n",
       "      <td>Kampf, et al.</td>\n",
       "      <td><p align=\"left\"><a href=\"https://doi.org/10.1016/j.infpip.2020.100044\">Potential role of inanimate surfaces for the spread of coronaviruses and their inactivation with disinfectant agents</a></p></td>\n",
       "      <td><p fontsize=tiny\" align=\"left\"><br><br>In a recent review on the persistence of human and veterinary coronaviruses on inanimate surfaces it was shown that human coronaviruses such as severe acute respiratory syndrome (sars) coronavirus, middle east respiratory syndrome (mers) coronavirus or endemic human coronaviruses (hcov) can persist on inanimate surfaces like metal, glass or plastic for up to 9 days.</p></td>\n",
       "    </tr>\n",
       "    <tr>\n",
       "      <td>2020-03-31</td>\n",
       "      <td>Kampf, et al.</td>\n",
       "      <td><p align=\"left\"><a href=\"https://doi.org/10.1016/j.jhin.2020.01.022\">Persistence of coronaviruses on inanimate surfaces and their inactivation with biocidal agents</a></p></td>\n",
       "      <td><p fontsize=tiny\" align=\"left\"><br><br>We therefore reviewed the literature on all available information about the persistence of human and veterinary coronaviruses on inanimate surfaces as well as inactivation strategies with biocidal agents used for chemical disinfection, e.g.<br><br>The analysis of 22 studies reveals that human coronaviruses such as severe acute respiratory syndrome (sars) coronavirus, middle east respiratory syndrome (mers) coronavirus or endemic human coronaviruses (hcov) can persist on inanimate surfaces like metal, glass or plastic for up to 9 days, but can be efficiently inactivated by surface disinfection procedures with 62–71% ethanol, 0.5% hydrogen peroxide or 0.1% sodium hypochlorite within 1 minute.</p></td>\n",
       "    </tr>\n",
       "  </tbody>\n",
       "</table>"
      ],
      "text/plain": [
       "<IPython.core.display.HTML object>"
      ]
     },
     "metadata": {},
     "output_type": "display_data"
    },
    {
     "data": {
      "text/html": [
       "<h3>Q: What do we know about viral shedding duration?</h3>"
      ],
      "text/plain": [
       "<IPython.core.display.HTML object>"
      ]
     },
     "metadata": {},
     "output_type": "display_data"
    },
    {
     "data": {
      "text/html": [
       "<table border=\"1\" class=\"dataframe\">\n",
       "  <thead>\n",
       "    <tr style=\"text-align: right;\">\n",
       "      <th>pub_date</th>\n",
       "      <th>authors</th>\n",
       "      <th>title</th>\n",
       "      <th>excerpt</th>\n",
       "    </tr>\n",
       "  </thead>\n",
       "  <tbody>\n",
       "    <tr>\n",
       "      <td>2018-11-01</td>\n",
       "      <td>Eichenberger, et al.</td>\n",
       "      <td><p align=\"left\"><a href=\"https://doi.org/10.1038/s41409-018-0386-z\">Incidence, significance, and persistence of human coronavirus infection in hematopoietic stem cell transplant recipients</a></p></td>\n",
       "      <td><p fontsize=tiny\" align=\"left\"><br><br>Twenty-seven (59%) patients who underwent repeat np swab had persistent viral shedding for ≥21 days, with a median duration of 4 weeks of viral shedding.</p></td>\n",
       "    </tr>\n",
       "    <tr>\n",
       "      <td>2020-03-11</td>\n",
       "      <td>Zhou, et al.</td>\n",
       "      <td><p align=\"left\"><a href=\"https://doi.org/10.1016/s0140-6736(20)30566-3\">Clinical course and risk factors for mortality of adult inpatients with COVID-19 in Wuhan, China: a retrospective cohort study</a></p></td>\n",
       "      <td><p fontsize=tiny\" align=\"left\"><br><br>Median duration of viral shedding was 20·0 days (iqr 17·0–24·0) in survivors, but sars-cov-2 was detectable until death in non-survivors.<br><br>The longest observed duration of viral shedding in survivors was 37 days.</p></td>\n",
       "    </tr>\n",
       "  </tbody>\n",
       "</table>"
      ],
      "text/plain": [
       "<IPython.core.display.HTML object>"
      ]
     },
     "metadata": {},
     "output_type": "display_data"
    },
    {
     "data": {
      "text/html": [
       "<h3>Q: What do we know about viral shedding in fecal/stool?</h3>"
      ],
      "text/plain": [
       "<IPython.core.display.HTML object>"
      ]
     },
     "metadata": {},
     "output_type": "display_data"
    },
    {
     "data": {
      "text/html": [
       "<table border=\"1\" class=\"dataframe\">\n",
       "  <thead>\n",
       "    <tr style=\"text-align: right;\">\n",
       "      <th>pub_date</th>\n",
       "      <th>authors</th>\n",
       "      <th>title</th>\n",
       "      <th>excerpt</th>\n",
       "    </tr>\n",
       "  </thead>\n",
       "  <tbody>\n",
       "    <tr>\n",
       "      <td>2020-03-19</td>\n",
       "      <td>Ma, et al.</td>\n",
       "      <td><p align=\"left\"><a href=\"https://doi.org/10.1016/j.jmii.2020.03.010\">Do children need a longer time to shed SARS-CoV-2 in stool than adults?</a></p></td>\n",
       "      <td><p fontsize=tiny\" align=\"left\"><br><br>Abstract sars-cov-2 can be shed in the stool of patients in the recovery phase.</p></td>\n",
       "    </tr>\n",
       "    <tr>\n",
       "      <td>2020-03-08</td>\n",
       "      <td>Roman et al.</td>\n",
       "      <td><p align=\"left\"><a href=\"https://doi.org/10.1101/2020.03.05.20030502\">Clinical presentation and virological assessment of hospitalized cases of coronavirus disease 2019 in a travel-associated transmission cluster</a></p></td>\n",
       "      <td><p fontsize=tiny\" align=\"left\"><br><br>Sars-cov-2 can actively replicate in the upper respiratory tract, and is shed for a prolonged time after symptoms end, including in stool.</p></td>\n",
       "    </tr>\n",
       "  </tbody>\n",
       "</table>"
      ],
      "text/plain": [
       "<IPython.core.display.HTML object>"
      ]
     },
     "metadata": {},
     "output_type": "display_data"
    },
    {
     "data": {
      "text/html": [
       "<h3>Q: What do we know about viral shedding from nasopharynx?</h3>"
      ],
      "text/plain": [
       "<IPython.core.display.HTML object>"
      ]
     },
     "metadata": {},
     "output_type": "display_data"
    },
    {
     "data": {
      "text/html": [
       "<table border=\"1\" class=\"dataframe\">\n",
       "  <thead>\n",
       "    <tr style=\"text-align: right;\">\n",
       "      <th>pub_date</th>\n",
       "      <th>authors</th>\n",
       "      <th>title</th>\n",
       "      <th>excerpt</th>\n",
       "    </tr>\n",
       "  </thead>\n",
       "  <tbody>\n",
       "    <tr>\n",
       "      <td>2020-03-03</td>\n",
       "      <td>Young, et al.</td>\n",
       "      <td><p align=\"left\"><a href=\"https://doi.org/10.1001/jama.2020.3204\">Epidemiologic Features and Clinical Course of Patients Infected With SARS-CoV-2 in Singapore</a></p></td>\n",
       "      <td><p fontsize=tiny\" align=\"left\"><br><br>Clinical course was summarized, including requirement for supplemental oxygen and intensive care and use of empirical treatment with lopinavir-ritonavir.among the 18 hospitalized patients with pcr-confirmed sars-cov-2 infection (median age, 47 years; 9 [50%] women), clinical presentation was an upper respiratory tract infection in 12 (67%), and viral shedding from the nasopharynx was prolonged for 7 days or longer among 15 (83%).</p></td>\n",
       "    </tr>\n",
       "  </tbody>\n",
       "</table>"
      ],
      "text/plain": [
       "<IPython.core.display.HTML object>"
      ]
     },
     "metadata": {},
     "output_type": "display_data"
    },
    {
     "data": {
      "text/html": [
       "<h3>Q: What do we know about viral shedding in blood?</h3>"
      ],
      "text/plain": [
       "<IPython.core.display.HTML object>"
      ]
     },
     "metadata": {},
     "output_type": "display_data"
    },
    {
     "data": {
      "text/html": [
       "<table border=\"1\" class=\"dataframe\">\n",
       "  <thead>\n",
       "    <tr style=\"text-align: right;\">\n",
       "      <th>pub_date</th>\n",
       "      <th>authors</th>\n",
       "      <th>title</th>\n",
       "      <th>excerpt</th>\n",
       "    </tr>\n",
       "  </thead>\n",
       "  <tbody>\n",
       "    <tr>\n",
       "      <td>2020-03-03</td>\n",
       "      <td>Young, et al.</td>\n",
       "      <td><p align=\"left\"><a href=\"https://doi.org/10.1001/jama.2020.3204\">Epidemiologic Features and Clinical Course of Patients Infected With SARS-CoV-2 in Singapore</a></p></td>\n",
       "      <td><p fontsize=tiny\" align=\"left\"><br><br>Severe acute respiratory syndrome coronavirus 2 (sars-cov-2) emerged in wuhan, china, in december 2019 and has spread globally with sustained human-to-human transmission outside china.to report the initial experience in singapore with the epidemiologic investigation of this outbreak, clinical features, and management.descriptive case series of the first 18 patients diagnosed with polymerase chain reaction (pcr)–confirmed sars-cov-2 infection at 4 hospitals in singapore from january 23 to february 3, 2020; final follow-up date was february 25, 2020.confirmed sars-cov-2 infection.clinical, laboratory, and radiologic data were collected, including pcr cycle threshold values from nasopharyngeal swabs and viral shedding in blood, urine, and stool.</p></td>\n",
       "    </tr>\n",
       "    <tr>\n",
       "      <td>2020-03-05</td>\n",
       "      <td>Bermejo-Martin, et al.</td>\n",
       "      <td><p align=\"left\"><a href=\"https://doi.org/10.1016/j.jinf.2020.02.029\">Lymphopenic community acquired pneumonia as signature of severe COVID-19 infection</a></p></td>\n",
       "      <td><p fontsize=tiny\" align=\"left\"><br><br>As we recently reviewed in j clin med, endothelial dysfunction induces disassembly of intercellular junctions, endothelial cell death and blood-tissue barrier disruption, along with enhanced leukocyte adhesion and extravasation, which could contribute to explain the lymphopenia observed in severe covid-19 patients.9 recent findings from our group have evidenced the interconnection between lymphopenia and endothelial dysfunction in patients with cap and organ failure.10 endothelial dysfunction induces also increased oxidative stress and systemic inflammation, glycocalyx degradation and shedding along with a pro-coagulant and anti-fibrinolytic state.9 in aged individuals with chronic diseases, these features could represent predisposing factors for presenting a severe respiratory failure following covid-19 infection.</p></td>\n",
       "    </tr>\n",
       "  </tbody>\n",
       "</table>"
      ],
      "text/plain": [
       "<IPython.core.display.HTML object>"
      ]
     },
     "metadata": {},
     "output_type": "display_data"
    },
    {
     "data": {
      "text/html": [
       "<h3>Q: What do we know about viral shedding in urine?</h3>"
      ],
      "text/plain": [
       "<IPython.core.display.HTML object>"
      ]
     },
     "metadata": {},
     "output_type": "display_data"
    },
    {
     "data": {
      "text/html": [
       "<table border=\"1\" class=\"dataframe\">\n",
       "  <thead>\n",
       "    <tr style=\"text-align: right;\">\n",
       "      <th>pub_date</th>\n",
       "      <th>authors</th>\n",
       "      <th>title</th>\n",
       "      <th>excerpt</th>\n",
       "    </tr>\n",
       "  </thead>\n",
       "  <tbody>\n",
       "    <tr>\n",
       "      <td>2020-03-05</td>\n",
       "      <td>Konrad, et al.</td>\n",
       "      <td><p align=\"left\"><a href=\"https://doi.org/10.2807/1560-7917.es.2020.25.9.2000173\">Rapid establishment of laboratory diagnostics for the novel coronavirus SARS-CoV-2 in Bavaria, Germany, February 2020</a></p></td>\n",
       "      <td><p fontsize=tiny\" align=\"left\"><br><br>We describe our laboratory experiences during a large contact tracing investigation, comparing previously published real-time rt-pcr assays in different pcr systems and a commercial kit.</p></td>\n",
       "    </tr>\n",
       "    <tr>\n",
       "      <td>2009-03-31</td>\n",
       "      <td>Vabret, et al.</td>\n",
       "      <td><p align=\"left\"><a href=\"https://doi.org/10.1016/j.patbio.2008.02.018\">Coronavirus humains (HCoV)</a></p></td>\n",
       "      <td><p fontsize=tiny\" align=\"left\"><br><br>Two epidemiologic pictures of hcov infections have to be distinguished: as suggested by recent studies, hcovs except sars-cov, are distributed worldwide and cocirculate during seasonal outbreaks.</p></td>\n",
       "    </tr>\n",
       "  </tbody>\n",
       "</table>"
      ],
      "text/plain": [
       "<IPython.core.display.HTML object>"
      ]
     },
     "metadata": {},
     "output_type": "display_data"
    },
    {
     "data": {
      "text/html": [
       "<h3>Q: What do we know about implemtation of diagnostics?</h3>"
      ],
      "text/plain": [
       "<IPython.core.display.HTML object>"
      ]
     },
     "metadata": {},
     "output_type": "display_data"
    },
    {
     "data": {
      "text/html": [
       "<table border=\"1\" class=\"dataframe\">\n",
       "  <thead>\n",
       "    <tr style=\"text-align: right;\">\n",
       "      <th>pub_date</th>\n",
       "      <th>authors</th>\n",
       "      <th>title</th>\n",
       "      <th>excerpt</th>\n",
       "    </tr>\n",
       "  </thead>\n",
       "  <tbody>\n",
       "    <tr>\n",
       "      <td>2020-03-21</td>\n",
       "      <td>Xiong et al.</td>\n",
       "      <td><p align=\"left\"><a href=\"https://doi.org/10.1101/2020.03.19.998724\">All-in-One Dual CRISPR-Cas12a (AIOD-CRISPR) Assay: A Case for Rapid, Ultrasensitive and Visual Detection of Novel Coronavirus SARS-CoV-2 and HIV virus</a></p></td>\n",
       "      <td><p fontsize=tiny\" align=\"left\"><br><br>Thus, our method has a great potential for developing next-generation point-of-care molecular diagnostics.</p></td>\n",
       "    </tr>\n",
       "  </tbody>\n",
       "</table>"
      ],
      "text/plain": [
       "<IPython.core.display.HTML object>"
      ]
     },
     "metadata": {},
     "output_type": "display_data"
    },
    {
     "data": {
      "text/html": [
       "<h3>Q: What do we know about disease models?</h3>"
      ],
      "text/plain": [
       "<IPython.core.display.HTML object>"
      ]
     },
     "metadata": {},
     "output_type": "display_data"
    },
    {
     "data": {
      "text/html": [
       "<table border=\"1\" class=\"dataframe\">\n",
       "  <thead>\n",
       "    <tr style=\"text-align: right;\">\n",
       "      <th>pub_date</th>\n",
       "      <th>authors</th>\n",
       "      <th>title</th>\n",
       "      <th>excerpt</th>\n",
       "    </tr>\n",
       "  </thead>\n",
       "  <tbody>\n",
       "    <tr>\n",
       "      <td>2020-02-20</td>\n",
       "      <td>Choujun et al.</td>\n",
       "      <td><p align=\"left\"><a href=\"https://doi.org/10.1101/2020.02.18.20024570\">Modeling and Prediction of the 2019 Coronavirus Disease Spreading in China Incorporating Human Migration Data</a></p></td>\n",
       "      <td><p fontsize=tiny\" align=\"left\"><br><br>This study integrates the daily intercity migration data with the classic susceptible-exposed-infected-removed (seir) model to construct a new model suitable for describing the dynamics of epidemic spreading of coronavirus disease 2019 (covid-19) in china.</p></td>\n",
       "    </tr>\n",
       "    <tr>\n",
       "      <td>2020-03-08</td>\n",
       "      <td>Liu, et al.</td>\n",
       "      <td><p align=\"left\"><a href=\"https://doi.org/10.3390/biology9030050\">Understanding Unreported Cases in the COVID-19 Epidemic Outbreak in Wuhan, China, and the Importance of Major Public Health Interventions</a></p></td>\n",
       "      <td><p fontsize=tiny\" align=\"left\"><br><br>We use reported case data up to 31 january 2020 from the chinese center for disease control and prevention and the wuhan municipal health commission to parameterize the model.</p></td>\n",
       "    </tr>\n",
       "  </tbody>\n",
       "</table>"
      ],
      "text/plain": [
       "<IPython.core.display.HTML object>"
      ]
     },
     "metadata": {},
     "output_type": "display_data"
    },
    {
     "data": {
      "text/html": [
       "<h3>Q: What do we know about models for disease infection?</h3>"
      ],
      "text/plain": [
       "<IPython.core.display.HTML object>"
      ]
     },
     "metadata": {},
     "output_type": "display_data"
    },
    {
     "data": {
      "text/html": [
       "<table border=\"1\" class=\"dataframe\">\n",
       "  <thead>\n",
       "    <tr style=\"text-align: right;\">\n",
       "      <th>pub_date</th>\n",
       "      <th>authors</th>\n",
       "      <th>title</th>\n",
       "      <th>excerpt</th>\n",
       "    </tr>\n",
       "  </thead>\n",
       "  <tbody>\n",
       "    <tr>\n",
       "      <td>2020-02-20</td>\n",
       "      <td>Choujun et al.</td>\n",
       "      <td><p align=\"left\"><a href=\"https://doi.org/10.1101/2020.02.18.20024570\">Modeling and Prediction of the 2019 Coronavirus Disease Spreading in China Incorporating Human Migration Data</a></p></td>\n",
       "      <td><p fontsize=tiny\" align=\"left\"><br><br>This study integrates the daily intercity migration data with the classic susceptible-exposed-infected-removed (seir) model to construct a new model suitable for describing the dynamics of epidemic spreading of coronavirus disease 2019 (covid-19) in china.<br><br>Historical data of infected, recovered and death cases from official source are used for model fitting.</p></td>\n",
       "    </tr>\n",
       "    <tr>\n",
       "      <td>2020</td>\n",
       "      <td>Yin, et al.</td>\n",
       "      <td><p align=\"left\"><a href=\"https://doi.org/10.1186/s40249-020-00640-3\">A mathematical model for simulating the phase-based transmissibility of a novel coronavirus</a></p></td>\n",
       "      <td><p fontsize=tiny\" align=\"left\"><br><br>Methods in this study, we developed a bats-hosts-reservoir-people transmission network model for simulating the potential transmission from the infection source (probably be bats) to the human infection.</p></td>\n",
       "    </tr>\n",
       "  </tbody>\n",
       "</table>"
      ],
      "text/plain": [
       "<IPython.core.display.HTML object>"
      ]
     },
     "metadata": {},
     "output_type": "display_data"
    },
    {
     "data": {
      "text/html": [
       "<h3>Q: What do we know about models for disease transmission?</h3>"
      ],
      "text/plain": [
       "<IPython.core.display.HTML object>"
      ]
     },
     "metadata": {},
     "output_type": "display_data"
    },
    {
     "data": {
      "text/html": [
       "<table border=\"1\" class=\"dataframe\">\n",
       "  <thead>\n",
       "    <tr style=\"text-align: right;\">\n",
       "      <th>pub_date</th>\n",
       "      <th>authors</th>\n",
       "      <th>title</th>\n",
       "      <th>excerpt</th>\n",
       "    </tr>\n",
       "  </thead>\n",
       "  <tbody>\n",
       "    <tr>\n",
       "      <td>2020</td>\n",
       "      <td>Yin, et al.</td>\n",
       "      <td><p align=\"left\"><a href=\"https://doi.org/10.1186/s40249-020-00640-3\">A mathematical model for simulating the phase-based transmissibility of a novel coronavirus</a></p></td>\n",
       "      <td><p fontsize=tiny\" align=\"left\"><br><br>This study aimed to develop a mathematical model for calculating the transmissibility of the virus.<br><br>Methods in this study, we developed a bats-hosts-reservoir-people transmission network model for simulating the potential transmission from the infection source (probably be bats) to the human infection.<br><br>Since the bats-hosts-reservoir network was hard to explore clearly and public concerns were focusing on the transmission from huanan seafood wholesale market (reservoir) to people, we simplified the model as reservoir-people (rp) transmission network model.<br><br>The next generation matrix approach was adopted to calculate the basic reproduction number (r 0) from the rp model to assess the transmissibility of the sars-cov-2.<br><br>Conclusions our model showed that the transmissibility of sars-cov-2 was higher than the middle east respiratory syndrome in the middle east countries, similar to severe acute respiratory syndrome, but lower than mers in the republic of korea.</p></td>\n",
       "    </tr>\n",
       "    <tr>\n",
       "      <td>2020-02-25</td>\n",
       "      <td>Peng et al.</td>\n",
       "      <td><p align=\"left\"><a href=\"https://doi.org/10.1101/2020.02.22.20026815\">Applying chemical reaction transition theory to predict the latent transmission dynamics of coronavirus outbreak in China</a></p></td>\n",
       "      <td><p fontsize=tiny\" align=\"left\"><br><br>Here we apply mass action laws and chemical transition theory to propose a kinetic model that accounts for viral transmission dynamics at the latent phase.</p></td>\n",
       "    </tr>\n",
       "  </tbody>\n",
       "</table>"
      ],
      "text/plain": [
       "<IPython.core.display.HTML object>"
      ]
     },
     "metadata": {},
     "output_type": "display_data"
    },
    {
     "data": {
      "text/html": [
       "<h3>Q: Are there studies about phenotypic change?</h3>"
      ],
      "text/plain": [
       "<IPython.core.display.HTML object>"
      ]
     },
     "metadata": {},
     "output_type": "display_data"
    },
    {
     "data": {
      "text/html": [
       "<table border=\"1\" class=\"dataframe\">\n",
       "  <thead>\n",
       "    <tr style=\"text-align: right;\">\n",
       "      <th>pub_date</th>\n",
       "      <th>authors</th>\n",
       "      <th>title</th>\n",
       "      <th>excerpt</th>\n",
       "    </tr>\n",
       "  </thead>\n",
       "  <tbody>\n",
       "    <tr>\n",
       "      <td>2020-01-30</td>\n",
       "      <td>Jakub et al.</td>\n",
       "      <td><p align=\"left\"><a href=\"https://doi.org/10.1101/2020.01.29.925354\">Interpretable detection of novel human viruses from genome sequencing data</a></p></td>\n",
       "      <td><p fontsize=tiny\" align=\"left\"><br><br>Nucleotide-resolution maps of the learned associations between pathogen genomes and the infectious phenotype can be used to detect virulence-related genes in novel agents, as we show here for the sars-cov-2 coronavirus, unknown before it caused a covid-19 pandemic in 2020.</p></td>\n",
       "    </tr>\n",
       "    <tr>\n",
       "      <td>2020-03-04</td>\n",
       "      <td>Yonghua et al.</td>\n",
       "      <td><p align=\"left\"><a href=\"https://doi.org/10.1101/2020.03.04.975995\">Strong evolutionary convergence of receptor-binding protein spike between COVID-19 and SARS-related coronaviruses</a></p></td>\n",
       "      <td><p fontsize=tiny\" align=\"left\"><br><br>Abstractcoronavirus disease 2019 (covid-19) and severe acute respiratory syndrome (sars)-related coronaviruses (e.g., 2019-ncov and sars-cov) are phylogenetically distantly related, but both are capable of infecting human hosts via the same receptor, angiotensin-converting enzyme 2, and cause similar clinical and pathological features, suggesting their phenotypic convergence.<br><br>Yet, the molecular basis that underlies their phenotypic convergence remains unknown.<br><br>Here, we used a recently developed molecular phyloecological approach to examine the molecular basis leading to their phenotypic convergence.</p></td>\n",
       "    </tr>\n",
       "  </tbody>\n",
       "</table>"
      ],
      "text/plain": [
       "<IPython.core.display.HTML object>"
      ]
     },
     "metadata": {},
     "output_type": "display_data"
    },
    {
     "data": {
      "text/html": [
       "<h3>Q: What is know about adaptations (mutations) of the virus?</h3>"
      ],
      "text/plain": [
       "<IPython.core.display.HTML object>"
      ]
     },
     "metadata": {},
     "output_type": "display_data"
    },
    {
     "data": {
      "text/html": [
       "<table border=\"1\" class=\"dataframe\">\n",
       "  <thead>\n",
       "    <tr style=\"text-align: right;\">\n",
       "      <th>pub_date</th>\n",
       "      <th>authors</th>\n",
       "      <th>title</th>\n",
       "      <th>excerpt</th>\n",
       "    </tr>\n",
       "  </thead>\n",
       "  <tbody>\n",
       "    <tr>\n",
       "      <td>2020-02-04</td>\n",
       "      <td>Syed et al.</td>\n",
       "      <td><p align=\"left\"><a href=\"https://doi.org/10.1101/2020.02.03.933226\">Preliminary identification of potential vaccine targets for the COVID-19 coronavirus (SARS-CoV-2) based on SARS-CoV immunological studies</a></p></td>\n",
       "      <td><p fontsize=tiny\" align=\"left\"><br><br>As no mutation has been observed in these identified epitopes among the available sars-cov-2 sequences (as of 9 february 2020), immune targeting of these epitopes may potentially offer protection against this novel virus.</p></td>\n",
       "    </tr>\n",
       "    <tr>\n",
       "      <td>2007-01-24</td>\n",
       "      <td>Ziebuhr, et al.</td>\n",
       "      <td><p align=\"left\"><a href=\"https://doi.org/10.1128/jvi.02091-06\">Human Coronavirus 229E Papain-Like Proteases Have Overlapping Specificities but Distinct Functions in Viral Replication</a></p></td>\n",
       "      <td><p fontsize=tiny\" align=\"left\"><br><br>The pl1(pro)-negative mutant genotype could be stably maintained in cell culture when the nsp1-nsp2 site was replaced by a short autoproteolytic sequence, suggesting that the major driving force for the observed reversion of the pl1(pro) mutation was the requirement for efficient nsp1-nsp2 cleavage.</p></td>\n",
       "    </tr>\n",
       "  </tbody>\n",
       "</table>"
      ],
      "text/plain": [
       "<IPython.core.display.HTML object>"
      ]
     },
     "metadata": {},
     "output_type": "display_data"
    },
    {
     "data": {
      "text/html": [
       "<h3>Q: What do we know about the human immune response and immunity?</h3>"
      ],
      "text/plain": [
       "<IPython.core.display.HTML object>"
      ]
     },
     "metadata": {},
     "output_type": "display_data"
    },
    {
     "data": {
      "text/html": [
       "<table border=\"1\" class=\"dataframe\">\n",
       "  <thead>\n",
       "    <tr style=\"text-align: right;\">\n",
       "      <th>pub_date</th>\n",
       "      <th>authors</th>\n",
       "      <th>title</th>\n",
       "      <th>excerpt</th>\n",
       "    </tr>\n",
       "  </thead>\n",
       "  <tbody>\n",
       "    <tr>\n",
       "      <td>2020-02-20</td>\n",
       "      <td>Alexandra et al.</td>\n",
       "      <td><p align=\"left\"><a href=\"https://doi.org/10.1101/2020.02.19.956581\">Structure, function and antigenicity of the SARS-CoV-2 spike glycoprotein</a></p></td>\n",
       "      <td><p fontsize=tiny\" align=\"left\"><br><br>Coronavirus spike (s) glycoprotein trimers promote entry into cells and are the main target of the humoral immune response.</p></td>\n",
       "    </tr>\n",
       "    <tr>\n",
       "      <td>2018-04-04</td>\n",
       "      <td>Beidas, et al.</td>\n",
       "      <td><p align=\"left\"><a href=\"https://doi.org/10.1007/s00705-018-3832-8\">PCR array profiling of antiviral genes in human embryonic kidney cells expressing human coronavirus OC43 structural and accessory proteins</a></p></td>\n",
       "      <td><p fontsize=tiny\" align=\"left\"><br><br>Both sars-cov and mers-cov were shown to express proteins with the potential to evade early innate immune responses.</p></td>\n",
       "    </tr>\n",
       "  </tbody>\n",
       "</table>"
      ],
      "text/plain": [
       "<IPython.core.display.HTML object>"
      ]
     },
     "metadata": {},
     "output_type": "display_data"
    },
    {
     "data": {
      "text/html": [
       "<h3>Q: Is population movement control effective in stopping transmission (spread)?</h3>"
      ],
      "text/plain": [
       "<IPython.core.display.HTML object>"
      ]
     },
     "metadata": {},
     "output_type": "display_data"
    },
    {
     "data": {
      "text/html": [
       "<table border=\"1\" class=\"dataframe\">\n",
       "  <thead>\n",
       "    <tr style=\"text-align: right;\">\n",
       "      <th>pub_date</th>\n",
       "      <th>authors</th>\n",
       "      <th>title</th>\n",
       "      <th>excerpt</th>\n",
       "    </tr>\n",
       "  </thead>\n",
       "  <tbody>\n",
       "    <tr>\n",
       "      <td>2020</td>\n",
       "      <td>Nishiura, et al.</td>\n",
       "      <td><p align=\"left\"><a href=\"https://doi.org/10.3390/jcm9030657\">Backcalculating the Incidence of Infection with COVID-19 on the Diamond Princess</a></p></td>\n",
       "      <td><p fontsize=tiny\" align=\"left\"><br><br>The estimated number of new infections among passengers without close contact was very small from 5 february on which a movement restriction policy was imposed.<br><br>Movement restriction greatly reduced the number of infections from 5 february onwards.</p></td>\n",
       "    </tr>\n",
       "    <tr>\n",
       "      <td>2020-06-01</td>\n",
       "      <td>Mizumoto, et al.</td>\n",
       "      <td><p align=\"left\"><a href=\"https://doi.org/10.3201/eid2606.200233\">Estimating Risk for Death from 2019 Novel Coronavirus Disease, China, January-February 2020</a></p></td>\n",
       "      <td><p fontsize=tiny\" align=\"left\"><br><br>The elevated death risk estimates are probably associated with a breakdown of the healthcare system, indicating that enhanced public health interventions, including social distancing and movement restrictions, should be implemented to bring the covid-19 epidemic under control.</p></td>\n",
       "    </tr>\n",
       "  </tbody>\n",
       "</table>"
      ],
      "text/plain": [
       "<IPython.core.display.HTML object>"
      ]
     },
     "metadata": {},
     "output_type": "display_data"
    },
    {
     "data": {
      "text/html": [
       "<h3>Q: Effectiveness of personal protective equipment (PPE)?</h3>"
      ],
      "text/plain": [
       "<IPython.core.display.HTML object>"
      ]
     },
     "metadata": {},
     "output_type": "display_data"
    },
    {
     "data": {
      "text/html": [
       "<table border=\"1\" class=\"dataframe\">\n",
       "  <thead>\n",
       "    <tr style=\"text-align: right;\">\n",
       "      <th>pub_date</th>\n",
       "      <th>authors</th>\n",
       "      <th>title</th>\n",
       "      <th>excerpt</th>\n",
       "    </tr>\n",
       "  </thead>\n",
       "  <tbody>\n",
       "    <tr>\n",
       "      <td>2020-03-03</td>\n",
       "      <td>Mahase, et al.</td>\n",
       "      <td><p align=\"left\"><a href=\"https://doi.org/10.1136/bmj.m854\">Covid-19: UK could delay non-urgent care and call doctors back from leave and retirement</a></p></td>\n",
       "      <td><p fontsize=tiny\" align=\"left\"><br><br>Protective clothing),” the document said.however, the plan did not include details of how or when these measures would be ….</p></td>\n",
       "    </tr>\n",
       "    <tr>\n",
       "      <td>2020-03-05</td>\n",
       "      <td>Xiao, et al.</td>\n",
       "      <td><p align=\"left\"><a href=\"https://doi.org/10.1016/s1473-3099(20)30152-3\">Taking the right measures to control COVID-19</a></p></td>\n",
       "      <td><p fontsize=tiny\" align=\"left\"><br><br>High-filtration masks such as n95 masks and protective clothing (goggles and gowns) should be used in hospitals where health-care workers are in direct contact with infected patients.5 third, the practice of blocking traffic and lockdown of villages is of no value for the prevention and control of covid-19.</p></td>\n",
       "    </tr>\n",
       "  </tbody>\n",
       "</table>"
      ],
      "text/plain": [
       "<IPython.core.display.HTML object>"
      ]
     },
     "metadata": {},
     "output_type": "display_data"
    },
    {
     "data": {
      "text/html": [
       "<h3>Q: What is the role of environment in transmission?</h3>"
      ],
      "text/plain": [
       "<IPython.core.display.HTML object>"
      ]
     },
     "metadata": {},
     "output_type": "display_data"
    },
    {
     "data": {
      "text/html": [
       "<table border=\"1\" class=\"dataframe\">\n",
       "  <thead>\n",
       "    <tr style=\"text-align: right;\">\n",
       "      <th>pub_date</th>\n",
       "      <th>authors</th>\n",
       "      <th>title</th>\n",
       "      <th>excerpt</th>\n",
       "    </tr>\n",
       "  </thead>\n",
       "  <tbody>\n",
       "    <tr>\n",
       "      <td>2020-02-27</td>\n",
       "      <td>Pengfei et al.</td>\n",
       "      <td><p align=\"left\"><a href=\"https://doi.org/10.1101/2020.02.26.20028225\">Clinical features and sexual transmission potential of SARS-CoV-2 infected female patients: a descriptive study in Wuhan, China</a></p></td>\n",
       "      <td><p fontsize=tiny\" align=\"left\"><br><br>Thus, in order to effectively block its transmission, it is urgent to uncover all the possible transmission routes of sars-cov-2.</p></td>\n",
       "    </tr>\n",
       "    <tr>\n",
       "      <td>2020</td>\n",
       "      <td>Guan, et al.</td>\n",
       "      <td><p align=\"left\"><a href=\"https://doi.org/10.3760/cma.j.cn112338-20200223-00152\">Epidemiological investigation of a family clustering of COVID-19</a></p></td>\n",
       "      <td><p fontsize=tiny\" align=\"left\"><br><br>Routes of transmission include respiratory droplets (from case 1 transmitted to case 6, from case 1 to her family members) and closecontact (from case 1 to other cases in her family).</p></td>\n",
       "    </tr>\n",
       "  </tbody>\n",
       "</table>"
      ],
      "text/plain": [
       "<IPython.core.display.HTML object>"
      ]
     },
     "metadata": {},
     "output_type": "display_data"
    },
    {
     "name": "stdout",
     "output_type": "stream",
     "text": [
      "done\n"
     ]
    }
   ],
   "source": [
    "import functools\n",
    "from IPython.core.display import display, HTML\n",
    "from nltk import PorterStemmer\n",
    "\n",
    "# function to stem keyword list into a common base word\n",
    "def stem_words(words):\n",
    "    stemmer = PorterStemmer()\n",
    "    singles=[]\n",
    "    for w in words:\n",
    "        singles.append(stemmer.stem(w))\n",
    "    return singles\n",
    "\n",
    "def search_dataframe(df,search_words):\n",
    "    search_words=stem_words(search_words)\n",
    "    anchor_words=['covid','-cov-2','hcov']\n",
    "    # add cov to focus the search the papers and avoid unrelated documents\n",
    "    df_name=['dfa','dfb','dfc']\n",
    "    z=0\n",
    "    for anchor in anchor_words:\n",
    "        search_words.append(anchor)\n",
    "        # search the dataframe for all the keywords\n",
    "        df_name[z]=df[functools.reduce(lambda a, b: a&b, (df['abstract'].str.contains(s) for s in search_words))]\n",
    "        search_words.pop()\n",
    "        z=z+1\n",
    "    #combine frames with COVID and cov and corona and drop dups\n",
    "    frames = [df_name[0], df_name[1], df_name[2]]\n",
    "    df1 = pd.concat(frames)\n",
    "    df1=df1.drop_duplicates(subset='title', keep=\"first\")\n",
    "    return df1\n",
    "\n",
    "# function analyze search results for relevance with word count / abstract length\n",
    "def search_relevance(rel_df,search_words):\n",
    "    rel_df['score']=\"\"\n",
    "    search_words=stem_words(search_words)\n",
    "    for index, row in rel_df.iterrows():\n",
    "        abstract = row['abstract']\n",
    "        result = abstract.split()\n",
    "        len_abstract=len(result)\n",
    "        score=0\n",
    "        for word in search_words:\n",
    "            score=score+result.count(word)\n",
    "        final_score=(score/len_abstract)\n",
    "        rel_score=score*final_score\n",
    "        rel_df.loc[index, 'score'] = rel_score\n",
    "    rel_df=rel_df.sort_values(by=['score'], ascending=False)\n",
    "    #rel_df= rel_df[rel_df['score'] > .01]\n",
    "    return rel_df\n",
    "\n",
    "# function to get best sentences from the search results\n",
    "def get_sentences(df1,search_words):\n",
    "    df_table = pd.DataFrame(columns = [\"pub_date\",\"authors\",\"title\",\"excerpt\",\"rel_score\"])\n",
    "    search_words=stem_words(search_words)\n",
    "    for index, row in df1.iterrows():\n",
    "        pub_sentence=''\n",
    "        sentences_used=0\n",
    "        #break apart the absracrt to sentence level\n",
    "        sentences = row['abstract'].split('. ')\n",
    "        #loop through the sentences of the abstract\n",
    "        highligts=[]\n",
    "        for sentence in sentences:\n",
    "            # missing lets the system know if all the words are in the sentence\n",
    "            missing=0\n",
    "            #loop through the words of sentence\n",
    "            for word in search_words:\n",
    "                #if keyword missing change missing variable\n",
    "                if word not in sentence:\n",
    "                    missing=1\n",
    "                #if '%' in sentence:\n",
    "                    #missing=missing-1\n",
    "            # after all sentences processed show the sentences not missing keywords\n",
    "            if missing==0 and len(sentence)<1000 and sentence!='':\n",
    "                sentence=sentence.capitalize()\n",
    "                if sentence[len(sentence)-1]!='.':\n",
    "                    sentence=sentence+'.'\n",
    "                pub_sentence=pub_sentence+'<br><br>'+sentence\n",
    "        if pub_sentence!='':\n",
    "            sentence=pub_sentence\n",
    "            sentences_used=sentences_used+1\n",
    "            authors=row[\"authors\"].split(\" \")\n",
    "            link=row['doi']\n",
    "            title=row[\"title\"]\n",
    "            score=row[\"score\"]\n",
    "            linka='https://doi.org/'+link\n",
    "            linkb=title\n",
    "            sentence='<p fontsize=tiny\" align=\"left\">'+sentence+'</p>'\n",
    "            final_link='<p align=\"left\"><a href=\"{}\">{}</a></p>'.format(linka,linkb)\n",
    "            to_append = [row['publish_time'],authors[0]+' et al.',final_link,sentence,score]\n",
    "            df_length = len(df_table)\n",
    "            df_table.loc[df_length] = to_append\n",
    "    return df_table\n",
    "    \n",
    "################ main program ########################\n",
    "\n",
    "display(HTML('<h1>Task 1: What is known about transmission, incubation, and environmental stability?</h1>'))\n",
    "\n",
    "display(HTML('<h3>Results currently limited to two (2) for ease of scanning</h3>'))\n",
    "\n",
    "# list of lists of search terms\n",
    "questions=[\n",
    "['Q: What is the range of incubation periods for the disease in humans?'],\n",
    "['Q: How long are individuals are contagious?'],\n",
    "['Q: How long are individuals are contagious, even after recovery.'],\n",
    "['Q: Does the range of incubation period vary across age groups?'],\n",
    "['Q: Does the range of incubation period vary with children?'],\n",
    "['Q: Does the range of incubation period vary based on underlying health?'],\n",
    "['Q: What do we know about the basic reproduction number?'],\n",
    "['Q: What is the prevalance of asymptomatic transmission?'],\n",
    "['Q: What do we know about asymptomatic transmission in children?'],\n",
    "['Q: What do we know about seasonality of transmission?'],\n",
    "['Q: Informing decontamination based on physical science of the coronavirus?'],\n",
    "['Q: What do we know about stability of the virus in environmental conditions?'],\n",
    "['Q: What do we know about persistence of the virus on various substrates? (e.g., nasal discharge, sputum, urine, fecal matter, blood)'],\n",
    "['Q: What do we know about persistence of the virus on various surfaces? (e,g., copper, stainless steel, plastic) '],\n",
    "['Q: What do we know about viral shedding duration?'],\n",
    "['Q: What do we know about viral shedding in fecal/stool?'],\n",
    "['Q: What do we know about viral shedding from nasopharynx?'],\n",
    "['Q: What do we know about viral shedding in blood?'],\n",
    "['Q: What do we know about viral shedding in urine?'],\n",
    "['Q: What do we know about implemtation of diagnostics?'],\n",
    "['Q: What do we know about disease models?'],\n",
    "['Q: What do we know about models for disease infection?'],\n",
    "['Q: What do we know about models for disease transmission?'],\n",
    "['Q: Are there studies about phenotypic change?'],\n",
    "['Q: What is know about adaptations (mutations) of the virus?'],\n",
    "['Q: What do we know about the human immune response and immunity?'],\n",
    "['Q: Is population movement control effective in stopping transmission (spread)?'],\n",
    "['Q: Effectiveness of personal protective equipment (PPE)?'],\n",
    "['Q: What is the role of environment in transmission?']\n",
    "]\n",
    "#search=[['incubation','period','range','mean','%']]\n",
    "search=[['incubation','period','range'],\n",
    "['viral','shedding','duration'],\n",
    "['asymptomatic','shedding'],\n",
    "['incubation','period','age','statistically','significant'],\n",
    "['incubation','period','child'],\n",
    "['incubation','groups','risk'],\n",
    "['basic','reproduction', 'number','%'],\n",
    "['asymptomatic','infection','%'],\n",
    "['asymptomatic','children'],\n",
    "['seasonal','transmission'],\n",
    "['contaminat','object'],\n",
    "['environmental', 'conditions'],\n",
    "['sputum','stool','blood','urine'],\n",
    "['persistence','surfaces'],\n",
    "['duration','viral','shedding'],\n",
    "['shedding','stool'],\n",
    "['shedding','nasopharynx'],\n",
    "['shedding','blood'],\n",
    "['shedding','urine'],\n",
    "['diagnostics','point'],\n",
    "['model', 'disease'],        \n",
    "['model', 'infection'],\n",
    "['model', 'transmission'],\n",
    "['phenotypic'],\n",
    "['mutation'],\n",
    "['immune','response'],\n",
    "['restriction', 'movement'],\n",
    "['protective','clothing'],\n",
    "['transmission','routes']\n",
    "]\n",
    "q=0\n",
    "for search_words in search:\n",
    "    str1=''\n",
    "    # a make a string of the search words to print readable version above table\n",
    "    str1=' '.join(questions[q])\n",
    "    \n",
    "    #search the dataframe for all words\n",
    "    df1=search_dataframe(df,search_words)\n",
    "\n",
    "    # analyze search results for relevance \n",
    "    df1=search_relevance(df1,search_words)\n",
    "\n",
    "    # get best sentences\n",
    "    df_table=get_sentences(df1,search_words)\n",
    "    \n",
    "    length=df_table.shape[0]\n",
    "    #limit 3 results\n",
    "    df_table=df_table.head(2)\n",
    "    df_table=df_table.drop(['rel_score'], axis=1)\n",
    "    #convert df to html\n",
    "    df_table=HTML(df_table.to_html(escape=False,index=False))\n",
    "    \n",
    "    # display search topic\n",
    "    display(HTML('<h3>'+str1+'</h3>'))\n",
    "    \n",
    "    #display table\n",
    "    if length<1:\n",
    "        print (\"No reliable answer could be located in the literature\")\n",
    "    else:\n",
    "        display(df_table)\n",
    "    q=q+1\n",
    "print ('done')"
   ]
  }
 ],
 "metadata": {
  "kernelspec": {
   "display_name": "Python 3",
   "language": "python",
   "name": "python3"
  },
  "language_info": {
   "codemirror_mode": {
    "name": "ipython",
    "version": 3
   },
   "file_extension": ".py",
   "mimetype": "text/x-python",
   "name": "python",
   "nbconvert_exporter": "python",
   "pygments_lexer": "ipython3",
   "version": "3.6.6"
  }
 },
 "nbformat": 4,
 "nbformat_minor": 4
}
